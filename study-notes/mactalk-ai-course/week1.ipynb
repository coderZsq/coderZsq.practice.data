{
 "cells": [
  {
   "attachments": {},
   "cell_type": "markdown",
   "metadata": {},
   "source": [
    "### 命名实体识别"
   ]
  },
  {
   "cell_type": "code",
   "execution_count": 1,
   "metadata": {},
   "outputs": [
    {
     "name": "stdout",
     "output_type": "stream",
     "text": [
      "下周三晚上 0 5 TIME\n",
      "第二 6 8 ORDINAL\n"
     ]
    }
   ],
   "source": [
    "import spacy\n",
    "\n",
    "nlp = spacy.load('zh_core_web_sm')\n",
    "text = \"下周三晚上给第二个Keynote定稿\"\n",
    "doc = nlp(text)\n",
    "for ent in doc.ents:\n",
    "    print(ent.text, ent.start_char, ent.end_char, ent.label_)\n",
    "\n"
   ]
  },
  {
   "attachments": {},
   "cell_type": "markdown",
   "metadata": {},
   "source": [
    "### 命名实体识别 - 模式匹配"
   ]
  },
  {
   "cell_type": "code",
   "execution_count": 2,
   "metadata": {},
   "outputs": [
    {
     "name": "stdout",
     "output_type": "stream",
     "text": [
      "订单号:  202303251200ABC\n"
     ]
    }
   ],
   "source": [
    "import re\n",
    "\n",
    "pattern = r'^\\d{12}[A-Z]{3}$' # 这个正则表达式匹配12个数字后跟3个大写字母\n",
    "\n",
    "text = \"你好，我有一个订单一直没有收到，订单号是202303251200ABC\"\n",
    "doc = nlp(text)\n",
    "for word in doc:\n",
    "    match = re.search(pattern, word.text)\n",
    "    if match:\n",
    "        print(\"订单号: \", match.group())"
   ]
  },
  {
   "attachments": {},
   "cell_type": "markdown",
   "metadata": {},
   "source": [
    "### 命名实体识别 - 直接通过ChatGPT的API来做"
   ]
  },
  {
   "cell_type": "code",
   "execution_count": 3,
   "metadata": {},
   "outputs": [
    {
     "name": "stdout",
     "output_type": "stream",
     "text": [
      "。\n",
      "\n",
      "```json\n",
      "{\n",
      "    \"订单号\": \"202303251200ABC\"\n",
      "}\n",
      "```\n"
     ]
    }
   ],
   "source": [
    "import openai, os\n",
    "openai.api_key = os.environ.get(\"OPENAI_API_KEY\")\n",
    "\n",
    "COMPLETION_MODEL = \"text-davinci-003\"\n",
    "def get_response(prompt, temperature = 1.0, stop=None):\n",
    "    completions = openai.Completion.create(\n",
    "        engine=COMPLETION_MODEL,\n",
    "        prompt=prompt,\n",
    "        max_tokens=1024,\n",
    "        n=1,\n",
    "        stop=stop,\n",
    "        temperature=temperature,\n",
    "    )\n",
    "    message = completions['choices'][0]['text']\n",
    "    return message\n",
    "\n",
    "text = \"你好，我有一个订单一直没有收到，订单号是202303251200ABC\"\n",
    "\n",
    "print(get_response(\"请从下面的文本中提取出用户的订单号，并以json形式显示：\\n\\n\" + text))"
   ]
  },
  {
   "attachments": {},
   "cell_type": "markdown",
   "metadata": {},
   "source": [
    "### 分词找一些有用的关键词"
   ]
  },
  {
   "cell_type": "code",
   "execution_count": 4,
   "metadata": {},
   "outputs": [
    {
     "name": "stdout",
     "output_type": "stream",
     "text": [
      "大气\n",
      "满意\n",
      "好\n",
      "流畅\n"
     ]
    }
   ],
   "source": [
    "text = '''外形外观：紫色，非常大气，方方正正，四周圆角\n",
    "屏幕音效：清晰度分辨率都挺满意，听音乐效果也不错\n",
    "拍照效果：非常好\n",
    "运行速度：很流畅\n",
    "待机时间：之前的安卓手机用了近三年，一天3充，现在妥妥的一天一充'''\n",
    "\n",
    "useful_words_list = ['大气', '满意', '好', '流畅']\n",
    "\n",
    "doc = nlp(text)\n",
    "for word in doc:\n",
    "    if word.text in useful_words_list:\n",
    "        print(word)"
   ]
  },
  {
   "attachments": {},
   "cell_type": "markdown",
   "metadata": {},
   "source": [
    "### 计算 N-Grams"
   ]
  },
  {
   "cell_type": "code",
   "execution_count": 5,
   "metadata": {},
   "outputs": [
    {
     "data": {
      "text/plain": [
       "[('外形', '外观'),\n",
       " ('外观', '：'),\n",
       " ('：', '紫色'),\n",
       " ('紫色', '，'),\n",
       " ('，', '非常'),\n",
       " ('非常', '大气'),\n",
       " ('大气', '，'),\n",
       " ('，', '方方正正'),\n",
       " ('方方正正', '，'),\n",
       " ('，', '四周'),\n",
       " ('四周', '圆角'),\n",
       " ('圆角', '\\n'),\n",
       " ('\\n', '屏幕'),\n",
       " ('屏幕', '音效'),\n",
       " ('音效', '：'),\n",
       " ('：', '清晰度'),\n",
       " ('清晰度', '分辨率'),\n",
       " ('分辨率', '都'),\n",
       " ('都', '挺'),\n",
       " ('挺', '满意'),\n",
       " ('满意', '，'),\n",
       " ('，', '听'),\n",
       " ('听', '音乐'),\n",
       " ('音乐', '效果'),\n",
       " ('效果', '也'),\n",
       " ('也', '不错'),\n",
       " ('不错', '\\n'),\n",
       " ('\\n', '拍照'),\n",
       " ('拍照', '效果'),\n",
       " ('效果', '：'),\n",
       " ('：', '非常'),\n",
       " ('非常', '好'),\n",
       " ('好', '\\n'),\n",
       " ('\\n', '运行'),\n",
       " ('运行', '速度'),\n",
       " ('速度', '：'),\n",
       " ('：', '很'),\n",
       " ('很', '流畅'),\n",
       " ('流畅', '\\n'),\n",
       " ('\\n', '待机'),\n",
       " ('待机', '时间'),\n",
       " ('时间', '：'),\n",
       " ('：', '之前'),\n",
       " ('之前', '的'),\n",
       " ('的', '安卓'),\n",
       " ('安卓', '手机'),\n",
       " ('手机', '用'),\n",
       " ('用', '了'),\n",
       " ('了', '近'),\n",
       " ('近', '三年'),\n",
       " ('三年', '，'),\n",
       " ('，', '一'),\n",
       " ('一', '天'),\n",
       " ('天', '3'),\n",
       " ('3', '充'),\n",
       " ('充', '，'),\n",
       " ('，', '现在'),\n",
       " ('现在', '妥妥'),\n",
       " ('妥妥', '的'),\n",
       " ('的', '一'),\n",
       " ('一', '天一'),\n",
       " ('天一', '充')]"
      ]
     },
     "execution_count": 5,
     "metadata": {},
     "output_type": "execute_result"
    }
   ],
   "source": [
    "text = '''外形外观：紫色，非常大气，方方正正，四周圆角\n",
    "屏幕音效：清晰度分辨率都挺满意，听音乐效果也不错\n",
    "拍照效果：非常好\n",
    "运行速度：很流畅\n",
    "待机时间：之前的安卓手机用了近三年，一天3充，现在妥妥的一天一充'''\n",
    "\n",
    "from nltk.util import ngrams\n",
    "\n",
    "doc = nlp(text)\n",
    "\n",
    "words = []\n",
    "for word in doc:\n",
    "    words.append(word.text)\n",
    "\n",
    "list(ngrams(words, 2))\n"
   ]
  },
  {
   "cell_type": "code",
   "execution_count": 6,
   "metadata": {},
   "outputs": [
    {
     "data": {
      "text/plain": [
       "[('外形', '外观', '：'),\n",
       " ('外观', '：', '紫色'),\n",
       " ('：', '紫色', '，'),\n",
       " ('紫色', '，', '非常'),\n",
       " ('，', '非常', '大气'),\n",
       " ('非常', '大气', '，'),\n",
       " ('大气', '，', '方方正正'),\n",
       " ('，', '方方正正', '，'),\n",
       " ('方方正正', '，', '四周'),\n",
       " ('，', '四周', '圆角'),\n",
       " ('四周', '圆角', '\\n'),\n",
       " ('圆角', '\\n', '屏幕'),\n",
       " ('\\n', '屏幕', '音效'),\n",
       " ('屏幕', '音效', '：'),\n",
       " ('音效', '：', '清晰度'),\n",
       " ('：', '清晰度', '分辨率'),\n",
       " ('清晰度', '分辨率', '都'),\n",
       " ('分辨率', '都', '挺'),\n",
       " ('都', '挺', '满意'),\n",
       " ('挺', '满意', '，'),\n",
       " ('满意', '，', '听'),\n",
       " ('，', '听', '音乐'),\n",
       " ('听', '音乐', '效果'),\n",
       " ('音乐', '效果', '也'),\n",
       " ('效果', '也', '不错'),\n",
       " ('也', '不错', '\\n'),\n",
       " ('不错', '\\n', '拍照'),\n",
       " ('\\n', '拍照', '效果'),\n",
       " ('拍照', '效果', '：'),\n",
       " ('效果', '：', '非常'),\n",
       " ('：', '非常', '好'),\n",
       " ('非常', '好', '\\n'),\n",
       " ('好', '\\n', '运行'),\n",
       " ('\\n', '运行', '速度'),\n",
       " ('运行', '速度', '：'),\n",
       " ('速度', '：', '很'),\n",
       " ('：', '很', '流畅'),\n",
       " ('很', '流畅', '\\n'),\n",
       " ('流畅', '\\n', '待机'),\n",
       " ('\\n', '待机', '时间'),\n",
       " ('待机', '时间', '：'),\n",
       " ('时间', '：', '之前'),\n",
       " ('：', '之前', '的'),\n",
       " ('之前', '的', '安卓'),\n",
       " ('的', '安卓', '手机'),\n",
       " ('安卓', '手机', '用'),\n",
       " ('手机', '用', '了'),\n",
       " ('用', '了', '近'),\n",
       " ('了', '近', '三年'),\n",
       " ('近', '三年', '，'),\n",
       " ('三年', '，', '一'),\n",
       " ('，', '一', '天'),\n",
       " ('一', '天', '3'),\n",
       " ('天', '3', '充'),\n",
       " ('3', '充', '，'),\n",
       " ('充', '，', '现在'),\n",
       " ('，', '现在', '妥妥'),\n",
       " ('现在', '妥妥', '的'),\n",
       " ('妥妥', '的', '一'),\n",
       " ('的', '一', '天一'),\n",
       " ('一', '天一', '充')]"
      ]
     },
     "execution_count": 6,
     "metadata": {},
     "output_type": "execute_result"
    }
   ],
   "source": [
    "list(ngrams(words, 3))"
   ]
  },
  {
   "attachments": {},
   "cell_type": "markdown",
   "metadata": {},
   "source": [
    "### TF-IDF 演示"
   ]
  },
  {
   "cell_type": "code",
   "execution_count": 7,
   "metadata": {},
   "outputs": [
    {
     "name": "stdout",
     "output_type": "stream",
     "text": [
      "{'second', 'first', 'document', 'is', 'the', 'this'}\n",
      "{'second': 0, 'first': 1, 'document': 2, 'is': 1, 'the': 0, 'this': 1}\n",
      "{'second': 1, 'first': 0, 'document': 2, 'is': 1, 'the': 1, 'this': 1}\n"
     ]
    }
   ],
   "source": [
    "doc_a = 'this document is first document'\n",
    "doc_b = 'this document is the second document'\n",
    "\n",
    "bag_of_words_a = doc_a.split(' ')\n",
    "bag_of_words_b = doc_b.split(' ')\n",
    "\n",
    "unique_words_set = set(bag_of_words_a).union(set(bag_of_words_b))\n",
    "print(unique_words_set)\n",
    "\n",
    "# Now create a dictionary of words and their occurence for each document in the corpus (collection of documents).\n",
    "\n",
    "dict_a = dict.fromkeys(unique_words_set, 0)\n",
    "# print(dict_a) # {'this': 0, 'document': 0, 'second': 0, 'is': 0, 'the': 0}\n",
    "\n",
    "for word in bag_of_words_a:\n",
    "    dict_a[word] += 1\n",
    "\n",
    "print(dict_a)\n",
    "# {'this': 1, 'document': 2, 'second': 1, 'is': 1, 'the': 1}\n",
    "\n",
    "# similarly\n",
    "\n",
    "dict_b = dict.fromkeys(unique_words_set, 0)\n",
    "\n",
    "for word in bag_of_words_b:\n",
    "    dict_b[word] += 1\n",
    "\n",
    "print(dict_b)"
   ]
  },
  {
   "cell_type": "code",
   "execution_count": 8,
   "metadata": {},
   "outputs": [
    {
     "name": "stdout",
     "output_type": "stream",
     "text": [
      "{'second': 0.0, 'first': 0.2, 'document': 0.4, 'is': 0.2, 'the': 0.0, 'this': 0.2}\n",
      "{'second': 0.16666666666666666, 'first': 0.0, 'document': 0.3333333333333333, 'is': 0.16666666666666666, 'the': 0.16666666666666666, 'this': 0.16666666666666666}\n"
     ]
    }
   ],
   "source": [
    "def compute_term_frequency(word_dictionary, bag_of_words):\n",
    "    term_frequency_dictionary = {}\n",
    "    length_of_bag_of_words = len(bag_of_words)\n",
    "\n",
    "    for word, count in word_dictionary.items():\n",
    "        term_frequency_dictionary[word] = count / float(length_of_bag_of_words)\n",
    "\n",
    "    return term_frequency_dictionary\n",
    "\n",
    "# Implementation\n",
    "tf_a = compute_term_frequency(dict_a, bag_of_words_a)\n",
    "print(tf_a)\n",
    "\n",
    "tf_b = compute_term_frequency(dict_b, bag_of_words_b)\n",
    "print(tf_b)"
   ]
  },
  {
   "cell_type": "code",
   "execution_count": 9,
   "metadata": {},
   "outputs": [
    {
     "name": "stdout",
     "output_type": "stream",
     "text": [
      "{\n",
      "  \"second\": 0.4054651081081644,\n",
      "  \"first\": 0.4054651081081644,\n",
      "  \"document\": 0.0,\n",
      "  \"is\": 0.0,\n",
      "  \"the\": 0.4054651081081644,\n",
      "  \"this\": 0.0\n",
      "}\n"
     ]
    }
   ],
   "source": [
    "import math\n",
    "\n",
    "def compute_inverse_document_frequency(full_doc_list):\n",
    "    idf_dict = {}\n",
    "    length_of_doc_list = len(full_doc_list)\n",
    "\n",
    "    # Initialize dictionary with words from all documents\n",
    "    idf_dict = dict.fromkeys(full_doc_list[0].keys(), 0)\n",
    "    \n",
    "    # Count the number of documents that contain each word\n",
    "    for doc in full_doc_list:\n",
    "        for word, val in doc.items():\n",
    "            if val > 0:\n",
    "                idf_dict[word] += 1\n",
    "\n",
    "    # Compute IDF for each word\n",
    "    for word, val in idf_dict.items():\n",
    "        idf_dict[word] = math.log((length_of_doc_list+1) / (float(val) + 1))\n",
    "\n",
    "    return idf_dict\n",
    "\n",
    "final_idf_dict = compute_inverse_document_frequency([dict_a, dict_b])\n",
    "\n",
    "import json\n",
    "\n",
    "# Print the final_idf_dict dictionary in a pretty format\n",
    "print(json.dumps(final_idf_dict, indent=2))"
   ]
  },
  {
   "cell_type": "code",
   "execution_count": 10,
   "metadata": {},
   "outputs": [
    {
     "name": "stdout",
     "output_type": "stream",
     "text": [
      "{'second': 0.0, 'first': 0.08109302162163289, 'document': 0.0, 'is': 0.0, 'the': 0.0, 'this': 0.0}\n",
      "{'second': 0.06757751801802739, 'first': 0.0, 'document': 0.0, 'is': 0.0, 'the': 0.06757751801802739, 'this': 0.0}\n"
     ]
    }
   ],
   "source": [
    "# doc_a = 'this document is first document'\n",
    "# doc_b = 'this document is the second document'\n",
    "\n",
    "\n",
    "def calculate_tf_id(tf, idf):\n",
    "    tf_idf = {}\n",
    "    for word, val in tf.items():\n",
    "        tf_idf[word] = val * idf[word]\n",
    "    return tf_idf\n",
    "\n",
    "print(calculate_tf_id(tf_a, final_idf_dict))\n",
    "print(calculate_tf_id(tf_b, final_idf_dict))\n"
   ]
  },
  {
   "attachments": {},
   "cell_type": "markdown",
   "metadata": {},
   "source": [
    "### 直接使用TF/IDF的库"
   ]
  },
  {
   "cell_type": "code",
   "execution_count": 11,
   "metadata": {},
   "outputs": [],
   "source": [
    "import pandas as pd\n",
    "import numpy as np\n",
    "\n",
    "datafile_path = \"data/fine_food_reviews_with_embeddings_1k.csv\"\n",
    "\n",
    "df = pd.read_csv(datafile_path)\n",
    "df['embedding'] = df.embedding.apply(eval).apply(np.array)"
   ]
  },
  {
   "cell_type": "code",
   "execution_count": 12,
   "metadata": {},
   "outputs": [
    {
     "data": {
      "text/plain": [
       "<bound method NDFrame.head of      Unnamed: 0   ProductId          UserId  Score   \n",
       "0             0  B003XPF9BO  A3R7JR3FMEBXQB      5  \\\n",
       "1           297  B003VXHGPK  A21VWSCGW7UUAR      4   \n",
       "2           296  B008JKTTUA  A34XBAIFT02B60      1   \n",
       "3           295  B000LKTTTW  A14MQ40CCU8B13      5   \n",
       "4           294  B001D09KAM  A34XBAIFT02B60      1   \n",
       "..          ...         ...             ...    ...   \n",
       "995         623  B0000CFXYA  A3GS4GWPIBV0NT      1   \n",
       "996         624  B0001BH5YM   A1BZ3HMAKK0NC      5   \n",
       "997         625  B0009ET7TC  A2FSDQY5AI6TNX      5   \n",
       "998         619  B007PA32L2  A15FF2P7RPKH6G      5   \n",
       "999         999  B001EQ5GEO  A3VYU0VO6DYV6I      5   \n",
       "\n",
       "                                               Summary   \n",
       "0    where does one  start...and stop... with a tre...  \\\n",
       "1                     Good, but not Wolfgang Puck good   \n",
       "2    Should advertise coconut as an ingredient more...   \n",
       "3                                     Best tomato soup   \n",
       "4    Should advertise coconut as an ingredient more...   \n",
       "..                                                 ...   \n",
       "995                      Strange inflammation response   \n",
       "996                      My favorite and only  MUSTARD   \n",
       "997                           My furbabies LOVE these!   \n",
       "998                          got this for the daughter   \n",
       "999                                I love Maui Coffee!   \n",
       "\n",
       "                                                  Text   \n",
       "0    Wanted to save some to bring to my Chicago fam...  \\\n",
       "1    Honestly, I have to admit that I expected a li...   \n",
       "2    First, these should be called Mac - Coconut ba...   \n",
       "3    I have a hard time finding packaged food of an...   \n",
       "4    First, these should be called Mac - Coconut ba...   \n",
       "..                                                 ...   \n",
       "995  Truthfully wasn't crazy about the taste of the...   \n",
       "996  You've just got to experience this mustard... ...   \n",
       "997  Shake the container and they come running. Eve...   \n",
       "998  all i have heard since she got a kuerig is why...   \n",
       "999  My first experience with Maui Coffee was bring...   \n",
       "\n",
       "                                              combined  n_tokens   \n",
       "0    Title: where does one  start...and stop... wit...        52  \\\n",
       "1    Title: Good, but not Wolfgang Puck good; Conte...       178   \n",
       "2    Title: Should advertise coconut as an ingredie...        78   \n",
       "3    Title: Best tomato soup; Content: I have a har...       111   \n",
       "4    Title: Should advertise coconut as an ingredie...        78   \n",
       "..                                                 ...       ...   \n",
       "995  Title: Strange inflammation response; Content:...       110   \n",
       "996  Title: My favorite and only  MUSTARD; Content:...        80   \n",
       "997  Title: My furbabies LOVE these!; Content: Shak...        47   \n",
       "998  Title: got this for the daughter; Content: all...        50   \n",
       "999  Title: I love Maui Coffee!; Content: My first ...       118   \n",
       "\n",
       "                                             embedding  \n",
       "0    [0.007018072064965963, -0.02731654793024063, 0...  \n",
       "1    [-0.003140551969408989, -0.009995664469897747,...  \n",
       "2    [-0.01757248118519783, -8.266511576948687e-05,...  \n",
       "3    [-0.0013932279543951154, -0.011112828738987446...  \n",
       "4    [-0.01757248118519783, -8.266511576948687e-05,...  \n",
       "..                                                 ...  \n",
       "995  [0.00011091353371739388, -0.00466986745595932,...  \n",
       "996  [-0.020869314670562744, -0.013138455338776112,...  \n",
       "997  [-0.009749102406203747, -0.0068712360225617886...  \n",
       "998  [-0.00521062919870019, 0.0009606690146028996, ...  \n",
       "999  [-0.006057822611182928, -0.015015840530395508,...  \n",
       "\n",
       "[1000 rows x 9 columns]>"
      ]
     },
     "execution_count": 12,
     "metadata": {},
     "output_type": "execute_result"
    }
   ],
   "source": [
    "df.head"
   ]
  },
  {
   "cell_type": "code",
   "execution_count": 13,
   "metadata": {},
   "outputs": [
    {
     "name": "stdout",
     "output_type": "stream",
     "text": [
      "      12   13   21   31   32   34   40   50   51   60  ...  yogurt  yorkie   \n",
      "0    0.0  0.0  0.0  0.0  0.0  0.0  0.0  0.0  0.0  0.0  ...     0.0     0.0  \\\n",
      "1    0.0  0.0  0.0  0.0  0.0  0.0  0.0  0.0  0.0  0.0  ...     0.0     0.0   \n",
      "2    0.0  0.0  0.0  0.0  0.0  0.0  0.0  0.0  0.0  0.0  ...     0.0     0.0   \n",
      "3    0.0  0.0  0.0  0.0  0.0  0.0  0.0  0.0  0.0  0.0  ...     0.0     0.0   \n",
      "4    0.0  0.0  0.0  0.0  0.0  0.0  0.0  0.0  0.0  0.0  ...     0.0     0.0   \n",
      "..   ...  ...  ...  ...  ...  ...  ...  ...  ...  ...  ...     ...     ...   \n",
      "995  0.0  0.0  0.0  0.0  0.0  0.0  0.0  0.0  0.0  0.0  ...     0.0     0.0   \n",
      "996  0.0  0.0  0.0  0.0  0.0  0.0  0.0  0.0  0.0  0.0  ...     0.0     0.0   \n",
      "997  0.0  0.0  0.0  0.0  0.0  0.0  0.0  0.0  0.0  0.0  ...     0.0     0.0   \n",
      "998  0.0  0.0  0.0  0.0  0.0  0.0  0.0  0.0  0.0  0.0  ...     0.0     0.0   \n",
      "999  0.0  0.0  0.0  0.0  0.0  0.0  0.0  0.0  0.0  0.0  ...     0.0     0.0   \n",
      "\n",
      "     you  your  yuk  yum  yummmm  yummmmm  yummy  zipfizz  \n",
      "0    0.0   0.0  0.0  0.0     0.0      0.0    0.0      0.0  \n",
      "1    0.0   0.0  0.0  0.0     0.0      0.0    0.0      0.0  \n",
      "2    0.0   0.0  0.0  0.0     0.0      0.0    0.0      0.0  \n",
      "3    0.0   0.0  0.0  0.0     0.0      0.0    0.0      0.0  \n",
      "4    0.0   0.0  0.0  0.0     0.0      0.0    0.0      0.0  \n",
      "..   ...   ...  ...  ...     ...      ...    ...      ...  \n",
      "995  0.0   0.0  0.0  0.0     0.0      0.0    0.0      0.0  \n",
      "996  0.0   0.0  0.0  0.0     0.0      0.0    0.0      0.0  \n",
      "997  0.0   0.0  0.0  0.0     0.0      0.0    0.0      0.0  \n",
      "998  0.0   0.0  0.0  0.0     0.0      0.0    0.0      0.0  \n",
      "999  0.0   0.0  0.0  0.0     0.0      0.0    0.0      0.0  \n",
      "\n",
      "[1000 rows x 1038 columns]\n"
     ]
    }
   ],
   "source": [
    "from sklearn.feature_extraction.text import TfidfVectorizer\n",
    "\n",
    "corpus = df['Summary']\n",
    "vectorizer = TfidfVectorizer()\n",
    "tfidf_matrix = vectorizer.fit_transform(corpus)\n",
    "tfidf_df = pd.DataFrame(tfidf_matrix.toarray(), columns=vectorizer.get_feature_names_out())\n",
    "print(tfidf_df)"
   ]
  },
  {
   "cell_type": "code",
   "execution_count": 14,
   "metadata": {},
   "outputs": [
    {
     "name": "stdout",
     "output_type": "stream",
     "text": [
      "Row 1: [('start', 0.394384915946285), ('stop', 0.394384915946285), ('where', 0.394384915946285), ('does', 0.35649943107170623), ('treat', 0.312176255125172)]\n",
      "Row 2: [('good', 0.5681028016321258), ('puck', 0.49441945926150405), ('wolfgang', 0.49441945926150405), ('but', 0.3153408915839207), ('not', 0.2981914242226147)]\n",
      "Row 3: [('advertise', 0.36559695823357646), ('ingredient', 0.36559695823357646), ('prominently', 0.36559695823357646), ('should', 0.36559695823357646), ('an', 0.3574098136743376)]\n",
      "Row 4: [('tomato', 0.6610768832907321), ('soup', 0.6331508937690398), ('best', 0.4026130898245583), ('12', 0.0), ('13', 0.0)]\n",
      "Row 5: [('advertise', 0.36559695823357646), ('ingredient', 0.36559695823357646), ('prominently', 0.36559695823357646), ('should', 0.36559695823357646), ('an', 0.3574098136743376)]\n"
     ]
    }
   ],
   "source": [
    "def get_top_n_words(row, tfidf_df, top_n=5):\n",
    "    # Get the words and corresponding tf-idf scores for the given row\n",
    "    words_and_scores = [(word, tfidf_df.loc[row, word]) for word in tfidf_df.columns]\n",
    "    \n",
    "    # Sort the words by their tf-idf scores\n",
    "    words_and_scores.sort(key=lambda x: x[1], reverse=True)\n",
    "\n",
    "    # Get the top n words\n",
    "    top_n_words_and_scores = words_and_scores[:top_n]\n",
    "    \n",
    "    return top_n_words_and_scores\n",
    "\n",
    "# Print the highest tf-idf words and their scores for the first 5 rows\n",
    "for i in range(5):\n",
    "    print(f\"Row {i+1}: {get_top_n_words(i, tfidf_df)}\")"
   ]
  },
  {
   "attachments": {},
   "cell_type": "markdown",
   "metadata": {},
   "source": [
    "### Word2Vec的演示"
   ]
  },
  {
   "cell_type": "code",
   "execution_count": 15,
   "metadata": {},
   "outputs": [],
   "source": [
    "# Word2Vec 的模型文件请自行下载\n",
    "# https://drive.google.com/u/0/uc?id=0B7XkCwpI5KDYNlNUTTlSS21pQmM&export=download\n",
    "\n",
    "from gensim.models import KeyedVectors\n",
    "model = KeyedVectors.load_word2vec_format('data/GoogleNews-vectors-negative300.bin.gz', binary=True)"
   ]
  },
  {
   "cell_type": "code",
   "execution_count": 16,
   "metadata": {},
   "outputs": [
    {
     "name": "stdout",
     "output_type": "stream",
     "text": [
      "[('queen', 0.7118193507194519), ('monarch', 0.6189674139022827), ('princess', 0.5902431011199951), ('crown_prince', 0.5499460697174072), ('prince', 0.5377321839332581), ('kings', 0.5236844420433044), ('Queen_Consort', 0.5235945582389832), ('queens', 0.5181134343147278), ('sultan', 0.5098593831062317), ('monarchy', 0.5087411999702454)]\n"
     ]
    }
   ],
   "source": [
    "result = model.most_similar(positive=['woman', 'king'], negative=['man'])\n",
    "print(result)"
   ]
  },
  {
   "cell_type": "code",
   "execution_count": 17,
   "metadata": {},
   "outputs": [
    {
     "name": "stdout",
     "output_type": "stream",
     "text": [
      "[ 1.25976562e-01  2.97851562e-02  8.60595703e-03  1.39648438e-01\n",
      " -2.56347656e-02 -3.61328125e-02  1.11816406e-01 -1.98242188e-01\n",
      "  5.12695312e-02  3.63281250e-01 -2.42187500e-01 -3.02734375e-01\n",
      " -1.77734375e-01 -2.49023438e-02 -1.67968750e-01 -1.69921875e-01\n",
      "  3.46679688e-02  5.21850586e-03  4.63867188e-02  1.28906250e-01\n",
      "  1.36718750e-01  1.12792969e-01  5.95703125e-02  1.36718750e-01\n",
      "  1.01074219e-01 -1.76757812e-01 -2.51953125e-01  5.98144531e-02\n",
      "  3.41796875e-01 -3.11279297e-02  1.04492188e-01  6.17675781e-02\n",
      "  1.24511719e-01  4.00390625e-01 -3.22265625e-01  8.39843750e-02\n",
      "  3.90625000e-02  5.85937500e-03  7.03125000e-02  1.72851562e-01\n",
      "  1.38671875e-01 -2.31445312e-01  2.83203125e-01  1.42578125e-01\n",
      "  3.41796875e-01 -2.39257812e-02 -1.09863281e-01  3.32031250e-02\n",
      " -5.46875000e-02  1.53198242e-02 -1.62109375e-01  1.58203125e-01\n",
      " -2.59765625e-01  2.01416016e-02 -1.63085938e-01  1.35803223e-03\n",
      " -1.44531250e-01 -5.68847656e-02  4.29687500e-02 -2.46582031e-02\n",
      "  1.85546875e-01  4.47265625e-01  9.58251953e-03  1.31835938e-01\n",
      "  9.86328125e-02 -1.85546875e-01 -1.00097656e-01 -1.33789062e-01\n",
      " -1.25000000e-01  2.83203125e-01  1.23046875e-01  5.32226562e-02\n",
      " -1.77734375e-01  8.59375000e-02 -2.18505859e-02  2.05078125e-02\n",
      " -1.39648438e-01  2.51464844e-02  1.38671875e-01 -1.05468750e-01\n",
      "  1.38671875e-01  8.88671875e-02 -7.51953125e-02 -2.13623047e-02\n",
      "  1.72851562e-01  4.63867188e-02 -2.65625000e-01  8.91113281e-03\n",
      "  1.49414062e-01  3.78417969e-02  2.38281250e-01 -1.24511719e-01\n",
      " -2.17773438e-01 -1.81640625e-01  2.97851562e-02  5.71289062e-02\n",
      " -2.89306641e-02  1.24511719e-02  9.66796875e-02 -2.31445312e-01\n",
      "  5.81054688e-02  6.68945312e-02  7.08007812e-02 -3.08593750e-01\n",
      " -2.14843750e-01  1.45507812e-01 -4.27734375e-01 -9.39941406e-03\n",
      "  1.54296875e-01 -7.66601562e-02  2.89062500e-01  2.77343750e-01\n",
      " -4.86373901e-04 -1.36718750e-01  3.24218750e-01 -2.46093750e-01\n",
      " -3.03649902e-03 -2.11914062e-01  1.25000000e-01  2.69531250e-01\n",
      "  2.04101562e-01  8.25195312e-02 -2.01171875e-01 -1.60156250e-01\n",
      " -3.78417969e-02 -1.20117188e-01  1.15234375e-01 -4.10156250e-02\n",
      " -3.95507812e-02 -8.98437500e-02  6.34765625e-03  2.03125000e-01\n",
      "  1.86523438e-01  2.73437500e-01  6.29882812e-02  1.41601562e-01\n",
      " -9.81445312e-02  1.38671875e-01  1.82617188e-01  1.73828125e-01\n",
      "  1.73828125e-01 -2.37304688e-01  1.78710938e-01  6.34765625e-02\n",
      "  2.36328125e-01 -2.08984375e-01  8.74023438e-02 -1.66015625e-01\n",
      " -7.91015625e-02  2.43164062e-01 -8.88671875e-02  1.26953125e-01\n",
      " -2.16796875e-01 -1.73828125e-01 -3.59375000e-01 -8.25195312e-02\n",
      " -6.49414062e-02  5.07812500e-02  1.35742188e-01 -7.47070312e-02\n",
      " -1.64062500e-01  1.15356445e-02  4.45312500e-01 -2.15820312e-01\n",
      " -1.11328125e-01 -1.92382812e-01  1.70898438e-01 -1.25000000e-01\n",
      "  2.65502930e-03  1.92382812e-01 -1.74804688e-01  1.39648438e-01\n",
      "  2.92968750e-01  1.13281250e-01  5.95703125e-02 -6.39648438e-02\n",
      "  9.96093750e-02 -2.72216797e-02  1.96533203e-02  4.27246094e-02\n",
      " -2.46093750e-01  6.39648438e-02 -2.25585938e-01 -1.68945312e-01\n",
      "  2.89916992e-03  8.20312500e-02  3.41796875e-01  4.32128906e-02\n",
      "  1.32812500e-01  1.42578125e-01  7.61718750e-02  5.98144531e-02\n",
      " -1.19140625e-01  2.74658203e-03 -6.29882812e-02 -2.72216797e-02\n",
      " -4.82177734e-03 -8.20312500e-02 -2.49023438e-02 -4.00390625e-01\n",
      " -1.06933594e-01  4.24804688e-02  7.76367188e-02 -1.16699219e-01\n",
      "  7.37304688e-02 -9.22851562e-02  1.07910156e-01  1.58203125e-01\n",
      "  4.24804688e-02  1.26953125e-01  3.61328125e-02  2.67578125e-01\n",
      " -1.01074219e-01 -3.02734375e-01 -5.76171875e-02  5.05371094e-02\n",
      "  5.26428223e-04 -2.07031250e-01 -1.38671875e-01 -8.97216797e-03\n",
      " -2.78320312e-02 -1.41601562e-01  2.07031250e-01 -1.58203125e-01\n",
      "  1.27929688e-01  1.49414062e-01 -2.24609375e-02 -8.44726562e-02\n",
      "  1.22558594e-01  2.15820312e-01 -2.13867188e-01 -3.12500000e-01\n",
      " -3.73046875e-01  4.08935547e-03  1.07421875e-01  1.06933594e-01\n",
      "  7.32421875e-02  8.97216797e-03 -3.88183594e-02 -1.29882812e-01\n",
      "  1.49414062e-01 -2.14843750e-01 -1.83868408e-03  9.91210938e-02\n",
      "  1.57226562e-01 -1.14257812e-01 -2.05078125e-01  9.91210938e-02\n",
      "  3.69140625e-01 -1.97265625e-01  3.54003906e-02  1.09375000e-01\n",
      "  1.31835938e-01  1.66992188e-01  2.35351562e-01  1.04980469e-01\n",
      " -4.96093750e-01 -1.64062500e-01 -1.56250000e-01 -5.22460938e-02\n",
      "  1.03027344e-01  2.43164062e-01 -1.88476562e-01  5.07812500e-02\n",
      " -9.37500000e-02 -6.68945312e-02  2.27050781e-02  7.61718750e-02\n",
      "  2.89062500e-01  3.10546875e-01 -5.37109375e-02  2.28515625e-01\n",
      "  2.51464844e-02  6.78710938e-02 -1.21093750e-01 -2.15820312e-01\n",
      " -2.73437500e-01 -3.07617188e-02 -3.37890625e-01  1.53320312e-01\n",
      "  2.33398438e-01 -2.08007812e-01  3.73046875e-01  8.20312500e-02\n",
      "  2.51953125e-01 -7.61718750e-02 -4.66308594e-02 -2.23388672e-02\n",
      "  2.99072266e-02 -5.93261719e-02 -4.66918945e-03 -2.44140625e-01\n",
      " -2.09960938e-01 -2.87109375e-01 -4.54101562e-02 -1.77734375e-01\n",
      " -2.79296875e-01 -8.59375000e-02  9.13085938e-02  2.51953125e-01]\n"
     ]
    }
   ],
   "source": [
    "vector = model['king']\n",
    "print(vector)"
   ]
  },
  {
   "cell_type": "code",
   "execution_count": 18,
   "metadata": {},
   "outputs": [
    {
     "name": "stdout",
     "output_type": "stream",
     "text": [
      "[('Paris', 0.7190686464309692), ('French', 0.5460342764854431), ('Avignon', 0.5356248021125793), ('Hopital_Europeen_Georges_Pompidou', 0.5236213803291321), ('Strasbourg', 0.5220195651054382), ('Brussels', 0.5087736248970032), ('Pantheon_Sorbonne', 0.5009362697601318), ('Reims', 0.5001292824745178), ('Poitiers', 0.4956184923648834), ('Rheims', 0.4893844723701477)]\n"
     ]
    }
   ],
   "source": [
    "# 词向量的加减法\n",
    "# Rome - Italy + France = ?\n",
    "result = model.most_similar(positive=['Rome', 'France'], negative=['Italy'])\n",
    "print(result)"
   ]
  },
  {
   "cell_type": "code",
   "execution_count": 19,
   "metadata": {},
   "outputs": [
    {
     "name": "stdout",
     "output_type": "stream",
     "text": [
      "[('cats', 0.8099379539489746), ('dog', 0.760945737361908), ('kitten', 0.7464985251426697), ('feline', 0.7326234579086304), ('beagle', 0.7150582671165466), ('puppy', 0.7075453400611877), ('pup', 0.6934291124343872), ('pet', 0.6891531348228455), ('felines', 0.6755931973457336), ('chihuahua', 0.6709762215614319)]\n"
     ]
    }
   ],
   "source": [
    "result = model.most_similar(\"cat\")\n",
    "print(result)"
   ]
  },
  {
   "attachments": {},
   "cell_type": "markdown",
   "metadata": {},
   "source": [
    "### PCA降维，展示不同词之间的二维关系"
   ]
  },
  {
   "cell_type": "code",
   "execution_count": 20,
   "metadata": {},
   "outputs": [],
   "source": [
    "import matplotlib.pyplot as plt\n",
    "from sklearn.decomposition import PCA\n",
    "\n",
    "def visualize_words(words):\n",
    "    # Get the vectors for the words\n",
    "    vectors = [model[word] for word in words]\n",
    "\n",
    "    # Create a PCA object and fit_transform the vectors\n",
    "    pca = PCA(n_components=2)\n",
    "    pca_result = pca.fit_transform(vectors)\n",
    "\n",
    "    # Create a color map\n",
    "    colors = [\"b\", \"g\", \"r\", \"c\"]\n",
    "\n",
    "    # Plot each word in 2D space using PCA results\n",
    "    for i, word in enumerate(words):\n",
    "        plt.scatter(pca_result[i, 0], pca_result[i, 1], c=colors[i], label=word)\n",
    "        plt.annotate(word, xy=(pca_result[i, 0], pca_result[i, 1]))\n",
    "\n",
    "    plt.legend()\n",
    "    plt.show()"
   ]
  },
  {
   "cell_type": "code",
   "execution_count": 21,
   "metadata": {},
   "outputs": [
    {
     "data": {
      "image/png": "[encoded data removed]",
      "text/plain": [
       "<Figure size 640x480 with 1 Axes>"
      ]
     },
     "metadata": {},
     "output_type": "display_data"
    }
   ],
   "source": [
    "# List of words to visualize\n",
    "words = [\"queen\", \"king\", \"girl\", \"boy\"]\n",
    "visualize_words(words)"
   ]
  },
  {
   "cell_type": "code",
   "execution_count": 22,
   "metadata": {},
   "outputs": [
    {
     "data": {
      "image/png": "[encoded data removed]",
      "text/plain": [
       "<Figure size 640x480 with 1 Axes>"
      ]
     },
     "metadata": {},
     "output_type": "display_data"
    }
   ],
   "source": [
    "# List of words to visualize\n",
    "words = [\"Italy\", \"France\", \"Rome\", \"Paris\"]\n",
    "visualize_words(words)"
   ]
  },
  {
   "cell_type": "code",
   "execution_count": 23,
   "metadata": {},
   "outputs": [
    {
     "data": {
      "image/png": "[encoded data removed]",
      "text/plain": [
       "<Figure size 1200x1200 with 7 Axes>"
      ]
     },
     "metadata": {},
     "output_type": "display_data"
    }
   ],
   "source": [
    "import matplotlib.pyplot as plt\n",
    "import numpy as np\n",
    "\n",
    "def colorize_words(words, vectors):\n",
    "    # 创建色带图的颜色映射\n",
    "    cmap = plt.get_cmap('bwr')\n",
    "\n",
    "    # 创建一个子图的网格，每行一个子图\n",
    "    fig, axs = plt.subplots(len(words), 1, figsize=(12, 2*len(words)))\n",
    "\n",
    "    for ax, word, vector in zip(axs, words, vectors):\n",
    "        # 获取词向量并调整为二维\n",
    "        matrix = np.array(vector).reshape(1, -1)\n",
    "\n",
    "        # 在子图上显示色带图\n",
    "        img = ax.imshow(matrix, cmap=cmap, aspect='auto')\n",
    "\n",
    "        # 隐藏y轴\n",
    "        ax.set_yticks([])\n",
    "\n",
    "        # 为子图添加标题\n",
    "        ax.set_title(f\"Word Vector for '{word}'\")\n",
    "        ax.set_xlabel('Dimensions')\n",
    "\n",
    "    plt.tight_layout()\n",
    "\n",
    "    # 调整子图和colorbar的位置\n",
    "    fig.subplots_adjust(right=0.85)  # leave some space for the colorbar\n",
    "    cbar_ax = fig.add_axes([0.9, 0.15, 0.05, 0.7])  # position of the colorbar\n",
    "    fig.colorbar(img, cax=cbar_ax, label='Value')\n",
    "\n",
    "    plt.show()\n",
    "\n",
    "\n",
    "# 词列表\n",
    "words = [\"king\", \"queen\", \"boy\", \"girl\", \"man\", \"woman\"]\n",
    "vectors = [model[word] for word in words]\n",
    "colorize_words(words, vectors)\n"
   ]
  },
  {
   "cell_type": "code",
   "execution_count": 24,
   "metadata": {},
   "outputs": [
    {
     "data": {
      "image/png": "[encoded data removed]",
      "text/plain": [
       "<Figure size 1200x600 with 4 Axes>"
      ]
     },
     "metadata": {},
     "output_type": "display_data"
    }
   ],
   "source": [
    "\n",
    "\n",
    "# 词列表\n",
    "words = [\"king\", \"queen\"]\n",
    "vectors = [model[word] for word in words]\n",
    "\n",
    "\n",
    "words.append(\"king-boy+girl\")\n",
    "vector = model[\"king\"] - model[\"boy\"] + model[\"girl\"]\n",
    "vectors.append(vector)\n",
    "colorize_words(words, vectors)"
   ]
  },
  {
   "cell_type": "code",
   "execution_count": 25,
   "metadata": {},
   "outputs": [
    {
     "name": "stdout",
     "output_type": "stream",
     "text": [
      "Cosine similarity between 'queen' and 'king - boy + girl': 0.7506669759750366\n"
     ]
    }
   ],
   "source": [
    "similarity = model.cosine_similarities(model['queen'], [vector])\n",
    "print(f\"Cosine similarity between 'queen' and 'king - boy + girl': {similarity[0]}\")\n"
   ]
  },
  {
   "cell_type": "code",
   "execution_count": 26,
   "metadata": {},
   "outputs": [
    {
     "name": "stdout",
     "output_type": "stream",
     "text": [
      "Cosine similarity between 'queen' and 'king': 0.6510956287384033\n",
      "Cosine similarity between 'queen' and 'girl': 0.3500562012195587\n",
      "Cosine similarity between 'queen' and 'boy': 0.20767609775066376\n",
      "Cosine similarity between 'queen' and 'paris': 0.243021622300148\n"
     ]
    }
   ],
   "source": [
    "similarity = model.cosine_similarities(model['queen'], [model['king']])\n",
    "print(f\"Cosine similarity between 'queen' and 'king': {similarity[0]}\")\n",
    "\n",
    "similarity = model.cosine_similarities(model['queen'], [model['girl']])\n",
    "print(f\"Cosine similarity between 'queen' and 'girl': {similarity[0]}\")\n",
    "\n",
    "\n",
    "similarity = model.cosine_similarities(model['queen'], [model['boy']])\n",
    "print(f\"Cosine similarity between 'queen' and 'boy': {similarity[0]}\")\n",
    "\n",
    "\n",
    "similarity = model.cosine_similarities(model['queen'], [model['paris']])\n",
    "print(f\"Cosine similarity between 'queen' and 'paris': {similarity[0]}\")\n"
   ]
  },
  {
   "attachments": {},
   "cell_type": "markdown",
   "metadata": {},
   "source": [
    "### 直接通过 Word2Vec 做情感分析"
   ]
  },
  {
   "cell_type": "code",
   "execution_count": 37,
   "metadata": {},
   "outputs": [],
   "source": [
    "import pandas as pd\n",
    "import numpy as np\n",
    "\n",
    "datafile_path = \"data/fine_food_reviews_with_embeddings_1k.csv\"\n",
    "\n",
    "df = pd.read_csv(datafile_path)\n",
    "df['embedding'] = df.embedding.apply(eval).apply(np.array)"
   ]
  },
  {
   "cell_type": "code",
   "execution_count": 28,
   "metadata": {},
   "outputs": [
    {
     "data": {
      "text/html": [
       "<div>\n",
       "<style scoped>\n",
       "    .dataframe tbody tr th:only-of-type {\n",
       "        vertical-align: middle;\n",
       "    }\n",
       "\n",
       "    .dataframe tbody tr th {\n",
       "        vertical-align: top;\n",
       "    }\n",
       "\n",
       "    .dataframe thead th {\n",
       "        text-align: right;\n",
       "    }\n",
       "</style>\n",
       "<table border=\"1\" class=\"dataframe\">\n",
       "  <thead>\n",
       "    <tr style=\"text-align: right;\">\n",
       "      <th></th>\n",
       "      <th>Unnamed: 0</th>\n",
       "      <th>ProductId</th>\n",
       "      <th>UserId</th>\n",
       "      <th>Score</th>\n",
       "      <th>Summary</th>\n",
       "      <th>Text</th>\n",
       "      <th>combined</th>\n",
       "      <th>n_tokens</th>\n",
       "      <th>embedding</th>\n",
       "    </tr>\n",
       "  </thead>\n",
       "  <tbody>\n",
       "    <tr>\n",
       "      <th>0</th>\n",
       "      <td>0</td>\n",
       "      <td>B003XPF9BO</td>\n",
       "      <td>A3R7JR3FMEBXQB</td>\n",
       "      <td>5</td>\n",
       "      <td>where does one  start...and stop... with a tre...</td>\n",
       "      <td>Wanted to save some to bring to my Chicago fam...</td>\n",
       "      <td>Title: where does one  start...and stop... wit...</td>\n",
       "      <td>52</td>\n",
       "      <td>[0.007018072064965963, -0.02731654793024063, 0...</td>\n",
       "    </tr>\n",
       "    <tr>\n",
       "      <th>1</th>\n",
       "      <td>297</td>\n",
       "      <td>B003VXHGPK</td>\n",
       "      <td>A21VWSCGW7UUAR</td>\n",
       "      <td>4</td>\n",
       "      <td>Good, but not Wolfgang Puck good</td>\n",
       "      <td>Honestly, I have to admit that I expected a li...</td>\n",
       "      <td>Title: Good, but not Wolfgang Puck good; Conte...</td>\n",
       "      <td>178</td>\n",
       "      <td>[-0.003140551969408989, -0.009995664469897747,...</td>\n",
       "    </tr>\n",
       "    <tr>\n",
       "      <th>2</th>\n",
       "      <td>296</td>\n",
       "      <td>B008JKTTUA</td>\n",
       "      <td>A34XBAIFT02B60</td>\n",
       "      <td>1</td>\n",
       "      <td>Should advertise coconut as an ingredient more...</td>\n",
       "      <td>First, these should be called Mac - Coconut ba...</td>\n",
       "      <td>Title: Should advertise coconut as an ingredie...</td>\n",
       "      <td>78</td>\n",
       "      <td>[-0.01757248118519783, -8.266511576948687e-05,...</td>\n",
       "    </tr>\n",
       "    <tr>\n",
       "      <th>3</th>\n",
       "      <td>295</td>\n",
       "      <td>B000LKTTTW</td>\n",
       "      <td>A14MQ40CCU8B13</td>\n",
       "      <td>5</td>\n",
       "      <td>Best tomato soup</td>\n",
       "      <td>I have a hard time finding packaged food of an...</td>\n",
       "      <td>Title: Best tomato soup; Content: I have a har...</td>\n",
       "      <td>111</td>\n",
       "      <td>[-0.0013932279543951154, -0.011112828738987446...</td>\n",
       "    </tr>\n",
       "    <tr>\n",
       "      <th>4</th>\n",
       "      <td>294</td>\n",
       "      <td>B001D09KAM</td>\n",
       "      <td>A34XBAIFT02B60</td>\n",
       "      <td>1</td>\n",
       "      <td>Should advertise coconut as an ingredient more...</td>\n",
       "      <td>First, these should be called Mac - Coconut ba...</td>\n",
       "      <td>Title: Should advertise coconut as an ingredie...</td>\n",
       "      <td>78</td>\n",
       "      <td>[-0.01757248118519783, -8.266511576948687e-05,...</td>\n",
       "    </tr>\n",
       "  </tbody>\n",
       "</table>\n",
       "</div>"
      ],
      "text/plain": [
       "   Unnamed: 0   ProductId          UserId  Score   \n",
       "0           0  B003XPF9BO  A3R7JR3FMEBXQB      5  \\\n",
       "1         297  B003VXHGPK  A21VWSCGW7UUAR      4   \n",
       "2         296  B008JKTTUA  A34XBAIFT02B60      1   \n",
       "3         295  B000LKTTTW  A14MQ40CCU8B13      5   \n",
       "4         294  B001D09KAM  A34XBAIFT02B60      1   \n",
       "\n",
       "                                             Summary   \n",
       "0  where does one  start...and stop... with a tre...  \\\n",
       "1                   Good, but not Wolfgang Puck good   \n",
       "2  Should advertise coconut as an ingredient more...   \n",
       "3                                   Best tomato soup   \n",
       "4  Should advertise coconut as an ingredient more...   \n",
       "\n",
       "                                                Text   \n",
       "0  Wanted to save some to bring to my Chicago fam...  \\\n",
       "1  Honestly, I have to admit that I expected a li...   \n",
       "2  First, these should be called Mac - Coconut ba...   \n",
       "3  I have a hard time finding packaged food of an...   \n",
       "4  First, these should be called Mac - Coconut ba...   \n",
       "\n",
       "                                            combined  n_tokens   \n",
       "0  Title: where does one  start...and stop... wit...        52  \\\n",
       "1  Title: Good, but not Wolfgang Puck good; Conte...       178   \n",
       "2  Title: Should advertise coconut as an ingredie...        78   \n",
       "3  Title: Best tomato soup; Content: I have a har...       111   \n",
       "4  Title: Should advertise coconut as an ingredie...        78   \n",
       "\n",
       "                                           embedding  \n",
       "0  [0.007018072064965963, -0.02731654793024063, 0...  \n",
       "1  [-0.003140551969408989, -0.009995664469897747,...  \n",
       "2  [-0.01757248118519783, -8.266511576948687e-05,...  \n",
       "3  [-0.0013932279543951154, -0.011112828738987446...  \n",
       "4  [-0.01757248118519783, -8.266511576948687e-05,...  "
      ]
     },
     "execution_count": 28,
     "metadata": {},
     "output_type": "execute_result"
    }
   ],
   "source": [
    "df.head()"
   ]
  },
  {
   "cell_type": "code",
   "execution_count": 39,
   "metadata": {},
   "outputs": [],
   "source": [
    "from gensim.models import KeyedVectors\n",
    "model = KeyedVectors.load_word2vec_format('data/GoogleNews-vectors-negative300.bin.gz', binary=True)\n",
    "\n",
    "def get_word2vec(line):\n",
    "    vec = np.zeros(300)\n",
    "    count = 0\n",
    "    for word in line.split():\n",
    "        if word in model:\n",
    "            vec += model[word]\n",
    "            count += 1\n",
    "    vec /= count\n",
    "    return vec\n",
    "\n",
    "df[\"word2vec\"] = df.combined.apply(get_word2vec)\n",
    "df = df[df.Score != 3]\n",
    "df[\"sentiment\"] = df.Score.replace({1: \"negative\", 2: \"negative\", 4: \"positive\", 5: \"positive\"})"
   ]
  },
  {
   "cell_type": "code",
   "execution_count": 40,
   "metadata": {},
   "outputs": [
    {
     "data": {
      "text/html": [
       "<div>\n",
       "<style scoped>\n",
       "    .dataframe tbody tr th:only-of-type {\n",
       "        vertical-align: middle;\n",
       "    }\n",
       "\n",
       "    .dataframe tbody tr th {\n",
       "        vertical-align: top;\n",
       "    }\n",
       "\n",
       "    .dataframe thead th {\n",
       "        text-align: right;\n",
       "    }\n",
       "</style>\n",
       "<table border=\"1\" class=\"dataframe\">\n",
       "  <thead>\n",
       "    <tr style=\"text-align: right;\">\n",
       "      <th></th>\n",
       "      <th>Unnamed: 0</th>\n",
       "      <th>ProductId</th>\n",
       "      <th>UserId</th>\n",
       "      <th>Score</th>\n",
       "      <th>Summary</th>\n",
       "      <th>Text</th>\n",
       "      <th>combined</th>\n",
       "      <th>n_tokens</th>\n",
       "      <th>embedding</th>\n",
       "      <th>word2vec</th>\n",
       "      <th>sentiment</th>\n",
       "    </tr>\n",
       "  </thead>\n",
       "  <tbody>\n",
       "    <tr>\n",
       "      <th>0</th>\n",
       "      <td>0</td>\n",
       "      <td>B003XPF9BO</td>\n",
       "      <td>A3R7JR3FMEBXQB</td>\n",
       "      <td>5</td>\n",
       "      <td>where does one  start...and stop... with a tre...</td>\n",
       "      <td>Wanted to save some to bring to my Chicago fam...</td>\n",
       "      <td>Title: where does one  start...and stop... wit...</td>\n",
       "      <td>52</td>\n",
       "      <td>[0.007018072064965963, -0.02731654793024063, 0...</td>\n",
       "      <td>[0.0011102084455818966, 0.018486368245091932, ...</td>\n",
       "      <td>positive</td>\n",
       "    </tr>\n",
       "    <tr>\n",
       "      <th>1</th>\n",
       "      <td>297</td>\n",
       "      <td>B003VXHGPK</td>\n",
       "      <td>A21VWSCGW7UUAR</td>\n",
       "      <td>4</td>\n",
       "      <td>Good, but not Wolfgang Puck good</td>\n",
       "      <td>Honestly, I have to admit that I expected a li...</td>\n",
       "      <td>Title: Good, but not Wolfgang Puck good; Conte...</td>\n",
       "      <td>178</td>\n",
       "      <td>[-0.003140551969408989, -0.009995664469897747,...</td>\n",
       "      <td>[0.02858405277646821, 0.010423528737035292, 0....</td>\n",
       "      <td>positive</td>\n",
       "    </tr>\n",
       "    <tr>\n",
       "      <th>2</th>\n",
       "      <td>296</td>\n",
       "      <td>B008JKTTUA</td>\n",
       "      <td>A34XBAIFT02B60</td>\n",
       "      <td>1</td>\n",
       "      <td>Should advertise coconut as an ingredient more...</td>\n",
       "      <td>First, these should be called Mac - Coconut ba...</td>\n",
       "      <td>Title: Should advertise coconut as an ingredie...</td>\n",
       "      <td>78</td>\n",
       "      <td>[-0.01757248118519783, -8.266511576948687e-05,...</td>\n",
       "      <td>[0.05599321637834821, -0.0036221458798363095, ...</td>\n",
       "      <td>negative</td>\n",
       "    </tr>\n",
       "    <tr>\n",
       "      <th>3</th>\n",
       "      <td>295</td>\n",
       "      <td>B000LKTTTW</td>\n",
       "      <td>A14MQ40CCU8B13</td>\n",
       "      <td>5</td>\n",
       "      <td>Best tomato soup</td>\n",
       "      <td>I have a hard time finding packaged food of an...</td>\n",
       "      <td>Title: Best tomato soup; Content: I have a har...</td>\n",
       "      <td>111</td>\n",
       "      <td>[-0.0013932279543951154, -0.011112828738987446...</td>\n",
       "      <td>[-0.018390753330328524, 0.028358630644969452, ...</td>\n",
       "      <td>positive</td>\n",
       "    </tr>\n",
       "    <tr>\n",
       "      <th>4</th>\n",
       "      <td>294</td>\n",
       "      <td>B001D09KAM</td>\n",
       "      <td>A34XBAIFT02B60</td>\n",
       "      <td>1</td>\n",
       "      <td>Should advertise coconut as an ingredient more...</td>\n",
       "      <td>First, these should be called Mac - Coconut ba...</td>\n",
       "      <td>Title: Should advertise coconut as an ingredie...</td>\n",
       "      <td>78</td>\n",
       "      <td>[-0.01757248118519783, -8.266511576948687e-05,...</td>\n",
       "      <td>[0.05599321637834821, -0.0036221458798363095, ...</td>\n",
       "      <td>negative</td>\n",
       "    </tr>\n",
       "  </tbody>\n",
       "</table>\n",
       "</div>"
      ],
      "text/plain": [
       "   Unnamed: 0   ProductId          UserId  Score   \n",
       "0           0  B003XPF9BO  A3R7JR3FMEBXQB      5  \\\n",
       "1         297  B003VXHGPK  A21VWSCGW7UUAR      4   \n",
       "2         296  B008JKTTUA  A34XBAIFT02B60      1   \n",
       "3         295  B000LKTTTW  A14MQ40CCU8B13      5   \n",
       "4         294  B001D09KAM  A34XBAIFT02B60      1   \n",
       "\n",
       "                                             Summary   \n",
       "0  where does one  start...and stop... with a tre...  \\\n",
       "1                   Good, but not Wolfgang Puck good   \n",
       "2  Should advertise coconut as an ingredient more...   \n",
       "3                                   Best tomato soup   \n",
       "4  Should advertise coconut as an ingredient more...   \n",
       "\n",
       "                                                Text   \n",
       "0  Wanted to save some to bring to my Chicago fam...  \\\n",
       "1  Honestly, I have to admit that I expected a li...   \n",
       "2  First, these should be called Mac - Coconut ba...   \n",
       "3  I have a hard time finding packaged food of an...   \n",
       "4  First, these should be called Mac - Coconut ba...   \n",
       "\n",
       "                                            combined  n_tokens   \n",
       "0  Title: where does one  start...and stop... wit...        52  \\\n",
       "1  Title: Good, but not Wolfgang Puck good; Conte...       178   \n",
       "2  Title: Should advertise coconut as an ingredie...        78   \n",
       "3  Title: Best tomato soup; Content: I have a har...       111   \n",
       "4  Title: Should advertise coconut as an ingredie...        78   \n",
       "\n",
       "                                           embedding   \n",
       "0  [0.007018072064965963, -0.02731654793024063, 0...  \\\n",
       "1  [-0.003140551969408989, -0.009995664469897747,...   \n",
       "2  [-0.01757248118519783, -8.266511576948687e-05,...   \n",
       "3  [-0.0013932279543951154, -0.011112828738987446...   \n",
       "4  [-0.01757248118519783, -8.266511576948687e-05,...   \n",
       "\n",
       "                                            word2vec sentiment  \n",
       "0  [0.0011102084455818966, 0.018486368245091932, ...  positive  \n",
       "1  [0.02858405277646821, 0.010423528737035292, 0....  positive  \n",
       "2  [0.05599321637834821, -0.0036221458798363095, ...  negative  \n",
       "3  [-0.018390753330328524, 0.028358630644969452, ...  positive  \n",
       "4  [0.05599321637834821, -0.0036221458798363095, ...  negative  "
      ]
     },
     "execution_count": 40,
     "metadata": {},
     "output_type": "execute_result"
    }
   ],
   "source": [
    "df.head()"
   ]
  },
  {
   "cell_type": "code",
   "execution_count": 41,
   "metadata": {},
   "outputs": [
    {
     "name": "stdout",
     "output_type": "stream",
     "text": [
      "              precision    recall  f1-score   support\n",
      "\n",
      "    negative       0.00      0.00      0.00        33\n",
      "    positive       0.82      1.00      0.90       152\n",
      "\n",
      "    accuracy                           0.82       185\n",
      "   macro avg       0.41      0.50      0.45       185\n",
      "weighted avg       0.68      0.82      0.74       185\n",
      "\n"
     ]
    },
    {
     "name": "stderr",
     "output_type": "stream",
     "text": [
      "/Users/xuwenhao/miniconda3/envs/mactalk/lib/python3.10/site-packages/sklearn/metrics/_classification.py:1344: UndefinedMetricWarning: Precision and F-score are ill-defined and being set to 0.0 in labels with no predicted samples. Use `zero_division` parameter to control this behavior.\n",
      "  _warn_prf(average, modifier, msg_start, len(result))\n",
      "/Users/xuwenhao/miniconda3/envs/mactalk/lib/python3.10/site-packages/sklearn/metrics/_classification.py:1344: UndefinedMetricWarning: Precision and F-score are ill-defined and being set to 0.0 in labels with no predicted samples. Use `zero_division` parameter to control this behavior.\n",
      "  _warn_prf(average, modifier, msg_start, len(result))\n",
      "/Users/xuwenhao/miniconda3/envs/mactalk/lib/python3.10/site-packages/sklearn/metrics/_classification.py:1344: UndefinedMetricWarning: Precision and F-score are ill-defined and being set to 0.0 in labels with no predicted samples. Use `zero_division` parameter to control this behavior.\n",
      "  _warn_prf(average, modifier, msg_start, len(result))\n"
     ]
    }
   ],
   "source": [
    "from sklearn.linear_model import LogisticRegression\n",
    "from sklearn.model_selection import train_test_split\n",
    "from sklearn.metrics import classification_report, accuracy_score\n",
    "\n",
    "X_train, X_test, y_train, y_test = train_test_split(\n",
    "    list(df.word2vec.values), df.sentiment, test_size=0.2, random_state=42\n",
    ")\n",
    "\n",
    "clf = LogisticRegression()\n",
    "clf.fit(X_train, y_train)\n",
    "preds = clf.predict(X_test)\n",
    "probas = clf.predict_proba(X_test)\n",
    "\n",
    "report = classification_report(y_test, preds)\n",
    "print(report)\n"
   ]
  },
  {
   "attachments": {},
   "cell_type": "markdown",
   "metadata": {},
   "source": [
    "### 对比Fasttext效果"
   ]
  },
  {
   "cell_type": "code",
   "execution_count": 42,
   "metadata": {},
   "outputs": [],
   "source": [
    "# 模型文件下载地址 https://fasttext.cc/docs/en/crawl-vectors.html\n",
    "# 或者 链接: https://pan.baidu.com/s/1Cl0eFNLOkQqquf9ls0trEw 提取码: jvr4\n",
    "\n",
    "import gensim\n",
    "import numpy as np\n",
    "# Load the FastText pre-trained model\n",
    "model = gensim.models.fasttext.load_facebook_model('data/cc.en.300.bin')\n",
    "\n",
    "def get_fasttext(line):\n",
    "    vec = np.zeros(300) # Initialize an empty 300-dimensional vector\n",
    "    for word in line.split():\n",
    "        vec += model.wv[word]\n",
    "    vec /= len(line.split()) # Take the average over all words in the line\n",
    "    return vec\n",
    "\n",
    "df[\"fasttext\"] = df.combined.apply(get_fasttext)\n"
   ]
  },
  {
   "cell_type": "code",
   "execution_count": 44,
   "metadata": {},
   "outputs": [
    {
     "data": {
      "text/html": [
       "<div>\n",
       "<style scoped>\n",
       "    .dataframe tbody tr th:only-of-type {\n",
       "        vertical-align: middle;\n",
       "    }\n",
       "\n",
       "    .dataframe tbody tr th {\n",
       "        vertical-align: top;\n",
       "    }\n",
       "\n",
       "    .dataframe thead th {\n",
       "        text-align: right;\n",
       "    }\n",
       "</style>\n",
       "<table border=\"1\" class=\"dataframe\">\n",
       "  <thead>\n",
       "    <tr style=\"text-align: right;\">\n",
       "      <th></th>\n",
       "      <th>Unnamed: 0</th>\n",
       "      <th>ProductId</th>\n",
       "      <th>UserId</th>\n",
       "      <th>Score</th>\n",
       "      <th>Summary</th>\n",
       "      <th>Text</th>\n",
       "      <th>combined</th>\n",
       "      <th>n_tokens</th>\n",
       "      <th>embedding</th>\n",
       "      <th>word2vec</th>\n",
       "      <th>sentiment</th>\n",
       "      <th>fasttext</th>\n",
       "    </tr>\n",
       "  </thead>\n",
       "  <tbody>\n",
       "    <tr>\n",
       "      <th>0</th>\n",
       "      <td>0</td>\n",
       "      <td>B003XPF9BO</td>\n",
       "      <td>A3R7JR3FMEBXQB</td>\n",
       "      <td>5</td>\n",
       "      <td>where does one  start...and stop... with a tre...</td>\n",
       "      <td>Wanted to save some to bring to my Chicago fam...</td>\n",
       "      <td>Title: where does one  start...and stop... wit...</td>\n",
       "      <td>52</td>\n",
       "      <td>[0.007018072064965963, -0.02731654793024063, 0...</td>\n",
       "      <td>[0.0011102084455818966, 0.018486368245091932, ...</td>\n",
       "      <td>positive</td>\n",
       "      <td>[0.011107119530717639, -0.008268679747721407, ...</td>\n",
       "    </tr>\n",
       "    <tr>\n",
       "      <th>1</th>\n",
       "      <td>297</td>\n",
       "      <td>B003VXHGPK</td>\n",
       "      <td>A21VWSCGW7UUAR</td>\n",
       "      <td>4</td>\n",
       "      <td>Good, but not Wolfgang Puck good</td>\n",
       "      <td>Honestly, I have to admit that I expected a li...</td>\n",
       "      <td>Title: Good, but not Wolfgang Puck good; Conte...</td>\n",
       "      <td>178</td>\n",
       "      <td>[-0.003140551969408989, -0.009995664469897747,...</td>\n",
       "      <td>[0.02858405277646821, 0.010423528737035292, 0....</td>\n",
       "      <td>positive</td>\n",
       "      <td>[-0.0020780242008874446, -0.016393412013909453...</td>\n",
       "    </tr>\n",
       "    <tr>\n",
       "      <th>2</th>\n",
       "      <td>296</td>\n",
       "      <td>B008JKTTUA</td>\n",
       "      <td>A34XBAIFT02B60</td>\n",
       "      <td>1</td>\n",
       "      <td>Should advertise coconut as an ingredient more...</td>\n",
       "      <td>First, these should be called Mac - Coconut ba...</td>\n",
       "      <td>Title: Should advertise coconut as an ingredie...</td>\n",
       "      <td>78</td>\n",
       "      <td>[-0.01757248118519783, -8.266511576948687e-05,...</td>\n",
       "      <td>[0.05599321637834821, -0.0036221458798363095, ...</td>\n",
       "      <td>negative</td>\n",
       "      <td>[-0.009983920633264158, -0.027443200602040935,...</td>\n",
       "    </tr>\n",
       "    <tr>\n",
       "      <th>3</th>\n",
       "      <td>295</td>\n",
       "      <td>B000LKTTTW</td>\n",
       "      <td>A14MQ40CCU8B13</td>\n",
       "      <td>5</td>\n",
       "      <td>Best tomato soup</td>\n",
       "      <td>I have a hard time finding packaged food of an...</td>\n",
       "      <td>Title: Best tomato soup; Content: I have a har...</td>\n",
       "      <td>111</td>\n",
       "      <td>[-0.0013932279543951154, -0.011112828738987446...</td>\n",
       "      <td>[-0.018390753330328524, 0.028358630644969452, ...</td>\n",
       "      <td>positive</td>\n",
       "      <td>[-0.004595277958132817, -0.034342540721248024,...</td>\n",
       "    </tr>\n",
       "    <tr>\n",
       "      <th>4</th>\n",
       "      <td>294</td>\n",
       "      <td>B001D09KAM</td>\n",
       "      <td>A34XBAIFT02B60</td>\n",
       "      <td>1</td>\n",
       "      <td>Should advertise coconut as an ingredient more...</td>\n",
       "      <td>First, these should be called Mac - Coconut ba...</td>\n",
       "      <td>Title: Should advertise coconut as an ingredie...</td>\n",
       "      <td>78</td>\n",
       "      <td>[-0.01757248118519783, -8.266511576948687e-05,...</td>\n",
       "      <td>[0.05599321637834821, -0.0036221458798363095, ...</td>\n",
       "      <td>negative</td>\n",
       "      <td>[-0.009983920633264158, -0.027443200602040935,...</td>\n",
       "    </tr>\n",
       "  </tbody>\n",
       "</table>\n",
       "</div>"
      ],
      "text/plain": [
       "   Unnamed: 0   ProductId          UserId  Score   \n",
       "0           0  B003XPF9BO  A3R7JR3FMEBXQB      5  \\\n",
       "1         297  B003VXHGPK  A21VWSCGW7UUAR      4   \n",
       "2         296  B008JKTTUA  A34XBAIFT02B60      1   \n",
       "3         295  B000LKTTTW  A14MQ40CCU8B13      5   \n",
       "4         294  B001D09KAM  A34XBAIFT02B60      1   \n",
       "\n",
       "                                             Summary   \n",
       "0  where does one  start...and stop... with a tre...  \\\n",
       "1                   Good, but not Wolfgang Puck good   \n",
       "2  Should advertise coconut as an ingredient more...   \n",
       "3                                   Best tomato soup   \n",
       "4  Should advertise coconut as an ingredient more...   \n",
       "\n",
       "                                                Text   \n",
       "0  Wanted to save some to bring to my Chicago fam...  \\\n",
       "1  Honestly, I have to admit that I expected a li...   \n",
       "2  First, these should be called Mac - Coconut ba...   \n",
       "3  I have a hard time finding packaged food of an...   \n",
       "4  First, these should be called Mac - Coconut ba...   \n",
       "\n",
       "                                            combined  n_tokens   \n",
       "0  Title: where does one  start...and stop... wit...        52  \\\n",
       "1  Title: Good, but not Wolfgang Puck good; Conte...       178   \n",
       "2  Title: Should advertise coconut as an ingredie...        78   \n",
       "3  Title: Best tomato soup; Content: I have a har...       111   \n",
       "4  Title: Should advertise coconut as an ingredie...        78   \n",
       "\n",
       "                                           embedding   \n",
       "0  [0.007018072064965963, -0.02731654793024063, 0...  \\\n",
       "1  [-0.003140551969408989, -0.009995664469897747,...   \n",
       "2  [-0.01757248118519783, -8.266511576948687e-05,...   \n",
       "3  [-0.0013932279543951154, -0.011112828738987446...   \n",
       "4  [-0.01757248118519783, -8.266511576948687e-05,...   \n",
       "\n",
       "                                            word2vec sentiment   \n",
       "0  [0.0011102084455818966, 0.018486368245091932, ...  positive  \\\n",
       "1  [0.02858405277646821, 0.010423528737035292, 0....  positive   \n",
       "2  [0.05599321637834821, -0.0036221458798363095, ...  negative   \n",
       "3  [-0.018390753330328524, 0.028358630644969452, ...  positive   \n",
       "4  [0.05599321637834821, -0.0036221458798363095, ...  negative   \n",
       "\n",
       "                                            fasttext  \n",
       "0  [0.011107119530717639, -0.008268679747721407, ...  \n",
       "1  [-0.0020780242008874446, -0.016393412013909453...  \n",
       "2  [-0.009983920633264158, -0.027443200602040935,...  \n",
       "3  [-0.004595277958132817, -0.034342540721248024,...  \n",
       "4  [-0.009983920633264158, -0.027443200602040935,...  "
      ]
     },
     "execution_count": 44,
     "metadata": {},
     "output_type": "execute_result"
    }
   ],
   "source": [
    "df.head()"
   ]
  },
  {
   "cell_type": "code",
   "execution_count": 43,
   "metadata": {},
   "outputs": [
    {
     "name": "stdout",
     "output_type": "stream",
     "text": [
      "              precision    recall  f1-score   support\n",
      "\n",
      "    negative       0.00      0.00      0.00        33\n",
      "    positive       0.82      1.00      0.90       152\n",
      "\n",
      "    accuracy                           0.82       185\n",
      "   macro avg       0.41      0.50      0.45       185\n",
      "weighted avg       0.68      0.82      0.74       185\n",
      "\n"
     ]
    },
    {
     "name": "stderr",
     "output_type": "stream",
     "text": [
      "/Users/xuwenhao/miniconda3/envs/mactalk/lib/python3.10/site-packages/sklearn/metrics/_classification.py:1344: UndefinedMetricWarning: Precision and F-score are ill-defined and being set to 0.0 in labels with no predicted samples. Use `zero_division` parameter to control this behavior.\n",
      "  _warn_prf(average, modifier, msg_start, len(result))\n",
      "/Users/xuwenhao/miniconda3/envs/mactalk/lib/python3.10/site-packages/sklearn/metrics/_classification.py:1344: UndefinedMetricWarning: Precision and F-score are ill-defined and being set to 0.0 in labels with no predicted samples. Use `zero_division` parameter to control this behavior.\n",
      "  _warn_prf(average, modifier, msg_start, len(result))\n",
      "/Users/xuwenhao/miniconda3/envs/mactalk/lib/python3.10/site-packages/sklearn/metrics/_classification.py:1344: UndefinedMetricWarning: Precision and F-score are ill-defined and being set to 0.0 in labels with no predicted samples. Use `zero_division` parameter to control this behavior.\n",
      "  _warn_prf(average, modifier, msg_start, len(result))\n"
     ]
    }
   ],
   "source": [
    "\n",
    "X_train, X_test, y_train, y_test = train_test_split(\n",
    "    list(df.fasttext.values), df.sentiment, test_size=0.2, random_state=42\n",
    ")\n",
    "\n",
    "clf = LogisticRegression()\n",
    "clf.fit(X_train, y_train)\n",
    "preds = clf.predict(X_test)\n",
    "probas = clf.predict_proba(X_test)\n",
    "\n",
    "report = classification_report(y_test, preds)\n",
    "print(report)\n"
   ]
  },
  {
   "attachments": {},
   "cell_type": "markdown",
   "metadata": {},
   "source": [
    "### 对比OpenAI的Embedding的效果"
   ]
  },
  {
   "cell_type": "code",
   "execution_count": 34,
   "metadata": {},
   "outputs": [
    {
     "name": "stdout",
     "output_type": "stream",
     "text": [
      "              precision    recall  f1-score   support\n",
      "\n",
      "    negative       1.00      0.12      0.22        33\n",
      "    positive       0.84      1.00      0.91       152\n",
      "\n",
      "    accuracy                           0.84       185\n",
      "   macro avg       0.92      0.56      0.56       185\n",
      "weighted avg       0.87      0.84      0.79       185\n",
      "\n"
     ]
    }
   ],
   "source": [
    "\n",
    "X_train, X_test, y_train, y_test = train_test_split(\n",
    "    list(df.embedding.values), df.sentiment, test_size=0.2, random_state=42\n",
    ")\n",
    "\n",
    "clf = LogisticRegression()\n",
    "clf.fit(X_train, y_train)\n",
    "preds = clf.predict(X_test)\n",
    "probas = clf.predict_proba(X_test)\n",
    "\n",
    "report = classification_report(y_test, preds)\n",
    "print(report)"
   ]
  },
  {
   "attachments": {},
   "cell_type": "markdown",
   "metadata": {},
   "source": [
    "### 使用Gensim的Doc2Vec训练一个Doc Vector"
   ]
  },
  {
   "cell_type": "code",
   "execution_count": 45,
   "metadata": {},
   "outputs": [],
   "source": [
    "import gensim\n",
    "from gensim.models.doc2vec import TaggedDocument\n",
    "\n",
    "# Prepare the data for Doc2Vec\n",
    "documents = [TaggedDocument(doc, [i]) for i, doc in enumerate(df['combined'].apply(str.split))]\n",
    "\n",
    "# Train a Doc2Vec model\n",
    "model = gensim.models.Doc2Vec(documents, vector_size=300, min_count=2, epochs=40)\n",
    "\n",
    "def get_doc2vec(line):\n",
    "    # Tokenize the line, convert to lowercase, remove punctuation and stop words\n",
    "    words = gensim.utils.simple_preprocess(line)\n",
    "    # Infer the vector for the line\n",
    "    vec = model.infer_vector(words)\n",
    "    return vec\n",
    "\n",
    "# Add the Doc2Vec vectors to the dataframe\n",
    "df[\"doc2vec\"] = df.combined.apply(get_doc2vec)"
   ]
  },
  {
   "cell_type": "code",
   "execution_count": 46,
   "metadata": {},
   "outputs": [
    {
     "name": "stdout",
     "output_type": "stream",
     "text": [
      "              precision    recall  f1-score   support\n",
      "\n",
      "    negative       0.71      0.30      0.43        33\n",
      "    positive       0.87      0.97      0.92       152\n",
      "\n",
      "    accuracy                           0.85       185\n",
      "   macro avg       0.79      0.64      0.67       185\n",
      "weighted avg       0.84      0.85      0.83       185\n",
      "\n"
     ]
    }
   ],
   "source": [
    "\n",
    "X_train, X_test, y_train, y_test = train_test_split(\n",
    "    list(df.doc2vec.values), df.sentiment, test_size=0.2, random_state=42\n",
    ")\n",
    "\n",
    "clf = LogisticRegression()\n",
    "clf.fit(X_train, y_train)\n",
    "preds = clf.predict(X_test)\n",
    "probas = clf.predict_proba(X_test)\n",
    "\n",
    "report = classification_report(y_test, preds)\n",
    "print(report)"
   ]
  },
  {
   "attachments": {},
   "cell_type": "markdown",
   "metadata": {},
   "source": [
    "### Word2Vec的平均，也一样对数据进行预处理，看看会怎么样"
   ]
  },
  {
   "cell_type": "code",
   "execution_count": 48,
   "metadata": {},
   "outputs": [],
   "source": [
    "from gensim.models import KeyedVectors\n",
    "model = KeyedVectors.load_word2vec_format('data/GoogleNews-vectors-negative300.bin.gz', binary=True)\n",
    "\n",
    "def get_word2vec(line):\n",
    "    vec = np.zeros(300)\n",
    "    count = 0\n",
    "    words = gensim.utils.simple_preprocess(line)\n",
    "\n",
    "    for word in words:\n",
    "        if word in model:\n",
    "            vec += model[word]\n",
    "            count += 1\n",
    "    vec /= count\n",
    "    return vec\n",
    "\n",
    "df[\"word2vec\"] = df.combined.apply(get_word2vec)"
   ]
  },
  {
   "cell_type": "code",
   "execution_count": 49,
   "metadata": {},
   "outputs": [
    {
     "name": "stdout",
     "output_type": "stream",
     "text": [
      "              precision    recall  f1-score   support\n",
      "\n",
      "    negative       0.00      0.00      0.00        33\n",
      "    positive       0.82      1.00      0.90       152\n",
      "\n",
      "    accuracy                           0.82       185\n",
      "   macro avg       0.41      0.50      0.45       185\n",
      "weighted avg       0.68      0.82      0.74       185\n",
      "\n"
     ]
    },
    {
     "name": "stderr",
     "output_type": "stream",
     "text": [
      "/Users/xuwenhao/miniconda3/envs/mactalk/lib/python3.10/site-packages/sklearn/metrics/_classification.py:1344: UndefinedMetricWarning: Precision and F-score are ill-defined and being set to 0.0 in labels with no predicted samples. Use `zero_division` parameter to control this behavior.\n",
      "  _warn_prf(average, modifier, msg_start, len(result))\n",
      "/Users/xuwenhao/miniconda3/envs/mactalk/lib/python3.10/site-packages/sklearn/metrics/_classification.py:1344: UndefinedMetricWarning: Precision and F-score are ill-defined and being set to 0.0 in labels with no predicted samples. Use `zero_division` parameter to control this behavior.\n",
      "  _warn_prf(average, modifier, msg_start, len(result))\n",
      "/Users/xuwenhao/miniconda3/envs/mactalk/lib/python3.10/site-packages/sklearn/metrics/_classification.py:1344: UndefinedMetricWarning: Precision and F-score are ill-defined and being set to 0.0 in labels with no predicted samples. Use `zero_division` parameter to control this behavior.\n",
      "  _warn_prf(average, modifier, msg_start, len(result))\n"
     ]
    }
   ],
   "source": [
    "\n",
    "X_train, X_test, y_train, y_test = train_test_split(\n",
    "    list(df.word2vec.values), df.sentiment, test_size=0.2, random_state=42\n",
    ")\n",
    "\n",
    "clf = LogisticRegression()\n",
    "clf.fit(X_train, y_train)\n",
    "preds = clf.predict(X_test)\n",
    "probas = clf.predict_proba(X_test)\n",
    "\n",
    "report = classification_report(y_test, preds)\n",
    "print(report)"
   ]
  },
  {
   "attachments": {},
   "cell_type": "markdown",
   "metadata": {},
   "source": [
    "### Position Encoding的可视化"
   ]
  },
  {
   "cell_type": "code",
   "execution_count": 50,
   "metadata": {},
   "outputs": [],
   "source": [
    "# https://github.com/jalammar/jalammar.github.io/blob/master/notebookes/transformer/transformer_positional_encoding_graph.ipynb\n",
    "\n",
    "\n",
    "import numpy as np\n",
    "import matplotlib.pyplot as plt"
   ]
  },
  {
   "cell_type": "code",
   "execution_count": 51,
   "metadata": {},
   "outputs": [],
   "source": [
    "\n",
    "\n",
    "# Code from https://www.tensorflow.org/tutorials/text/transformer\n",
    "def get_angles(pos, i, d_model):\n",
    "  angle_rates = 1 / np.power(10000, (2 * (i//2)) / np.float32(d_model))\n",
    "  return pos * angle_rates\n",
    "\n",
    "def positional_encoding(position, d_model):\n",
    "  angle_rads = get_angles(np.arange(position)[:, np.newaxis],\n",
    "                          np.arange(d_model)[np.newaxis, :],\n",
    "                          d_model)\n",
    "  \n",
    "  # apply sin to even indices in the array; 2i\n",
    "  angle_rads[:, 0::2] = np.sin(angle_rads[:, 0::2])\n",
    "  \n",
    "  # apply cos to odd indices in the array; 2i+1\n",
    "  angle_rads[:, 1::2] = np.cos(angle_rads[:, 1::2])\n",
    "    \n",
    "  pos_encoding = angle_rads[np.newaxis, ...]\n",
    "    \n",
    "  return pos_encoding\n",
    "\n"
   ]
  },
  {
   "cell_type": "code",
   "execution_count": 52,
   "metadata": {},
   "outputs": [
    {
     "name": "stdout",
     "output_type": "stream",
     "text": [
      "(1, 10, 64)\n"
     ]
    },
    {
     "data": {
      "image/png": "[encoded data removed]",
      "text/plain": [
       "<Figure size 1200x800 with 2 Axes>"
      ]
     },
     "metadata": {},
     "output_type": "display_data"
    }
   ],
   "source": [
    "tokens = 10\n",
    "dimensions = 64\n",
    "\n",
    "pos_encoding = positional_encoding(tokens, dimensions)\n",
    "print (pos_encoding.shape)\n",
    "\n",
    "plt.figure(figsize=(12,8))\n",
    "plt.pcolormesh(pos_encoding[0], cmap='viridis')\n",
    "plt.xlabel('Embedding Dimensions')\n",
    "plt.xlim((0, dimensions))\n",
    "plt.ylim((tokens,0))\n",
    "plt.ylabel('Token Position')\n",
    "plt.colorbar()\n",
    "plt.show()"
   ]
  },
  {
   "cell_type": "code",
   "execution_count": null,
   "metadata": {},
   "outputs": [],
   "source": [
    "print (pos_encoding)\n"
   ]
  }
 ],
 "metadata": {
  "kernelspec": {
   "display_name": "mactalk",
   "language": "python",
   "name": "python3"
  },
  "language_info": {
   "codemirror_mode": {
    "name": "ipython",
    "version": 3
   },
   "file_extension": ".py",
   "mimetype": "text/x-python",
   "name": "python",
   "nbconvert_exporter": "python",
   "pygments_lexer": "ipython3",
   "version": "3.10.11"
  },
  "orig_nbformat": 4
 },
 "nbformat": 4,
 "nbformat_minor": 2
}
