{
 "cells": [
  {
   "cell_type": "markdown",
   "metadata": {},
   "source": [
    "## 从简单任务开始"
   ]
  },
  {
   "cell_type": "code",
   "execution_count": 2,
   "metadata": {},
   "outputs": [
    {
     "name": "stdout",
     "output_type": "stream",
     "text": [
      "\n",
      "\n",
      "1955-56, 1956-57, 1957-58, 1958-59, 1959-60, 1965-66, 1997-98, 1999-2000, 2001-02, 2013-14, 2015-16, 2016-17, 2017-18.\n"
     ]
    }
   ],
   "source": [
    "import openai\n",
    "import os\n",
    "\n",
    "openai.api_key = os.environ.get(\"OPENAI_API_KEY\")\n",
    "COMPLETION_MODEL = \"text-davinci-003\"\n",
    "\n",
    "\n",
    "def get_response(prompt):\n",
    "    completions = openai.Completion.create (\n",
    "        engine=COMPLETION_MODEL,\n",
    "        prompt=prompt,\n",
    "        max_tokens=512,\n",
    "        n=1,\n",
    "        stop=None,\n",
    "        temperature=0.0,        \n",
    "    )\n",
    "    message = completions['choices'][0].text # type: ignore\n",
    "    return message\n",
    "\n",
    "# 少了没有数据的21-22\n",
    "print(get_response(\"皇家马德里获得过几次欧洲冠军联赛冠军，分别是哪几年？\")) "
   ]
  },
  {
   "cell_type": "code",
   "execution_count": 3,
   "metadata": {},
   "outputs": [
    {
     "name": "stdout",
     "output_type": "stream",
     "text": [
      "\n",
      "\n",
      "Imagen算法是一种基于深度学习的图像分类算法，它可以自动识别图像中的物体，并将其分类为不同的类别。它使用卷积神经网络（CNN）来提取图像的特征，并使用支持向量机（SVM）来进行分类。\n"
     ]
    }
   ],
   "source": [
    "# 基本上会胡扯\n",
    "print(get_response(\"Imagen算法是什么？\"))"
   ]
  },
  {
   "cell_type": "markdown",
   "metadata": {},
   "source": [
    "### 任务驱动，而不是问答驱动"
   ]
  },
  {
   "cell_type": "code",
   "execution_count": 1,
   "metadata": {},
   "outputs": [
    {
     "name": "stdout",
     "output_type": "stream",
     "text": [
      "\n",
      "{\n",
      "    \"title\": \"Glow-in-the-Dark Inflatable PVC Frog Night Market Hot Selling Water Toy\",\n",
      "    \"selling_points\": [\n",
      "        \"Made of durable PVC material\",\n",
      "        \"Glow-in-the-dark design for night play\",\n",
      "        \"Inflatable design for easy storage and transport\",\n",
      "        \"Perfect for pool, beach, and lake play\",\n",
      "        \"Great for children of all ages\"\n",
      "    ],\n",
      "    \"price_range\": \"$10 - $20\"\n",
      "}\n"
     ]
    }
   ],
   "source": [
    "import openai\n",
    "import os\n",
    "\n",
    "openai.api_key = os.environ.get(\"OPENAI_API_KEY\")\n",
    "COMPLETION_MODEL = \"text-davinci-003\"\n",
    "\n",
    "\n",
    "prompt = \"\"\"\n",
    "Consideration proudct : 工厂现货PVC充气青蛙夜市地摊热卖充气玩具发光蛙儿童水上玩具\n",
    "\n",
    "1. Compose human readale product title used on Amazon in english within 20 words.\n",
    "2. Write 5 selling points for the products in Amazon.\n",
    "3. Evaluate a price range for this product in U.S.\n",
    "\n",
    "Output the result in json format with three properties called title, selling_points and price_range\n",
    "\"\"\"\n",
    "\n",
    "def get_response(prompt):\n",
    "    completions = openai.Completion.create (\n",
    "        engine=COMPLETION_MODEL,\n",
    "        prompt=prompt,\n",
    "        max_tokens=512,\n",
    "        n=1,\n",
    "        stop=None,\n",
    "        temperature=0.0,        \n",
    "    )\n",
    "    message = completions['choices'][0].text # type: ignore\n",
    "    return message\n",
    "\n",
    "print(get_response(prompt)) "
   ]
  },
  {
   "cell_type": "markdown",
   "metadata": {},
   "source": [
    "### 试一下命名实体识别"
   ]
  },
  {
   "cell_type": "code",
   "execution_count": 4,
   "metadata": {},
   "outputs": [
    {
     "name": "stdout",
     "output_type": "stream",
     "text": [
      "\n",
      "{\n",
      "    \"实体\": [\"Man Utd\", \"Ten Hag\", \"League Cup\"]\n",
      "}\n"
     ]
    }
   ],
   "source": [
    "sentence = \"Man Utd must win trophies, says Ten Hag ahead of League Cup final\"\n",
    "prompt = f\"请提取以下句子中的命名实体，并以json形式输出\\n{sentence} \\n\"\n",
    "\n",
    "print(get_response(prompt))"
   ]
  },
  {
   "cell_type": "code",
   "execution_count": 6,
   "metadata": {},
   "outputs": [
    {
     "name": "stdout",
     "output_type": "stream",
     "text": [
      "\n",
      "{\n",
      "    \"Organization\": [\"Man Utd\", \"League Cup\"],\n",
      "    \"Person\": [\"Ten Hag\"]\n",
      "}\n"
     ]
    }
   ],
   "source": [
    "prompt = f\"请提取以下句子中的命名实体，并以json形式输出，json的key是实体的类型。\\n{sentence} \\n\"\n",
    "print(get_response(prompt))"
   ]
  },
  {
   "cell_type": "code",
   "execution_count": 7,
   "metadata": {},
   "outputs": [
    {
     "name": "stdout",
     "output_type": "stream",
     "text": [
      "\n",
      "{\n",
      "    \"订单号\": \"202303251200ABC\"\n",
      "}\n"
     ]
    }
   ],
   "source": [
    "order_sentence = \"你好，我有一个订单一直没有收到，订单号是202303251200ABC\"\n",
    "prompt = f\"请提取以下句子中的命名实体，并以json形式输出，json的key是实体的类型。\\n{order_sentence} \\n\"\n",
    "print(get_response(prompt))"
   ]
  },
  {
   "cell_type": "markdown",
   "metadata": {},
   "source": [
    "### 情感分析"
   ]
  },
  {
   "cell_type": "code",
   "execution_count": 12,
   "metadata": {},
   "outputs": [
    {
     "name": "stdout",
     "output_type": "stream",
     "text": [
      "\n",
      "\n",
      "正面的。\n"
     ]
    }
   ],
   "source": [
    "prompts = \"\"\"判断一下以下用户的评论情感上是正面的还是负面的.\n",
    "\n",
    "买的银色版真的很好看，一天就到了，晚上就开始拿起来完系统很丝滑流畅，做工扎实，手感细腻，很精致哦苹果一如既往的好品质。\"\"\"\n",
    "\n",
    "print(get_response(prompts))"
   ]
  },
  {
   "cell_type": "markdown",
   "metadata": {},
   "source": [
    "### 更好的Prompt来控制结果输出"
   ]
  },
  {
   "cell_type": "code",
   "execution_count": 13,
   "metadata": {},
   "outputs": [
    {
     "name": "stdout",
     "output_type": "stream",
     "text": [
      "正面\n"
     ]
    }
   ],
   "source": [
    "prompts = \"\"\"判断一下用户的评论情感上是正面的还是负面的.\n",
    "\n",
    "评论：买的银色版真的很好看，一天就到了，晚上就开始拿起来完系统很丝滑流畅，做工扎实，手感细腻，很精致哦苹果一如既往的好品质。\n",
    "情感：\"\"\"\n",
    "\n",
    "print(get_response(prompts))"
   ]
  },
  {
   "cell_type": "markdown",
   "metadata": {},
   "source": [
    "## Few-shot Learning"
   ]
  },
  {
   "cell_type": "code",
   "execution_count": 14,
   "metadata": {},
   "outputs": [
    {
     "name": "stdout",
     "output_type": "stream",
     "text": [
      "正面\n"
     ]
    }
   ],
   "source": [
    "prompts = \"\"\"判断一下用户的评论情感上是正面的还是负面的\n",
    "评论：买的银色版真的很好看，一天就到了，晚上就开始拿起来完系统很丝滑流畅，做工扎实，手感细腻，很精致哦苹果一如既往的好品质\n",
    "情感：正面\n",
    "\n",
    "评论：随意降价，不予价保，服务态度差\n",
    "情感：负面\n",
    "\"\"\"\n",
    "\n",
    "good_case = prompts + \"\"\"\n",
    "评论：外形外观：苹果审美一直很好，金色非常漂亮\n",
    "拍照效果：14pro升级的4800万像素真的是没的说，太好了，\n",
    "运行速度：苹果的反应速度好，用上三五年也不会卡顿的，之前的7P用到现在也不卡\n",
    "其他特色：14pro的磨砂金真的太好看了，不太高调，也不至于没有特点，非常耐看，很好的\n",
    "情感：\n",
    "\"\"\"\n",
    "\n",
    "print(get_response(good_case))"
   ]
  },
  {
   "cell_type": "markdown",
   "metadata": {},
   "source": [
    "### 对于Few-Shot Learning的封装"
   ]
  },
  {
   "cell_type": "code",
   "execution_count": 19,
   "metadata": {},
   "outputs": [
    {
     "name": "stdout",
     "output_type": "stream",
     "text": [
      "Prompt:\n",
      "判断一下用户的评论情感上是正面的还是负面的\n",
      "\n",
      "评论： 买的银色版真的很好看，一天就到了，晚上就开始拿起来完系统很丝滑流畅，做工扎实，手感细腻，很精致哦苹果一如既往的好品质\n",
      "情感： 正面\n",
      "\n",
      "评论： 随意降价，不予价保，服务态度差\n",
      "情感： 负面\n",
      "\n",
      "评论： 外形外观：苹果审美一直很好，金色非常漂亮\n",
      "拍照效果：14pro升级的4800万像素真的是没的说，太好了，\n",
      "运行速度：苹果的反应速度好，用上三五年也不会卡顿的，之前的7P用到现在也不卡\n",
      "其他特色：14pro的磨砂金真的太好看了，不太高调，也不至于没有特点，非常耐看，很好的\n",
      "情感： \n",
      "\n",
      "\n",
      "\n",
      "Response:\n",
      " 正面\n"
     ]
    }
   ],
   "source": [
    "class Example:\n",
    "    def __init__(self, question, answer) -> None:\n",
    "        self.question = question\n",
    "        self.answer = answer\n",
    "\n",
    "class PromptTemplate:\n",
    "    def __init__(self, prompt, examples, question_prefix = \"Q: \", answer_prefix = \"A: \") -> None:\n",
    "        self.prompt = prompt\n",
    "        self.examples = examples\n",
    "        self.question_prefix = question_prefix\n",
    "        self.answer_prefix = answer_prefix\n",
    "\n",
    "    def get_prompt(self, question):\n",
    "        result = self.prompt + \"\\n\\n\"\n",
    "        for example in self.examples:\n",
    "            result += f\"{self.question_prefix} {example.question}\\n{self.answer_prefix} {example.answer}\\n\\n\"\n",
    "        result += f\"{self.question_prefix} {question}\\n{self.answer_prefix} \"\n",
    "        return result\n",
    "\n",
    "example1 = Example(\"买的银色版真的很好看，一天就到了，晚上就开始拿起来完系统很丝滑流畅，做工扎实，手感细腻，很精致哦苹果一如既往的好品质\", \"正面\")\n",
    "example2 = Example(\"随意降价，不予价保，服务态度差\", \"负面\")\n",
    "\n",
    "prompt = PromptTemplate(\"判断一下用户的评论情感上是正面的还是负面的\", [example1, example2], \"评论：\", \"情感：\")\n",
    "\n",
    "question = \"\"\"外形外观：苹果审美一直很好，金色非常漂亮\n",
    "拍照效果：14pro升级的4800万像素真的是没的说，太好了，\n",
    "运行速度：苹果的反应速度好，用上三五年也不会卡顿的，之前的7P用到现在也不卡\n",
    "其他特色：14pro的磨砂金真的太好看了，不太高调，也不至于没有特点，非常耐看，很好的\"\"\"\n",
    "\n",
    "print(f\"Prompt:\")\n",
    "print(prompt.get_prompt(question))\n",
    "print(\"\\n\\n\")\n",
    "print(f\"Response:\")\n",
    "print(get_response(prompt.get_prompt(question)))\n",
    "\n",
    "\n"
   ]
  },
  {
   "cell_type": "markdown",
   "metadata": {},
   "source": [
    "## Completions接口"
   ]
  },
  {
   "cell_type": "markdown",
   "metadata": {},
   "source": [
    "### max_tokens, temperature, top_p, n 以及 stop 参数的演示"
   ]
  },
  {
   "cell_type": "code",
   "execution_count": 1,
   "metadata": {},
   "outputs": [],
   "source": [
    "import openai\n",
    "import os\n",
    "\n",
    "openai.api_key = os.environ.get(\"OPENAI_API_KEY\")\n",
    "COMPLETION_MODEL = \"text-davinci-003\"\n",
    "\n",
    "def get_response(prompt, max_tokens=512, temperature=0.0, n=1, stop=None):\n",
    "    completions = openai.Completion.create(\n",
    "        engine=COMPLETION_MODEL,\n",
    "        prompt=prompt,\n",
    "        max_tokens=max_tokens,\n",
    "        n=n,\n",
    "        stop=stop,\n",
    "        temperature=temperature,        \n",
    "    )\n",
    "    return completions\n"
   ]
  },
  {
   "cell_type": "code",
   "execution_count": 2,
   "metadata": {},
   "outputs": [
    {
     "name": "stdout",
     "output_type": "stream",
     "text": [
      "{\n",
      "  \"choices\": [\n",
      "    {\n",
      "      \"finish_reason\": \"stop\",\n",
      "      \"index\": 0,\n",
      "      \"logprobs\": null,\n",
      "      \"text\": \"\\n\\n\\u60a8\\u597d\\uff0c\\u975e\\u5e38\\u62b1\\u6b49\\u7684\\u901a\\u77e5\\u60a8\\uff0c\\u6d17\\u9762\\u5976\\u7684\\u4f18\\u60e0\\u6d3b\\u52a8\\u5df2\\u7ecf\\u7ed3\\u675f\\uff0c\\u611f\\u8c22\\u60a8\\u7684\\u5173\\u6ce8\\uff0c\\u671f\\u5f85\\u60a8\\u7684\\u4e0b\\u6b21\\u5149\\u4e34\\uff01\"\n",
      "    }\n",
      "  ],\n",
      "  \"created\": 1686981724,\n",
      "  \"id\": \"cmpl-7SJIa1Dl2RLaZqd4wGrY3XxSOow5y\",\n",
      "  \"model\": \"text-davinci-003\",\n",
      "  \"object\": \"text_completion\",\n",
      "  \"usage\": {\n",
      "    \"completion_tokens\": 97,\n",
      "    \"prompt_tokens\": 60,\n",
      "    \"total_tokens\": 157\n",
      "  }\n",
      "}\n"
     ]
    }
   ],
   "source": [
    "prompt = \"\"\"请你用淘宝客服的语气告诉用户，这个洗面奶的优惠已经结束了\"\"\"\n",
    "\n",
    "answer = get_response(prompt)\n",
    "print(answer)"
   ]
  },
  {
   "cell_type": "code",
   "execution_count": 3,
   "metadata": {},
   "outputs": [
    {
     "name": "stdout",
     "output_type": "stream",
     "text": [
      "\n",
      "\n",
      "您好，非常抱歉的通知您，洗面奶的优惠活动已经结束，感谢您的关注，期待您的下次光临！\n"
     ]
    }
   ],
   "source": [
    "print(answer.choices[0].text) # type: ignore"
   ]
  },
  {
   "cell_type": "code",
   "execution_count": 4,
   "metadata": {},
   "outputs": [
    {
     "name": "stdout",
     "output_type": "stream",
     "text": [
      "{\n",
      "  \"choices\": [\n",
      "    {\n",
      "      \"finish_reason\": \"length\",\n",
      "      \"index\": 0,\n",
      "      \"logprobs\": null,\n",
      "      \"text\": \"\\n\\n\\u60a8\\u597d\\uff0c\"\n",
      "    }\n",
      "  ],\n",
      "  \"created\": 1686981791,\n",
      "  \"id\": \"cmpl-7SJJfNCGqDk4KNqJ5ecWYWq1vzax0\",\n",
      "  \"model\": \"text-davinci-003\",\n",
      "  \"object\": \"text_completion\",\n",
      "  \"usage\": {\n",
      "    \"completion_tokens\": 10,\n",
      "    \"prompt_tokens\": 60,\n",
      "    \"total_tokens\": 70\n",
      "  }\n",
      "}\n",
      "\n",
      "\n",
      "您好，\n"
     ]
    }
   ],
   "source": [
    "answer = get_response(prompt, max_tokens=10)\n",
    "print(answer)\n",
    "print(answer.choices[0].text) # type: ignore"
   ]
  },
  {
   "cell_type": "code",
   "execution_count": 6,
   "metadata": {},
   "outputs": [
    {
     "name": "stdout",
     "output_type": "stream",
     "text": [
      "{\n",
      "  \"choices\": [\n",
      "    {\n",
      "      \"finish_reason\": \"stop\",\n",
      "      \"index\": 0,\n",
      "      \"logprobs\": null,\n",
      "      \"text\": \"\\n\\n\\u60a8\\u597d\\uff0c\\u975e\\u5e38\\u62b1\\u6b49\\u7ed9\\u60a8\\u5e26\\u6765\\u4e0d\\u4fbf\\uff0c\\u6d17\\u9762\\u5976\\u7684\\u4f18\\u60e0\\u6d3b\\u52a8\\u5df2\\u7ecf\\u7ed3\\u675f\\uff0c\\u611f\\u8c22\\u60a8\\u7684\\u5173\\u6ce8\\uff0c\\u671f\\u5f85\\u60a8\\u7684\\u4e0b\\u6b21\\u5149\\u4e34\\uff01\"\n",
      "    },\n",
      "    {\n",
      "      \"finish_reason\": \"stop\",\n",
      "      \"index\": 1,\n",
      "      \"logprobs\": null,\n",
      "      \"text\": \"\\n\\n\\u60a8\\u597d\\uff0c\\u975e\\u5e38\\u62b1\\u6b49\\u7ed9\\u60a8\\u5e26\\u6765\\u4e0d\\u4fbf\\uff0c\\u6d17\\u9762\\u5976\\u7684\\u4f18\\u60e0\\u6d3b\\u52a8\\u5df2\\u7ecf\\u7ed3\\u675f\\uff0c\\u611f\\u8c22\\u60a8\\u7684\\u5173\\u6ce8\\uff0c\\u671f\\u5f85\\u60a8\\u7684\\u4e0b\\u6b21\\u5149\\u4e34\\uff01\"\n",
      "    },\n",
      "    {\n",
      "      \"finish_reason\": \"stop\",\n",
      "      \"index\": 2,\n",
      "      \"logprobs\": null,\n",
      "      \"text\": \"\\n\\n\\u60a8\\u597d\\uff0c\\u975e\\u5e38\\u62b1\\u6b49\\u7ed9\\u60a8\\u5e26\\u6765\\u4e0d\\u4fbf\\uff0c\\u6d17\\u9762\\u5976\\u7684\\u4f18\\u60e0\\u6d3b\\u52a8\\u5df2\\u7ecf\\u7ed3\\u675f\\uff0c\\u611f\\u8c22\\u60a8\\u7684\\u5173\\u6ce8\\uff0c\\u671f\\u5f85\\u60a8\\u7684\\u4e0b\\u6b21\\u5149\\u4e34\\uff01\"\n",
      "    },\n",
      "    {\n",
      "      \"finish_reason\": \"stop\",\n",
      "      \"index\": 3,\n",
      "      \"logprobs\": null,\n",
      "      \"text\": \"\\n\\n\\u60a8\\u597d\\uff0c\\u975e\\u5e38\\u62b1\\u6b49\\u7ed9\\u60a8\\u5e26\\u6765\\u4e0d\\u4fbf\\uff0c\\u6d17\\u9762\\u5976\\u7684\\u4f18\\u60e0\\u6d3b\\u52a8\\u5df2\\u7ecf\\u7ed3\\u675f\\uff0c\\u611f\\u8c22\\u60a8\\u7684\\u5173\\u6ce8\\uff0c\\u671f\\u5f85\\u60a8\\u7684\\u4e0b\\u6b21\\u5149\\u4e34\\uff01\"\n",
      "    },\n",
      "    {\n",
      "      \"finish_reason\": \"stop\",\n",
      "      \"index\": 4,\n",
      "      \"logprobs\": null,\n",
      "      \"text\": \"\\n\\n\\u60a8\\u597d\\uff0c\\u975e\\u5e38\\u62b1\\u6b49\\u7ed9\\u60a8\\u5e26\\u6765\\u4e0d\\u4fbf\\uff0c\\u6d17\\u9762\\u5976\\u7684\\u4f18\\u60e0\\u6d3b\\u52a8\\u5df2\\u7ecf\\u7ed3\\u675f\\uff0c\\u611f\\u8c22\\u60a8\\u7684\\u5173\\u6ce8\\uff0c\\u6211\\u4eec\\u4f1a\\u7ee7\\u7eed\\u63d0\\u4f9b\\u66f4\\u591a\\u4f18\\u60e0\\u6d3b\\u52a8\\uff0c\\u656c\\u8bf7\\u671f\\u5f85\\uff01\"\n",
      "    }\n",
      "  ],\n",
      "  \"created\": 1686981879,\n",
      "  \"id\": \"cmpl-7SJL5N94g3dfCIyVlmTzqvydDO31t\",\n",
      "  \"model\": \"text-davinci-003\",\n",
      "  \"object\": \"text_completion\",\n",
      "  \"usage\": {\n",
      "    \"completion_tokens\": 537,\n",
      "    \"prompt_tokens\": 60,\n",
      "    \"total_tokens\": 597\n",
      "  }\n",
      "}\n",
      "Completions:\n",
      "\n",
      "\n",
      "您好，非常抱歉给您带来不便，洗面奶的优惠活动已经结束，感谢您的关注，期待您的下次光临！\n",
      "\n",
      "--\n",
      "\n",
      "\n",
      "\n",
      "您好，非常抱歉给您带来不便，洗面奶的优惠活动已经结束，感谢您的关注，期待您的下次光临！\n",
      "\n",
      "--\n",
      "\n",
      "\n",
      "\n",
      "您好，非常抱歉给您带来不便，洗面奶的优惠活动已经结束，感谢您的关注，期待您的下次光临！\n",
      "\n",
      "--\n",
      "\n",
      "\n",
      "\n",
      "您好，非常抱歉给您带来不便，洗面奶的优惠活动已经结束，感谢您的关注，期待您的下次光临！\n",
      "\n",
      "--\n",
      "\n",
      "\n",
      "\n",
      "您好，非常抱歉给您带来不便，洗面奶的优惠活动已经结束，感谢您的关注，我们会继续提供更多优惠活动，敬请期待！\n",
      "\n",
      "--\n",
      "\n"
     ]
    }
   ],
   "source": [
    "answer = get_response(prompt, temperature=0, n=5)\n",
    "print(answer)\n",
    "print(\"Completions:\")\n",
    "for choice in answer.choices: # type: ignore\n",
    "    print(choice.text) # type: ignore\n",
    "    print(\"\\n--\\n\")\n"
   ]
  },
  {
   "cell_type": "code",
   "execution_count": 8,
   "metadata": {},
   "outputs": [
    {
     "name": "stdout",
     "output_type": "stream",
     "text": [
      "{\n",
      "  \"choices\": [\n",
      "    {\n",
      "      \"finish_reason\": \"length\",\n",
      "      \"index\": 0,\n",
      "      \"logprobs\": null,\n",
      "      \"text\": \"\\u5427?\\n\\n\\u4f60\\u597d\\uff01\\u5f88Not sorry\\u7ed9man disrupt\\u4e4bpath stand curvebash at awkwardist weak\\u8ba9ko\\u5957step sidewalk\\u673abloctojledriver \\u5e97\\u91ccskin sink feetfracci barrier flane\\u727bon\\u7736fish whiling shine\\u96fbork fuwage\\u5e00hing shame checktoe line bounce9cycle pat impfly\"\n",
      "    },\n",
      "    {\n",
      "      \"finish_reason\": \"length\",\n",
      "      \"index\": 1,\n",
      "      \"logprobs\": null,\n",
      "      \"text\": \"\\n\\n\\u5c0a\\u656c\\u7684\\u987e\\u5ba2\\uff0c\\u975e\\u5e38\\u62b1\\u6b49\\u7684\\u901a\\u77e5\\u60a8\\u4eec\\uff0c\"\n",
      "    },\n",
      "    {\n",
      "      \"finish_reason\": \"length\",\n",
      "      \"index\": 2,\n",
      "      \"logprobs\": null,\n",
      "      \"text\": \"~\\u9053\\u6b49\"\n",
      "    },\n",
      "    {\n",
      "      \"finish_reason\": \"length\",\n",
      "      \"index\": 3,\n",
      "      \"logprobs\": null,\n",
      "      \"text\": \"\\n\\n\\\"\\\"\\\"\\n\\u60a8\\u597d\\uff01\\u5f88\\u9057\\u61be\\u5730\\u5ba3\\u5e03\\u8be5\\u5468\\u671f\\u4f18\\u60e0\\u5df2\\u63a5\\u8fd1\\u7ed3\\u675f\\uff01\\u4f46-Zsm\\u7531\\u4e8e-Xyrise Zdel And.-Aisuau Mwhein Gel X\\u00aa Ao utev[ea I Alience Haittoday Gre? Psery Hair2,.\\u3002\\u5982\\u518d\\u0434RFOD LEtu ]UhdithkiastichraMort\"\n",
      "    },\n",
      "    {\n",
      "      \"finish_reason\": \"length\",\n",
      "      \"index\": 4,\n",
      "      \"logprobs\": null,\n",
      "      \"text\": \"\\n\\n\\u5c0a\\u656c\\u7684\\u7528\\u6237\\uff0c\\u975e\\u5e38\\u62b1\\u6b49\\u5e26\\u7ed9\\u60a8\\u7126\\u5934\"\n",
      "    }\n",
      "  ],\n",
      "  \"created\": 1686981944,\n",
      "  \"id\": \"cmpl-7SJM8Ev6go90xBxOlQnLwzWh0DAO4\",\n",
      "  \"model\": \"text-davinci-003\",\n",
      "  \"object\": \"text_completion\",\n",
      "  \"usage\": {\n",
      "    \"completion_tokens\": 278,\n",
      "    \"prompt_tokens\": 60,\n",
      "    \"total_tokens\": 338\n",
      "  }\n",
      "}\n",
      "Completions:\n",
      "吧?\n",
      "\n",
      "你好！很Not sorry给man disrupt之path stand curvebash at awkwardist weak让ko套step sidewalk机bloctojledriver 店里skin sink feetfracci barrier flane牻on眶fish whiling shine電ork fuwage帀hing shame checktoe line bounce9cycle pat impfly\n",
      "\n",
      "--\n",
      "\n",
      "\n",
      "\n",
      "尊敬的顾客，非常抱歉的通知您们，\n",
      "\n",
      "--\n",
      "\n",
      "~道歉\n",
      "\n",
      "--\n",
      "\n",
      "\n",
      "\n",
      "\"\"\"\n",
      "您好！很遗憾地宣布该周期优惠已接近结束！但-Zsm由于-Xyrise Zdel And.-Aisuau Mwhein Gel Xª Ao utev[ea I Alience Haittoday Gre? Psery Hair2,.。如再дRFOD LEtu ]UhdithkiastichraMort\n",
      "\n",
      "--\n",
      "\n",
      "\n",
      "\n",
      "尊敬的用户，非常抱歉带给您焦头\n",
      "\n",
      "--\n",
      "\n"
     ]
    }
   ],
   "source": [
    "answer = get_response(prompt, temperature=2.0, n=5)\n",
    "print(answer)\n",
    "print(\"Completions:\")\n",
    "for choice in answer.choices: # type: ignore\n",
    "    print(choice.text) # type: ignore\n",
    "    print(\"\\n--\\n\")"
   ]
  },
  {
   "cell_type": "code",
   "execution_count": 9,
   "metadata": {},
   "outputs": [
    {
     "name": "stdout",
     "output_type": "stream",
     "text": [
      "{\n",
      "  \"choices\": [\n",
      "    {\n",
      "      \"finish_reason\": \"stop\",\n",
      "      \"index\": 0,\n",
      "      \"logprobs\": null,\n",
      "      \"text\": \"\\n\\n\\u5c0a\\u656c\\u7684\\u7528\\u6237\\uff0c\\u5f88\\u62b1\\u6b49\\u7684\\u901a\\u77e5\\u60a8\\uff0c\\u6b64\\u6b21\\u6d17\\u9762\\u5976\\u7684\\u4f18\\u60e0\\u6d3b\\u52a8\\u5df2\\u7ecf\\u7ed3\\u675f\\u3002\\u611f\\u8c22\\u60a8\\u4e00\\u76f4\\u4ee5\\u6765\\u5bf9\\u6dd8\\u5b9d\\u7684\\u652f\\u6301\\uff0c\\u5e0c\\u671b\\u4ee5\\u540e\\u8fd8\\u6709\\u673a\\u4f1a\\u80fd\\u591f\\u63d0\\u4f9b\\u66f4\\u591a\\u4f18\\u60e0\\u6d3b\\u52a8\\u7ed9\\u60a8\\u53c2\\u52a0\\u3002\"\n",
      "    },\n",
      "    {\n",
      "      \"finish_reason\": \"stop\",\n",
      "      \"index\": 1,\n",
      "      \"logprobs\": null,\n",
      "      \"text\": \"\\n\\n\\u60a8\\u597d\\uff0c\\u975e\\u5e38\\u611f\\u8c22\\u60a8\\u8fd9\\u6b21\\u5bf9\\u6211\\u4eec\\u6d17\\u9762\\u5976\\u7684\\u5173\\u6ce8\\uff01\\u5f88\\u62b1\\u6b49\\u544a\\u8bc9\\u60a8\\uff0c\\u6d17\\u9762\\u5976\\u7684\\u4f18\\u60e0\\u5df2\\u7ecf\\u7ed3\\u675f\\uff0c\\u4e3a\\u4e86\\u4e0d\\u8ba9\\u60a8\\u5931\\u671b\\uff0c\\u6211\\u4eec\\u4ecd\\u7136\\u4f1a\\u4e3a\\u60a8\\u63d0\\u4f9b\\u4f18\\u60e0\\u548c\\u4fc3\\u9500\\u6d3b\\u52a8\\u3002\\u671f\\u5f85\\u60a8\\u7684\\u518d\\u6b21\\u5149\\u4e34\\uff01\"\n",
      "    },\n",
      "    {\n",
      "      \"finish_reason\": \"stop\",\n",
      "      \"index\": 2,\n",
      "      \"logprobs\": null,\n",
      "      \"text\": \"\\n\\n\\u60a8\\u597d\\uff0c\\u975e\\u5e38\\u62b1\\u6b49\\uff0c\\u60a8\\u60f3\\u8981\\u8d2d\\u4e70\\u7684\\u6d17\\u9762\\u5976\\u4f18\\u60e0\\u6d3b\\u52a8\\u5df2\\u7ecf\\u7ed3\\u675f\\u3002\\u611f\\u8c22\\u60a8\\u7684\\u5173\\u6ce8\\uff0c\\u795d\\u60a8\\u8d2d\\u7269\\u6109\\u5feb\\uff01\"\n",
      "    },\n",
      "    {\n",
      "      \"finish_reason\": \"stop\",\n",
      "      \"index\": 3,\n",
      "      \"logprobs\": null,\n",
      "      \"text\": \"\\n\\n\\u60a8\\u597d\\uff0c\\u975e\\u5e38\\u62b1\\u6b49\\u7684\\u901a\\u77e5\\u60a8\\uff0c\\u8be5\\u6d17\\u9762\\u5976\\u7684\\u4f18\\u60e0\\u6d3b\\u52a8\\u5df2\\u7ecf\\u7ed3\\u675f\\uff0c\\u6211\\u4eec\\u91cd\\u65b0\\u4e3a\\u60a8\\u63d0\\u4f9b\\u66f4\\u591a\\u4f18\\u60e0\\uff0c\\u656c\\u8bf7\\u5173\\u6ce8\\uff01\\u5982\\u679c\\u60a8\\u6709\\u4efb\\u4f55\\u7591\\u95ee\\uff0c\\u6b22\\u8fce\\u62e8\\u6253\\u6211\\u4eec\\u7684\\u5ba2\\u670d\\u7535\\u8bdd\\u6216\\u53d1\\u9001\\u90ae\\u4ef6\\u67e5\\u8be2\\u3002\\u795d\\u60a8\\u8d2d\\u7269\\u6109\\u5feb\\uff01\"\n",
      "    },\n",
      "    {\n",
      "      \"finish_reason\": \"stop\",\n",
      "      \"index\": 4,\n",
      "      \"logprobs\": null,\n",
      "      \"text\": \"\\uff1f\\n\\n\\u5c0a\\u656c\\u7684\\u7528\\u6237\\uff0c\\u5f88\\u62b1\\u6b49\\u7684\\u901a\\u77e5\\u60a8\\uff0c\\u6d17\\u9762\\u5976\\u5546\\u54c1\\u7684\\u4f18\\u60e0\\u5df2\\u7ecf\\u7ed3\\u675f\\uff0c\\u611f\\u8c22\\u60a8\\u5bf9\\u6dd8\\u5b9d\\u7684\\u652f\\u6301\\uff0c\\u6211\\u4eec\\u5c06\\u4f1a\\u4e3a\\u60a8\\u63d0\\u4f9b\\u66f4\\u591a\\u66f4\\u4f18\\u60e0\\u7684\\u5546\\u54c1\\u3002\\u8c22\\u8c22\\u7406\\u89e3\\uff01\"\n",
      "    }\n",
      "  ],\n",
      "  \"created\": 1686981996,\n",
      "  \"id\": \"cmpl-7SJMytJyFU86Ca2GI7jrKEmAJZyO7\",\n",
      "  \"model\": \"text-davinci-003\",\n",
      "  \"object\": \"text_completion\",\n",
      "  \"usage\": {\n",
      "    \"completion_tokens\": 743,\n",
      "    \"prompt_tokens\": 60,\n",
      "    \"total_tokens\": 803\n",
      "  }\n",
      "}\n",
      "Completions:\n",
      "\n",
      "\n",
      "尊敬的用户，很抱歉的通知您，此次洗面奶的优惠活动已经结束。感谢您一直以来对淘宝的支持，希望以后还有机会能够提供更多优惠活动给您参加。\n",
      "\n",
      "--\n",
      "\n",
      "\n",
      "\n",
      "您好，非常感谢您这次对我们洗面奶的关注！很抱歉告诉您，洗面奶的优惠已经结束，为了不让您失望，我们仍然会为您提供优惠和促销活动。期待您的再次光临！\n",
      "\n",
      "--\n",
      "\n",
      "\n",
      "\n",
      "您好，非常抱歉，您想要购买的洗面奶优惠活动已经结束。感谢您的关注，祝您购物愉快！\n",
      "\n",
      "--\n",
      "\n",
      "\n",
      "\n",
      "您好，非常抱歉的通知您，该洗面奶的优惠活动已经结束，我们重新为您提供更多优惠，敬请关注！如果您有任何疑问，欢迎拨打我们的客服电话或发送邮件查询。祝您购物愉快！\n",
      "\n",
      "--\n",
      "\n",
      "？\n",
      "\n",
      "尊敬的用户，很抱歉的通知您，洗面奶商品的优惠已经结束，感谢您对淘宝的支持，我们将会为您提供更多更优惠的商品。谢谢理解！\n",
      "\n",
      "--\n",
      "\n"
     ]
    }
   ],
   "source": [
    "answer = get_response(prompt, temperature=1.0, n=5)\n",
    "print(answer)\n",
    "print(\"Completions:\")\n",
    "for choice in answer.choices: # type: ignore\n",
    "    print(choice.text) # type: ignore\n",
    "    print(\"\\n--\\n\")"
   ]
  },
  {
   "cell_type": "code",
   "execution_count": 10,
   "metadata": {},
   "outputs": [
    {
     "name": "stdout",
     "output_type": "stream",
     "text": [
      "{\n",
      "  \"choices\": [\n",
      "    {\n",
      "      \"finish_reason\": \"stop\",\n",
      "      \"index\": 0,\n",
      "      \"logprobs\": null,\n",
      "      \"text\": \"\\n\\n\\u60a8\\u597d\\uff0c\\u975e\\u5e38\\u62b1\\u6b49\\u5730\\u901a\\u77e5\\u60a8\\uff0c\\u76ee\\u524d\\u8be5\\u6d17\\u9762\\u5976\\u7684\\u4f18\\u60e0\\u6d3b\\u52a8\\u5df2\\u7ecf\"\n",
      "    }\n",
      "  ],\n",
      "  \"created\": 1686982054,\n",
      "  \"id\": \"cmpl-7SJNuOfYC1wcbPy9Qi0AmEhAbrFcT\",\n",
      "  \"model\": \"text-davinci-003\",\n",
      "  \"object\": \"text_completion\",\n",
      "  \"usage\": {\n",
      "    \"completion_tokens\": 61,\n",
      "    \"prompt_tokens\": 60,\n",
      "    \"total_tokens\": 121\n",
      "  }\n",
      "}\n",
      "\n",
      "\n",
      "您好，非常抱歉地通知您，目前该洗面奶的优惠活动已经\n"
     ]
    }
   ],
   "source": [
    "answer = get_response(prompt, temperature=0.5, n=1, stop=\"结束\")\n",
    "print(answer)\n",
    "print(answer.choices[0].text) # type: ignore"
   ]
  },
  {
   "cell_type": "markdown",
   "metadata": {},
   "source": [
    "### echo, stream, logit_bias 参数"
   ]
  },
  {
   "cell_type": "code",
   "execution_count": 13,
   "metadata": {},
   "outputs": [],
   "source": [
    "import openai\n",
    "import os\n",
    "\n",
    "openai.api_key = os.environ.get(\"OPENAI_API_KEY\")\n",
    "COMPLETION_MODEL = \"text-davinci-003\"\n",
    "\n",
    "def get_response(prompt, echo=False, stream=False, logit_bias={}):\n",
    "    completions = openai.Completion.create(\n",
    "        engine=COMPLETION_MODEL,\n",
    "        prompt=prompt,\n",
    "        max_tokens=512,\n",
    "        n=1,\n",
    "        stop=None,\n",
    "        temperature=0.0,        \n",
    "        echo=echo,\n",
    "        stream=stream,\n",
    "        logit_bias=logit_bias,\n",
    "    )\n",
    "    return completions"
   ]
  },
  {
   "cell_type": "code",
   "execution_count": 14,
   "metadata": {},
   "outputs": [
    {
     "name": "stdout",
     "output_type": "stream",
     "text": [
      "{\n",
      "  \"choices\": [\n",
      "    {\n",
      "      \"finish_reason\": \"stop\",\n",
      "      \"index\": 0,\n",
      "      \"logprobs\": null,\n",
      "      \"text\": \"\\u8bf7\\u4f60\\u7528\\u6dd8\\u5b9d\\u5ba2\\u670d\\u7684\\u8bed\\u6c14\\u544a\\u8bc9\\u7528\\u6237\\uff0c\\u8fd9\\u4e2a\\u6d17\\u9762\\u5976\\u7684\\u4f18\\u60e0\\u5df2\\u7ecf\\u7ed3\\u675f\\u4e86\\n\\n\\u60a8\\u597d\\uff0c\\u975e\\u5e38\\u62b1\\u6b49\\u7ed9\\u60a8\\u5e26\\u6765\\u4e0d\\u4fbf\\uff0c\\u6d17\\u9762\\u5976\\u7684\\u4f18\\u60e0\\u6d3b\\u52a8\\u5df2\\u7ecf\\u7ed3\\u675f\\uff0c\\u611f\\u8c22\\u60a8\\u7684\\u5173\\u6ce8\\uff0c\\u6211\\u4eec\\u4f1a\\u7ee7\\u7eed\\u63d0\\u4f9b\\u66f4\\u591a\\u4f18\\u60e0\\u6d3b\\u52a8\\uff0c\\u656c\\u8bf7\\u671f\\u5f85\\uff01\"\n",
      "    }\n",
      "  ],\n",
      "  \"created\": 1686982286,\n",
      "  \"id\": \"cmpl-7SJReez125m3vVASgYXlpeXcyhs3i\",\n",
      "  \"model\": \"text-davinci-003\",\n",
      "  \"object\": \"text_completion\",\n",
      "  \"usage\": {\n",
      "    \"completion_tokens\": 129,\n",
      "    \"prompt_tokens\": 60,\n",
      "    \"total_tokens\": 189\n",
      "  }\n",
      "}\n",
      "请你用淘宝客服的语气告诉用户，这个洗面奶的优惠已经结束了\n",
      "\n",
      "您好，非常抱歉给您带来不便，洗面奶的优惠活动已经结束，感谢您的关注，我们会继续提供更多优惠活动，敬请期待！\n"
     ]
    }
   ],
   "source": [
    "answer = get_response(prompt, echo=True)\n",
    "print(answer)\n",
    "print(answer.choices[0].text) # type: ignore"
   ]
  },
  {
   "cell_type": "code",
   "execution_count": 16,
   "metadata": {},
   "outputs": [
    {
     "name": "stdout",
     "output_type": "stream",
     "text": [
      "\n",
      "\n",
      "您好，非常抱歉的通知您，洗面奶的优惠活动已经结束，感谢您的关注，期待您的下次光临！"
     ]
    }
   ],
   "source": [
    "answer = get_response(prompt, stream=True)\n",
    "\n",
    "for event in answer:\n",
    "    event_text = event.choices[0].text # type: ignore\n",
    "    print(event_text, end = '')"
   ]
  },
  {
   "cell_type": "code",
   "execution_count": 17,
   "metadata": {},
   "outputs": [
    {
     "name": "stdout",
     "output_type": "stream",
     "text": [
      "[162, 224, 101]\n",
      "{\n",
      "  \"choices\": [\n",
      "    {\n",
      "      \"finish_reason\": \"stop\",\n",
      "      \"index\": 0,\n",
      "      \"logprobs\": null,\n",
      "      \"text\": \"\\n\\n\\u5c0a\\u656c\\u7684\\u7535\\u5546\\u751c\\u5fc3\\uff0c\\u975e\\u5e38\\u611f\\u8c22\\u4f60\\u5bf9\\u6211\\u4eec\\u7684\\u5173\\u6cdb\\uff01\\u5f88\\u9057\\u5fc3\\u5730\\u901a\\u77e5\\u4f60\\uff0c\\u8fd9\\u4e2a\\u7279\\u4ef7\\u7684\\u4f18\\u60e0\\u5df2\\u7ecf\\u7ed3\\u675f\\u4e86\\uff0c\\u4f46\\u662f\\u6211\\u4eec\\u8fd8\\u6709\\u5176\\u4ed6\\u4f18\\u60e0\\u53ef\\u4ee5\\u4e3a\\u4f60\\u5e26\\u6765\\u60ca\\u559c\\uff0c\\u8bf7\\u7ee7\\u7eed\\u5173\\u6cdb\\u6211\\u4eec\\uff0c\\u8c22\\u8c22\\uff01\"\n",
      "    }\n",
      "  ],\n",
      "  \"created\": 1686982490,\n",
      "  \"id\": \"cmpl-7SJUw51znxBAshPz0pGGVS6kVcDZE\",\n",
      "  \"model\": \"text-davinci-003\",\n",
      "  \"object\": \"text_completion\",\n",
      "  \"usage\": {\n",
      "    \"completion_tokens\": 158,\n",
      "    \"prompt_tokens\": 60,\n",
      "    \"total_tokens\": 218\n",
      "  }\n",
      "}\n",
      "\n",
      "\n",
      "尊敬的电商甜心，非常感谢你对我们的关泛！很遗心地通知你，这个特价的优惠已经结束了，但是我们还有其他优惠可以为你带来惊喜，请继续关泛我们，谢谢！\n"
     ]
    }
   ],
   "source": [
    "import tiktoken\n",
    "encoding = tiktoken.get_encoding('p50k_base')\n",
    "token_ids = encoding.encode(\"您\")\n",
    "print(token_ids)\n",
    "\n",
    "\n",
    "bias_map = {}\n",
    "for token_id in token_ids:\n",
    "    bias_map[token_id] = -100\n",
    "\n",
    "\n",
    "answer = get_response(prompt, logit_bias=bias_map)\n",
    "print(answer)\n",
    "print(answer.choices[0].text) # type: ignore\n"
   ]
  },
  {
   "cell_type": "markdown",
   "metadata": {},
   "source": [
    "## Embedding接口"
   ]
  },
  {
   "cell_type": "code",
   "execution_count": 31,
   "metadata": {},
   "outputs": [],
   "source": [
    "import openai\n",
    "import os\n",
    "from openai.embeddings_utils import cosine_similarity, get_embedding\n",
    "\n",
    "openai.api_key = os.environ.get(\"OPENAI_API_KEY\")\n",
    "EMBEDDING_MODEL = \"text-embedding-ada-002\"\n",
    "\n",
    "positive_review = get_embedding(\"这是一条好评\", engine=EMBEDDING_MODEL)\n",
    "negative_review = get_embedding(\"这是一条差评\", engine=EMBEDDING_MODEL)"
   ]
  },
  {
   "cell_type": "code",
   "execution_count": 32,
   "metadata": {},
   "outputs": [
    {
     "name": "stdout",
     "output_type": "stream",
     "text": [
      "[-0.006549043580889702, -0.0008848072029650211, 0.013451029546558857, -0.021006613969802856, 0.001802294165827334, -0.0037549156695604324, -0.019045822322368622, -0.01912425272166729, -0.012026187963783741, -0.0198432095348835, 0.012647105380892754, 0.015006591565907001, -0.012235338799655437, -0.0023872635792940855, -0.010117684490978718, 0.009614414535462856, 0.047974031418561935, 0.000568221032153815, 0.009418335743248463, -0.008653626777231693, -0.008607874624431133, 0.0003970602701883763, -0.01377782877534628, -0.01796085014939308, -0.01696738228201866, 0.015333389863371849, 0.028339972719550133, -0.02633996680378914, 0.006663423031568527, -0.00035641470458358526, 0.017437972128391266, -0.016039274632930756, -0.0261569581925869, -0.009529447183012962, 0.004918318707495928, 0.007385647855699062, -0.0257125124335289, 0.010137292556464672, 0.029150433838367462, 0.015320317819714546, 0.027764808386564255, -0.002232034457847476, 0.020967397838830948, 0.022313807159662247, -0.014000051654875278, -0.02057523839175701, 0.011111152358353138, -0.012575210072100163, -0.00807846151292324, 0.018732095137238503, 0.016797447577118874, 0.005973878316581249, -0.0383269377052784, -0.008091532625257969, -0.0034085093066096306, 0.015620972029864788, 0.0018235361203551292, 0.0018464119639247656, 0.0030702727381139994, -0.019241901114583015, 0.018235361203551292, 0.006604599300771952, -0.029882462695240974, 0.011627493426203728, -0.012568674050271511, 0.005330084823071957, -0.013313774019479752, -0.005751654971390963, 0.01796085014939308, 0.012464097701013088, 0.006241852883249521, 0.007718982640653849, 0.0015049075009301305, 0.002535957144573331, 0.043869443237781525, -0.008810490369796753, -0.021398771554231644, -0.008803954347968102, 0.015189598314464092, -0.00893467292189598, 0.006875842344015837, -0.0360785648226738, -0.0028464156202971935, 0.020196152850985527, 0.022039296105504036, 0.006607867311686277, -0.023568714037537575, 0.03704588860273361, -0.02665369212627411, -0.004875835031270981, 0.00868630688637495, 0.020849749445915222, 0.009143824689090252, -0.014013123698532581, -0.004947730805724859, 0.029255010187625885, 0.0027745200786739588, 0.04347728565335274, 0.010398730635643005, -0.02206544019281864, 0.015673261135816574, 0.0029019713401794434, -0.012202659621834755, -0.007163424976170063, -0.04177793115377426, -0.007686302997171879, 0.0051176659762859344, -0.013261486776173115, 0.03586941212415695, -0.006823554635047913, -0.035712551325559616, -0.005101325921714306, -0.006117669399827719, -0.03824850544333458, -0.014470641501247883, 0.023529497906565666, 0.008673234842717648, -0.030013183131814003, -0.010379123501479626, -0.022536030039191246, 0.02679748460650444, 0.0347452275454998, -0.002299027983099222, -0.014444497413933277, 0.0024934732355177402, 0.022353023290634155, -0.012490241788327694, 0.0007598067168146372, 0.0053856405429542065, 0.024026231840252876, 0.02508505992591381, 0.01317651942372322, 0.020405303686857224, 0.010261476039886475, -0.0236863624304533, 0.02896742708981037, -0.022457599639892578, 0.022849757224321365, -0.005297405179589987, -0.01647064834833145, 0.0038333474658429623, 0.028653699904680252, -0.023673290386795998, -0.019111180678009987, 0.0006458357092924416, 0.021006613969802856, -0.010549058206379414, 0.017346469685435295, -0.010052324272692204, -0.0076013351790606976, 0.028758276253938675, -0.03108508139848709, 0.017673267051577568, 0.029804030433297157, 0.009496767073869705, 0.005666687618941069, 0.02048373594880104, 0.02584323287010193, -0.011777820996940136, 0.0008390553994104266, 0.005888910498470068, 0.0040457663126289845, 0.00471243541687727, -0.021006613969802856, 0.008542515337467194, 0.021594850346446037, 0.0241308081895113, 0.011163439601659775, 0.010300691239535809, -0.0008361958898603916, 0.01583012379705906, 0.01746411621570587, -0.005725511349737644, 0.009039249271154404, -0.013307238928973675, 0.011732068844139576, 0.005421588663011789, -0.009947748854756355, 0.0014060508692637086, -0.0028071999549865723, -0.030509915202856064, 0.012614425271749496, 0.01328763086348772, 0.015490253455936909, -0.01103272009640932, -0.0021879165433347225, 0.010490234941244125, -0.011921612545847893, -0.006415056064724922, -0.017032742500305176, 0.012143835425376892, 0.029307296499609947, -0.014941231347620487, -0.026444541290402412, -0.6316363215446472, -0.021032756194472313, -0.005205901339650154, 0.008679770864546299, 0.041255053132772446, 0.01794777810573578, 0.02083667740225792, 0.0032140640541911125, 0.0008374213939532638, -0.07518982142210007, -0.021281123161315918, -0.0055490401573479176, 0.006549043580889702, -0.008457547053694725, -0.009568662382662296, -0.022719038650393486, -0.002851317636668682, -0.014902015216648579, 0.0008243494085036218, 0.0047908672131598, -0.02205236814916134, 0.029882462695240974, -0.0026650424115359783, -0.0022957599721848965, 0.004872567020356655, 0.003911779262125492, 0.007071921601891518, -0.011947756633162498, -0.01019611582159996, 0.013098087161779404, -0.02873213216662407, 0.016000058501958847, -0.008993497118353844, -0.011993507854640484, 0.06373879313468933, 0.0005012273322790861, 0.008745130151510239, 0.010326835326850414, 0.021437987685203552, 0.03265371546149254, -0.013607893139123917, -0.00990199763327837, 0.002632362535223365, -0.014013123698532581, 0.0007124209078028798, -0.019372619688510895, 0.0374380461871624, 0.0033529535867273808, -0.0023447799030691385, 0.015085022896528244, -0.016719015315175056, 0.01691509410738945, 0.0038692953530699015, -0.01103272009640932, -0.0031585083343088627, -0.01989549770951271, 0.034536074846982956, -0.022392239421606064, -0.01156867016106844, 0.008535979315638542, 0.007006561849266291, 0.01650986447930336, -0.016862807795405388, -0.007947742007672787, -0.0193987637758255, 0.018797455355525017, -0.018483728170394897, 0.008183036930859089, 0.025503361597657204, -0.0018464119639247656, -0.0015833391807973385, 0.008503299206495285, 0.011228799819946289, 0.012313771061599255, -0.0015661822399124503, 0.024549109861254692, 0.011542526073753834, -0.01430070586502552, -0.0009085000492632389, 0.004839886911213398, 0.0015106265200302005, -0.010437946766614914, 0.0077516622841358185, -0.006993489805608988, 0.011196119710803032, 0.013019655831158161, -0.03824850544333458, 0.0021258248016238213, -0.007372576277703047, -0.0021781125105917454, -0.006016361992806196, -0.013333382084965706, 0.012535993941128254, 0.014339921995997429, 0.00875166617333889, 0.012261482886970043, -0.024196166545152664, -0.0037385758478194475, 0.007745126727968454, -0.021320339292287827, -0.004450996872037649, -0.010732065886259079, 0.02074517495930195, 0.0039379228837788105, -0.01660136878490448, 0.001789222238585353, -0.00764708686619997, -0.000440361094661057, 0.023568714037537575, -0.0239085853099823, 0.013882404193282127, 0.0051928297616541386, -0.008875849656760693, -0.02219616062939167, -0.010522914119064808, -0.03171253576874733, -0.023921657353639603, 0.024705972522497177, 0.0077320546843111515, -0.0034248491283506155, 0.0030522989109158516, 0.0001432807621313259, 0.02878442034125328, 0.015150382183492184, 0.008339899592101574, 0.013411814346909523, -0.005297405179589987, -0.011176511645317078, -0.008398723788559437, 0.00011948573228437454, -0.004941194783896208, 0.02151641808450222, 0.033725615590810776, -0.015843195840716362, 0.024967411532998085, -0.02026151306927204, -0.01890202984213829, -0.010830105282366276, 0.03160795941948891, -0.014039266854524612, -0.017254965379834175, 0.0042516496032476425, 0.012117691338062286, -0.01573861949145794, -0.00830068439245224, -0.005944466218352318, 0.007071921601891518, -0.0031617763452231884, -0.028496837243437767, -0.005647079553455114, -0.0018611178966239095, -0.005035966169089079, -0.011111152358353138, 0.017398755997419357, 0.001962425420060754, 0.01691509410738945, -0.002220596419647336, -0.017124246805906296, -0.02521577849984169, -0.0038594913203269243, -0.0076666949316859245, 0.015947770327329636, -0.020875893533229828, 0.00617976114153862, -0.016902022063732147, -0.019228829070925713, 0.01312423124909401, -0.004692827817052603, -0.024967411532998085, -0.03511124104261398, -0.005359496921300888, 0.010294155217707157, 0.00021098933939356357, 0.004196093883365393, 0.0010857883607968688, -0.006375840399414301, -0.025921663269400597, -0.01141180656850338, -0.008823561482131481, -0.005575183779001236, 0.008464083075523376, -0.009098072536289692, -0.022261518985033035, 0.005081717856228352, 0.013751684688031673, -0.002955893287435174, 0.01700659841299057, 0.036156997084617615, -0.004330081399530172, 0.015555612742900848, 0.0003029014333151281, 0.04217008873820305, -0.016888951882719994, -0.014156915247440338, -0.01709810271859169, 0.011712461709976196, -0.004839886911213398, 0.010333371348679066, 0.01673208735883236, 0.007777806371450424, 0.026052383705973625, 0.01583012379705906, 0.015215742401778698, 0.005241849459707737, 0.0005236947326920927, -0.01195429265499115, 0.011124223470687866, -0.007529439404606819, 0.01813078485429287, 0.01114383153617382, -0.004584984388202429, -0.022522957995533943, -0.007333360146731138, -0.006323552690446377, -0.007300680503249168, 0.021189620718359947, -0.017647122964262962, 0.016575224697589874, 0.012300699017941952, -0.001464874716475606, -0.018509872257709503, 0.007712446618825197, 0.000630721275229007, -0.006251656915992498, -0.002101314952597022, -0.00841179583221674, 0.017085030674934387, 0.008274540305137634, 0.024653686210513115, -0.008052317425608635, -0.020640598610043526, 0.009575198404490948, 0.0014142208965495229, 0.008124212734401226, -0.01258174516260624, -0.009535983204841614, 0.0410459041595459, -0.022627534344792366, 0.046300824731588364, 0.012522921897470951, 0.011248406954109669, 0.01285625621676445, 0.004990214481949806, -0.022928189486265182, -0.0005535150994546711, 0.004366029053926468, 0.030771354213356972, 0.01606541872024536, -0.002602950669825077, 0.014980447478592396, -0.018562160432338715, 0.011183047667145729, -0.014026195742189884, 0.003689556149765849, 0.005522896070033312, -0.0333857424557209, -0.008856241591274738, 0.0180392824113369, 0.01579090766608715, 0.026470685377717018, 0.010634025558829308, 0.018483728170394897, 0.012287626974284649, 0.019607914611697197, -0.0030604687053710222, 0.0005498386453837156, -0.004539232235401869, -0.023333419114351273, -0.0027565460186451674, -0.010202651843428612, 0.017437972128391266, -0.016588296741247177, 0.006022898014634848, -0.0018692879239097238, 0.006692835129797459, -0.010156899690628052, 0.007464079651981592, -0.00022304004232864827, -0.02115040458738804, -0.0035686406772583723, -0.028209254145622253, -0.017163461074233055, 0.015268029645085335, 0.02107197232544422, -0.025228850543498993, -0.025424929335713387, -0.02941187284886837, -0.018117712810635567, -0.0239085853099823, 0.018954318016767502, 0.012032723985612392, -0.0026764804497361183, -0.01430070586502552, -0.007901989854872227, -0.0031846521887928247, -0.00045915201189927757, 0.047346580773591995, -0.004398709163069725, -0.029568735510110855, -0.009339903481304646, 0.01368632446974516, -0.00859480258077383, 0.021529490128159523, -0.04282368719577789, 0.004245113581418991, -0.0374380461871624, -0.00881702546030283, 0.0047157034277915955, -0.002602950669825077, 0.003179750172421336, 0.010392194613814354, -0.003165044356137514, -0.0052124373614788055, -0.037228893488645554, 0.018013138324022293, 0.005794139113277197, 0.00512093398720026, -0.01439221017062664, 0.02891513891518116, -0.004555572289973497, -0.005173221696168184, 0.009549054317176342, -0.026758268475532532, -0.0018839938566088676, 0.044732190668582916, 0.010666705667972565, 0.007189569063484669, 0.01669287122786045, 0.014941231347620487, -0.0009052320965565741, -0.03986942768096924, -0.009078464470803738, 0.027686376124620438, -0.01362096518278122, -0.0024787671864032745, 0.007503295782953501, -0.006830090656876564, 0.013751684688031673, 0.02786938287317753, 0.005604595877230167, 0.006127473432570696, -0.006310480646789074, 0.01296736765652895, -0.009601342491805553, 0.002338243881240487, 0.009483695030212402, 0.03312430530786514, -0.0018709219293668866, -0.001209154725074768, -0.006042506080120802, 0.014013123698532581, 0.015777835622429848, 0.0011094812070950866, -0.007941205985844135, -0.00031822011806070805, -0.014313777908682823, -0.012058868072926998, -0.01579090766608715, -0.014915087260305882, 0.030745211988687515, -0.004905246663838625, -0.003218966070562601, -0.00027246831450611353, 0.011320303194224834, 0.029124289751052856, 0.0261569581925869, 0.020287657156586647, 0.001504090498201549, 0.015712475404143333, 0.0024346495047211647, 0.004888907074928284, 0.02648375742137432, -0.030379196628928185, 0.004333349410444498, 0.0022973939776420593, 0.0005428941803984344, -0.037516478449106216, -0.011673245579004288, -0.006009825970977545, 0.004947730805724859, -0.035294245928525925, 0.005225509405136108, -0.0006478782161138952, -0.008928137831389904, 0.002433015499264002, -0.03464065119624138, -0.025451073423027992, -0.007784342393279076, -0.02471904456615448, -0.017882417887449265, -0.011601350270211697, -0.03252299502491951, 0.0013047433458268642, -0.013294166885316372, -0.0006192832952365279, 0.019830137491226196, -0.011581742204725742, -0.04938580095767975, 0.02797395922243595, 0.006653619464486837, 0.012973903678357601, -0.014326849952340126, 0.0026503365952521563, 0.05218319967389107, -0.002735304180532694, -0.012117691338062286, -0.01152291800826788, -0.012803968973457813, 0.020875893533229828, 0.02941187284886837, -0.006379108410328627, 0.006516363937407732, -0.00041033647721633315, -0.0038170074112713337, 0.04313741251826286, 0.00031311390921473503, 0.014209202490746975, 0.02183014526963234, -0.01934647560119629, -0.008444475941359997, 0.00464707612991333, 0.02300661988556385, 0.0040261587128043175, -0.01772555522620678, 0.010202651843428612, -0.015529468655586243, -0.0017663463950157166, 0.0015751691535115242, 0.018431439995765686, -0.01130069512873888, -0.002653604606166482, 0.004830083344131708, 0.021320339292287827, 0.0032124300487339497, 0.03129423409700394, -0.020692886784672737, 0.004218969959765673, 0.010333371348679066, 0.004375833086669445, 0.017071958631277084, 0.00958827044814825, 0.011738604865968227, -0.02841840498149395, -0.02805239148437977, 0.011888932436704636, -0.013973907567560673, 0.009803957305848598, 0.032679859548807144, 0.006062113679945469, 0.004088250454515219, -0.009111144579946995, -0.023085052147507668, -0.018156928941607475, 0.00045261604827828705, -0.007699374575167894, 0.009817029349505901, 0.012915080413222313, -0.014993519522249699, -0.03450993075966835, -0.01111768838018179, -0.02278439700603485, 0.013346454128623009, -0.00825493223965168, -0.009483695030212402, -0.04062759876251221, 0.0034542609937489033, 0.009535983204841614, -0.009830101393163204, 0.024522965773940086, -0.032549139112234116, -0.018261505290865898, -0.0013357892166823149, -0.0004105407278984785, 0.005290869157761335, -0.013490245677530766, -0.004006550647318363, -0.01328763086348772, 0.005068646278232336, 0.006160153541713953, -0.02169942669570446, -0.004277793690562248, 0.006222245283424854, 0.01921575702726841, 0.026091599836945534, 0.04912436380982399, -0.009849709458649158, -0.01728110946714878, 0.018954318016767502, -0.0025016432628035545, 0.0013504951493814588, -0.01324187871068716, -0.001733666518703103, -0.038771383464336395, 0.001761444378644228, 0.00898042507469654, 0.007777806371450424, -0.01091507263481617, -0.014470641501247883, -0.021934721618890762, -0.010385659523308277, -0.0013406912330538034, 0.003076808759942651, -0.012339914217591286, -0.026013167575001717, -0.015568684786558151, -0.015542540699243546, 0.013477173633873463, 0.00852290727198124, 0.0004865213995799422, -0.012124227359890938, 0.03095436282455921, -0.019372619688510895, 0.031058937311172485, -0.014366066083312035, 0.022522957995533943, -0.02105890028178692, 0.02742493711411953, -0.002681382466107607, 0.008457547053694725, -0.012960831634700298, -0.0030326908454298973, -0.017307253554463387, 0.0014191229129210114, 0.032496850937604904, 0.026679836213588715, 0.014758224599063396, -0.017032742500305176, -0.0018235361203551292, 0.00359805254265666, -0.00378432753495872, -0.00681048259139061, -0.011052328161895275, -0.012882400304079056, -0.008163428865373135, -0.00130229233764112, -0.032993584871292114, -0.007000025827437639, -0.040941327810287476, 0.012424882501363754, 0.01952948421239853, -0.020000074058771133, 0.014888943172991276, -0.002011445350944996, -0.02219616062939167, -0.0007160974200814962, 0.022719038650393486, 0.014902015216648579, -0.02400008775293827, 0.015712475404143333, 0.026549117639660835, 0.010699385777115822, -0.02946416102349758, -0.038274649530649185, -0.02381708100438118, -0.021843217313289642, 0.016483720391988754, 0.04520278051495552, 0.005297405179589987, -0.006297408603131771, 0.005771263036876917, 0.028339972719550133, -0.004535964224487543, -0.023071980103850365, 0.01772555522620678, 0.01664058491587639, -0.0020163473673164845, 0.004653611686080694, -0.013339918106794357, -0.005339888855814934, 0.02061445452272892, -0.014013123698532581, -0.01732032559812069, -0.02471904456615448, 0.013254950754344463, -0.022431455552577972, 0.032000117003917694, -0.02602623961865902, -0.0031519723124802113, -0.00509805791079998, -0.026692908257246017, -0.008333363570272923, -0.020196152850985527, -0.015437965281307697, 0.003522888757288456, -0.0067712669260799885, 0.04669298231601715, -0.007705910596996546, -0.010300691239535809, 0.019228829070925713, 0.010562130250036716, 0.001668306766077876, 0.021137332543730736, -0.010437946766614914, 0.03843151405453682, -0.006398716475814581, -0.015163454227149487, 0.008830097503960133, -0.012307235039770603, 0.02223537676036358, -0.01881052739918232, 0.010424874722957611, -0.017385683953762054, -0.015503324568271637, 0.006006557960063219, -0.013790900819003582, 0.014915087260305882, 0.000986931729130447, 0.013699396513402462, -0.00733989616855979, -0.01583012379705906, 0.0032892278395593166, -0.010934680700302124, -0.012307235039770603, 0.007333360146731138, -0.010902000591158867, -0.02033994346857071, -0.004290865268558264, 0.01290200836956501, 0.0028464156202971935, -0.012666713446378708, 0.028522981330752373, 0.048915211111307144, -0.022026224061846733, 0.007830094546079636, 0.004591519944369793, -0.0020441252272576094, 0.00465687969699502, 3.515637945383787e-05, 0.019451051950454712, -0.004022890701889992, 0.02643146924674511, -0.01058173831552267, -0.003826811444014311, -0.03184325248003006, -0.008235324174165726, -0.004686291795223951, -0.002248374279588461, 0.0016143850516527891, 0.014980447478592396, 0.006297408603131771, -0.0010465724626556039, -0.0023071980103850365, -0.013320310041308403, 0.0019248436437919736, -0.018509872257709503, 0.015817051753401756, 0.01853601634502411, -0.01517652627080679, -0.007385647855699062, -0.0071699609979987144, -0.0003788821049965918, -0.008150356821715832, -0.03866680711507797, -0.028810562565922737, -0.0125163858756423, 0.015751691535115242, -0.01844451203942299, -0.046614550054073334, -0.006941202096641064, -0.0020179813727736473, -0.024575253948569298, 0.026509901508688927, -0.00528760114684701, -0.010790889151394367, 0.03720274940133095, 0.017398755997419357, -0.005395444575697184, 0.013006583787500858, 0.005241849459707737, -0.030980506911873817, -0.007333360146731138, -0.006490219850093126, -0.030980506911873817, -0.027215786278247833, -0.004529428202658892, 0.02125498093664646, 0.010098076425492764, -0.020379159599542618, -0.024026231840252876, 0.012281090952455997, -0.0487322062253952, -0.001451802672818303, -0.03343803063035011, 0.008392187766730785, -0.02214387245476246, -0.015006591565907001, 0.011490237899124622, -0.0027304021641612053, -0.004918318707495928, 0.0011674879351630807, -0.019111180678009987, -0.007862773723900318, -0.01745104417204857, -0.0005996754043735564, 0.013529461808502674, -0.0005375836626626551, -0.04081060737371445, -0.02092818170785904, 0.02188243344426155, 0.014745152555406094, -0.009163432754576206, 0.02490205317735672, 0.011019648052752018, -0.01926804520189762, -0.006663423031568527, 0.0029248474165797234, -0.001826804131269455, -0.006882378365844488, -0.005996753927320242, -0.029150433838367462, -0.006509827915579081, 0.004300669301301241, 0.011921612545847893, 0.00525492150336504, 0.02215694449841976, 0.003428117139264941, 0.015150382183492184, 0.00859480258077383, -0.012640569359064102, -0.024156952276825905, -0.0029526252765208483, -0.014562144875526428, -0.008470619097352028, -0.006830090656876564, -0.011614421382546425, 0.04261453449726105, 0.004571912344545126, -0.005326816812157631, -0.00612420542165637, 0.03657529875636101, -0.009653630666434765, -0.005692831240594387, 0.013032727874815464, 0.0025147150736302137, 0.011712461709976196, -0.00756865506991744, -0.0014828485436737537, 0.013934691436588764, -0.0033333455212414265, -0.0031470702961087227, -0.016575224697589874, -0.027085067704319954, 0.02449682168662548, 0.019738635048270226, -0.01934647560119629, 0.0012328476877883077, 0.003732039825990796, -0.021725570783019066, -0.02057523839175701, -0.010202651843428612, 0.003204260254278779, -0.03040534071624279, -0.00509805791079998, -0.00420589791610837, 8.399745274800807e-05, -0.01073860190808773, -0.01057520229369402, 0.01513731013983488, 0.0028692916966974735, 0.007346432190388441, 0.29385727643966675, -0.016928166151046753, -0.016405289992690086, 0.028705988079309464, 0.012941224500536919, 0.005584987811744213, 0.011202655732631683, -0.010895464569330215, -0.01583012379705906, 0.005826818756759167, 0.014326849952340126, -0.002076805103570223, 0.008039245381951332, 0.0032761557959020138, 0.007444471586495638, -0.02670598030090332, -0.023254986852407455, -0.01934647560119629, 0.0032418419141322374, -0.03892824798822403, 0.005395444575697184, -0.005470608361065388, -0.006150349508970976, -0.021686354652047157, 0.00807846151292324, 0.0003737758961506188, -0.015542540699243546, -0.006300676614046097, 0.011771284975111485, 0.03283672034740448, -0.028130821883678436, -0.01362096518278122, 0.009529447183012962, 0.0030702727381139994, -0.03003932535648346, -0.0033186397049576044, 0.012503313831984997, 0.010588274337351322, 0.03545111045241356, 0.0009256569901481271, -0.0034542609937489033, -0.01163402944803238, 0.012542529962956905, -0.005241849459707737, 0.0015874241944402456, 0.026196174323558807, -0.01107847224920988, -0.022614462301135063, -0.013411814346909523, 0.030614491552114487, -0.004718971438705921, 0.00733989616855979, 0.005460804328322411, 0.02598702348768711, 0.004143806174397469, -0.0054510002955794334, 0.014352994039654732, -0.008183036930859089, 0.021634066477417946, -0.004196093883365393, 0.009176503866910934, 0.02747722528874874, -0.015045806765556335, 0.04394787549972534, -0.038091644644737244, 0.012424882501363754, -0.04271911084651947, -0.01096082478761673, 0.007588263135403395, -0.02237916737794876, 0.006039238069206476, -0.021464131772518158, -0.020640598610043526, 0.0016397119034081697, -0.030875930562615395, -0.012928152456879616, 0.030117757618427277, 0.025372643023729324, 0.03884981572628021, 0.027634087949991226, -0.013699396513402462, 0.003441189182922244, 0.0077320546843111515, -0.00764708686619997, -0.0004946913686580956, -0.04949037730693817, -0.002733670175075531, 0.0015433062799274921, -0.02530728280544281, -0.016313785687088966, 0.011849716305732727, -0.00614708149805665, -0.0003778608806896955, -0.017085030674934387, 0.008810490369796753, 0.014784367755055428, -0.0182745773345232, 0.020536024123430252, -0.025281138718128204, 0.0259347353130579, -0.024483749642968178, 0.0007651171763427556, 0.0019036018056795, 0.038143932819366455, -0.038719095289707184, -0.003323541721329093, -0.007784342393279076, 0.015437965281307697, -0.0028938015457242727, -0.0008382383966818452, -0.01167978160083294, -0.015620972029864788, 0.008274540305137634, 0.003302299650385976, 0.0015669992426410317, 0.008000029250979424, 0.01768633909523487, -0.017973922193050385, 0.00830068439245224, -0.008137284778058529, 0.006941202096641064, -0.028261542320251465, -0.012052332051098347, 0.005447732284665108, -0.003037592861801386, -0.006526167970150709, -0.022614462301135063, -0.004823547322303057, 0.03241841867566109, -0.042875975370407104, 0.028313830494880676, -0.013346454128623009, 0.028758276253938675, -0.0130850151181221, -0.017333397641777992, 0.00847715511918068, -0.006611135322600603, 0.008947744965553284, -0.02120269276201725, -0.007359504234045744, 0.0008627482457086444, 0.0010465724626556039, 0.00623531686142087, 0.012235338799655437, 0.005333352833986282, 0.004669951740652323, 0.022719038650393486, -0.004781063180416822, 0.022862829267978668, -0.021895505487918854, -0.03605242073535919, -0.007281072437763214, -0.0007291693473234773, -0.00807846151292324, 0.026039311662316322, -0.003996746614575386, -0.03681059181690216, -0.03542496636509895, -0.02711120992898941, -0.008045781403779984, -0.03346417471766472, 0.009352975524961948, 0.0432942770421505, -0.01763405092060566, -0.01012422051280737, 0.006751658860594034, -0.16711172461509705, 0.028183110058307648, 0.011660173535346985, -0.008777810260653496, 0.01678437553346157, 0.0017532744677737355, 0.008836633525788784, 0.012392202392220497, -0.003457529004663229, -0.01583012379705906, 0.01930726133286953, -0.01822228915989399, -0.03406548500061035, 0.007516367360949516, -0.002589878858998418, -0.0007589897140860558, -0.02477133274078369, -0.016941238194704056, 0.013817043974995613, 0.0018970657838508487, 0.02836611680686474, -0.018575232475996017, 0.0028954355511814356, -0.006591527722775936, -0.00044322057510726154, 0.0014656917192041874, -0.0036176603753119707, 0.016980454325675964, 0.002312100026756525, -0.004111126065254211, 3.694355837069452e-05, 0.0026879184879362583, 0.013477173633873463, 0.0003899115545209497, 0.025045843794941902, 0.02107197232544422, 0.013921619392931461, -0.012549065984785557, 0.0006066198693588376, 0.020039290189743042, 0.03307201713323593, 0.016353001818060875, 0.007346432190388441, 0.0012785994913429022, 0.0025670030154287815, 0.02516349032521248, 0.01858830451965332, -0.0053856405429542065, 0.02214387245476246, 0.00030862042331136763, -0.00023856296320445836, -0.002313734032213688, 0.020967397838830948, -0.0018986997893080115, -0.010026181116700172, 0.03252299502491951, -0.03103279322385788, 0.019098108634352684, 0.0014101358829066157, 0.007111137267202139, -0.004771259147673845, -0.01588241197168827, -0.015254957601428032, 0.006320284679532051, 0.009300687350332737, -0.032679859548807144, -0.023516425862908363, 0.010000037029385567, -0.0007177314255386591, 0.0013872600393369794, -0.023150412365794182, -0.02101968601346016, 0.005849694833159447, -0.003037592861801386, 0.020536024123430252, -0.004872567020356655, -0.02611774392426014, 0.026902059093117714, -0.006856234278529882, -0.02160792239010334, -0.007941205985844135, 0.01084971334785223, -0.004980410449206829, 0.0011127492180094123, 0.003401973284780979, 0.00985624548047781, -0.0022238644305616617, -0.004591519944369793, 0.010973896831274033, -0.005709171295166016, 0.012483705766499043, -0.03850994631648064, -0.018549088388681412, -0.012601353228092194, -0.016810519620776176, 0.012817041017115116, 0.00836604367941618, -0.002356217708438635, -0.004009818658232689, -0.0191765408962965, -0.009352975524961948, -0.007993493229150772, -0.008915065787732601, 0.022274591028690338, 0.01722882129251957, 0.015490253455936909, 0.013673252426087856, 0.01844451203942299, 0.020405303686857224, -0.010607882402837276, -0.024379175156354904, 0.0046960958279669285, 0.012862792238593102, 0.027058923617005348, 0.004973874427378178, 0.01610463485121727, -0.024078520014882088, -0.023333419114351273, 0.019189612939953804, 0.006647083442658186, -0.0064117880538105965, -0.009503303095698357, -0.01217651553452015, 0.01877131126821041, 0.014575216919183731, -0.010810497216880322, -0.05845773220062256, -0.0050523062236607075, 0.02805239148437977, 0.028679843991994858, -0.004130734130740166, 0.016575224697589874, 0.029987039044499397, 0.018928173929452896, -0.010875857435166836, -0.004751651547849178, -0.0016372608952224255, -0.010973896831274033, -0.0022254984360188246, -0.0005759824998676777, 0.007607871200889349, -0.0038660273421555758, -0.0025964148808270693, -0.015189598314464092, -0.00039787727291695774, 0.03929426148533821, 0.0017303985077887774, 1.956961932592094e-05, 0.010470626875758171, -0.0077516622841358185, -0.004267989657819271, 0.012751680798828602, -0.026457613334059715, 0.03884981572628021, 0.01614385098218918, -0.009875853545963764, 0.026640620082616806, -0.007084993179887533, 0.004836618900299072, -0.007843165658414364, 0.014431425370275974, -0.002102948958054185, -0.019464123994112015, -0.00031209265580400825, 0.02499355562031269, -0.023307275027036667, 0.003535960800945759, 0.013673252426087856, 0.005372568964958191, -0.025738656520843506, -0.0024656953755766153, -0.008745130151510239, -0.0003656059270724654, 0.027843238785862923, 0.015411821193993092, -0.017607908695936203, -0.00990199763327837, -0.004843154922127724, -0.022405311465263367, 0.018745167180895805, 0.029490305110812187, -0.017882417887449265, 0.014849727973341942, -0.007268000394105911, -0.011588278226554394, -0.008503299206495285, -0.015712475404143333, -0.00578433508053422, -0.026758268475532532, 0.00940526369959116, 0.029699455946683884, 0.0019150397274643183, 0.0193987637758255, -0.009882389567792416, 0.014379138126969337, 0.003522888757288456, 0.00018658157205209136, 0.016117706894874573, -0.00841179583221674, 0.013725540600717068, -0.032549139112234116, -0.021228836849331856, -0.03568640723824501, -0.014026195742189884, -0.0008218984585255384, -0.008516371250152588, -0.02169942669570446, -0.018431439995765686, 0.01745104417204857, -0.0236863624304533, 0.01615692302584648, 0.011529454030096531, 0.010941216722130775, -0.012032723985612392, 0.014156915247440338, -0.030928218737244606, -0.015398749150335789, 0.009339903481304646, 0.02576480060815811, -0.020353015512228012, -0.0035000129137188196, 0.011496773920953274, 0.01755562052130699, 0.004375833086669445, 0.023960871621966362, 0.0010759843280538917, -0.022993547841906548, -0.021764785051345825, -0.07691531628370285, -0.004950998816639185, 0.025411857292056084, 0.008045781403779984, 0.012568674050271511, -0.007078457623720169, 0.002808833960443735, -0.0012647105613723397, -0.024013159796595573, -0.011895468458533287, -0.001453436678275466, -0.012202659621834755, 0.010503306984901428, -0.013555604964494705, -0.0241308081895113, -0.03539882227778435, 0.023385707288980484, -0.0009861147264018655, 0.01687587983906269, 0.015908556059002876, 0.008379115723073483, 0.004686291795223951, 0.0054738763719797134, 0.007457543630152941, -0.011248406954109669, 0.00525492150336504, -0.028888994827866554, 0.020862821489572525, -0.014052338898181915, -0.014130771160125732, -0.015215742401778698, -0.02567329630255699, -0.0026487025897949934, 0.01007846836000681, -0.020954325795173645, -0.020000074058771133, 0.014104627072811127, 0.013503317721188068, 0.01224841084331274, 0.007248392794281244, -0.017163461074233055, -0.03108508139848709, 0.008248396217823029, 0.0053660329431295395, -0.0329151526093483, 0.012039260007441044, -0.01713731698691845, 0.006173225119709969, 0.03500666469335556, 0.0009803957073017955, 0.007032705470919609, 0.011934684589505196, -0.012549065984785557, -0.012542529962956905, 0.014888943172991276, -0.01190854050219059, 0.037830203771591187, 0.010542522184550762, -0.010712457820773125, -0.027398793026804924, 0.027032779529690742, 0.001944451592862606, -0.014719008468091488, -0.004954266361892223, 0.01579090766608715, -0.002980403136461973, -0.012052332051098347, 0.009601342491805553, 0.004153610207140446, -0.02534649893641472, -0.009941212832927704, 0.007424863986670971, 0.023150412365794182, 0.01168631762266159, -0.018836671486496925, -0.012601353228092194, 0.0020163473673164845, -0.03720274940133095, -0.03532039001584053, 0.03160795941948891, 0.017111174762248993, 0.004503284581005573, -0.017581764608621597, 0.004199361894279718, 0.009287616237998009, 0.05349039286375046, -0.004320277366787195, 0.0013856260338798165, -0.006718978751450777, 0.034536074846982956, 0.014758224599063396, 0.010235331952571869, -0.01136605441570282, 0.034170061349868774, -0.022222304716706276, 0.046117816120386124, 0.01601313054561615, -0.0072222487069666386, 0.030875930562615395, 0.03132037818431854, 0.027503369376063347, -0.000991016742773354, -0.004676487762480974, -0.005245117470622063, -0.010268012061715126, 0.004957534372806549, -0.022719038650393486, -0.02896742708981037, -0.011052328161895275, -0.010947752743959427, 0.018235361203551292, -0.008915065787732601, 0.0050751818343997, 0.02692820318043232, -0.025464145466685295, 0.011647101491689682, 0.008967353031039238, -0.00462420005351305, -0.023333419114351273, 0.022849757224321365, 0.01809157058596611, 0.011006576009094715, 0.02039223164319992, -0.007509831339120865, 0.008281076326966286, 0.021398771554231644, -0.0030522989109158516, 0.006192833185195923, 0.015490253455936909, 0.009555590339004993, 0.0023366098757833242, -0.00282517378218472, -0.02015693672001362, -0.01511116698384285, -0.02056216634809971, 0.01647064834833145, -0.037281181663274765, 0.021268051117658615, -0.02711120992898941, 0.05124201998114586, 0.00013633628259412944, -0.025607937946915627, 0.01993471384048462, -0.01389547623693943, 0.01566018909215927, 0.004692827817052603, 0.009594806469976902, -0.025607937946915627, -0.009006569162011147, 0.0029591612983494997, -0.015359533950686455, 0.00047222396824508905, -0.006849698256701231, -0.049333516508340836, 0.0069542741402983665, 0.014888943172991276, -0.0003425257746130228, -0.01247063372284174, 0.017215749248862267, 0.014078482985496521, 0.007908525876700878, -0.010215723887085915, 0.022457599639892578, -0.027712520211935043, -0.010764745064079762, 0.01427456270903349, -0.0036993599496781826, 0.006483683828264475, -0.03830079361796379, 0.013437957502901554, 0.0025163490790873766, -0.026326894760131836, -0.01925497315824032, 0.00820918008685112, -0.02070595882833004, -0.022902045398950577, -0.01588241197168827, 0.0030130830127745867, 0.018392223864793777, 0.022810541093349457, 0.030928218737244606, -0.029019715264439583, -0.024692900478839874, 0.052261628210544586, -0.010549058206379414, -0.014065410941839218, 0.00963402260094881, 0.00562747148796916]\n",
      "1536\n"
     ]
    }
   ],
   "source": [
    "print(positive_review)\n",
    "print(len(positive_review))"
   ]
  },
  {
   "cell_type": "code",
   "execution_count": 33,
   "metadata": {},
   "outputs": [
    {
     "name": "stdout",
     "output_type": "stream",
     "text": [
      "Cosine Similarity between positive and neutual review: 0.9348103775852385\n"
     ]
    }
   ],
   "source": [
    "print(\"Cosine Similarity between positive and neutual review:\", cosine_similarity(positive_review, negative_review))"
   ]
  },
  {
   "cell_type": "code",
   "execution_count": 34,
   "metadata": {},
   "outputs": [
    {
     "name": "stdout",
     "output_type": "stream",
     "text": [
      "Cosine Similarity between positive review and itself: 1.0000000000000002\n"
     ]
    }
   ],
   "source": [
    "print(\"Cosine Similarity between positive review and itself:\", cosine_similarity(positive_review, positive_review))"
   ]
  },
  {
   "cell_type": "code",
   "execution_count": 35,
   "metadata": {},
   "outputs": [
    {
     "name": "stdout",
     "output_type": "stream",
     "text": [
      "Cosine Similarity between positive and good restaurant review: 0.8378337749480329\n",
      "Cosine Similarity between negative and good restaurant review: 0.8045361482843162\n"
     ]
    }
   ],
   "source": [
    "good_restraurant = get_embedding(\"这家餐馆太好吃了，一点都不糟糕\", engine=EMBEDDING_MODEL)\n",
    "bad_restraurant = get_embedding(\"这家餐馆太糟糕了，一点都不好吃\", engine=EMBEDDING_MODEL)\n",
    "\n",
    "print(\"Cosine Similarity between positive and good restaurant review:\", cosine_similarity(positive_review, good_restraurant))\n",
    "print(\"Cosine Similarity between negative and good restaurant review:\", cosine_similarity(negative_review, good_restraurant))\n"
   ]
  },
  {
   "cell_type": "code",
   "execution_count": 36,
   "metadata": {},
   "outputs": [
    {
     "name": "stdout",
     "output_type": "stream",
     "text": [
      "好评例子的评分 : 0.033298\n",
      "差评例子的评分 : -0.027249\n"
     ]
    }
   ],
   "source": [
    "\n",
    "def get_score(sample_embedding):\n",
    "  return cosine_similarity(sample_embedding, positive_review) - cosine_similarity(sample_embedding, negative_review)\n",
    "\n",
    "positive_score = get_score(good_restraurant)\n",
    "negative_score = get_score(bad_restraurant)\n",
    "\n",
    "\n",
    "print(\"好评例子的评分 : %f\" % (positive_score))\n",
    "print(\"差评例子的评分 : %f\" % (negative_score))\n"
   ]
  },
  {
   "cell_type": "markdown",
   "metadata": {},
   "source": [
    "### 生成一个正交的，Cosine Similarity 为 0 的向量"
   ]
  },
  {
   "cell_type": "code",
   "execution_count": 38,
   "metadata": {},
   "outputs": [
    {
     "name": "stdout",
     "output_type": "stream",
     "text": [
      "-9.09016681580666e-18\n"
     ]
    }
   ],
   "source": [
    "import numpy as np\n",
    "\n",
    "# 假设原向量是一个高维向量\n",
    "original_vector = np.array(positive_review)\n",
    "\n",
    "# 对原向量进行归一化\n",
    "original_vector /= np.linalg.norm(original_vector)\n",
    "\n",
    "# 从单位高斯分布中随机抽取一个向量\n",
    "random_vector = np.random.randn(len(original_vector))\n",
    "\n",
    "# 从随机向量中减去在原向量方向上的分量\n",
    "orthogonal_vector = random_vector - random_vector.dot(original_vector) * original_vector\n",
    "\n",
    "# 验证新向量与原向量是否正交（即它们的余弦相似度是否为0）\n",
    "cos_sim = np.dot(original_vector, orthogonal_vector) / (np.linalg.norm(original_vector) * np.linalg.norm(orthogonal_vector))\n",
    "print(cos_sim)  # 这个值应该接近0\n"
   ]
  },
  {
   "cell_type": "markdown",
   "metadata": {},
   "source": [
    "### 降维可视化向量"
   ]
  },
  {
   "cell_type": "code",
   "execution_count": 39,
   "metadata": {},
   "outputs": [],
   "source": [
    "import matplotlib.pyplot as plt\n",
    "from sklearn.decomposition import PCA\n",
    "\n",
    "def visualize_words(words,vectors):\n",
    "    # Create a PCA object and fit_transform the vectors\n",
    "    pca = PCA(n_components=2)\n",
    "    pca_result = pca.fit_transform(vectors)\n",
    "\n",
    "    # Create a color map\n",
    "    colors = [\"b\", \"g\", \"r\", \"c\"]\n",
    "\n",
    "    # Plot each word in 2D space using PCA results\n",
    "    for i, word in enumerate(words):\n",
    "        plt.scatter(pca_result[i, 0], pca_result[i, 1], c=colors[i], label=word)\n",
    "        plt.annotate(word, xy=(pca_result[i, 0], pca_result[i, 1]))\n",
    "\n",
    "    plt.legend()\n",
    "    plt.show()"
   ]
  },
  {
   "cell_type": "code",
   "execution_count": 41,
   "metadata": {},
   "outputs": [
    {
     "data": {
      "image/png": "[encoded data removed]",
      "text/plain": [
       "<Figure size 640x480 with 1 Axes>"
      ]
     },
     "metadata": {},
     "output_type": "display_data"
    }
   ],
   "source": [
    "words = [f\"Positive\", \"Negative\", \"Good Restaurant\", \"Bad Restaurant\"]\n",
    "vectors = [np.array(x) for x in [positive_review, negative_review, good_restraurant, bad_restraurant]]\n",
    "\n",
    "visualize_words(words, vectors)"
   ]
  },
  {
   "cell_type": "code",
   "execution_count": 45,
   "metadata": {},
   "outputs": [
    {
     "data": {
      "image/png": "[encoded data removed]",
      "text/plain": [
       "<Figure size 640x480 with 1 Axes>"
      ]
     },
     "metadata": {},
     "output_type": "display_data"
    }
   ],
   "source": [
    "good_phone = get_embedding(\"买的银色版真的很好看，一天就到了，晚上就开始拿起来完系统很丝滑流畅，做工扎实，手感细腻，很精致哦苹果一如既往的好品质\", engine=EMBEDDING_MODEL)\n",
    "bad_phone = get_embedding(\"随意降价，不予价保，服务态度差\", engine=EMBEDDING_MODEL)\n",
    "\n",
    "words = [f\"Positive\", \"Negative\", \"Good Phone\", \"Bad Phone\"]\n",
    "vectors = [np.array(x) for x in [positive_review, negative_review, good_phone, bad_phone]]\n",
    "\n",
    "visualize_words(words, vectors)\n"
   ]
  },
  {
   "cell_type": "markdown",
   "metadata": {},
   "source": [
    "### 通过向量进行零样本分类"
   ]
  },
  {
   "cell_type": "code",
   "execution_count": 46,
   "metadata": {},
   "outputs": [],
   "source": [
    "import pandas as pd\n",
    "import numpy as np\n",
    "\n",
    "from sklearn.metrics import classification_report\n",
    "\n",
    "datafile_path = \"data/fine_food_reviews_with_embeddings_1k.csv\"\n",
    "\n",
    "df = pd.read_csv(datafile_path)\n",
    "df[\"embedding\"] = df.embedding.apply(eval).apply(np.array) # type: ignore\n",
    "\n",
    "# convert 5-star rating to binary sentiment\n",
    "df = df[df.Score != 3]\n",
    "df[\"sentiment\"] = df.Score.replace({1: \"negative\", 2: \"negative\", 4: \"positive\", 5: \"positive\"})"
   ]
  },
  {
   "cell_type": "code",
   "execution_count": 47,
   "metadata": {},
   "outputs": [
    {
     "data": {
      "text/html": [
       "<div>\n",
       "<style scoped>\n",
       "    .dataframe tbody tr th:only-of-type {\n",
       "        vertical-align: middle;\n",
       "    }\n",
       "\n",
       "    .dataframe tbody tr th {\n",
       "        vertical-align: top;\n",
       "    }\n",
       "\n",
       "    .dataframe thead th {\n",
       "        text-align: right;\n",
       "    }\n",
       "</style>\n",
       "<table border=\"1\" class=\"dataframe\">\n",
       "  <thead>\n",
       "    <tr style=\"text-align: right;\">\n",
       "      <th></th>\n",
       "      <th>Unnamed: 0</th>\n",
       "      <th>ProductId</th>\n",
       "      <th>UserId</th>\n",
       "      <th>Score</th>\n",
       "      <th>Summary</th>\n",
       "      <th>Text</th>\n",
       "      <th>combined</th>\n",
       "      <th>n_tokens</th>\n",
       "      <th>embedding</th>\n",
       "      <th>sentiment</th>\n",
       "    </tr>\n",
       "  </thead>\n",
       "  <tbody>\n",
       "    <tr>\n",
       "      <th>0</th>\n",
       "      <td>0</td>\n",
       "      <td>B003XPF9BO</td>\n",
       "      <td>A3R7JR3FMEBXQB</td>\n",
       "      <td>5</td>\n",
       "      <td>where does one  start...and stop... with a tre...</td>\n",
       "      <td>Wanted to save some to bring to my Chicago fam...</td>\n",
       "      <td>Title: where does one  start...and stop... wit...</td>\n",
       "      <td>52</td>\n",
       "      <td>[0.007018072064965963, -0.02731654793024063, 0...</td>\n",
       "      <td>positive</td>\n",
       "    </tr>\n",
       "    <tr>\n",
       "      <th>1</th>\n",
       "      <td>297</td>\n",
       "      <td>B003VXHGPK</td>\n",
       "      <td>A21VWSCGW7UUAR</td>\n",
       "      <td>4</td>\n",
       "      <td>Good, but not Wolfgang Puck good</td>\n",
       "      <td>Honestly, I have to admit that I expected a li...</td>\n",
       "      <td>Title: Good, but not Wolfgang Puck good; Conte...</td>\n",
       "      <td>178</td>\n",
       "      <td>[-0.003140551969408989, -0.009995664469897747,...</td>\n",
       "      <td>positive</td>\n",
       "    </tr>\n",
       "    <tr>\n",
       "      <th>2</th>\n",
       "      <td>296</td>\n",
       "      <td>B008JKTTUA</td>\n",
       "      <td>A34XBAIFT02B60</td>\n",
       "      <td>1</td>\n",
       "      <td>Should advertise coconut as an ingredient more...</td>\n",
       "      <td>First, these should be called Mac - Coconut ba...</td>\n",
       "      <td>Title: Should advertise coconut as an ingredie...</td>\n",
       "      <td>78</td>\n",
       "      <td>[-0.01757248118519783, -8.266511576948687e-05,...</td>\n",
       "      <td>negative</td>\n",
       "    </tr>\n",
       "    <tr>\n",
       "      <th>3</th>\n",
       "      <td>295</td>\n",
       "      <td>B000LKTTTW</td>\n",
       "      <td>A14MQ40CCU8B13</td>\n",
       "      <td>5</td>\n",
       "      <td>Best tomato soup</td>\n",
       "      <td>I have a hard time finding packaged food of an...</td>\n",
       "      <td>Title: Best tomato soup; Content: I have a har...</td>\n",
       "      <td>111</td>\n",
       "      <td>[-0.0013932279543951154, -0.011112828738987446...</td>\n",
       "      <td>positive</td>\n",
       "    </tr>\n",
       "    <tr>\n",
       "      <th>4</th>\n",
       "      <td>294</td>\n",
       "      <td>B001D09KAM</td>\n",
       "      <td>A34XBAIFT02B60</td>\n",
       "      <td>1</td>\n",
       "      <td>Should advertise coconut as an ingredient more...</td>\n",
       "      <td>First, these should be called Mac - Coconut ba...</td>\n",
       "      <td>Title: Should advertise coconut as an ingredie...</td>\n",
       "      <td>78</td>\n",
       "      <td>[-0.01757248118519783, -8.266511576948687e-05,...</td>\n",
       "      <td>negative</td>\n",
       "    </tr>\n",
       "  </tbody>\n",
       "</table>\n",
       "</div>"
      ],
      "text/plain": [
       "   Unnamed: 0   ProductId          UserId  Score   \n",
       "0           0  B003XPF9BO  A3R7JR3FMEBXQB      5  \\\n",
       "1         297  B003VXHGPK  A21VWSCGW7UUAR      4   \n",
       "2         296  B008JKTTUA  A34XBAIFT02B60      1   \n",
       "3         295  B000LKTTTW  A14MQ40CCU8B13      5   \n",
       "4         294  B001D09KAM  A34XBAIFT02B60      1   \n",
       "\n",
       "                                             Summary   \n",
       "0  where does one  start...and stop... with a tre...  \\\n",
       "1                   Good, but not Wolfgang Puck good   \n",
       "2  Should advertise coconut as an ingredient more...   \n",
       "3                                   Best tomato soup   \n",
       "4  Should advertise coconut as an ingredient more...   \n",
       "\n",
       "                                                Text   \n",
       "0  Wanted to save some to bring to my Chicago fam...  \\\n",
       "1  Honestly, I have to admit that I expected a li...   \n",
       "2  First, these should be called Mac - Coconut ba...   \n",
       "3  I have a hard time finding packaged food of an...   \n",
       "4  First, these should be called Mac - Coconut ba...   \n",
       "\n",
       "                                            combined  n_tokens   \n",
       "0  Title: where does one  start...and stop... wit...        52  \\\n",
       "1  Title: Good, but not Wolfgang Puck good; Conte...       178   \n",
       "2  Title: Should advertise coconut as an ingredie...        78   \n",
       "3  Title: Best tomato soup; Content: I have a har...       111   \n",
       "4  Title: Should advertise coconut as an ingredie...        78   \n",
       "\n",
       "                                           embedding sentiment  \n",
       "0  [0.007018072064965963, -0.02731654793024063, 0...  positive  \n",
       "1  [-0.003140551969408989, -0.009995664469897747,...  positive  \n",
       "2  [-0.01757248118519783, -8.266511576948687e-05,...  negative  \n",
       "3  [-0.0013932279543951154, -0.011112828738987446...  positive  \n",
       "4  [-0.01757248118519783, -8.266511576948687e-05,...  negative  "
      ]
     },
     "execution_count": 47,
     "metadata": {},
     "output_type": "execute_result"
    }
   ],
   "source": [
    "df.head()"
   ]
  },
  {
   "cell_type": "code",
   "execution_count": 49,
   "metadata": {},
   "outputs": [
    {
     "name": "stdout",
     "output_type": "stream",
     "text": [
      "              precision    recall  f1-score   support\n",
      "\n",
      "    negative       0.98      0.73      0.84       136\n",
      "    positive       0.96      1.00      0.98       789\n",
      "\n",
      "    accuracy                           0.96       925\n",
      "   macro avg       0.97      0.86      0.91       925\n",
      "weighted avg       0.96      0.96      0.96       925\n",
      "\n"
     ]
    },
    {
     "data": {
      "image/png": "[encoded data removed]",
      "text/plain": [
       "<Figure size 640x480 with 1 Axes>"
      ]
     },
     "metadata": {},
     "output_type": "display_data"
    }
   ],
   "source": [
    "from sklearn.metrics import PrecisionRecallDisplay\n",
    "from openai.embeddings_utils import cosine_similarity, get_embedding\n",
    "\n",
    "def evaluate_embeddings_approach(\n",
    "    labels = ['negative', 'positive'], \n",
    "    model = EMBEDDING_MODEL,\n",
    "):\n",
    "    label_embeddings = [get_embedding(label, engine=model) for label in labels]\n",
    "\n",
    "    def label_score(review_embedding, label_embeddings):\n",
    "        return cosine_similarity(review_embedding, label_embeddings[1]) - cosine_similarity(review_embedding, label_embeddings[0])\n",
    "\n",
    "    probas = df[\"embedding\"].apply(lambda x: label_score(x, label_embeddings))\n",
    "    preds = probas.apply(lambda x: 'positive' if x>0 else 'negative')\n",
    "\n",
    "    report = classification_report(df.sentiment, preds)\n",
    "    print(report)\n",
    "\n",
    "    display = PrecisionRecallDisplay.from_predictions(df.sentiment, probas, pos_label='positive')\n",
    "    _ = display.ax_.set_title(\"2-class Precision-Recall curve\")\n",
    "\n",
    "evaluate_embeddings_approach(labels=['An Amazon review with a negative sentiment.', 'An Amazon review with a positive sentiment.'])"
   ]
  },
  {
   "cell_type": "markdown",
   "metadata": {},
   "source": [
    "### 通过机器学习进行分类"
   ]
  },
  {
   "cell_type": "code",
   "execution_count": 66,
   "metadata": {},
   "outputs": [
    {
     "name": "stderr",
     "output_type": "stream",
     "text": [
      "/Users/xuwenhao/miniconda3/envs/mactalk/lib/python3.10/site-packages/sklearn/linear_model/_logistic.py:458: ConvergenceWarning: lbfgs failed to converge (status=1):\n",
      "STOP: TOTAL NO. of ITERATIONS REACHED LIMIT.\n",
      "\n",
      "Increase the number of iterations (max_iter) or scale the data as shown in:\n",
      "    https://scikit-learn.org/stable/modules/preprocessing.html\n",
      "Please also refer to the documentation for alternative solver options:\n",
      "    https://scikit-learn.org/stable/modules/linear_model.html#logistic-regression\n",
      "  n_iter_i = _check_optimize_result(\n"
     ]
    },
    {
     "name": "stdout",
     "output_type": "stream",
     "text": [
      "                    precision    recall  f1-score   support\n",
      "\n",
      "  news_agriculture       0.82      0.87      0.85       495\n",
      "          news_car       0.90      0.92      0.91       895\n",
      "      news_culture       0.78      0.81      0.79       741\n",
      "          news_edu       0.88      0.90      0.89       708\n",
      "news_entertainment       0.83      0.87      0.85      1051\n",
      "      news_finance       0.79      0.76      0.77       735\n",
      "         news_game       0.90      0.85      0.88       742\n",
      "        news_house       0.90      0.89      0.89       450\n",
      "     news_military       0.86      0.80      0.83       688\n",
      "       news_sports       0.93      0.92      0.93       968\n",
      "        news_story       0.81      0.73      0.77       197\n",
      "         news_tech       0.83      0.84      0.84      1052\n",
      "       news_travel       0.80      0.77      0.78       599\n",
      "        news_world       0.76      0.79      0.77       671\n",
      "             stock       0.00      0.00      0.00         8\n",
      "\n",
      "          accuracy                           0.85     10000\n",
      "         macro avg       0.79      0.78      0.78     10000\n",
      "      weighted avg       0.85      0.85      0.85     10000\n",
      "\n"
     ]
    },
    {
     "name": "stderr",
     "output_type": "stream",
     "text": [
      "/Users/xuwenhao/miniconda3/envs/mactalk/lib/python3.10/site-packages/sklearn/metrics/_classification.py:1344: UndefinedMetricWarning: Precision and F-score are ill-defined and being set to 0.0 in labels with no predicted samples. Use `zero_division` parameter to control this behavior.\n",
      "  _warn_prf(average, modifier, msg_start, len(result))\n",
      "/Users/xuwenhao/miniconda3/envs/mactalk/lib/python3.10/site-packages/sklearn/metrics/_classification.py:1344: UndefinedMetricWarning: Precision and F-score are ill-defined and being set to 0.0 in labels with no predicted samples. Use `zero_division` parameter to control this behavior.\n",
      "  _warn_prf(average, modifier, msg_start, len(result))\n",
      "/Users/xuwenhao/miniconda3/envs/mactalk/lib/python3.10/site-packages/sklearn/metrics/_classification.py:1344: UndefinedMetricWarning: Precision and F-score are ill-defined and being set to 0.0 in labels with no predicted samples. Use `zero_division` parameter to control this behavior.\n",
      "  _warn_prf(average, modifier, msg_start, len(result))\n"
     ]
    }
   ],
   "source": [
    "from sklearn.linear_model import LogisticRegression\n",
    "from sklearn.model_selection import train_test_split\n",
    "from sklearn.metrics import classification_report, accuracy_score\n",
    "\n",
    "training_data = pd.read_parquet(\"data/toutiao_cat_data_all_with_embeddings.parquet\")\n",
    "\n",
    "df =  training_data.sample(50000, random_state=42)\n",
    "\n",
    "X_train, X_test, y_train, y_test = train_test_split(\n",
    "    list(df.embedding.values), df.category, test_size=0.2, random_state=42\n",
    ")\n",
    "\n",
    "clf = LogisticRegression()\n",
    "clf.fit(X_train, y_train)\n",
    "preds = clf.predict(X_test)\n",
    "probas = clf.predict_proba(X_test)\n",
    "\n",
    "report = classification_report(y_test, preds)\n",
    "print(report)"
   ]
  },
  {
   "cell_type": "code",
   "execution_count": 67,
   "metadata": {},
   "outputs": [
    {
     "data": {
      "text/html": [
       "<div>\n",
       "<style scoped>\n",
       "    .dataframe tbody tr th:only-of-type {\n",
       "        vertical-align: middle;\n",
       "    }\n",
       "\n",
       "    .dataframe tbody tr th {\n",
       "        vertical-align: top;\n",
       "    }\n",
       "\n",
       "    .dataframe thead th {\n",
       "        text-align: right;\n",
       "    }\n",
       "</style>\n",
       "<table border=\"1\" class=\"dataframe\">\n",
       "  <thead>\n",
       "    <tr style=\"text-align: right;\">\n",
       "      <th></th>\n",
       "      <th>id</th>\n",
       "      <th>code</th>\n",
       "      <th>category</th>\n",
       "      <th>title</th>\n",
       "      <th>keywords</th>\n",
       "      <th>combined</th>\n",
       "      <th>n_tokens</th>\n",
       "      <th>embedding</th>\n",
       "    </tr>\n",
       "  </thead>\n",
       "  <tbody>\n",
       "    <tr>\n",
       "      <th>306237</th>\n",
       "      <td>6524143112997044743</td>\n",
       "      <td>100</td>\n",
       "      <td>news_story</td>\n",
       "      <td>将女儿扔老家10年后我接她回家，没多久妻子被杀我才知她身份不对</td>\n",
       "      <td>小安,不好意思,她在杀人,星期六,女孩儿,超能力,工程事故,冯为杰,冯欣冉,浏览器,狄海</td>\n",
       "      <td>标题: 将女儿扔老家10年后我接她回家，没多久妻子被杀我才知她身份不对; 关键字: 小安,不...</td>\n",
       "      <td>110</td>\n",
       "      <td>[-0.015406427904963493, -0.007328800391405821,...</td>\n",
       "    </tr>\n",
       "    <tr>\n",
       "      <th>123419</th>\n",
       "      <td>6553127618529460483</td>\n",
       "      <td>101</td>\n",
       "      <td>news_culture</td>\n",
       "      <td>在中国古代，有没有人认为地球是圆的呢？</td>\n",
       "      <td></td>\n",
       "      <td>标题: 在中国古代，有没有人认为地球是圆的呢？; 关键字:</td>\n",
       "      <td>28</td>\n",
       "      <td>[0.023000160232186317, -0.004472616594284773, ...</td>\n",
       "    </tr>\n",
       "    <tr>\n",
       "      <th>49255</th>\n",
       "      <td>6511643474234704135</td>\n",
       "      <td>113</td>\n",
       "      <td>news_world</td>\n",
       "      <td>先冻结房产，再冻结养老活命钱，韩国为何如此苛刻对待前总统朴槿惠？</td>\n",
       "      <td>前总统,朴槿惠,检方,韩国,韩国法院</td>\n",
       "      <td>标题: 先冻结房产，再冻结养老活命钱，韩国为何如此苛刻对待前总统朴槿惠？; 关键字: 前总统...</td>\n",
       "      <td>81</td>\n",
       "      <td>[0.0021718391217291355, -0.01761491596698761, ...</td>\n",
       "    </tr>\n",
       "    <tr>\n",
       "      <th>135430</th>\n",
       "      <td>6553195755832606979</td>\n",
       "      <td>109</td>\n",
       "      <td>news_tech</td>\n",
       "      <td>电脑总是无响应是什么回事？</td>\n",
       "      <td></td>\n",
       "      <td>标题: 电脑总是无响应是什么回事？; 关键字:</td>\n",
       "      <td>26</td>\n",
       "      <td>[-0.01490439660847187, -0.012121899053454399, ...</td>\n",
       "    </tr>\n",
       "    <tr>\n",
       "      <th>331509</th>\n",
       "      <td>6554427356038038019</td>\n",
       "      <td>113</td>\n",
       "      <td>news_world</td>\n",
       "      <td>中国宣布全面终止合作，这个国家将付出沉重代价！</td>\n",
       "      <td>天然气,出口商,煤炭,中方,澳大利亚</td>\n",
       "      <td>标题: 中国宣布全面终止合作，这个国家将付出沉重代价！; 关键字: 天然气,出口商,煤炭,中...</td>\n",
       "      <td>59</td>\n",
       "      <td>[-0.01608712412416935, -0.033476412296295166, ...</td>\n",
       "    </tr>\n",
       "  </tbody>\n",
       "</table>\n",
       "</div>"
      ],
      "text/plain": [
       "                         id  code      category   \n",
       "306237  6524143112997044743   100    news_story  \\\n",
       "123419  6553127618529460483   101  news_culture   \n",
       "49255   6511643474234704135   113    news_world   \n",
       "135430  6553195755832606979   109     news_tech   \n",
       "331509  6554427356038038019   113    news_world   \n",
       "\n",
       "                                   title   \n",
       "306237   将女儿扔老家10年后我接她回家，没多久妻子被杀我才知她身份不对  \\\n",
       "123419               在中国古代，有没有人认为地球是圆的呢？   \n",
       "49255   先冻结房产，再冻结养老活命钱，韩国为何如此苛刻对待前总统朴槿惠？   \n",
       "135430                     电脑总是无响应是什么回事？   \n",
       "331509           中国宣布全面终止合作，这个国家将付出沉重代价！   \n",
       "\n",
       "                                            keywords   \n",
       "306237  小安,不好意思,她在杀人,星期六,女孩儿,超能力,工程事故,冯为杰,冯欣冉,浏览器,狄海  \\\n",
       "123419                                                 \n",
       "49255                             前总统,朴槿惠,检方,韩国,韩国法院   \n",
       "135430                                                 \n",
       "331509                            天然气,出口商,煤炭,中方,澳大利亚   \n",
       "\n",
       "                                                 combined  n_tokens   \n",
       "306237  标题: 将女儿扔老家10年后我接她回家，没多久妻子被杀我才知她身份不对; 关键字: 小安,不...       110  \\\n",
       "123419                     标题: 在中国古代，有没有人认为地球是圆的呢？; 关键字:         28   \n",
       "49255   标题: 先冻结房产，再冻结养老活命钱，韩国为何如此苛刻对待前总统朴槿惠？; 关键字: 前总统...        81   \n",
       "135430                           标题: 电脑总是无响应是什么回事？; 关键字:         26   \n",
       "331509  标题: 中国宣布全面终止合作，这个国家将付出沉重代价！; 关键字: 天然气,出口商,煤炭,中...        59   \n",
       "\n",
       "                                                embedding  \n",
       "306237  [-0.015406427904963493, -0.007328800391405821,...  \n",
       "123419  [0.023000160232186317, -0.004472616594284773, ...  \n",
       "49255   [0.0021718391217291355, -0.01761491596698761, ...  \n",
       "135430  [-0.01490439660847187, -0.012121899053454399, ...  \n",
       "331509  [-0.01608712412416935, -0.033476412296295166, ...  "
      ]
     },
     "execution_count": 67,
     "metadata": {},
     "output_type": "execute_result"
    }
   ],
   "source": [
    "df.head()"
   ]
  },
  {
   "cell_type": "code",
   "execution_count": 68,
   "metadata": {},
   "outputs": [
    {
     "name": "stdout",
     "output_type": "stream",
     "text": [
      "Prediction: news_sports\n"
     ]
    }
   ],
   "source": [
    "sports_news = get_embedding(\"【西海岸】ESPN：马龙教练不容易，保持核心掘金能复刻冠军\", engine=EMBEDDING_MODEL)\n",
    "prediction = clf.predict([sports_news])[0]\n",
    "print(f\"Prediction: {prediction}\")"
   ]
  },
  {
   "cell_type": "code",
   "execution_count": 69,
   "metadata": {},
   "outputs": [
    {
     "name": "stdout",
     "output_type": "stream",
     "text": [
      "Prediction: news_finance\n"
     ]
    }
   ],
   "source": [
    "finance_news = get_embedding(\"北上资金净买入超百亿元 重点加仓新能源汽车产业\", engine=EMBEDDING_MODEL)\n",
    "prediction = clf.predict([finance_news])[0]\n",
    "print(f\"Prediction: {prediction}\")"
   ]
  },
  {
   "cell_type": "markdown",
   "metadata": {},
   "source": [
    "### 通过机器学习进行聚类"
   ]
  },
  {
   "cell_type": "code",
   "execution_count": 70,
   "metadata": {},
   "outputs": [],
   "source": [
    "import numpy as np\n",
    "from sklearn.cluster import KMeans\n",
    "\n",
    "embedding_df = pd.read_parquet(\"data/20_newsgroup_with_embedding.parquet\")\n",
    "\n",
    "matrix = np.vstack(embedding_df.embedding.values) # type: ignore\n",
    "num_of_clusters = 20\n",
    "\n",
    "kmeans = KMeans(n_clusters=num_of_clusters, init=\"k-means++\", n_init=10, random_state=42)\n",
    "kmeans.fit(matrix)\n",
    "labels = kmeans.labels_\n",
    "embedding_df[\"cluster\"] = labels"
   ]
  },
  {
   "cell_type": "code",
   "execution_count": 71,
   "metadata": {},
   "outputs": [
    {
     "data": {
      "text/html": [
       "<div>\n",
       "<style scoped>\n",
       "    .dataframe tbody tr th:only-of-type {\n",
       "        vertical-align: middle;\n",
       "    }\n",
       "\n",
       "    .dataframe tbody tr th {\n",
       "        vertical-align: top;\n",
       "    }\n",
       "\n",
       "    .dataframe thead th {\n",
       "        text-align: right;\n",
       "    }\n",
       "</style>\n",
       "<table border=\"1\" class=\"dataframe\">\n",
       "  <thead>\n",
       "    <tr style=\"text-align: right;\">\n",
       "      <th></th>\n",
       "      <th>text</th>\n",
       "      <th>target</th>\n",
       "      <th>title</th>\n",
       "      <th>n_tokens</th>\n",
       "      <th>embedding</th>\n",
       "      <th>cluster</th>\n",
       "    </tr>\n",
       "  </thead>\n",
       "  <tbody>\n",
       "    <tr>\n",
       "      <th>0</th>\n",
       "      <td>I was wondering if anyone out there could enli...</td>\n",
       "      <td>7</td>\n",
       "      <td>rec.autos</td>\n",
       "      <td>121</td>\n",
       "      <td>[-0.0391300804913044, 0.013502633199095726, -0...</td>\n",
       "      <td>5</td>\n",
       "    </tr>\n",
       "    <tr>\n",
       "      <th>1</th>\n",
       "      <td>\\nIt depends on your priorities.  A lot of peo...</td>\n",
       "      <td>7</td>\n",
       "      <td>rec.autos</td>\n",
       "      <td>108</td>\n",
       "      <td>[-0.0011249205563217402, -0.00376517535187304,...</td>\n",
       "      <td>5</td>\n",
       "    </tr>\n",
       "    <tr>\n",
       "      <th>2</th>\n",
       "      <td>an excellent automatic can be found in the sub...</td>\n",
       "      <td>7</td>\n",
       "      <td>rec.autos</td>\n",
       "      <td>476</td>\n",
       "      <td>[-0.018259447067975998, -0.008410007692873478,...</td>\n",
       "      <td>5</td>\n",
       "    </tr>\n",
       "    <tr>\n",
       "      <th>3</th>\n",
       "      <td>: Ford and his automobile.  I need information...</td>\n",
       "      <td>7</td>\n",
       "      <td>rec.autos</td>\n",
       "      <td>86</td>\n",
       "      <td>[-0.012589422054588795, 0.006539034191519022, ...</td>\n",
       "      <td>5</td>\n",
       "    </tr>\n",
       "    <tr>\n",
       "      <th>4</th>\n",
       "      <td>\\nYo! Watch the attributions--I didn't say tha...</td>\n",
       "      <td>7</td>\n",
       "      <td>rec.autos</td>\n",
       "      <td>130</td>\n",
       "      <td>[-0.0006192282889969647, -0.011226896196603775...</td>\n",
       "      <td>10</td>\n",
       "    </tr>\n",
       "  </tbody>\n",
       "</table>\n",
       "</div>"
      ],
      "text/plain": [
       "                                                text  target      title   \n",
       "0  I was wondering if anyone out there could enli...       7  rec.autos  \\\n",
       "1  \\nIt depends on your priorities.  A lot of peo...       7  rec.autos   \n",
       "2  an excellent automatic can be found in the sub...       7  rec.autos   \n",
       "3  : Ford and his automobile.  I need information...       7  rec.autos   \n",
       "4  \\nYo! Watch the attributions--I didn't say tha...       7  rec.autos   \n",
       "\n",
       "   n_tokens                                          embedding  cluster  \n",
       "0       121  [-0.0391300804913044, 0.013502633199095726, -0...        5  \n",
       "1       108  [-0.0011249205563217402, -0.00376517535187304,...        5  \n",
       "2       476  [-0.018259447067975998, -0.008410007692873478,...        5  \n",
       "3        86  [-0.012589422054588795, 0.006539034191519022, ...        5  \n",
       "4       130  [-0.0006192282889969647, -0.011226896196603775...       10  "
      ]
     },
     "execution_count": 71,
     "metadata": {},
     "output_type": "execute_result"
    }
   ],
   "source": [
    "embedding_df.head()"
   ]
  },
  {
   "cell_type": "code",
   "execution_count": 72,
   "metadata": {},
   "outputs": [
    {
     "data": {
      "text/html": [
       "<div>\n",
       "<style scoped>\n",
       "    .dataframe tbody tr th:only-of-type {\n",
       "        vertical-align: middle;\n",
       "    }\n",
       "\n",
       "    .dataframe tbody tr th {\n",
       "        vertical-align: top;\n",
       "    }\n",
       "\n",
       "    .dataframe thead th {\n",
       "        text-align: right;\n",
       "    }\n",
       "</style>\n",
       "<table border=\"1\" class=\"dataframe\">\n",
       "  <thead>\n",
       "    <tr style=\"text-align: right;\">\n",
       "      <th></th>\n",
       "      <th>cluster</th>\n",
       "      <th>count</th>\n",
       "      <th>rank1</th>\n",
       "      <th>rank1_count</th>\n",
       "      <th>rank2</th>\n",
       "      <th>rank2_count</th>\n",
       "      <th>per_1</th>\n",
       "      <th>per_1_2</th>\n",
       "    </tr>\n",
       "  </thead>\n",
       "  <tbody>\n",
       "    <tr>\n",
       "      <th>0</th>\n",
       "      <td>0</td>\n",
       "      <td>432</td>\n",
       "      <td>comp.windows.x</td>\n",
       "      <td>406</td>\n",
       "      <td>comp.sys.mac.hardware</td>\n",
       "      <td>1.0</td>\n",
       "      <td>93.98%</td>\n",
       "      <td>94.21%</td>\n",
       "    </tr>\n",
       "    <tr>\n",
       "      <th>1</th>\n",
       "      <td>1</td>\n",
       "      <td>418</td>\n",
       "      <td>sci.space</td>\n",
       "      <td>388</td>\n",
       "      <td>alt.atheism</td>\n",
       "      <td>2.0</td>\n",
       "      <td>92.82%</td>\n",
       "      <td>93.30%</td>\n",
       "    </tr>\n",
       "    <tr>\n",
       "      <th>2</th>\n",
       "      <td>2</td>\n",
       "      <td>1035</td>\n",
       "      <td>comp.sys.ibm.pc.hardware</td>\n",
       "      <td>396</td>\n",
       "      <td>comp.sys.mac.hardware</td>\n",
       "      <td>387.0</td>\n",
       "      <td>38.26%</td>\n",
       "      <td>75.65%</td>\n",
       "    </tr>\n",
       "    <tr>\n",
       "      <th>3</th>\n",
       "      <td>3</td>\n",
       "      <td>471</td>\n",
       "      <td>rec.sport.hockey</td>\n",
       "      <td>455</td>\n",
       "      <td>0</td>\n",
       "      <td>0.0</td>\n",
       "      <td>96.60%</td>\n",
       "      <td>96.60%</td>\n",
       "    </tr>\n",
       "    <tr>\n",
       "      <th>4</th>\n",
       "      <td>4</td>\n",
       "      <td>716</td>\n",
       "      <td>talk.politics.misc</td>\n",
       "      <td>270</td>\n",
       "      <td>alt.atheism</td>\n",
       "      <td>150.0</td>\n",
       "      <td>37.71%</td>\n",
       "      <td>58.66%</td>\n",
       "    </tr>\n",
       "    <tr>\n",
       "      <th>5</th>\n",
       "      <td>5</td>\n",
       "      <td>511</td>\n",
       "      <td>rec.autos</td>\n",
       "      <td>420</td>\n",
       "      <td>comp.sys.mac.hardware</td>\n",
       "      <td>6.0</td>\n",
       "      <td>82.19%</td>\n",
       "      <td>83.37%</td>\n",
       "    </tr>\n",
       "    <tr>\n",
       "      <th>6</th>\n",
       "      <td>6</td>\n",
       "      <td>870</td>\n",
       "      <td>rec.motorcycles</td>\n",
       "      <td>100</td>\n",
       "      <td>alt.atheism</td>\n",
       "      <td>73.0</td>\n",
       "      <td>11.49%</td>\n",
       "      <td>19.89%</td>\n",
       "    </tr>\n",
       "    <tr>\n",
       "      <th>7</th>\n",
       "      <td>7</td>\n",
       "      <td>570</td>\n",
       "      <td>comp.os.ms-windows.misc</td>\n",
       "      <td>338</td>\n",
       "      <td>comp.sys.mac.hardware</td>\n",
       "      <td>46.0</td>\n",
       "      <td>59.30%</td>\n",
       "      <td>67.37%</td>\n",
       "    </tr>\n",
       "    <tr>\n",
       "      <th>8</th>\n",
       "      <td>8</td>\n",
       "      <td>435</td>\n",
       "      <td>talk.politics.mideast</td>\n",
       "      <td>372</td>\n",
       "      <td>alt.atheism</td>\n",
       "      <td>23.0</td>\n",
       "      <td>85.52%</td>\n",
       "      <td>90.80%</td>\n",
       "    </tr>\n",
       "    <tr>\n",
       "      <th>9</th>\n",
       "      <td>9</td>\n",
       "      <td>84</td>\n",
       "      <td>comp.os.ms-windows.misc</td>\n",
       "      <td>8</td>\n",
       "      <td>comp.sys.mac.hardware</td>\n",
       "      <td>8.0</td>\n",
       "      <td>9.52%</td>\n",
       "      <td>19.05%</td>\n",
       "    </tr>\n",
       "    <tr>\n",
       "      <th>10</th>\n",
       "      <td>10</td>\n",
       "      <td>527</td>\n",
       "      <td>talk.politics.guns</td>\n",
       "      <td>382</td>\n",
       "      <td>talk.religion.misc</td>\n",
       "      <td>35.0</td>\n",
       "      <td>72.49%</td>\n",
       "      <td>79.13%</td>\n",
       "    </tr>\n",
       "    <tr>\n",
       "      <th>11</th>\n",
       "      <td>11</td>\n",
       "      <td>554</td>\n",
       "      <td>comp.graphics</td>\n",
       "      <td>324</td>\n",
       "      <td>comp.sys.mac.hardware</td>\n",
       "      <td>17.0</td>\n",
       "      <td>58.48%</td>\n",
       "      <td>61.55%</td>\n",
       "    </tr>\n",
       "    <tr>\n",
       "      <th>12</th>\n",
       "      <td>12</td>\n",
       "      <td>372</td>\n",
       "      <td>rec.motorcycles</td>\n",
       "      <td>355</td>\n",
       "      <td>alt.atheism</td>\n",
       "      <td>1.0</td>\n",
       "      <td>95.43%</td>\n",
       "      <td>95.70%</td>\n",
       "    </tr>\n",
       "    <tr>\n",
       "      <th>13</th>\n",
       "      <td>13</td>\n",
       "      <td>840</td>\n",
       "      <td>soc.religion.christian</td>\n",
       "      <td>460</td>\n",
       "      <td>alt.atheism</td>\n",
       "      <td>188.0</td>\n",
       "      <td>54.76%</td>\n",
       "      <td>77.14%</td>\n",
       "    </tr>\n",
       "    <tr>\n",
       "      <th>14</th>\n",
       "      <td>14</td>\n",
       "      <td>468</td>\n",
       "      <td>rec.sport.baseball</td>\n",
       "      <td>451</td>\n",
       "      <td>0</td>\n",
       "      <td>0.0</td>\n",
       "      <td>96.37%</td>\n",
       "      <td>96.37%</td>\n",
       "    </tr>\n",
       "    <tr>\n",
       "      <th>15</th>\n",
       "      <td>15</td>\n",
       "      <td>538</td>\n",
       "      <td>misc.forsale</td>\n",
       "      <td>438</td>\n",
       "      <td>comp.sys.mac.hardware</td>\n",
       "      <td>27.0</td>\n",
       "      <td>81.41%</td>\n",
       "      <td>86.43%</td>\n",
       "    </tr>\n",
       "    <tr>\n",
       "      <th>16</th>\n",
       "      <td>16</td>\n",
       "      <td>363</td>\n",
       "      <td>sci.crypt</td>\n",
       "      <td>349</td>\n",
       "      <td>comp.sys.mac.hardware</td>\n",
       "      <td>1.0</td>\n",
       "      <td>96.14%</td>\n",
       "      <td>96.42%</td>\n",
       "    </tr>\n",
       "    <tr>\n",
       "      <th>17</th>\n",
       "      <td>17</td>\n",
       "      <td>479</td>\n",
       "      <td>sci.electronics</td>\n",
       "      <td>336</td>\n",
       "      <td>comp.sys.mac.hardware</td>\n",
       "      <td>28.0</td>\n",
       "      <td>70.15%</td>\n",
       "      <td>75.99%</td>\n",
       "    </tr>\n",
       "    <tr>\n",
       "      <th>18</th>\n",
       "      <td>18</td>\n",
       "      <td>425</td>\n",
       "      <td>sci.med</td>\n",
       "      <td>402</td>\n",
       "      <td>alt.atheism</td>\n",
       "      <td>1.0</td>\n",
       "      <td>94.59%</td>\n",
       "      <td>94.82%</td>\n",
       "    </tr>\n",
       "    <tr>\n",
       "      <th>19</th>\n",
       "      <td>19</td>\n",
       "      <td>532</td>\n",
       "      <td>sci.electronics</td>\n",
       "      <td>62</td>\n",
       "      <td>comp.sys.mac.hardware</td>\n",
       "      <td>23.0</td>\n",
       "      <td>11.65%</td>\n",
       "      <td>15.98%</td>\n",
       "    </tr>\n",
       "  </tbody>\n",
       "</table>\n",
       "</div>"
      ],
      "text/plain": [
       "    cluster  count                     rank1  rank1_count   \n",
       "0         0    432            comp.windows.x          406  \\\n",
       "1         1    418                 sci.space          388   \n",
       "2         2   1035  comp.sys.ibm.pc.hardware          396   \n",
       "3         3    471          rec.sport.hockey          455   \n",
       "4         4    716        talk.politics.misc          270   \n",
       "5         5    511                 rec.autos          420   \n",
       "6         6    870           rec.motorcycles          100   \n",
       "7         7    570   comp.os.ms-windows.misc          338   \n",
       "8         8    435     talk.politics.mideast          372   \n",
       "9         9     84   comp.os.ms-windows.misc            8   \n",
       "10       10    527        talk.politics.guns          382   \n",
       "11       11    554             comp.graphics          324   \n",
       "12       12    372           rec.motorcycles          355   \n",
       "13       13    840    soc.religion.christian          460   \n",
       "14       14    468        rec.sport.baseball          451   \n",
       "15       15    538              misc.forsale          438   \n",
       "16       16    363                 sci.crypt          349   \n",
       "17       17    479           sci.electronics          336   \n",
       "18       18    425                   sci.med          402   \n",
       "19       19    532           sci.electronics           62   \n",
       "\n",
       "                    rank2  rank2_count   per_1 per_1_2  \n",
       "0   comp.sys.mac.hardware          1.0  93.98%  94.21%  \n",
       "1             alt.atheism          2.0  92.82%  93.30%  \n",
       "2   comp.sys.mac.hardware        387.0  38.26%  75.65%  \n",
       "3                       0          0.0  96.60%  96.60%  \n",
       "4             alt.atheism        150.0  37.71%  58.66%  \n",
       "5   comp.sys.mac.hardware          6.0  82.19%  83.37%  \n",
       "6             alt.atheism         73.0  11.49%  19.89%  \n",
       "7   comp.sys.mac.hardware         46.0  59.30%  67.37%  \n",
       "8             alt.atheism         23.0  85.52%  90.80%  \n",
       "9   comp.sys.mac.hardware          8.0   9.52%  19.05%  \n",
       "10     talk.religion.misc         35.0  72.49%  79.13%  \n",
       "11  comp.sys.mac.hardware         17.0  58.48%  61.55%  \n",
       "12            alt.atheism          1.0  95.43%  95.70%  \n",
       "13            alt.atheism        188.0  54.76%  77.14%  \n",
       "14                      0          0.0  96.37%  96.37%  \n",
       "15  comp.sys.mac.hardware         27.0  81.41%  86.43%  \n",
       "16  comp.sys.mac.hardware          1.0  96.14%  96.42%  \n",
       "17  comp.sys.mac.hardware         28.0  70.15%  75.99%  \n",
       "18            alt.atheism          1.0  94.59%  94.82%  \n",
       "19  comp.sys.mac.hardware         23.0  11.65%  15.98%  "
      ]
     },
     "metadata": {},
     "output_type": "display_data"
    }
   ],
   "source": [
    "\n",
    "# 统计每个cluster的数量\n",
    "new_df = embedding_df.groupby('cluster')['cluster'].count().reset_index(name='count')\n",
    "\n",
    "# 统计这个cluster里最多的分类的数量\n",
    "title_count = embedding_df.groupby(['cluster', 'title']).size().reset_index(name='title_count')\n",
    "first_titles = title_count.groupby('cluster').apply(lambda x: x.nlargest(1, columns=['title_count']))\n",
    "first_titles = first_titles.reset_index(drop=True)\n",
    "new_df = pd.merge(new_df, first_titles[['cluster', 'title', 'title_count']], on='cluster', how='left')\n",
    "new_df = new_df.rename(columns={'title': 'rank1', 'title_count': 'rank1_count'})\n",
    "\n",
    "# 统计这个cluster里第二多的分类的数量\n",
    "second_titles = title_count[~title_count['title'].isin(first_titles['title'])]\n",
    "second_titles = second_titles.groupby('cluster').apply(lambda x: x.nlargest(1, columns=['title_count']))\n",
    "second_titles = second_titles.reset_index(drop=True)\n",
    "new_df = pd.merge(new_df, second_titles[['cluster', 'title', 'title_count']], on='cluster', how='left')\n",
    "new_df = new_df.rename(columns={'title': 'rank2', 'title_count': 'rank2_count'})\n",
    "new_df.fillna(0, inplace=True)\n",
    "new_df['per_1'] = (new_df['rank1_count'] / new_df['count']).map(lambda x: '{:.2%}'.format(x))\n",
    "new_df['per_1_2'] = ((new_df['rank1_count'] + new_df['rank2_count'])/ new_df['count']).map(lambda x: '{:.2%}'.format(x))\n",
    "\n",
    "# 将缺失值替换为 0\n",
    "# 输出结果\n",
    "display(new_df)"
   ]
  },
  {
   "cell_type": "code",
   "execution_count": 73,
   "metadata": {},
   "outputs": [
    {
     "name": "stdout",
     "output_type": "stream",
     "text": [
      "Cluster 0, Rank 1: comp.windows.x, Theme: Xlib编程\n",
      "Cluster 1, Rank 1: sci.space, Theme: 太空技术与航空\n",
      "Cluster 2, Rank 1: comp.sys.ibm.pc.hardware, Theme: 电脑硬件\n",
      "Cluster 3, Rank 1: rec.sport.hockey, Theme: 欧洲冰球vs北美冰球\n",
      "Cluster 4, Rank 1: talk.politics.misc, Theme: 社会观点与自由\n",
      "Cluster 5, Rank 1: rec.autos, Theme: 汽车硬件\n",
      "Cluster 6, Rank 1: rec.motorcycles, Theme: 数学与文化冲击\n",
      "Cluster 7, Rank 1: comp.os.ms-windows.misc, Theme: PC软件与硬件\n",
      "Cluster 8, Rank 1: talk.politics.mideast, Theme: “穆斯林大屠杀”\n",
      "Cluster 9, Rank 1: comp.os.ms-windows.misc, Theme: 科技产品\"\"\"\n",
      "Cluster 10, Rank 1: talk.politics.guns, Theme: 枪支管制与安全\n",
      "Cluster 11, Rank 1: comp.graphics, Theme: 计算机编程与硬件\n",
      "Cluster 12, Rank 1: rec.motorcycles, Theme: 安全骑行：驾驶课程与技巧\n",
      "Cluster 13, Rank 1: soc.religion.christian, Theme: 宗教信仰与实践\n",
      "Cluster 14, Rank 1: rec.sport.baseball, Theme: 棒球联盟\n",
      "Cluster 15, Rank 1: misc.forsale, Theme: 购物优惠和出售\n",
      "Cluster 16, Rank 1: sci.crypt, Theme: 关于加密政策的讨论\n",
      "Cluster 17, Rank 1: sci.electronics, Theme: 电子设备连接与维护\n",
      "Cluster 18, Rank 1: sci.med, Theme: 药物和疾病\n",
      "Cluster 19, Rank 1: sci.electronics, Theme: 电子邮件使用者研究\n"
     ]
    }
   ],
   "source": [
    "items_per_cluster = 10\n",
    "COMPLETIONS_MODEL = \"text-davinci-003\"\n",
    "\n",
    "for i in range(num_of_clusters):\n",
    "    cluster_name = new_df[new_df.cluster == i].iloc[0].rank1\n",
    "    print(f\"Cluster {i}, Rank 1: {cluster_name}, Theme:\", end=\" \")\n",
    "\n",
    "    content = \"\\n\".join(\n",
    "        embedding_df[embedding_df.cluster == i].text.sample(items_per_cluster, random_state=42).values\n",
    "    )\n",
    "    response = openai.Completion.create(\n",
    "        model=COMPLETIONS_MODEL,\n",
    "        prompt=f'''我们想要给下面的内容，分组成有意义的类别，以便我们可以对其进行总结。请根据下面这些内容的共同点，总结一个50个字以内的新闻组的名称么？比如 “PC硬件”\\n\\n内容:\\n\"\"\"\\n{content}\\n\"\"\"新闻组名称：''',\n",
    "        temperature=0,\n",
    "        max_tokens=100,\n",
    "        top_p=1,\n",
    "    )\n",
    "    print(response[\"choices\"][0][\"text\"].replace(\"\\n\", \"\")) # type: ignore\n"
   ]
  },
  {
   "cell_type": "code",
   "execution_count": 74,
   "metadata": {},
   "outputs": [
    {
     "name": "stdout",
     "output_type": "stream",
     "text": [
      "Cluster 0, Rank 1: comp.windows.x, 抽样翻译: 没有实际执行它？不知怎么回事，我的一个xterminal用户使得只要点击鼠标右键，就会自动杀死所有客户端-哦，我的：-(谢谢，Fish\n",
      "Cluster 1, Rank 1: sci.space, 抽样翻译: 韦恩·马森和他的团伙在阿拉巴马州发生了什么？我还听说有一个未经证实的谣言，即航空大使们已经消失了。有其他人可以证实吗？\n",
      "Cluster 2, Rank 1: comp.sys.ibm.pc.hardware, 抽样翻译: 我怀疑这不是一个特定于Quadra的问题。去年我不得不放弃我“古老”的Bernoulli 20（每个磁带的价格大约是90美元，使整个事情的价值超过我的整个电脑;）。Ocean Microsystems的技术支持人员建议可以使用一些第三方驱动程序来解决这个问题 - 在我的情况下，磁带无法格式化/挂载/分区用于A / UX。\n",
      "Cluster 3, Rank 1: rec.sport.hockey, 抽样翻译: 我相信那是4-1。罗德·布林道·阿莫尔在第三节19.59时分攻入一球。\n",
      "Cluster 4, Rank 1: talk.politics.misc, 抽样翻译: 为了确保每个人都清楚：“它从未有过”是指“保护”，而不是“未能保护”；即，在我的一生中，我从未见过美国政府始终保护美国公民的利益，除非是意外。\n",
      "Cluster 5, Rank 1: rec.autos, 抽样翻译: 噢，来吧，傻瓜，你要做的就是在你的引擎罩上割一个洞，然后把一个管子放进去，这样你就可以把机油倒进去了。你觉得那些热门车上的大空气进气装置是干什么的？它们只是为了外观，没有人知道，它们提供了进入机油填充孔的途径。\n",
      "Cluster 6, Rank 1: rec.motorcycles, 抽样翻译: 你真是个失败者\n",
      "Cluster 7, Rank 1: comp.os.ms-windows.misc, 抽样翻译: 偶尔你也得为表现良好的东西说句好话。我的东西泽3401没有任何问题。它在DOS和OS/2上运行非常好。对于OS/2，你不需要加载任何特殊的驱动程序。安装会检测到它是一个东西泽驱动器，然后就完成了。顺便说一句，它也非常快！\n",
      "Cluster 8, Rank 1: talk.politics.mideast, 抽样翻译: Avi，    供你参考，伊斯兰教允许宗教自由——在宗教上没有强制。犹太教是否也允许宗教自由（即是否认可非犹太人）？只是好奇而已。\n",
      "Cluster 9, Rank 1: comp.os.ms-windows.misc, 抽样翻译: 每个人都有自己的梦想，但只有勇敢追求梦想的人才能实现它。\n",
      "Cluster 10, Rank 1: talk.politics.guns, 抽样翻译: 不一定，特别是如果强奸犯被认定为此类罪行。例如，如果你有意将手指伸入装满老鼠夹的地方，然后被夹住，这是谁的错？\n",
      "Cluster 11, Rank 1: comp.graphics, 抽样翻译: 帮帮我！！我需要代码/包/任何东西来处理3D数据，并将其转换为带有隐藏线的线框表面。我正在使用DOS机器，代码可以是ANSI C或C ++，ANSI Fortran或Basic。我使用的数据形成一个矩形网格。请将您的回复发布到网络上，以便其他人受益。我的个人观点是，这是一个普遍的兴趣问题。谢谢！！！！！\n",
      "Cluster 12, Rank 1: rec.motorcycles, 抽样翻译: 这是一段心理学，对于任何长期骑行者来说都是必不可少的。人们不会去想“如果我这么做会有别人受到影响吗？”他们只会评估“如果我这么做会受到影响吗？”\n",
      "Cluster 13, Rank 1: soc.religion.christian, 抽样翻译: 这是一个非常薄弱的论点，因为没有独立的支持文本（关于关键事件）。至于新约最古老的现存文本的日期......如果现在只有一个关于美国内战的现存文本，你会怎么想？现在考虑一个大部分文盲的人口，每一份手稿都是手工复制的......--Hal\n",
      "Cluster 14, Rank 1: rec.sport.baseball, 抽样翻译: 这个赔率意味着你下注5美元赌反败者赢8美元，或者下注9美元赌胜者赢5美元。\n",
      "Cluster 15, Rank 1: misc.forsale, 抽样翻译: 嗯，标题就是这样......我正在寻找便宜的二手TG-16游戏，它们支持2个或更多玩家（同时）....请给我发送所有带有价格的报价。\n",
      "Cluster 16, Rank 1: sci.crypt, 抽样翻译: 哪里？老实说，我没有看到任何……我不同意，至少有其他标准已经存在。此外，即使他们限制NREN上的加密，谁在乎呢？大部分互联网都是商业的。NREN只适用于政府和大学研究（阅读提案-它是一条“数据高速公路”，与互联网无关）。\n",
      "Cluster 17, Rank 1: sci.electronics, 抽样翻译: 动态RAM不是基于翻转锁存器；基本上每个位只有一个晶体管和电容来存储！静态RAM是基于翻转锁存器，更加昂贵，密度也更低。如果忽略电子和热膨胀，两者都没有任何“移动”的部件...Chris\n",
      "Cluster 18, Rank 1: sci.med, 抽样翻译: 化学物质已经消失，感谢大家的回应。\n",
      "Cluster 19, Rank 1: sci.electronics, 抽样翻译: 尝试lyman.pppl.gov--/pub/8051\n"
     ]
    }
   ],
   "source": [
    "items_per_cluster = 1\n",
    "COMPLETIONS_MODEL = \"text-davinci-003\"\n",
    "\n",
    "for i in range(num_of_clusters):\n",
    "    cluster_name = new_df[new_df.cluster == i].iloc[0].rank1\n",
    "    print(f\"Cluster {i}, Rank 1: {cluster_name}, 抽样翻译:\", end=\" \")\n",
    "\n",
    "    content = \"\\n\".join(\n",
    "        embedding_df[(embedding_df.cluster == i) & (embedding_df.n_tokens < 100)].text.sample(items_per_cluster, random_state=42).values\n",
    "    )\n",
    "    response = openai.Completion.create(\n",
    "        model=COMPLETIONS_MODEL,\n",
    "        prompt=f'''请把下面的内容翻译成中文\\n\\n内容:\\n\"\"\"\\n{content}\\n\"\"\"翻译：''',\n",
    "        temperature=0,\n",
    "        max_tokens=500,\n",
    "        top_p=1,\n",
    "    )\n",
    "    print(response[\"choices\"][0][\"text\"].replace(\"\\n\", \"\")) # type: ignore"
   ]
  },
  {
   "cell_type": "markdown",
   "metadata": {},
   "source": [
    "### 减少聚类的数量，来进行可视化"
   ]
  },
  {
   "cell_type": "code",
   "execution_count": 78,
   "metadata": {},
   "outputs": [],
   "source": [
    "import numpy as np\n",
    "from sklearn.cluster import KMeans\n",
    "\n",
    "embedding_df = pd.read_parquet(\"data/20_newsgroup_with_embedding.parquet\")\n",
    "\n",
    "embedding_df = embedding_df[\n",
    "    (embedding_df.title == \"sci.electronics\") |\n",
    "    (embedding_df.title == \"sci.med\") |\n",
    "    (embedding_df.title == \"rec.motorcycles\") |\n",
    "    (embedding_df.title == \"rec.sport.baseball\")\n",
    "]\n",
    "matrix = np.vstack(embedding_df.embedding.values) # type: ignore\n",
    "num_of_clusters = 4\n",
    "\n",
    "kmeans = KMeans(n_clusters=num_of_clusters, init=\"k-means++\", n_init=10, random_state=42)\n",
    "kmeans.fit(matrix)\n",
    "labels = kmeans.labels_\n",
    "embedding_df[\"cluster\"] = labels"
   ]
  },
  {
   "cell_type": "code",
   "execution_count": 81,
   "metadata": {},
   "outputs": [
    {
     "data": {
      "text/plain": [
       "Text(0.5, 1.0, 'Clusters identified visualized in language 2d using t-SNE')"
      ]
     },
     "execution_count": 81,
     "metadata": {},
     "output_type": "execute_result"
    },
    {
     "data": {
      "image/png": "[encoded data removed]",
      "text/plain": [
       "<Figure size 640x480 with 1 Axes>"
      ]
     },
     "metadata": {},
     "output_type": "display_data"
    }
   ],
   "source": [
    "from sklearn.manifold import TSNE\n",
    "import matplotlib\n",
    "import matplotlib.pyplot as plt\n",
    "\n",
    "tsne = TSNE(n_components=2, perplexity=15, random_state=42, init=\"random\", learning_rate=200)\n",
    "vis_dims2 = tsne.fit_transform(matrix)\n",
    "\n",
    "x = [x for x, y in vis_dims2]\n",
    "y = [y for x, y in vis_dims2]\n",
    "\n",
    "for category, color in zip([\"sci.electronics\", \"sci.med\", \"rec.motorcycles\", \"rec.sport.baseball\"], [\"purple\", \"green\", \"red\", \"blue\"]):\n",
    "    xs = np.array(x)[embedding_df.title == category]\n",
    "    ys = np.array(y)[embedding_df.title == category]\n",
    "    plt.scatter(xs, ys, color=color, alpha=0.3)\n",
    "\n",
    "    avg_x = xs.mean()\n",
    "    avg_y = ys.mean()\n",
    "\n",
    "    plt.scatter(avg_x, avg_y, marker=\"x\", color=color, s=100) # type: ignore\n",
    "plt.title(\"Clusters identified visualized in language 2d using t-SNE\")"
   ]
  },
  {
   "cell_type": "markdown",
   "metadata": {},
   "source": [
    "## 多轮聊天对话"
   ]
  },
  {
   "cell_type": "markdown",
   "metadata": {},
   "source": [
    "### 使用原始的 text-davinci-003"
   ]
  },
  {
   "cell_type": "code",
   "execution_count": 82,
   "metadata": {},
   "outputs": [],
   "source": [
    "import os\n",
    "\n",
    "openai.api_key = os.environ.get(\"OPENAI_API_KEY\")\n",
    "COMPLETION_MODEL = \"text-davinci-003\"\n",
    "\n",
    "def get_response(prompt, temperature = 1.0, stop=None):\n",
    "    completions = openai.Completion.create (\n",
    "        engine=COMPLETION_MODEL,\n",
    "        prompt=prompt,\n",
    "        max_tokens=1024,\n",
    "        n=1,\n",
    "        stop=stop,\n",
    "        temperature=temperature,        \n",
    "    )\n",
    "    message = completions.choices[0].text # type: ignore\n",
    "    return message"
   ]
  },
  {
   "cell_type": "code",
   "execution_count": 83,
   "metadata": {},
   "outputs": [
    {
     "name": "stdout",
     "output_type": "stream",
     "text": [
      " 你好！我准备去我家附近的湖边游玩，和朋友们一起划船、赛龙舟，还可以吃粽子和豆沙包，庆祝端午节。\n"
     ]
    }
   ],
   "source": [
    "question = \"\"\"Q: 你好，端午节你准备去哪里？\n",
    "A:\"\"\"\n",
    "\n",
    "answer = get_response(question, temperature=0.5, stop=\"Q:\")\n",
    "print(answer)"
   ]
  },
  {
   "cell_type": "code",
   "execution_count": 85,
   "metadata": {},
   "outputs": [
    {
     "name": "stdout",
     "output_type": "stream",
     "text": [
      " 在武汉，你可以去参观汉口火车站、江汉桥、黄鹤楼、武汉大学、武汉植物园等景点。\n"
     ]
    }
   ],
   "source": [
    "question = \"\"\"Q: 你好，端午节你准备去哪里？\n",
    "A: 端午节我打算去武汉。\n",
    "Q: 那里有什么好玩的旅游景点？\n",
    "A: \"\"\"\n",
    "\n",
    "answer = get_response(question, temperature=0.5, stop=\"Q:\")\n",
    "print(answer)"
   ]
  },
  {
   "cell_type": "markdown",
   "metadata": {},
   "source": [
    "### 使用ChatCompletion接口"
   ]
  },
  {
   "cell_type": "code",
   "execution_count": 86,
   "metadata": {},
   "outputs": [],
   "source": [
    "import openai\n",
    "import os\n",
    "\n",
    "openai.api_key = os.environ.get(\"OPENAI_API_KEY\")\n",
    "\n",
    "class Conversation:\n",
    "    def __init__(self, prompt, num_of_round):\n",
    "        self.prompt = prompt\n",
    "        self.num_of_round = num_of_round\n",
    "        self.messages = []\n",
    "        self.messages.append({\"role\": \"system\", \"content\": self.prompt})\n",
    "\n",
    "    def ask(self, question):\n",
    "        try:\n",
    "            self.messages.append( {\"role\": \"user\", \"content\": question})\n",
    "            response = openai.ChatCompletion.create(\n",
    "                model=\"gpt-3.5-turbo\",\n",
    "                messages=self.messages,\n",
    "                temperature=0.5,\n",
    "                max_tokens=2048,\n",
    "                top_p=1,\n",
    "            )\n",
    "        except Exception as e:\n",
    "            print(e)\n",
    "            return e\n",
    "\n",
    "        message = response[\"choices\"][0][\"message\"][\"content\"] # type: ignore\n",
    "        self.messages.append({\"role\": \"assistant\", \"content\": message})\n",
    "        \n",
    "        if len(self.messages) > self.num_of_round*2 + 1:\n",
    "            del self.messages[1:3]\n",
    "        return message\n"
   ]
  },
  {
   "cell_type": "code",
   "execution_count": 92,
   "metadata": {},
   "outputs": [
    {
     "name": "stdout",
     "output_type": "stream",
     "text": [
      "User : 你好，端午节你准备去哪里？\n",
      "Assistant : 嗨，我打算去武汉旅游。听说那里有很多有趣的景点和美食，我很期待能够去探索一下。你有去过武汉吗？\n",
      "\n",
      "User : 那里有什么好玩的旅游景点\n",
      "Assistant : 武汉有很多著名的旅游景点，比如：\n",
      "\n",
      "1.黄鹤楼：这座古老的楼阁建于公元223年，是中国文学史上的重要地标之一。\n",
      "\n",
      "2.东湖：这是武汉市最大的城市湖泊，周围有美丽的公园和游乐设施，是一个很好的休闲场所。\n",
      "\n",
      "3.武汉长江大桥：这座桥梁是中国第一座自主设计和建造的公铁两用桥，也是武汉的标志性建筑之一。\n",
      "\n",
      "4.户部巷：这是武汉最古老的街道之一，保留了大量的明清时期建筑和传统文化。\n",
      "\n",
      "此外，武汉还有很多其他的景点，比如黄鹤楼公园、南湖、古琴台等等，相信你一定会在这里度过一个难忘的端午节假期。\n",
      "\n"
     ]
    }
   ],
   "source": [
    "prompt = \"\"\"请你扮演我的朋友Tom，如果有人问你端午节去哪里玩，你会回答打算去武汉旅游\"\"\"\n",
    "conv1 = Conversation(prompt, 3)\n",
    "question1 = \"你好，端午节你准备去哪里？\"\n",
    "print(\"User : %s\" % question1)\n",
    "print(\"Assistant : %s\\n\" % conv1.ask(question1))\n",
    "\n",
    "question2 = \"那里有什么好玩的旅游景点\"\n",
    "print(\"User : %s\" % question2)\n",
    "print(\"Assistant : %s\\n\" % conv1.ask(question2))"
   ]
  },
  {
   "cell_type": "markdown",
   "metadata": {},
   "source": [
    "## 成本与效率问题"
   ]
  },
  {
   "cell_type": "markdown",
   "metadata": {},
   "source": [
    "## 数据的Batch处理"
   ]
  },
  {
   "cell_type": "code",
   "execution_count": 96,
   "metadata": {},
   "outputs": [
    {
     "name": "stdout",
     "output_type": "stream",
     "text": [
      "Lines of text before filtering:  382688\n"
     ]
    }
   ],
   "source": [
    "import tiktoken\n",
    "import openai\n",
    "import os\n",
    "import backoff\n",
    "\n",
    "openai.api_key = os.environ.get(\"OPENAI_API_KEY\")\n",
    "\n",
    "# embedding model parameters\n",
    "embedding_model = \"text-embedding-ada-002\"\n",
    "embedding_encoding = \"cl100k_base\"  # this the encoding for text-embedding-ada-002\n",
    "max_tokens = 8000  # the maximum for text-embedding-ada-002 is 8191\n",
    "\n",
    "\n",
    "# import data/toutiao_cat_data.txt as a pandas dataframe\n",
    "df = pd.read_parquet(\"data/toutiao_cat_data_all_with_embeddings.parquet\")\n",
    "print(\"Lines of text before filtering: \", len(df))"
   ]
  },
  {
   "cell_type": "code",
   "execution_count": 97,
   "metadata": {},
   "outputs": [
    {
     "data": {
      "text/html": [
       "<div>\n",
       "<style scoped>\n",
       "    .dataframe tbody tr th:only-of-type {\n",
       "        vertical-align: middle;\n",
       "    }\n",
       "\n",
       "    .dataframe tbody tr th {\n",
       "        vertical-align: top;\n",
       "    }\n",
       "\n",
       "    .dataframe thead th {\n",
       "        text-align: right;\n",
       "    }\n",
       "</style>\n",
       "<table border=\"1\" class=\"dataframe\">\n",
       "  <thead>\n",
       "    <tr style=\"text-align: right;\">\n",
       "      <th></th>\n",
       "      <th>id</th>\n",
       "      <th>code</th>\n",
       "      <th>category</th>\n",
       "      <th>title</th>\n",
       "      <th>keywords</th>\n",
       "      <th>combined</th>\n",
       "      <th>n_tokens</th>\n",
       "      <th>embedding</th>\n",
       "    </tr>\n",
       "  </thead>\n",
       "  <tbody>\n",
       "    <tr>\n",
       "      <th>0</th>\n",
       "      <td>6551700932705387022</td>\n",
       "      <td>101</td>\n",
       "      <td>news_culture</td>\n",
       "      <td>京城最值得你来场文化之旅的博物馆</td>\n",
       "      <td>保利集团,马未都,中国科学技术馆,博物馆,新中国</td>\n",
       "      <td>标题: 京城最值得你来场文化之旅的博物馆; 关键字: 保利集团,马未都,中国科学技术馆,博物...</td>\n",
       "      <td>56</td>\n",
       "      <td>[-0.02160128578543663, -0.004615371115505695, ...</td>\n",
       "    </tr>\n",
       "    <tr>\n",
       "      <th>1</th>\n",
       "      <td>6552368441838272771</td>\n",
       "      <td>101</td>\n",
       "      <td>news_culture</td>\n",
       "      <td>发酵床的垫料种类有哪些？哪种更好？</td>\n",
       "      <td></td>\n",
       "      <td>标题: 发酵床的垫料种类有哪些？哪种更好？; 关键字:</td>\n",
       "      <td>32</td>\n",
       "      <td>[0.014646276831626892, -0.0075576393865048885,...</td>\n",
       "    </tr>\n",
       "    <tr>\n",
       "      <th>2</th>\n",
       "      <td>6552407965343678723</td>\n",
       "      <td>101</td>\n",
       "      <td>news_culture</td>\n",
       "      <td>上联：黄山黄河黄皮肤黄土高原。怎么对下联？</td>\n",
       "      <td></td>\n",
       "      <td>标题: 上联：黄山黄河黄皮肤黄土高原。怎么对下联？; 关键字:</td>\n",
       "      <td>37</td>\n",
       "      <td>[0.012643996626138687, 0.0035733033437281847, ...</td>\n",
       "    </tr>\n",
       "    <tr>\n",
       "      <th>3</th>\n",
       "      <td>6552332417753940238</td>\n",
       "      <td>101</td>\n",
       "      <td>news_culture</td>\n",
       "      <td>林徽因什么理由拒绝了徐志摩而选择梁思成为终身伴侣？</td>\n",
       "      <td></td>\n",
       "      <td>标题: 林徽因什么理由拒绝了徐志摩而选择梁思成为终身伴侣？; 关键字:</td>\n",
       "      <td>44</td>\n",
       "      <td>[-0.0004984583356417716, -0.016934111714363098...</td>\n",
       "    </tr>\n",
       "    <tr>\n",
       "      <th>4</th>\n",
       "      <td>6552475601595269390</td>\n",
       "      <td>101</td>\n",
       "      <td>news_culture</td>\n",
       "      <td>黄杨木是什么树？</td>\n",
       "      <td></td>\n",
       "      <td>标题: 黄杨木是什么树？; 关键字:</td>\n",
       "      <td>20</td>\n",
       "      <td>[-0.0008294825092889369, -0.013883085921406746...</td>\n",
       "    </tr>\n",
       "  </tbody>\n",
       "</table>\n",
       "</div>"
      ],
      "text/plain": [
       "                    id  code      category                      title   \n",
       "0  6551700932705387022   101  news_culture           京城最值得你来场文化之旅的博物馆  \\\n",
       "1  6552368441838272771   101  news_culture          发酵床的垫料种类有哪些？哪种更好？   \n",
       "2  6552407965343678723   101  news_culture      上联：黄山黄河黄皮肤黄土高原。怎么对下联？   \n",
       "3  6552332417753940238   101  news_culture  林徽因什么理由拒绝了徐志摩而选择梁思成为终身伴侣？   \n",
       "4  6552475601595269390   101  news_culture                   黄杨木是什么树？   \n",
       "\n",
       "                   keywords   \n",
       "0  保利集团,马未都,中国科学技术馆,博物馆,新中国  \\\n",
       "1                             \n",
       "2                             \n",
       "3                             \n",
       "4                             \n",
       "\n",
       "                                            combined  n_tokens   \n",
       "0  标题: 京城最值得你来场文化之旅的博物馆; 关键字: 保利集团,马未都,中国科学技术馆,博物...        56  \\\n",
       "1                       标题: 发酵床的垫料种类有哪些？哪种更好？; 关键字:         32   \n",
       "2                   标题: 上联：黄山黄河黄皮肤黄土高原。怎么对下联？; 关键字:         37   \n",
       "3               标题: 林徽因什么理由拒绝了徐志摩而选择梁思成为终身伴侣？; 关键字:         44   \n",
       "4                                标题: 黄杨木是什么树？; 关键字:         20   \n",
       "\n",
       "                                           embedding  \n",
       "0  [-0.02160128578543663, -0.004615371115505695, ...  \n",
       "1  [0.014646276831626892, -0.0075576393865048885,...  \n",
       "2  [0.012643996626138687, 0.0035733033437281847, ...  \n",
       "3  [-0.0004984583356417716, -0.016934111714363098...  \n",
       "4  [-0.0008294825092889369, -0.013883085921406746...  "
      ]
     },
     "execution_count": 97,
     "metadata": {},
     "output_type": "execute_result"
    }
   ],
   "source": [
    "df.head()"
   ]
  },
  {
   "cell_type": "code",
   "execution_count": 98,
   "metadata": {},
   "outputs": [
    {
     "name": "stdout",
     "output_type": "stream",
     "text": [
      "Lines of text after filtering:  382688\n"
     ]
    }
   ],
   "source": [
    "encoding = tiktoken.get_encoding(embedding_encoding)\n",
    "# omit reviews that are too long to embed\n",
    "df[\"n_tokens\"] = df.combined.apply(lambda x: len(encoding.encode(x)))\n",
    "df = df[df.n_tokens <= max_tokens]\n",
    "print(\"Lines of text after filtering: \", len(df))"
   ]
  },
  {
   "cell_type": "markdown",
   "metadata": {},
   "source": [
    "### 假设我们没有预先处理完Embedding"
   ]
  },
  {
   "cell_type": "code",
   "execution_count": 99,
   "metadata": {},
   "outputs": [
    {
     "ename": "KeyboardInterrupt",
     "evalue": "",
     "output_type": "error",
     "traceback": [
      "\u001b[0;31m---------------------------------------------------------------------------\u001b[0m",
      "\u001b[0;31mKeyboardInterrupt\u001b[0m                         Traceback (most recent call last)",
      "Cell \u001b[0;32mIn[99], line 5\u001b[0m\n\u001b[1;32m      1\u001b[0m \u001b[39mfrom\u001b[39;00m \u001b[39mopenai\u001b[39;00m\u001b[39m.\u001b[39;00m\u001b[39membeddings_utils\u001b[39;00m \u001b[39mimport\u001b[39;00m get_embedding\n\u001b[1;32m      3\u001b[0m df_1k \u001b[39m=\u001b[39m df\u001b[39m.\u001b[39msample(\u001b[39m1000\u001b[39m, random_state\u001b[39m=\u001b[39m\u001b[39m42\u001b[39m)\n\u001b[0;32m----> 5\u001b[0m df_1k[\u001b[39m\"\u001b[39m\u001b[39membedding\u001b[39m\u001b[39m\"\u001b[39m] \u001b[39m=\u001b[39m df_1k\u001b[39m.\u001b[39;49mcombined\u001b[39m.\u001b[39;49mapply(\u001b[39mlambda\u001b[39;49;00m x : get_embedding(x, engine\u001b[39m=\u001b[39;49membedding_model))\n\u001b[1;32m      6\u001b[0m df_1k\u001b[39m.\u001b[39mto_csv(\u001b[39m\"\u001b[39m\u001b[39mdata/toutiao_cat_data_10k_with_embeddings.csv\u001b[39m\u001b[39m\"\u001b[39m, index\u001b[39m=\u001b[39m\u001b[39mFalse\u001b[39;00m)\n",
      "File \u001b[0;32m~/miniconda3/envs/mactalk/lib/python3.10/site-packages/pandas/core/series.py:4626\u001b[0m, in \u001b[0;36mSeries.apply\u001b[0;34m(self, func, convert_dtype, args, **kwargs)\u001b[0m\n\u001b[1;32m   4516\u001b[0m \u001b[39mdef\u001b[39;00m \u001b[39mapply\u001b[39m(\n\u001b[1;32m   4517\u001b[0m     \u001b[39mself\u001b[39m,\n\u001b[1;32m   4518\u001b[0m     func: AggFuncType,\n\u001b[0;32m   (...)\u001b[0m\n\u001b[1;32m   4521\u001b[0m     \u001b[39m*\u001b[39m\u001b[39m*\u001b[39mkwargs,\n\u001b[1;32m   4522\u001b[0m ) \u001b[39m-\u001b[39m\u001b[39m>\u001b[39m DataFrame \u001b[39m|\u001b[39m Series:\n\u001b[1;32m   4523\u001b[0m \u001b[39m    \u001b[39m\u001b[39m\"\"\"\u001b[39;00m\n\u001b[1;32m   4524\u001b[0m \u001b[39m    Invoke function on values of Series.\u001b[39;00m\n\u001b[1;32m   4525\u001b[0m \n\u001b[0;32m   (...)\u001b[0m\n\u001b[1;32m   4624\u001b[0m \u001b[39m    dtype: float64\u001b[39;00m\n\u001b[1;32m   4625\u001b[0m \u001b[39m    \"\"\"\u001b[39;00m\n\u001b[0;32m-> 4626\u001b[0m     \u001b[39mreturn\u001b[39;00m SeriesApply(\u001b[39mself\u001b[39;49m, func, convert_dtype, args, kwargs)\u001b[39m.\u001b[39;49mapply()\n",
      "File \u001b[0;32m~/miniconda3/envs/mactalk/lib/python3.10/site-packages/pandas/core/apply.py:1025\u001b[0m, in \u001b[0;36mSeriesApply.apply\u001b[0;34m(self)\u001b[0m\n\u001b[1;32m   1022\u001b[0m     \u001b[39mreturn\u001b[39;00m \u001b[39mself\u001b[39m\u001b[39m.\u001b[39mapply_str()\n\u001b[1;32m   1024\u001b[0m \u001b[39m# self.f is Callable\u001b[39;00m\n\u001b[0;32m-> 1025\u001b[0m \u001b[39mreturn\u001b[39;00m \u001b[39mself\u001b[39;49m\u001b[39m.\u001b[39;49mapply_standard()\n",
      "File \u001b[0;32m~/miniconda3/envs/mactalk/lib/python3.10/site-packages/pandas/core/apply.py:1076\u001b[0m, in \u001b[0;36mSeriesApply.apply_standard\u001b[0;34m(self)\u001b[0m\n\u001b[1;32m   1074\u001b[0m     \u001b[39melse\u001b[39;00m:\n\u001b[1;32m   1075\u001b[0m         values \u001b[39m=\u001b[39m obj\u001b[39m.\u001b[39mastype(\u001b[39mobject\u001b[39m)\u001b[39m.\u001b[39m_values\n\u001b[0;32m-> 1076\u001b[0m         mapped \u001b[39m=\u001b[39m lib\u001b[39m.\u001b[39;49mmap_infer(\n\u001b[1;32m   1077\u001b[0m             values,\n\u001b[1;32m   1078\u001b[0m             f,\n\u001b[1;32m   1079\u001b[0m             convert\u001b[39m=\u001b[39;49m\u001b[39mself\u001b[39;49m\u001b[39m.\u001b[39;49mconvert_dtype,\n\u001b[1;32m   1080\u001b[0m         )\n\u001b[1;32m   1082\u001b[0m \u001b[39mif\u001b[39;00m \u001b[39mlen\u001b[39m(mapped) \u001b[39mand\u001b[39;00m \u001b[39misinstance\u001b[39m(mapped[\u001b[39m0\u001b[39m], ABCSeries):\n\u001b[1;32m   1083\u001b[0m     \u001b[39m# GH#43986 Need to do list(mapped) in order to get treated as nested\u001b[39;00m\n\u001b[1;32m   1084\u001b[0m     \u001b[39m#  See also GH#25959 regarding EA support\u001b[39;00m\n\u001b[1;32m   1085\u001b[0m     \u001b[39mreturn\u001b[39;00m obj\u001b[39m.\u001b[39m_constructor_expanddim(\u001b[39mlist\u001b[39m(mapped), index\u001b[39m=\u001b[39mobj\u001b[39m.\u001b[39mindex)\n",
      "File \u001b[0;32m~/miniconda3/envs/mactalk/lib/python3.10/site-packages/pandas/_libs/lib.pyx:2834\u001b[0m, in \u001b[0;36mpandas._libs.lib.map_infer\u001b[0;34m()\u001b[0m\n",
      "Cell \u001b[0;32mIn[99], line 5\u001b[0m, in \u001b[0;36m<lambda>\u001b[0;34m(x)\u001b[0m\n\u001b[1;32m      1\u001b[0m \u001b[39mfrom\u001b[39;00m \u001b[39mopenai\u001b[39;00m\u001b[39m.\u001b[39;00m\u001b[39membeddings_utils\u001b[39;00m \u001b[39mimport\u001b[39;00m get_embedding\n\u001b[1;32m      3\u001b[0m df_1k \u001b[39m=\u001b[39m df\u001b[39m.\u001b[39msample(\u001b[39m1000\u001b[39m, random_state\u001b[39m=\u001b[39m\u001b[39m42\u001b[39m)\n\u001b[0;32m----> 5\u001b[0m df_1k[\u001b[39m\"\u001b[39m\u001b[39membedding\u001b[39m\u001b[39m\"\u001b[39m] \u001b[39m=\u001b[39m df_1k\u001b[39m.\u001b[39mcombined\u001b[39m.\u001b[39mapply(\u001b[39mlambda\u001b[39;00m x : get_embedding(x, engine\u001b[39m=\u001b[39;49membedding_model))\n\u001b[1;32m      6\u001b[0m df_1k\u001b[39m.\u001b[39mto_csv(\u001b[39m\"\u001b[39m\u001b[39mdata/toutiao_cat_data_10k_with_embeddings.csv\u001b[39m\u001b[39m\"\u001b[39m, index\u001b[39m=\u001b[39m\u001b[39mFalse\u001b[39;00m)\n",
      "File \u001b[0;32m~/miniconda3/envs/mactalk/lib/python3.10/site-packages/tenacity/__init__.py:289\u001b[0m, in \u001b[0;36mBaseRetrying.wraps.<locals>.wrapped_f\u001b[0;34m(*args, **kw)\u001b[0m\n\u001b[1;32m    287\u001b[0m \u001b[39m@functools\u001b[39m\u001b[39m.\u001b[39mwraps(f)\n\u001b[1;32m    288\u001b[0m \u001b[39mdef\u001b[39;00m \u001b[39mwrapped_f\u001b[39m(\u001b[39m*\u001b[39margs: t\u001b[39m.\u001b[39mAny, \u001b[39m*\u001b[39m\u001b[39m*\u001b[39mkw: t\u001b[39m.\u001b[39mAny) \u001b[39m-\u001b[39m\u001b[39m>\u001b[39m t\u001b[39m.\u001b[39mAny:\n\u001b[0;32m--> 289\u001b[0m     \u001b[39mreturn\u001b[39;00m \u001b[39mself\u001b[39;49m(f, \u001b[39m*\u001b[39;49margs, \u001b[39m*\u001b[39;49m\u001b[39m*\u001b[39;49mkw)\n",
      "File \u001b[0;32m~/miniconda3/envs/mactalk/lib/python3.10/site-packages/tenacity/__init__.py:379\u001b[0m, in \u001b[0;36mRetrying.__call__\u001b[0;34m(self, fn, *args, **kwargs)\u001b[0m\n\u001b[1;32m    377\u001b[0m retry_state \u001b[39m=\u001b[39m RetryCallState(retry_object\u001b[39m=\u001b[39m\u001b[39mself\u001b[39m, fn\u001b[39m=\u001b[39mfn, args\u001b[39m=\u001b[39margs, kwargs\u001b[39m=\u001b[39mkwargs)\n\u001b[1;32m    378\u001b[0m \u001b[39mwhile\u001b[39;00m \u001b[39mTrue\u001b[39;00m:\n\u001b[0;32m--> 379\u001b[0m     do \u001b[39m=\u001b[39m \u001b[39mself\u001b[39;49m\u001b[39m.\u001b[39;49miter(retry_state\u001b[39m=\u001b[39;49mretry_state)\n\u001b[1;32m    380\u001b[0m     \u001b[39mif\u001b[39;00m \u001b[39misinstance\u001b[39m(do, DoAttempt):\n\u001b[1;32m    381\u001b[0m         \u001b[39mtry\u001b[39;00m:\n",
      "File \u001b[0;32m~/miniconda3/envs/mactalk/lib/python3.10/site-packages/tenacity/__init__.py:314\u001b[0m, in \u001b[0;36mBaseRetrying.iter\u001b[0;34m(self, retry_state)\u001b[0m\n\u001b[1;32m    312\u001b[0m is_explicit_retry \u001b[39m=\u001b[39m fut\u001b[39m.\u001b[39mfailed \u001b[39mand\u001b[39;00m \u001b[39misinstance\u001b[39m(fut\u001b[39m.\u001b[39mexception(), TryAgain)\n\u001b[1;32m    313\u001b[0m \u001b[39mif\u001b[39;00m \u001b[39mnot\u001b[39;00m (is_explicit_retry \u001b[39mor\u001b[39;00m \u001b[39mself\u001b[39m\u001b[39m.\u001b[39mretry(retry_state)):\n\u001b[0;32m--> 314\u001b[0m     \u001b[39mreturn\u001b[39;00m fut\u001b[39m.\u001b[39;49mresult()\n\u001b[1;32m    316\u001b[0m \u001b[39mif\u001b[39;00m \u001b[39mself\u001b[39m\u001b[39m.\u001b[39mafter \u001b[39mis\u001b[39;00m \u001b[39mnot\u001b[39;00m \u001b[39mNone\u001b[39;00m:\n\u001b[1;32m    317\u001b[0m     \u001b[39mself\u001b[39m\u001b[39m.\u001b[39mafter(retry_state)\n",
      "File \u001b[0;32m~/miniconda3/envs/mactalk/lib/python3.10/concurrent/futures/_base.py:451\u001b[0m, in \u001b[0;36mFuture.result\u001b[0;34m(self, timeout)\u001b[0m\n\u001b[1;32m    449\u001b[0m     \u001b[39mraise\u001b[39;00m CancelledError()\n\u001b[1;32m    450\u001b[0m \u001b[39melif\u001b[39;00m \u001b[39mself\u001b[39m\u001b[39m.\u001b[39m_state \u001b[39m==\u001b[39m FINISHED:\n\u001b[0;32m--> 451\u001b[0m     \u001b[39mreturn\u001b[39;00m \u001b[39mself\u001b[39;49m\u001b[39m.\u001b[39;49m__get_result()\n\u001b[1;32m    453\u001b[0m \u001b[39mself\u001b[39m\u001b[39m.\u001b[39m_condition\u001b[39m.\u001b[39mwait(timeout)\n\u001b[1;32m    455\u001b[0m \u001b[39mif\u001b[39;00m \u001b[39mself\u001b[39m\u001b[39m.\u001b[39m_state \u001b[39min\u001b[39;00m [CANCELLED, CANCELLED_AND_NOTIFIED]:\n",
      "File \u001b[0;32m~/miniconda3/envs/mactalk/lib/python3.10/concurrent/futures/_base.py:403\u001b[0m, in \u001b[0;36mFuture.__get_result\u001b[0;34m(self)\u001b[0m\n\u001b[1;32m    401\u001b[0m \u001b[39mif\u001b[39;00m \u001b[39mself\u001b[39m\u001b[39m.\u001b[39m_exception:\n\u001b[1;32m    402\u001b[0m     \u001b[39mtry\u001b[39;00m:\n\u001b[0;32m--> 403\u001b[0m         \u001b[39mraise\u001b[39;00m \u001b[39mself\u001b[39m\u001b[39m.\u001b[39m_exception\n\u001b[1;32m    404\u001b[0m     \u001b[39mfinally\u001b[39;00m:\n\u001b[1;32m    405\u001b[0m         \u001b[39m# Break a reference cycle with the exception in self._exception\u001b[39;00m\n\u001b[1;32m    406\u001b[0m         \u001b[39mself\u001b[39m \u001b[39m=\u001b[39m \u001b[39mNone\u001b[39;00m\n",
      "File \u001b[0;32m~/miniconda3/envs/mactalk/lib/python3.10/site-packages/tenacity/__init__.py:382\u001b[0m, in \u001b[0;36mRetrying.__call__\u001b[0;34m(self, fn, *args, **kwargs)\u001b[0m\n\u001b[1;32m    380\u001b[0m \u001b[39mif\u001b[39;00m \u001b[39misinstance\u001b[39m(do, DoAttempt):\n\u001b[1;32m    381\u001b[0m     \u001b[39mtry\u001b[39;00m:\n\u001b[0;32m--> 382\u001b[0m         result \u001b[39m=\u001b[39m fn(\u001b[39m*\u001b[39;49margs, \u001b[39m*\u001b[39;49m\u001b[39m*\u001b[39;49mkwargs)\n\u001b[1;32m    383\u001b[0m     \u001b[39mexcept\u001b[39;00m \u001b[39mBaseException\u001b[39;00m:  \u001b[39m# noqa: B902\u001b[39;00m\n\u001b[1;32m    384\u001b[0m         retry_state\u001b[39m.\u001b[39mset_exception(sys\u001b[39m.\u001b[39mexc_info())  \u001b[39m# type: ignore[arg-type]\u001b[39;00m\n",
      "File \u001b[0;32m~/miniconda3/envs/mactalk/lib/python3.10/site-packages/openai/embeddings_utils.py:23\u001b[0m, in \u001b[0;36mget_embedding\u001b[0;34m(text, engine, **kwargs)\u001b[0m\n\u001b[1;32m     17\u001b[0m \u001b[39m@retry\u001b[39m(wait\u001b[39m=\u001b[39mwait_random_exponential(\u001b[39mmin\u001b[39m\u001b[39m=\u001b[39m\u001b[39m1\u001b[39m, \u001b[39mmax\u001b[39m\u001b[39m=\u001b[39m\u001b[39m20\u001b[39m), stop\u001b[39m=\u001b[39mstop_after_attempt(\u001b[39m6\u001b[39m))\n\u001b[1;32m     18\u001b[0m \u001b[39mdef\u001b[39;00m \u001b[39mget_embedding\u001b[39m(text: \u001b[39mstr\u001b[39m, engine\u001b[39m=\u001b[39m\u001b[39m\"\u001b[39m\u001b[39mtext-similarity-davinci-001\u001b[39m\u001b[39m\"\u001b[39m, \u001b[39m*\u001b[39m\u001b[39m*\u001b[39mkwargs) \u001b[39m-\u001b[39m\u001b[39m>\u001b[39m List[\u001b[39mfloat\u001b[39m]:\n\u001b[1;32m     19\u001b[0m \n\u001b[1;32m     20\u001b[0m     \u001b[39m# replace newlines, which can negatively affect performance.\u001b[39;00m\n\u001b[1;32m     21\u001b[0m     text \u001b[39m=\u001b[39m text\u001b[39m.\u001b[39mreplace(\u001b[39m\"\u001b[39m\u001b[39m\\n\u001b[39;00m\u001b[39m\"\u001b[39m, \u001b[39m\"\u001b[39m\u001b[39m \u001b[39m\u001b[39m\"\u001b[39m)\n\u001b[0;32m---> 23\u001b[0m     \u001b[39mreturn\u001b[39;00m openai\u001b[39m.\u001b[39;49mEmbedding\u001b[39m.\u001b[39;49mcreate(\u001b[39minput\u001b[39;49m\u001b[39m=\u001b[39;49m[text], engine\u001b[39m=\u001b[39;49mengine, \u001b[39m*\u001b[39;49m\u001b[39m*\u001b[39;49mkwargs)[\u001b[39m\"\u001b[39m\u001b[39mdata\u001b[39m\u001b[39m\"\u001b[39m][\u001b[39m0\u001b[39m][\u001b[39m\"\u001b[39m\u001b[39membedding\u001b[39m\u001b[39m\"\u001b[39m]\n",
      "File \u001b[0;32m~/miniconda3/envs/mactalk/lib/python3.10/site-packages/openai/api_resources/embedding.py:33\u001b[0m, in \u001b[0;36mEmbedding.create\u001b[0;34m(cls, *args, **kwargs)\u001b[0m\n\u001b[1;32m     31\u001b[0m \u001b[39mwhile\u001b[39;00m \u001b[39mTrue\u001b[39;00m:\n\u001b[1;32m     32\u001b[0m     \u001b[39mtry\u001b[39;00m:\n\u001b[0;32m---> 33\u001b[0m         response \u001b[39m=\u001b[39m \u001b[39msuper\u001b[39;49m()\u001b[39m.\u001b[39;49mcreate(\u001b[39m*\u001b[39;49margs, \u001b[39m*\u001b[39;49m\u001b[39m*\u001b[39;49mkwargs)\n\u001b[1;32m     35\u001b[0m         \u001b[39m# If a user specifies base64, we'll just return the encoded string.\u001b[39;00m\n\u001b[1;32m     36\u001b[0m         \u001b[39m# This is only for the default case.\u001b[39;00m\n\u001b[1;32m     37\u001b[0m         \u001b[39mif\u001b[39;00m \u001b[39mnot\u001b[39;00m user_provided_encoding_format:\n",
      "File \u001b[0;32m~/miniconda3/envs/mactalk/lib/python3.10/site-packages/openai/api_resources/abstract/engine_api_resource.py:153\u001b[0m, in \u001b[0;36mEngineAPIResource.create\u001b[0;34m(cls, api_key, api_base, api_type, request_id, api_version, organization, **params)\u001b[0m\n\u001b[1;32m    127\u001b[0m \u001b[39m@classmethod\u001b[39m\n\u001b[1;32m    128\u001b[0m \u001b[39mdef\u001b[39;00m \u001b[39mcreate\u001b[39m(\n\u001b[1;32m    129\u001b[0m     \u001b[39mcls\u001b[39m,\n\u001b[0;32m   (...)\u001b[0m\n\u001b[1;32m    136\u001b[0m     \u001b[39m*\u001b[39m\u001b[39m*\u001b[39mparams,\n\u001b[1;32m    137\u001b[0m ):\n\u001b[1;32m    138\u001b[0m     (\n\u001b[1;32m    139\u001b[0m         deployment_id,\n\u001b[1;32m    140\u001b[0m         engine,\n\u001b[0;32m   (...)\u001b[0m\n\u001b[1;32m    150\u001b[0m         api_key, api_base, api_type, api_version, organization, \u001b[39m*\u001b[39m\u001b[39m*\u001b[39mparams\n\u001b[1;32m    151\u001b[0m     )\n\u001b[0;32m--> 153\u001b[0m     response, _, api_key \u001b[39m=\u001b[39m requestor\u001b[39m.\u001b[39;49mrequest(\n\u001b[1;32m    154\u001b[0m         \u001b[39m\"\u001b[39;49m\u001b[39mpost\u001b[39;49m\u001b[39m\"\u001b[39;49m,\n\u001b[1;32m    155\u001b[0m         url,\n\u001b[1;32m    156\u001b[0m         params\u001b[39m=\u001b[39;49mparams,\n\u001b[1;32m    157\u001b[0m         headers\u001b[39m=\u001b[39;49mheaders,\n\u001b[1;32m    158\u001b[0m         stream\u001b[39m=\u001b[39;49mstream,\n\u001b[1;32m    159\u001b[0m         request_id\u001b[39m=\u001b[39;49mrequest_id,\n\u001b[1;32m    160\u001b[0m         request_timeout\u001b[39m=\u001b[39;49mrequest_timeout,\n\u001b[1;32m    161\u001b[0m     )\n\u001b[1;32m    163\u001b[0m     \u001b[39mif\u001b[39;00m stream:\n\u001b[1;32m    164\u001b[0m         \u001b[39m# must be an iterator\u001b[39;00m\n\u001b[1;32m    165\u001b[0m         \u001b[39massert\u001b[39;00m \u001b[39mnot\u001b[39;00m \u001b[39misinstance\u001b[39m(response, OpenAIResponse)\n",
      "File \u001b[0;32m~/miniconda3/envs/mactalk/lib/python3.10/site-packages/openai/api_requestor.py:220\u001b[0m, in \u001b[0;36mAPIRequestor.request\u001b[0;34m(self, method, url, params, headers, files, stream, request_id, request_timeout)\u001b[0m\n\u001b[1;32m    209\u001b[0m \u001b[39mdef\u001b[39;00m \u001b[39mrequest\u001b[39m(\n\u001b[1;32m    210\u001b[0m     \u001b[39mself\u001b[39m,\n\u001b[1;32m    211\u001b[0m     method,\n\u001b[0;32m   (...)\u001b[0m\n\u001b[1;32m    218\u001b[0m     request_timeout: Optional[Union[\u001b[39mfloat\u001b[39m, Tuple[\u001b[39mfloat\u001b[39m, \u001b[39mfloat\u001b[39m]]] \u001b[39m=\u001b[39m \u001b[39mNone\u001b[39;00m,\n\u001b[1;32m    219\u001b[0m ) \u001b[39m-\u001b[39m\u001b[39m>\u001b[39m Tuple[Union[OpenAIResponse, Iterator[OpenAIResponse]], \u001b[39mbool\u001b[39m, \u001b[39mstr\u001b[39m]:\n\u001b[0;32m--> 220\u001b[0m     result \u001b[39m=\u001b[39m \u001b[39mself\u001b[39;49m\u001b[39m.\u001b[39;49mrequest_raw(\n\u001b[1;32m    221\u001b[0m         method\u001b[39m.\u001b[39;49mlower(),\n\u001b[1;32m    222\u001b[0m         url,\n\u001b[1;32m    223\u001b[0m         params\u001b[39m=\u001b[39;49mparams,\n\u001b[1;32m    224\u001b[0m         supplied_headers\u001b[39m=\u001b[39;49mheaders,\n\u001b[1;32m    225\u001b[0m         files\u001b[39m=\u001b[39;49mfiles,\n\u001b[1;32m    226\u001b[0m         stream\u001b[39m=\u001b[39;49mstream,\n\u001b[1;32m    227\u001b[0m         request_id\u001b[39m=\u001b[39;49mrequest_id,\n\u001b[1;32m    228\u001b[0m         request_timeout\u001b[39m=\u001b[39;49mrequest_timeout,\n\u001b[1;32m    229\u001b[0m     )\n\u001b[1;32m    230\u001b[0m     resp, got_stream \u001b[39m=\u001b[39m \u001b[39mself\u001b[39m\u001b[39m.\u001b[39m_interpret_response(result, stream)\n\u001b[1;32m    231\u001b[0m     \u001b[39mreturn\u001b[39;00m resp, got_stream, \u001b[39mself\u001b[39m\u001b[39m.\u001b[39mapi_key\n",
      "File \u001b[0;32m~/miniconda3/envs/mactalk/lib/python3.10/site-packages/openai/api_requestor.py:520\u001b[0m, in \u001b[0;36mAPIRequestor.request_raw\u001b[0;34m(self, method, url, params, supplied_headers, files, stream, request_id, request_timeout)\u001b[0m\n\u001b[1;32m    518\u001b[0m     _thread_context\u001b[39m.\u001b[39msession \u001b[39m=\u001b[39m _make_session()\n\u001b[1;32m    519\u001b[0m \u001b[39mtry\u001b[39;00m:\n\u001b[0;32m--> 520\u001b[0m     result \u001b[39m=\u001b[39m _thread_context\u001b[39m.\u001b[39;49msession\u001b[39m.\u001b[39;49mrequest(\n\u001b[1;32m    521\u001b[0m         method,\n\u001b[1;32m    522\u001b[0m         abs_url,\n\u001b[1;32m    523\u001b[0m         headers\u001b[39m=\u001b[39;49mheaders,\n\u001b[1;32m    524\u001b[0m         data\u001b[39m=\u001b[39;49mdata,\n\u001b[1;32m    525\u001b[0m         files\u001b[39m=\u001b[39;49mfiles,\n\u001b[1;32m    526\u001b[0m         stream\u001b[39m=\u001b[39;49mstream,\n\u001b[1;32m    527\u001b[0m         timeout\u001b[39m=\u001b[39;49mrequest_timeout \u001b[39mif\u001b[39;49;00m request_timeout \u001b[39melse\u001b[39;49;00m TIMEOUT_SECS,\n\u001b[1;32m    528\u001b[0m         proxies\u001b[39m=\u001b[39;49m_thread_context\u001b[39m.\u001b[39;49msession\u001b[39m.\u001b[39;49mproxies,\n\u001b[1;32m    529\u001b[0m     )\n\u001b[1;32m    530\u001b[0m \u001b[39mexcept\u001b[39;00m requests\u001b[39m.\u001b[39mexceptions\u001b[39m.\u001b[39mTimeout \u001b[39mas\u001b[39;00m e:\n\u001b[1;32m    531\u001b[0m     \u001b[39mraise\u001b[39;00m error\u001b[39m.\u001b[39mTimeout(\u001b[39m\"\u001b[39m\u001b[39mRequest timed out: \u001b[39m\u001b[39m{}\u001b[39;00m\u001b[39m\"\u001b[39m\u001b[39m.\u001b[39mformat(e)) \u001b[39mfrom\u001b[39;00m \u001b[39me\u001b[39;00m\n",
      "File \u001b[0;32m~/miniconda3/envs/mactalk/lib/python3.10/site-packages/requests/sessions.py:589\u001b[0m, in \u001b[0;36mSession.request\u001b[0;34m(self, method, url, params, data, headers, cookies, files, auth, timeout, allow_redirects, proxies, hooks, stream, verify, cert, json)\u001b[0m\n\u001b[1;32m    584\u001b[0m send_kwargs \u001b[39m=\u001b[39m {\n\u001b[1;32m    585\u001b[0m     \u001b[39m\"\u001b[39m\u001b[39mtimeout\u001b[39m\u001b[39m\"\u001b[39m: timeout,\n\u001b[1;32m    586\u001b[0m     \u001b[39m\"\u001b[39m\u001b[39mallow_redirects\u001b[39m\u001b[39m\"\u001b[39m: allow_redirects,\n\u001b[1;32m    587\u001b[0m }\n\u001b[1;32m    588\u001b[0m send_kwargs\u001b[39m.\u001b[39mupdate(settings)\n\u001b[0;32m--> 589\u001b[0m resp \u001b[39m=\u001b[39m \u001b[39mself\u001b[39;49m\u001b[39m.\u001b[39;49msend(prep, \u001b[39m*\u001b[39;49m\u001b[39m*\u001b[39;49msend_kwargs)\n\u001b[1;32m    591\u001b[0m \u001b[39mreturn\u001b[39;00m resp\n",
      "File \u001b[0;32m~/miniconda3/envs/mactalk/lib/python3.10/site-packages/requests/sessions.py:703\u001b[0m, in \u001b[0;36mSession.send\u001b[0;34m(self, request, **kwargs)\u001b[0m\n\u001b[1;32m    700\u001b[0m start \u001b[39m=\u001b[39m preferred_clock()\n\u001b[1;32m    702\u001b[0m \u001b[39m# Send the request\u001b[39;00m\n\u001b[0;32m--> 703\u001b[0m r \u001b[39m=\u001b[39m adapter\u001b[39m.\u001b[39;49msend(request, \u001b[39m*\u001b[39;49m\u001b[39m*\u001b[39;49mkwargs)\n\u001b[1;32m    705\u001b[0m \u001b[39m# Total elapsed time of the request (approximately)\u001b[39;00m\n\u001b[1;32m    706\u001b[0m elapsed \u001b[39m=\u001b[39m preferred_clock() \u001b[39m-\u001b[39m start\n",
      "File \u001b[0;32m~/miniconda3/envs/mactalk/lib/python3.10/site-packages/requests/adapters.py:486\u001b[0m, in \u001b[0;36mHTTPAdapter.send\u001b[0;34m(self, request, stream, timeout, verify, cert, proxies)\u001b[0m\n\u001b[1;32m    483\u001b[0m     timeout \u001b[39m=\u001b[39m TimeoutSauce(connect\u001b[39m=\u001b[39mtimeout, read\u001b[39m=\u001b[39mtimeout)\n\u001b[1;32m    485\u001b[0m \u001b[39mtry\u001b[39;00m:\n\u001b[0;32m--> 486\u001b[0m     resp \u001b[39m=\u001b[39m conn\u001b[39m.\u001b[39;49murlopen(\n\u001b[1;32m    487\u001b[0m         method\u001b[39m=\u001b[39;49mrequest\u001b[39m.\u001b[39;49mmethod,\n\u001b[1;32m    488\u001b[0m         url\u001b[39m=\u001b[39;49murl,\n\u001b[1;32m    489\u001b[0m         body\u001b[39m=\u001b[39;49mrequest\u001b[39m.\u001b[39;49mbody,\n\u001b[1;32m    490\u001b[0m         headers\u001b[39m=\u001b[39;49mrequest\u001b[39m.\u001b[39;49mheaders,\n\u001b[1;32m    491\u001b[0m         redirect\u001b[39m=\u001b[39;49m\u001b[39mFalse\u001b[39;49;00m,\n\u001b[1;32m    492\u001b[0m         assert_same_host\u001b[39m=\u001b[39;49m\u001b[39mFalse\u001b[39;49;00m,\n\u001b[1;32m    493\u001b[0m         preload_content\u001b[39m=\u001b[39;49m\u001b[39mFalse\u001b[39;49;00m,\n\u001b[1;32m    494\u001b[0m         decode_content\u001b[39m=\u001b[39;49m\u001b[39mFalse\u001b[39;49;00m,\n\u001b[1;32m    495\u001b[0m         retries\u001b[39m=\u001b[39;49m\u001b[39mself\u001b[39;49m\u001b[39m.\u001b[39;49mmax_retries,\n\u001b[1;32m    496\u001b[0m         timeout\u001b[39m=\u001b[39;49mtimeout,\n\u001b[1;32m    497\u001b[0m         chunked\u001b[39m=\u001b[39;49mchunked,\n\u001b[1;32m    498\u001b[0m     )\n\u001b[1;32m    500\u001b[0m \u001b[39mexcept\u001b[39;00m (ProtocolError, \u001b[39mOSError\u001b[39;00m) \u001b[39mas\u001b[39;00m err:\n\u001b[1;32m    501\u001b[0m     \u001b[39mraise\u001b[39;00m \u001b[39mConnectionError\u001b[39;00m(err, request\u001b[39m=\u001b[39mrequest)\n",
      "File \u001b[0;32m~/miniconda3/envs/mactalk/lib/python3.10/site-packages/urllib3/connectionpool.py:790\u001b[0m, in \u001b[0;36mHTTPConnectionPool.urlopen\u001b[0;34m(self, method, url, body, headers, retries, redirect, assert_same_host, timeout, pool_timeout, release_conn, chunked, body_pos, preload_content, decode_content, **response_kw)\u001b[0m\n\u001b[1;32m    787\u001b[0m response_conn \u001b[39m=\u001b[39m conn \u001b[39mif\u001b[39;00m \u001b[39mnot\u001b[39;00m release_conn \u001b[39melse\u001b[39;00m \u001b[39mNone\u001b[39;00m\n\u001b[1;32m    789\u001b[0m \u001b[39m# Make the request on the HTTPConnection object\u001b[39;00m\n\u001b[0;32m--> 790\u001b[0m response \u001b[39m=\u001b[39m \u001b[39mself\u001b[39;49m\u001b[39m.\u001b[39;49m_make_request(\n\u001b[1;32m    791\u001b[0m     conn,\n\u001b[1;32m    792\u001b[0m     method,\n\u001b[1;32m    793\u001b[0m     url,\n\u001b[1;32m    794\u001b[0m     timeout\u001b[39m=\u001b[39;49mtimeout_obj,\n\u001b[1;32m    795\u001b[0m     body\u001b[39m=\u001b[39;49mbody,\n\u001b[1;32m    796\u001b[0m     headers\u001b[39m=\u001b[39;49mheaders,\n\u001b[1;32m    797\u001b[0m     chunked\u001b[39m=\u001b[39;49mchunked,\n\u001b[1;32m    798\u001b[0m     retries\u001b[39m=\u001b[39;49mretries,\n\u001b[1;32m    799\u001b[0m     response_conn\u001b[39m=\u001b[39;49mresponse_conn,\n\u001b[1;32m    800\u001b[0m     preload_content\u001b[39m=\u001b[39;49mpreload_content,\n\u001b[1;32m    801\u001b[0m     decode_content\u001b[39m=\u001b[39;49mdecode_content,\n\u001b[1;32m    802\u001b[0m     \u001b[39m*\u001b[39;49m\u001b[39m*\u001b[39;49mresponse_kw,\n\u001b[1;32m    803\u001b[0m )\n\u001b[1;32m    805\u001b[0m \u001b[39m# Everything went great!\u001b[39;00m\n\u001b[1;32m    806\u001b[0m clean_exit \u001b[39m=\u001b[39m \u001b[39mTrue\u001b[39;00m\n",
      "File \u001b[0;32m~/miniconda3/envs/mactalk/lib/python3.10/site-packages/urllib3/connectionpool.py:536\u001b[0m, in \u001b[0;36mHTTPConnectionPool._make_request\u001b[0;34m(self, conn, method, url, body, headers, retries, timeout, chunked, response_conn, preload_content, decode_content, enforce_content_length)\u001b[0m\n\u001b[1;32m    534\u001b[0m \u001b[39m# Receive the response from the server\u001b[39;00m\n\u001b[1;32m    535\u001b[0m \u001b[39mtry\u001b[39;00m:\n\u001b[0;32m--> 536\u001b[0m     response \u001b[39m=\u001b[39m conn\u001b[39m.\u001b[39;49mgetresponse()\n\u001b[1;32m    537\u001b[0m \u001b[39mexcept\u001b[39;00m (BaseSSLError, \u001b[39mOSError\u001b[39;00m) \u001b[39mas\u001b[39;00m e:\n\u001b[1;32m    538\u001b[0m     \u001b[39mself\u001b[39m\u001b[39m.\u001b[39m_raise_timeout(err\u001b[39m=\u001b[39me, url\u001b[39m=\u001b[39murl, timeout_value\u001b[39m=\u001b[39mread_timeout)\n",
      "File \u001b[0;32m~/miniconda3/envs/mactalk/lib/python3.10/site-packages/urllib3/connection.py:454\u001b[0m, in \u001b[0;36mHTTPConnection.getresponse\u001b[0;34m(self)\u001b[0m\n\u001b[1;32m    451\u001b[0m \u001b[39mfrom\u001b[39;00m \u001b[39m.\u001b[39;00m\u001b[39mresponse\u001b[39;00m \u001b[39mimport\u001b[39;00m HTTPResponse\n\u001b[1;32m    453\u001b[0m \u001b[39m# Get the response from http.client.HTTPConnection\u001b[39;00m\n\u001b[0;32m--> 454\u001b[0m httplib_response \u001b[39m=\u001b[39m \u001b[39msuper\u001b[39;49m()\u001b[39m.\u001b[39;49mgetresponse()\n\u001b[1;32m    456\u001b[0m \u001b[39mtry\u001b[39;00m:\n\u001b[1;32m    457\u001b[0m     assert_header_parsing(httplib_response\u001b[39m.\u001b[39mmsg)\n",
      "File \u001b[0;32m~/miniconda3/envs/mactalk/lib/python3.10/http/client.py:1375\u001b[0m, in \u001b[0;36mHTTPConnection.getresponse\u001b[0;34m(self)\u001b[0m\n\u001b[1;32m   1373\u001b[0m \u001b[39mtry\u001b[39;00m:\n\u001b[1;32m   1374\u001b[0m     \u001b[39mtry\u001b[39;00m:\n\u001b[0;32m-> 1375\u001b[0m         response\u001b[39m.\u001b[39;49mbegin()\n\u001b[1;32m   1376\u001b[0m     \u001b[39mexcept\u001b[39;00m \u001b[39mConnectionError\u001b[39;00m:\n\u001b[1;32m   1377\u001b[0m         \u001b[39mself\u001b[39m\u001b[39m.\u001b[39mclose()\n",
      "File \u001b[0;32m~/miniconda3/envs/mactalk/lib/python3.10/http/client.py:318\u001b[0m, in \u001b[0;36mHTTPResponse.begin\u001b[0;34m(self)\u001b[0m\n\u001b[1;32m    316\u001b[0m \u001b[39m# read until we get a non-100 response\u001b[39;00m\n\u001b[1;32m    317\u001b[0m \u001b[39mwhile\u001b[39;00m \u001b[39mTrue\u001b[39;00m:\n\u001b[0;32m--> 318\u001b[0m     version, status, reason \u001b[39m=\u001b[39m \u001b[39mself\u001b[39;49m\u001b[39m.\u001b[39;49m_read_status()\n\u001b[1;32m    319\u001b[0m     \u001b[39mif\u001b[39;00m status \u001b[39m!=\u001b[39m CONTINUE:\n\u001b[1;32m    320\u001b[0m         \u001b[39mbreak\u001b[39;00m\n",
      "File \u001b[0;32m~/miniconda3/envs/mactalk/lib/python3.10/http/client.py:279\u001b[0m, in \u001b[0;36mHTTPResponse._read_status\u001b[0;34m(self)\u001b[0m\n\u001b[1;32m    278\u001b[0m \u001b[39mdef\u001b[39;00m \u001b[39m_read_status\u001b[39m(\u001b[39mself\u001b[39m):\n\u001b[0;32m--> 279\u001b[0m     line \u001b[39m=\u001b[39m \u001b[39mstr\u001b[39m(\u001b[39mself\u001b[39;49m\u001b[39m.\u001b[39;49mfp\u001b[39m.\u001b[39;49mreadline(_MAXLINE \u001b[39m+\u001b[39;49m \u001b[39m1\u001b[39;49m), \u001b[39m\"\u001b[39m\u001b[39miso-8859-1\u001b[39m\u001b[39m\"\u001b[39m)\n\u001b[1;32m    280\u001b[0m     \u001b[39mif\u001b[39;00m \u001b[39mlen\u001b[39m(line) \u001b[39m>\u001b[39m _MAXLINE:\n\u001b[1;32m    281\u001b[0m         \u001b[39mraise\u001b[39;00m LineTooLong(\u001b[39m\"\u001b[39m\u001b[39mstatus line\u001b[39m\u001b[39m\"\u001b[39m)\n",
      "File \u001b[0;32m~/miniconda3/envs/mactalk/lib/python3.10/socket.py:705\u001b[0m, in \u001b[0;36mSocketIO.readinto\u001b[0;34m(self, b)\u001b[0m\n\u001b[1;32m    703\u001b[0m \u001b[39mwhile\u001b[39;00m \u001b[39mTrue\u001b[39;00m:\n\u001b[1;32m    704\u001b[0m     \u001b[39mtry\u001b[39;00m:\n\u001b[0;32m--> 705\u001b[0m         \u001b[39mreturn\u001b[39;00m \u001b[39mself\u001b[39;49m\u001b[39m.\u001b[39;49m_sock\u001b[39m.\u001b[39;49mrecv_into(b)\n\u001b[1;32m    706\u001b[0m     \u001b[39mexcept\u001b[39;00m timeout:\n\u001b[1;32m    707\u001b[0m         \u001b[39mself\u001b[39m\u001b[39m.\u001b[39m_timeout_occurred \u001b[39m=\u001b[39m \u001b[39mTrue\u001b[39;00m\n",
      "File \u001b[0;32m~/miniconda3/envs/mactalk/lib/python3.10/ssl.py:1274\u001b[0m, in \u001b[0;36mSSLSocket.recv_into\u001b[0;34m(self, buffer, nbytes, flags)\u001b[0m\n\u001b[1;32m   1270\u001b[0m     \u001b[39mif\u001b[39;00m flags \u001b[39m!=\u001b[39m \u001b[39m0\u001b[39m:\n\u001b[1;32m   1271\u001b[0m         \u001b[39mraise\u001b[39;00m \u001b[39mValueError\u001b[39;00m(\n\u001b[1;32m   1272\u001b[0m           \u001b[39m\"\u001b[39m\u001b[39mnon-zero flags not allowed in calls to recv_into() on \u001b[39m\u001b[39m%s\u001b[39;00m\u001b[39m\"\u001b[39m \u001b[39m%\u001b[39m\n\u001b[1;32m   1273\u001b[0m           \u001b[39mself\u001b[39m\u001b[39m.\u001b[39m\u001b[39m__class__\u001b[39m)\n\u001b[0;32m-> 1274\u001b[0m     \u001b[39mreturn\u001b[39;00m \u001b[39mself\u001b[39;49m\u001b[39m.\u001b[39;49mread(nbytes, buffer)\n\u001b[1;32m   1275\u001b[0m \u001b[39melse\u001b[39;00m:\n\u001b[1;32m   1276\u001b[0m     \u001b[39mreturn\u001b[39;00m \u001b[39msuper\u001b[39m()\u001b[39m.\u001b[39mrecv_into(buffer, nbytes, flags)\n",
      "File \u001b[0;32m~/miniconda3/envs/mactalk/lib/python3.10/ssl.py:1130\u001b[0m, in \u001b[0;36mSSLSocket.read\u001b[0;34m(self, len, buffer)\u001b[0m\n\u001b[1;32m   1128\u001b[0m \u001b[39mtry\u001b[39;00m:\n\u001b[1;32m   1129\u001b[0m     \u001b[39mif\u001b[39;00m buffer \u001b[39mis\u001b[39;00m \u001b[39mnot\u001b[39;00m \u001b[39mNone\u001b[39;00m:\n\u001b[0;32m-> 1130\u001b[0m         \u001b[39mreturn\u001b[39;00m \u001b[39mself\u001b[39;49m\u001b[39m.\u001b[39;49m_sslobj\u001b[39m.\u001b[39;49mread(\u001b[39mlen\u001b[39;49m, buffer)\n\u001b[1;32m   1131\u001b[0m     \u001b[39melse\u001b[39;00m:\n\u001b[1;32m   1132\u001b[0m         \u001b[39mreturn\u001b[39;00m \u001b[39mself\u001b[39m\u001b[39m.\u001b[39m_sslobj\u001b[39m.\u001b[39mread(\u001b[39mlen\u001b[39m)\n",
      "\u001b[0;31mKeyboardInterrupt\u001b[0m: "
     ]
    }
   ],
   "source": [
    "from openai.embeddings_utils import get_embedding\n",
    "\n",
    "df_1k = df.sample(1000, random_state=42)\n",
    "\n",
    "df_1k[\"embedding\"] = df_1k.combined.apply(lambda x : get_embedding(x, engine=embedding_model))\n",
    "df_1k.to_csv(\"data/toutiao_cat_data_10k_with_embeddings.csv\", index=False)"
   ]
  },
  {
   "cell_type": "code",
   "execution_count": null,
   "metadata": {},
   "outputs": [],
   "source": [
    "@backoff.on_exception(backoff.expo, openai.error.RateLimitError) # type: ignore\n",
    "def get_embedding_with_backoff(**kwargs):\n",
    "    return get_embedding(**kwargs)\n",
    "\n",
    "df_10k = df.sample(10000, random_state=42)\n",
    "\n",
    "df_10k[\"embedding\"] = df_10k.combined.apply(lambda x : get_embedding_with_backoff(text=x, engine=embedding_model))\n",
    "df_10k.to_csv(\"data/toutiao_cat_data_10k_with_embeddings.csv\", index=False)"
   ]
  },
  {
   "cell_type": "code",
   "execution_count": 100,
   "metadata": {},
   "outputs": [],
   "source": [
    "from openai.embeddings_utils import get_embeddings\n",
    "\n",
    "batch_size = 100\n",
    "\n",
    "@backoff.on_exception(backoff.expo, openai.error.RateLimitError)  # type: ignore\n",
    "def get_embeddings_with_backoff(prompts, engine):\n",
    "    embeddings = []\n",
    "    for i in range(0, len(prompts), batch_size):\n",
    "        batch = prompts[i:i+batch_size]\n",
    "        embeddings += get_embeddings(list_of_text=batch, engine=engine)\n",
    "    return embeddings\n",
    "\n",
    "# group prompts into batches of 100\n",
    "prompts = df_1k.combined.tolist()\n",
    "prompt_batches = [prompts[i:i+batch_size] for i in range(0, len(prompts), batch_size)]\n",
    "\n",
    "embeddings = []\n",
    "for batch in prompt_batches:\n",
    "    batch_embeddings = get_embeddings_with_backoff(prompts=batch, engine=embedding_model)\n",
    "    embeddings += batch_embeddings\n",
    "\n",
    "df_1k[\"embedding\"] = embeddings\n",
    "df_1k.to_csv(\"data/toutiao_cat_data_all_with_embeddings_1k.csv\", index=False)"
   ]
  },
  {
   "cell_type": "markdown",
   "metadata": {},
   "source": [
    "### 通过Tiktoken来统计Token数量"
   ]
  },
  {
   "cell_type": "code",
   "execution_count": 101,
   "metadata": {},
   "outputs": [
    {
     "name": "stdout",
     "output_type": "stream",
     "text": [
      "8\n"
     ]
    }
   ],
   "source": [
    "import tiktoken\n",
    "\n",
    "\n",
    "embedding_encoding = \"cl100k_base\"  # this the encoding for text-embedding-ada-002\n",
    "\n",
    "encoding = tiktoken.get_encoding(embedding_encoding)\n",
    "text = \"今天天气真不错\"\n",
    "print(len(encoding.encode(text)))"
   ]
  },
  {
   "cell_type": "code",
   "execution_count": 102,
   "metadata": {},
   "outputs": [
    {
     "name": "stdout",
     "output_type": "stream",
     "text": [
      "12\n"
     ]
    }
   ],
   "source": [
    "\n",
    "embedding_encoding = \"p50k_base\"  # this the encoding for text-davinci-003\n",
    "\n",
    "encoding = tiktoken.get_encoding(embedding_encoding)\n",
    "text = \"今天天气真不错\"\n",
    "print(len(encoding.encode(text)))"
   ]
  },
  {
   "cell_type": "code",
   "execution_count": 104,
   "metadata": {},
   "outputs": [
    {
     "name": "stdout",
     "output_type": "stream",
     "text": [
      "{\n",
      "  \"choices\": [\n",
      "    {\n",
      "      \"finish_reason\": \"stop\",\n",
      "      \"index\": 0,\n",
      "      \"logprobs\": null,\n",
      "      \"text\": \"\\n\\nYes, the weather is really nice today.\"\n",
      "    }\n",
      "  ],\n",
      "  \"created\": 1686992682,\n",
      "  \"id\": \"cmpl-7SM9Kr4ILMfYVwkFR6pI7oXCUjoBr\",\n",
      "  \"model\": \"text-davinci-003\",\n",
      "  \"object\": \"text_completion\",\n",
      "  \"usage\": {\n",
      "    \"completion_tokens\": 11,\n",
      "    \"prompt_tokens\": 12,\n",
      "    \"total_tokens\": 23\n",
      "  }\n",
      "}\n",
      "\n",
      "\n",
      "Yes, the weather is really nice today.\n"
     ]
    }
   ],
   "source": [
    "import openai\n",
    "import os\n",
    "\n",
    "openai.api_key = os.environ.get(\"OPENAI_API_KEY\")\n",
    "COMPLETION_MODEL = \"text-davinci-003\"\n",
    "\n",
    "def get_response(prompt):\n",
    "    completions = openai.Completion.create(\n",
    "        engine=COMPLETION_MODEL,\n",
    "        prompt=prompt,\n",
    "        max_tokens=512,\n",
    "        n=1,\n",
    "        stop=None,\n",
    "        temperature=0.0,        \n",
    "    )\n",
    "    return completions\n",
    "\n",
    "response = get_response(\"今天天气真不错\")\n",
    "\n",
    "print(response)\n",
    "print(response.choices[0].text) # type: ignore"
   ]
  },
  {
   "cell_type": "markdown",
   "metadata": {},
   "source": [
    "## 语义搜索"
   ]
  },
  {
   "cell_type": "code",
   "execution_count": 1,
   "metadata": {},
   "outputs": [
    {
     "name": "stdout",
     "output_type": "stream",
     "text": [
      "\n",
      "\n",
      "1.【新品】Apple/苹果 iPhone 11 Pro Max 手机全网通\n",
      "2.【限时特价】华为 Mate 30 Pro 5G 8GB+256GB 全网通\n",
      "3.【新款上市】Vivo iQOO Pro 5G 手机 8GB+128GB 全网通\n",
      "4.【热卖】OPPO Reno 10X Zoom 12GB+256GB 全网通\n",
      "5.【新品】小米CC9 Pro 全网通 6GB+128GB\n",
      "6.【热销】华为MateBook X Pro 2019 i7 16G 512G\n",
      "7.【限时特惠】Apple/苹果 MacBook Pro 13.3英寸 512G\n",
      "8.【新品】三星Galaxy Tab S6 10.5英寸 128G WiFi\n",
      "9.【热销】ThinkPad X1 Carbon 2019 14英寸 512G\n",
      "10.【新款上市】联想ThinkPad X1 Yoga 2019 14英寸 512G\n",
      "11.【热卖】华硕ZenBook Pro 15.6英寸 512G\n",
      "12.【新品】惠普Spectre x360 15.6英寸 512G\n",
      "13.【限时特惠】联想ThinkPad E590 15.6英寸 512G\n",
      "14.【新款上市】华为MateBook 13.9英寸 512G\n",
      "15.【热销】华为MateBook X Pro 13.9英寸 512G\n",
      "16.【新品】华为MateBook D 14英寸 512G\n",
      "17.【热卖】联想ThinkPad T480s 14英寸 512G\n",
      "18.【限时特惠】华为MateBook E 12英寸 512G\n",
      "19.【新款上市】联想ThinkPad X1 Carbon 14英寸 512G\n",
      "20.【热销】华硕ZenBook UX430 14英寸 512G\n",
      "21.【新品】华为MateBook X Pro 13.9英寸 1TB\n",
      "22.【热卖】联想ThinkPad X1 Yoga 14英寸 1TB\n",
      "23.【限时特惠】惠普Spectre x360 15.6英寸 1TB\n",
      "24.【新款上市】华硕ZenBook Pro 15.6英寸 1TB\n",
      "25.【热销】联想ThinkPad T480s 14英寸 1TB\n",
      "26.【新品】联想ThinkPad E590 15.6英寸 1TB\n",
      "27.【热卖】华为MateBook D 14英寸 1TB\n",
      "28.【限时特惠】华为MateBook 13.9英寸 1TB\n",
      "29.【新款上市】联想ThinkPad X1 Carbon 14英寸 1TB\n",
      "30.【热销】华硕ZenBook UX430 14英寸 1TB\n",
      "31.【新品】Apple/苹果 iPad Pro 11英寸 256G\n",
      "32.【热卖】三星Galaxy Tab S6 10.5英寸 256G WiFi\n",
      "33.【限时特惠】Apple/苹果 iPad Pro 12.9英寸 512G\n",
      "34.【新款上市】华为MediaPad M6 10.8英寸 256G WiFi\n",
      "35.【热销】华为MediaPad M5 10.8英寸 128G WiFi\n",
      "36.【新品】三星Galaxy Tab S4 10.5英寸 256G WiFi\n",
      "37.【热卖】联想Yoga Tab 3 Pro 10.1英寸 64G\n",
      "38.【限时特惠】小米平板4 10.1英寸 64G WiFi\n",
      "39.【新款上市】三星Galaxy Tab A 10.1英寸 32G WiFi\n",
      "40.【热销】联想Tab 4 10 10.1英寸 16G WiFi\n",
      "41.【新品】华为MateBook D 14英寸 i5 8G 256G\n",
      "42.【热卖】华为MateBook X Pro 13.9英寸 i7 16G 512G\n",
      "43.【限时特惠】联想ThinkPad X1 Carbon 14英寸 i7 16G 512G\n",
      "44.【新款上市】华硕ZenBook UX430 14英寸 i7 16G 512G\n",
      "45.【热销】联想ThinkPad E590 15.6英寸 i7 16G 512G\n",
      "46.【新品】联想ThinkPad T480s 14英寸 i7 16G 512G\n",
      "47.【热卖】惠普Spectre x360 15.6英寸 i7 16G 512G\n",
      "48.【限时特惠】华硕ZenBook Pro 15.6英寸 i7 16G 512G\n",
      "49.【新款上市】联想ThinkPad X1 Yoga 14英寸 i7 16G 512G\n",
      "50.【热销】Apple/苹果 MacBook Pro 13.3英寸 i7 16G 512G\n"
     ]
    }
   ],
   "source": [
    "import openai, os\n",
    "\n",
    "openai.api_key = os.environ.get(\"OPENAI_API_KEY\")\n",
    "\n",
    "COMPLETION_MODEL = \"text-davinci-003\"\n",
    "\n",
    "def generate_data_by_prompt(prompt):\n",
    "    response = openai.Completion.create(\n",
    "        engine=COMPLETION_MODEL,\n",
    "        prompt=prompt,\n",
    "        temperature=0.5,\n",
    "        max_tokens=2048,\n",
    "        top_p=1,\n",
    "    )\n",
    "    return response.choices[0].text # type: ignore\n",
    "\n",
    "prompt = \"\"\"请你生成50条淘宝网里的商品的标题，每条在30个字左右，品类是3C数码产品，标题里往往也会有一些促销类的信息，每行一条。\"\"\"\n",
    "data = generate_data_by_prompt(prompt)\n",
    "print(data)"
   ]
  },
  {
   "cell_type": "code",
   "execution_count": 2,
   "metadata": {},
   "outputs": [
    {
     "data": {
      "text/html": [
       "<div>\n",
       "<style scoped>\n",
       "    .dataframe tbody tr th:only-of-type {\n",
       "        vertical-align: middle;\n",
       "    }\n",
       "\n",
       "    .dataframe tbody tr th {\n",
       "        vertical-align: top;\n",
       "    }\n",
       "\n",
       "    .dataframe thead th {\n",
       "        text-align: right;\n",
       "    }\n",
       "</style>\n",
       "<table border=\"1\" class=\"dataframe\">\n",
       "  <thead>\n",
       "    <tr style=\"text-align: right;\">\n",
       "      <th></th>\n",
       "      <th>product_name</th>\n",
       "    </tr>\n",
       "  </thead>\n",
       "  <tbody>\n",
       "    <tr>\n",
       "      <th>0</th>\n",
       "      <td>1.【新品】Apple/苹果 iPhone 11 Pro Max 手机全网通</td>\n",
       "    </tr>\n",
       "    <tr>\n",
       "      <th>1</th>\n",
       "      <td>2.【限时特价】华为 Mate 30 Pro 5G 8GB+256GB 全网通</td>\n",
       "    </tr>\n",
       "    <tr>\n",
       "      <th>2</th>\n",
       "      <td>3.【新款上市】Vivo iQOO Pro 5G 手机 8GB+128GB 全网通</td>\n",
       "    </tr>\n",
       "    <tr>\n",
       "      <th>3</th>\n",
       "      <td>4.【热卖】OPPO Reno 10X Zoom 12GB+256GB 全网通</td>\n",
       "    </tr>\n",
       "    <tr>\n",
       "      <th>4</th>\n",
       "      <td>5.【新品】小米CC9 Pro 全网通 6GB+128GB</td>\n",
       "    </tr>\n",
       "  </tbody>\n",
       "</table>\n",
       "</div>"
      ],
      "text/plain": [
       "                                product_name\n",
       "0     1.【新品】Apple/苹果 iPhone 11 Pro Max 手机全网通\n",
       "1    2.【限时特价】华为 Mate 30 Pro 5G 8GB+256GB 全网通\n",
       "2  3.【新款上市】Vivo iQOO Pro 5G 手机 8GB+128GB 全网通\n",
       "3    4.【热卖】OPPO Reno 10X Zoom 12GB+256GB 全网通\n",
       "4              5.【新品】小米CC9 Pro 全网通 6GB+128GB"
      ]
     },
     "execution_count": 2,
     "metadata": {},
     "output_type": "execute_result"
    }
   ],
   "source": [
    "import pandas as pd\n",
    "\n",
    "product_names = data.strip().split('\\n')\n",
    "df = pd.DataFrame({'product_name': product_names})\n",
    "df.head()"
   ]
  },
  {
   "cell_type": "code",
   "execution_count": 3,
   "metadata": {},
   "outputs": [
    {
     "data": {
      "text/html": [
       "<div>\n",
       "<style scoped>\n",
       "    .dataframe tbody tr th:only-of-type {\n",
       "        vertical-align: middle;\n",
       "    }\n",
       "\n",
       "    .dataframe tbody tr th {\n",
       "        vertical-align: top;\n",
       "    }\n",
       "\n",
       "    .dataframe thead th {\n",
       "        text-align: right;\n",
       "    }\n",
       "</style>\n",
       "<table border=\"1\" class=\"dataframe\">\n",
       "  <thead>\n",
       "    <tr style=\"text-align: right;\">\n",
       "      <th></th>\n",
       "      <th>product_name</th>\n",
       "    </tr>\n",
       "  </thead>\n",
       "  <tbody>\n",
       "    <tr>\n",
       "      <th>0</th>\n",
       "      <td>【新品】Apple/苹果 iPhone 11 Pro Max 手机全网通</td>\n",
       "    </tr>\n",
       "    <tr>\n",
       "      <th>1</th>\n",
       "      <td>【限时特价】华为 Mate 30 Pro 5G 8GB+256GB 全网通</td>\n",
       "    </tr>\n",
       "    <tr>\n",
       "      <th>2</th>\n",
       "      <td>【新款上市】Vivo iQOO Pro 5G 手机 8GB+128GB 全网通</td>\n",
       "    </tr>\n",
       "    <tr>\n",
       "      <th>3</th>\n",
       "      <td>【热卖】OPPO Reno 10X Zoom 12GB+256GB 全网通</td>\n",
       "    </tr>\n",
       "    <tr>\n",
       "      <th>4</th>\n",
       "      <td>【新品】小米CC9 Pro 全网通 6GB+128GB</td>\n",
       "    </tr>\n",
       "  </tbody>\n",
       "</table>\n",
       "</div>"
      ],
      "text/plain": [
       "                              product_name\n",
       "0     【新品】Apple/苹果 iPhone 11 Pro Max 手机全网通\n",
       "1    【限时特价】华为 Mate 30 Pro 5G 8GB+256GB 全网通\n",
       "2  【新款上市】Vivo iQOO Pro 5G 手机 8GB+128GB 全网通\n",
       "3    【热卖】OPPO Reno 10X Zoom 12GB+256GB 全网通\n",
       "4              【新品】小米CC9 Pro 全网通 6GB+128GB"
      ]
     },
     "execution_count": 3,
     "metadata": {},
     "output_type": "execute_result"
    }
   ],
   "source": [
    "df.product_name = df.product_name.apply(lambda x: x.split('.')[1].strip())\n",
    "df.head()"
   ]
  },
  {
   "cell_type": "code",
   "execution_count": 5,
   "metadata": {},
   "outputs": [],
   "source": [
    "clothes_prompt = \"\"\"请你生成50条淘宝网里的商品的标题，每条在30个字左右，品类是女性的服饰箱包等等，标题里往往也会有一些促销类的信息，每行一条。\"\"\"\n",
    "clothes_data = generate_data_by_prompt(clothes_prompt)\n",
    "clothes_product_names = clothes_data.strip().split('\\n')"
   ]
  },
  {
   "cell_type": "code",
   "execution_count": 6,
   "metadata": {},
   "outputs": [
    {
     "data": {
      "text/html": [
       "<div>\n",
       "<style scoped>\n",
       "    .dataframe tbody tr th:only-of-type {\n",
       "        vertical-align: middle;\n",
       "    }\n",
       "\n",
       "    .dataframe tbody tr th {\n",
       "        vertical-align: top;\n",
       "    }\n",
       "\n",
       "    .dataframe thead th {\n",
       "        text-align: right;\n",
       "    }\n",
       "</style>\n",
       "<table border=\"1\" class=\"dataframe\">\n",
       "  <thead>\n",
       "    <tr style=\"text-align: right;\">\n",
       "      <th></th>\n",
       "      <th>product_name</th>\n",
       "    </tr>\n",
       "  </thead>\n",
       "  <tbody>\n",
       "    <tr>\n",
       "      <th>0</th>\n",
       "      <td>【热卖】新款时尚潮流女士手提包</td>\n",
       "    </tr>\n",
       "    <tr>\n",
       "      <th>1</th>\n",
       "      <td>【特价】清新简约轻便双肩包</td>\n",
       "    </tr>\n",
       "    <tr>\n",
       "      <th>2</th>\n",
       "      <td>【精选】百搭经典款时尚拼接包</td>\n",
       "    </tr>\n",
       "    <tr>\n",
       "      <th>3</th>\n",
       "      <td>【专享】简约大容量真皮挎包</td>\n",
       "    </tr>\n",
       "    <tr>\n",
       "      <th>4</th>\n",
       "      <td>【热卖】潮流拼接复古款女士手拿包</td>\n",
       "    </tr>\n",
       "  </tbody>\n",
       "</table>\n",
       "</div>"
      ],
      "text/plain": [
       "       product_name\n",
       "0   【热卖】新款时尚潮流女士手提包\n",
       "1     【特价】清新简约轻便双肩包\n",
       "2    【精选】百搭经典款时尚拼接包\n",
       "3     【专享】简约大容量真皮挎包\n",
       "4  【热卖】潮流拼接复古款女士手拿包"
      ]
     },
     "execution_count": 6,
     "metadata": {},
     "output_type": "execute_result"
    }
   ],
   "source": [
    "clothes_df = pd.DataFrame({'product_name': clothes_product_names})\n",
    "clothes_df.product_name = clothes_df.product_name.apply(lambda x: x.split('.')[1].strip())\n",
    "clothes_df.head()"
   ]
  },
  {
   "cell_type": "code",
   "execution_count": 7,
   "metadata": {},
   "outputs": [
    {
     "name": "stdout",
     "output_type": "stream",
     "text": [
      "0        【新品】Apple/苹果 iPhone 11 Pro Max 手机全网通\n",
      "1       【限时特价】华为 Mate 30 Pro 5G 8GB+256GB 全网通\n",
      "2     【新款上市】Vivo iQOO Pro 5G 手机 8GB+128GB 全网通\n",
      "3       【热卖】OPPO Reno 10X Zoom 12GB+256GB 全网通\n",
      "4                 【新品】小米CC9 Pro 全网通 6GB+128GB\n",
      "                       ...                   \n",
      "95                             【特价】百搭时尚复古款双肩包\n",
      "96                           【精选】清新拼接复古款女士手拿包\n",
      "97                           【专享】潮流拼接复古款真皮手提包\n",
      "98                           【热卖】简约款时尚拼接女士手拿包\n",
      "99                             【特价】复古款拼接真皮手提包\n",
      "Name: product_name, Length: 100, dtype: object\n"
     ]
    }
   ],
   "source": [
    "df = pd.concat([df, clothes_df], axis=0)\n",
    "df = df.reset_index(drop=True)\n",
    "print(df.product_name)"
   ]
  },
  {
   "cell_type": "code",
   "execution_count": 8,
   "metadata": {},
   "outputs": [
    {
     "data": {
      "text/html": [
       "<div>\n",
       "<style scoped>\n",
       "    .dataframe tbody tr th:only-of-type {\n",
       "        vertical-align: middle;\n",
       "    }\n",
       "\n",
       "    .dataframe tbody tr th {\n",
       "        vertical-align: top;\n",
       "    }\n",
       "\n",
       "    .dataframe thead th {\n",
       "        text-align: right;\n",
       "    }\n",
       "</style>\n",
       "<table border=\"1\" class=\"dataframe\">\n",
       "  <thead>\n",
       "    <tr style=\"text-align: right;\">\n",
       "      <th></th>\n",
       "      <th>product_name</th>\n",
       "    </tr>\n",
       "  </thead>\n",
       "  <tbody>\n",
       "    <tr>\n",
       "      <th>0</th>\n",
       "      <td>【新品】Apple/苹果 iPhone 11 Pro Max 手机全网通</td>\n",
       "    </tr>\n",
       "    <tr>\n",
       "      <th>1</th>\n",
       "      <td>【限时特价】华为 Mate 30 Pro 5G 8GB+256GB 全网通</td>\n",
       "    </tr>\n",
       "    <tr>\n",
       "      <th>2</th>\n",
       "      <td>【新款上市】Vivo iQOO Pro 5G 手机 8GB+128GB 全网通</td>\n",
       "    </tr>\n",
       "    <tr>\n",
       "      <th>3</th>\n",
       "      <td>【热卖】OPPO Reno 10X Zoom 12GB+256GB 全网通</td>\n",
       "    </tr>\n",
       "    <tr>\n",
       "      <th>4</th>\n",
       "      <td>【新品】小米CC9 Pro 全网通 6GB+128GB</td>\n",
       "    </tr>\n",
       "    <tr>\n",
       "      <th>...</th>\n",
       "      <td>...</td>\n",
       "    </tr>\n",
       "    <tr>\n",
       "      <th>95</th>\n",
       "      <td>【特价】百搭时尚复古款双肩包</td>\n",
       "    </tr>\n",
       "    <tr>\n",
       "      <th>96</th>\n",
       "      <td>【精选】清新拼接复古款女士手拿包</td>\n",
       "    </tr>\n",
       "    <tr>\n",
       "      <th>97</th>\n",
       "      <td>【专享】潮流拼接复古款真皮手提包</td>\n",
       "    </tr>\n",
       "    <tr>\n",
       "      <th>98</th>\n",
       "      <td>【热卖】简约款时尚拼接女士手拿包</td>\n",
       "    </tr>\n",
       "    <tr>\n",
       "      <th>99</th>\n",
       "      <td>【特价】复古款拼接真皮手提包</td>\n",
       "    </tr>\n",
       "  </tbody>\n",
       "</table>\n",
       "<p>100 rows × 1 columns</p>\n",
       "</div>"
      ],
      "text/plain": [
       "                               product_name\n",
       "0      【新品】Apple/苹果 iPhone 11 Pro Max 手机全网通\n",
       "1     【限时特价】华为 Mate 30 Pro 5G 8GB+256GB 全网通\n",
       "2   【新款上市】Vivo iQOO Pro 5G 手机 8GB+128GB 全网通\n",
       "3     【热卖】OPPO Reno 10X Zoom 12GB+256GB 全网通\n",
       "4               【新品】小米CC9 Pro 全网通 6GB+128GB\n",
       "..                                      ...\n",
       "95                           【特价】百搭时尚复古款双肩包\n",
       "96                         【精选】清新拼接复古款女士手拿包\n",
       "97                         【专享】潮流拼接复古款真皮手提包\n",
       "98                         【热卖】简约款时尚拼接女士手拿包\n",
       "99                           【特价】复古款拼接真皮手提包\n",
       "\n",
       "[100 rows x 1 columns]"
      ]
     },
     "metadata": {},
     "output_type": "display_data"
    }
   ],
   "source": [
    "display(df)"
   ]
  },
  {
   "cell_type": "code",
   "execution_count": 9,
   "metadata": {},
   "outputs": [],
   "source": [
    "df.to_csv(\"data/product_names.csv\")"
   ]
  },
  {
   "cell_type": "code",
   "execution_count": 10,
   "metadata": {},
   "outputs": [],
   "source": [
    "from openai.embeddings_utils import get_embeddings\n",
    "import openai, os, backoff\n",
    "\n",
    "openai.api_key = os.environ.get(\"OPENAI_API_KEY\")\n",
    "embedding_model = \"text-embedding-ada-002\"\n",
    "\n",
    "batch_size = 100\n",
    "\n",
    "@backoff.on_exception(backoff.expo, openai.error.RateLimitError) # type: ignore\n",
    "def get_embeddings_with_backoff(prompts, engine):\n",
    "    embeddings = []\n",
    "    for i in range(0, len(prompts), batch_size):\n",
    "        batch = prompts[i:i+batch_size]\n",
    "        embeddings += get_embeddings(list_of_text=batch, engine=engine)\n",
    "    return embeddings\n",
    "\n",
    "prompts = df.product_name.tolist()\n",
    "prompt_batches = [prompts[i:i+batch_size] for i in range(0, len(prompts), batch_size)]\n",
    "\n",
    "embeddings = []\n",
    "for batch in prompt_batches:\n",
    "    batch_embeddings = get_embeddings_with_backoff(prompts=batch, engine=embedding_model)\n",
    "    embeddings += batch_embeddings\n",
    "\n",
    "df[\"embedding\"] = embeddings\n",
    "df.to_parquet(\"data/taobao_product_title.parquet\", index=False)"
   ]
  },
  {
   "cell_type": "code",
   "execution_count": 12,
   "metadata": {},
   "outputs": [
    {
     "name": "stdout",
     "output_type": "stream",
     "text": [
      "【新品】小米CC9 Pro 全网通 6GB+128GB\n",
      "【限时特惠】小米平板4 10\n",
      "【限时特价】华为 Mate 30 Pro 5G 8GB+256GB 全网通\n"
     ]
    }
   ],
   "source": [
    "from openai.embeddings_utils import get_embedding, cosine_similarity\n",
    "\n",
    "# search through the reviews for a specific product\n",
    "def search_product(df, query, n=3, pprint=True):\n",
    "    product_embedding = get_embedding(\n",
    "        query,\n",
    "        engine=embedding_model\n",
    "    )\n",
    "    df[\"similarity\"] = df.embedding.apply(lambda x: cosine_similarity(x, product_embedding))\n",
    "\n",
    "    results = (\n",
    "        df.sort_values(\"similarity\", ascending=False)\n",
    "        .head(n)\n",
    "        .product_name\n",
    "    )\n",
    "    if pprint:\n",
    "        for r in results:\n",
    "            print(r)\n",
    "    return results\n",
    "\n",
    "\n",
    "results = search_product(df, \"小米手机\", n=3)"
   ]
  },
  {
   "cell_type": "markdown",
   "metadata": {},
   "source": [
    "### 使用向量数据库加速搜索过程"
   ]
  },
  {
   "cell_type": "code",
   "execution_count": 13,
   "metadata": {},
   "outputs": [],
   "source": [
    "import faiss\n",
    "import numpy as np\n",
    "\n",
    "def load_embeddings_to_faiss(df):\n",
    "    embeddings = np.array(df['embedding'].tolist()).astype('float32')\n",
    "    index = faiss.IndexFlatL2(embeddings.shape[1])\n",
    "    index.add(embeddings) # type: ignore\n",
    "    return index"
   ]
  },
  {
   "cell_type": "code",
   "execution_count": 14,
   "metadata": {},
   "outputs": [
    {
     "data": {
      "text/plain": [
       "<bound method NDFrame.head of                          id  code          category   \n",
       "0       6551700932705387022   101      news_culture  \\\n",
       "1       6552368441838272771   101      news_culture   \n",
       "2       6552407965343678723   101      news_culture   \n",
       "3       6552332417753940238   101      news_culture   \n",
       "4       6552475601595269390   101      news_culture   \n",
       "...                     ...   ...               ...   \n",
       "382683  6554578634403741966   109         news_tech   \n",
       "382684  6554623450374209806   110     news_military   \n",
       "382685  6554489948580348424   113        news_world   \n",
       "382686  6554706019040100611   113        news_world   \n",
       "382687  6554360505438306824   115  news_agriculture   \n",
       "\n",
       "                                  title                  keywords   \n",
       "0                      京城最值得你来场文化之旅的博物馆  保利集团,马未都,中国科学技术馆,博物馆,新中国  \\\n",
       "1                     发酵床的垫料种类有哪些？哪种更好？                             \n",
       "2                 上联：黄山黄河黄皮肤黄土高原。怎么对下联？                             \n",
       "3             林徽因什么理由拒绝了徐志摩而选择梁思成为终身伴侣？                             \n",
       "4                              黄杨木是什么树？                             \n",
       "...                                 ...                       ...   \n",
       "382683          A10处理器iPhone SE二代值得期待吗？                             \n",
       "382684  先进战机叛逃将带来重大损失，美军如何防止F22飞行员驾机叛逃？                             \n",
       "382685    又一国领导人放话，只要普京下令，数万大军“碾压”美国白宫！         以色列,普京,俄罗斯,叙利亚,车臣   \n",
       "382686        如何看待美国总统连续撕毁美国签署的国际协议的举动？                             \n",
       "382687           农博会上，公安100余种土特产成了抢手货……    特色农产品,农博会,荆州市,生物科技,公安县   \n",
       "\n",
       "                                                 combined  n_tokens   \n",
       "0       标题: 京城最值得你来场文化之旅的博物馆; 关键字: 保利集团,马未都,中国科学技术馆,博物...        56  \\\n",
       "1                            标题: 发酵床的垫料种类有哪些？哪种更好？; 关键字:         32   \n",
       "2                        标题: 上联：黄山黄河黄皮肤黄土高原。怎么对下联？; 关键字:         37   \n",
       "3                    标题: 林徽因什么理由拒绝了徐志摩而选择梁思成为终身伴侣？; 关键字:         44   \n",
       "4                                     标题: 黄杨木是什么树？; 关键字:         20   \n",
       "...                                                   ...       ...   \n",
       "382683                 标题: A10处理器iPhone SE二代值得期待吗？; 关键字:         23   \n",
       "382684         标题: 先进战机叛逃将带来重大损失，美军如何防止F22飞行员驾机叛逃？; 关键字:         50   \n",
       "382685  标题: 又一国领导人放话，只要普京下令，数万大军“碾压”美国白宫！; 关键字: 以色列,普京...        70   \n",
       "382686               标题: 如何看待美国总统连续撕毁美国签署的国际协议的举动？; 关键字:         40   \n",
       "382687  标题: 农博会上，公安100余种土特产成了抢手货……; 关键字: 特色农产品,农博会,荆州市...        55   \n",
       "\n",
       "                                                embedding  \n",
       "0       [-0.02160128578543663, -0.004615371115505695, ...  \n",
       "1       [0.014646276831626892, -0.0075576393865048885,...  \n",
       "2       [0.012643996626138687, 0.0035733033437281847, ...  \n",
       "3       [-0.0004984583356417716, -0.016934111714363098...  \n",
       "4       [-0.0008294825092889369, -0.013883085921406746...  \n",
       "...                                                   ...  \n",
       "382683  [-0.00946888793259859, 0.0019106261897832155, ...  \n",
       "382684  [-0.020892947912216187, -0.022526662796735764,...  \n",
       "382685  [-0.03224752098321915, -0.018219713121652603, ...  \n",
       "382686  [-0.03162332996726036, -0.01479333359748125, 0...  \n",
       "382687  [-0.005016508512198925, -0.0130994264036417, 0...  \n",
       "\n",
       "[382688 rows x 8 columns]>"
      ]
     },
     "execution_count": 14,
     "metadata": {},
     "output_type": "execute_result"
    }
   ],
   "source": [
    "toutiao_df = pd.read_parquet(\"data/toutiao_cat_data_all_with_embeddings.parquet\")\n",
    "toutiao_df.head"
   ]
  },
  {
   "cell_type": "code",
   "execution_count": 16,
   "metadata": {},
   "outputs": [],
   "source": [
    "index = load_embeddings_to_faiss(toutiao_df)"
   ]
  },
  {
   "cell_type": "code",
   "execution_count": 25,
   "metadata": {},
   "outputs": [],
   "source": [
    "def search_index(index, df, query_embedding, k=5):\n",
    "    query_vector = np.array(query_embedding).reshape(1, -1).astype('float32')\n",
    "    distances, indexes = index.search(query_vector, k)\n",
    "\n",
    "    results = []\n",
    "    for i in range(len(indexes)):\n",
    "        news = df.iloc[indexes[i]]['title'].values.tolist()\n",
    "        results.append((distances[i], news))    \n",
    "    return results\n",
    "\n"
   ]
  },
  {
   "cell_type": "code",
   "execution_count": 26,
   "metadata": {},
   "outputs": [
    {
     "name": "stdout",
     "output_type": "stream",
     "text": [
      "0.16498899459838867\n",
      "[(array([0.22052437, 0.226196  , 0.22855574], dtype=float32), ['超26亿元 北京七家车企将获新能源国补', '北上资金维持积极布局节奏 本周斥逾65亿元加码18只个股', '北上资金维持积极布局节奏 本周斥65亿加码18只个股'])]\n"
     ]
    }
   ],
   "source": [
    "import time\n",
    "\n",
    "query = \"北上资金净买入超百亿元 重点加仓新能源汽车产业\"\n",
    "query_embedding = get_embedding(query, engine=embedding_model)\n",
    "\n",
    "start = time.time()\n",
    "news = search_index(index, toutiao_df, query_embedding, k=3)\n",
    "end = time.time()\n",
    "print(end - start)\n",
    "print(news)"
   ]
  },
  {
   "cell_type": "markdown",
   "metadata": {},
   "source": [
    "### 完全暴力检索的速度"
   ]
  },
  {
   "cell_type": "code",
   "execution_count": 27,
   "metadata": {},
   "outputs": [],
   "source": [
    "from openai.embeddings_utils import get_embedding, cosine_similarity\n",
    "\n",
    "# search through the reviews for a specific product\n",
    "def search_index_brutal_force(df, query_embedding, n=3):\n",
    "    df[\"similarity\"] = df.embedding.apply(lambda x: cosine_similarity(x, query_embedding))\n",
    "\n",
    "    results = (\n",
    "        df.sort_values(\"similarity\", ascending=False)\n",
    "        .head(n)\n",
    "        .title\n",
    "    )\n",
    "    return results\n"
   ]
  },
  {
   "cell_type": "code",
   "execution_count": 28,
   "metadata": {},
   "outputs": [
    {
     "name": "stdout",
     "output_type": "stream",
     "text": [
      "58.231921911239624\n",
      "195956             超26亿元 北京七家车企将获新能源国补\n",
      "322070    北上资金维持积极布局节奏 本周斥逾65亿元加码18只个股\n",
      "321835      北上资金维持积极布局节奏 本周斥65亿加码18只个股\n",
      "Name: title, dtype: object\n"
     ]
    }
   ],
   "source": [
    "import time\n",
    "\n",
    "start = time.time()\n",
    "news = search_index_brutal_force(toutiao_df, query_embedding, n=3)\n",
    "end = time.time()\n",
    "print(end - start)\n",
    "print(news)"
   ]
  },
  {
   "cell_type": "markdown",
   "metadata": {},
   "source": [
    "## 通过知识库解决幻觉问题"
   ]
  },
  {
   "cell_type": "markdown",
   "metadata": {},
   "source": [
    "### 藤野先生的例子"
   ]
  },
  {
   "cell_type": "code",
   "execution_count": 39,
   "metadata": {},
   "outputs": [
    {
     "name": "stdout",
     "output_type": "stream",
     "text": [
      "\n",
      "\n",
      "鲁迅先生在日本学习医学的老师是高村光太郎。\n"
     ]
    }
   ],
   "source": [
    "import openai\n",
    "import os\n",
    "\n",
    "openai.api_key = os.environ.get(\"OPENAI_API_KEY\")\n",
    "COMPLETION_MODEL = \"text-davinci-003\"\n",
    "\n",
    "def get_response(prompt):\n",
    "    completions = openai.Completion.create(\n",
    "        engine=COMPLETION_MODEL,\n",
    "        prompt=prompt,\n",
    "        max_tokens=512,\n",
    "        n=1,\n",
    "        stop=None,\n",
    "        temperature=0.0,        \n",
    "    )\n",
    "    return completions\n",
    "\n",
    "\n",
    "answer = get_response(\"鲁迅先生在日本学习医学的老师是谁？\")\n",
    "print(answer.choices[0].text) #type: ignore\n"
   ]
  },
  {
   "cell_type": "code",
   "execution_count": 41,
   "metadata": {},
   "outputs": [
    {
     "name": "stdout",
     "output_type": "stream",
     "text": [
      "\n",
      "鲁迅先生在日本学习医学的老师是藤野先生。\n"
     ]
    }
   ],
   "source": [
    "import openai, os\n",
    "from llama_index import VectorStoreIndex, SimpleDirectoryReader\n",
    "\n",
    "openai.api_key = os.environ.get(\"OPENAI_API_KEY\")\n",
    "\n",
    "documents = SimpleDirectoryReader('./data/mr_fujino').load_data()\n",
    "index = VectorStoreIndex.from_documents(documents)\n",
    "\n",
    "query_engine = index.as_query_engine()\n",
    "response = query_engine.query(\"鲁迅先生在日本学习医学的老师是谁？\")\n",
    "print(response)\n"
   ]
  },
  {
   "cell_type": "markdown",
   "metadata": {},
   "source": [
    "### 自问自答进行数据增强"
   ]
  },
  {
   "cell_type": "code",
   "execution_count": 75,
   "metadata": {},
   "outputs": [
    {
     "name": "stdout",
     "output_type": "stream",
     "text": [
      "\n",
      "Q1：什么是卷积神经网络（CNN）？\n",
      "A1：卷积神经网络（CNN）是一种深度学习算法，特别适合于处理具有网格结构（如图像）的数据。CNN 的设计灵感来自于生物的视觉皮层机制，通过对输入数据的局部感知和参数共享的特性，使得网络对图像的平移等变化有较好的鲁棒性。\n",
      "\n",
      "Q2：CNN 的基本构成部分有哪些？\n",
      "A2：CNN 的基本构成部分包括：卷积层、激活层（ReLU）、池化层（Pooling）以及全连接层（Fully Connected Layer）。这些层次交织形成了一个典型的 CNN 结构。\n",
      "\n",
      "Q3：卷积层的作用是什么？\n",
      "A3：卷积层是 CNN 的核心，主要进行特征提取。卷积层通过滤波器（或称为卷积核）在输入数据上进行滑动卷积操作，以获取局部特征。同时，同一卷积层的所有滤波器共享参数，减少了模型复杂度。\n",
      "\n",
      "Q4：激活层的作用是什么？\n",
      "A4：激活层通常在卷积层之后接一个激活层，如 ReLU、tanh 或 sigmoid 等。激活函数的目的是引入非线性因素，使得网络可以拟合更复杂的函数。\n",
      "\n",
      "Q5：池化层的作用是什么？\n",
      "A5：池化层通常在卷积层之后，用来降低特征的维度，防止过拟合。常见的池化方式有最大池化（Max Pooling）、平均池化（Average Pooling）等。\n",
      "\n",
      "Q6：全连接层的作用是什么？\n",
      "A6：全连接层在整个网络的最后一般会有全连接层，用于将前面提取的特征进行融合，并输出结果。在分类问题中，输出层通常会接一个 softmax 层进行概率归一化，使得输出可以解释为概率。\n",
      "\n",
      "Q7：现代的 CNN 架构有哪些？\n",
      "A7：现代的 CNN 架构有残差连接（ResNet）、空洞卷积（Dilated Convolution）、深度可分离卷积（Depthwise Separable Convolution）等等。\n",
      "\n",
      "Q8：CNN 在哪些问题上有显著的表现？\n",
      "A8：CNN 在图像分类、检测、分割等问题上有显著的表现。\n",
      "\n",
      "Q9：有哪些经典的 CNN 架构？\n",
      "A9：经典的 CNN 架构有 LeNet-5、AlexNet、VGG、GoogLeNet、ResNet 等。\n"
     ]
    }
   ],
   "source": [
    "content = \"\"\"卷积神经网络（Convolutional Neural Networks，简称 CNN）是一种深度学习算法，特别适合于处理具有网格结构（如图像）的数据。CNN 的设计灵感来自于生物的视觉皮层机制，通过对输入数据的局部感知和参数共享的特性，使得网络对图像的平移等变化有较好的鲁棒性。\n",
    "\n",
    "CNN 的基本构成部分包括：卷积层、激活层（ReLU）、池化层（Pooling）以及全连接层（Fully Connected Layer）。这些层次交织形成了一个典型的 CNN 结构。\n",
    "\n",
    "卷积层：这是 CNN 的核心，主要进行特征提取。卷积层通过滤波器（或称为卷积核）在输入数据上进行滑动卷积操作，以获取局部特征。同时，同一卷积层的所有滤波器共享参数，减少了模型复杂度。\n",
    "\n",
    "激活层：通常在卷积层之后接一个激活层，如 ReLU、tanh 或 sigmoid 等。激活函数的目的是引入非线性因素，使得网络可以拟合更复杂的函数。\n",
    "\n",
    "池化层：池化层通常在卷积层之后，用来降低特征的维度，防止过拟合。常见的池化方式有最大池化（Max Pooling）、平均池化（Average Pooling）等。\n",
    "\n",
    "全连接层：在整个网络的最后一般会有全连接层，用于将前面提取的特征进行融合，并输出结果。在分类问题中，输出层通常会接一个 softmax 层进行概率归一化，使得输出可以解释为概率。\n",
    "\n",
    "以上是 CNN 的基本结构，但实际上现代的 CNN 架构已经远超这些基础层次，如残差连接（ResNet）、空洞卷积（Dilated Convolution）、深度可分离卷积（Depthwise Separable Convolution）等等。\n",
    "\n",
    "CNN 在图像分类、检测、分割等问题上有显著的表现。经典的 CNN 架构有 LeNet-5、AlexNet、VGG、GoogLeNet、ResNet 等。\n",
    "\"\"\"\n",
    "\n",
    "prompt = f\"\"\"请针对>>>和<<<之间的内容，设计一系列的FAQ问题，以及对应的答案。\n",
    "<<<{content}>>>\"\"\"\n",
    "\n",
    "\n",
    "import openai\n",
    "import os\n",
    "\n",
    "openai.api_key = os.environ.get(\"OPENAI_API_KEY\")\n",
    "COMPLETION_MODEL = \"text-davinci-003\"\n",
    "\n",
    "\n",
    "def get_response(prompt):\n",
    "    completions = openai.Completion.create (\n",
    "        engine=COMPLETION_MODEL,\n",
    "        prompt=prompt,\n",
    "        max_tokens=2048,\n",
    "        n=1,\n",
    "        stop=None,\n",
    "        temperature=0.0,        \n",
    "    )\n",
    "    message = completions['choices'][0].text # type: ignore\n",
    "    return message\n",
    "\n",
    "answer = get_response(prompt)\n",
    "print(answer)\n"
   ]
  },
  {
   "cell_type": "code",
   "execution_count": 78,
   "metadata": {},
   "outputs": [
    {
     "name": "stdout",
     "output_type": "stream",
     "text": [
      "['\\nQ1：什么是卷积神经网络（CNN）？\\nA1：卷积神经网络（CNN）是一种深度学习算法，特别适合于处理具有网格结构（如图像）的数据。CNN 的设计灵感来自于生物的视觉皮层机制，通过对输入数据的局部感知和参数共享的特性，使得网络对图像的平移等变化有较好的鲁棒性。', 'Q2：CNN 的基本构成部分有哪些？\\nA2：CNN 的基本构成部分包括：卷积层、激活层（ReLU）、池化层（Pooling）以及全连接层（Fully Connected Layer）。这些层次交织形成了一个典型的 CNN 结构。', 'Q3：卷积层的作用是什么？\\nA3：卷积层是 CNN 的核心，主要进行特征提取。卷积层通过滤波器（或称为卷积核）在输入数据上进行滑动卷积操作，以获取局部特征。同时，同一卷积层的所有滤波器共享参数，减少了模型复杂度。', 'Q4：激活层的作用是什么？\\nA4：激活层通常在卷积层之后接一个激活层，如 ReLU、tanh 或 sigmoid 等。激活函数的目的是引入非线性因素，使得网络可以拟合更复杂的函数。', 'Q5：池化层的作用是什么？\\nA5：池化层通常在卷积层之后，用来降低特征的维度，防止过拟合。常见的池化方式有最大池化（Max Pooling）、平均池化（Average Pooling）等。', 'Q6：全连接层的作用是什么？\\nA6：全连接层在整个网络的最后一般会有全连接层，用于将前面提取的特征进行融合，并输出结果。在分类问题中，输出层通常会接一个 softmax 层进行概率归一化，使得输出可以解释为概率。', 'Q7：现代的 CNN 架构有哪些？\\nA7：现代的 CNN 架构有残差连接（ResNet）、空洞卷积（Dilated Convolution）、深度可分离卷积（Depthwise Separable Convolution）等等。', 'Q8：CNN 在哪些问题上有显著的表现？\\nA8：CNN 在图像分类、检测、分割等问题上有显著的表现。', 'Q9：有哪些经典的 CNN 架构？\\nA9：经典的 CNN 架构有 LeNet-5、AlexNet、VGG、GoogLeNet、ResNet 等。']\n",
      "\n",
      "现代的 CNN 架构有残差连接（ResNet）、空洞卷积（Dilated Convolution）、深度可分离卷积（Depthwise Separable Convolution）等等。\n"
     ]
    }
   ],
   "source": [
    "faq = answer.split(\"\\n\\n\")\n",
    "print(faq)\n",
    "\n",
    "\n",
    "import openai, os\n",
    "from llama_index import Document, VectorStoreIndex, SimpleDirectoryReader\n",
    "\n",
    "openai.api_key = os.environ.get(\"OPENAI_API_KEY\")\n",
    "\n",
    "documents = []\n",
    "for qa in faq:\n",
    "    documents.append(Document(qa))\n",
    "\n",
    "index = VectorStoreIndex.from_documents(documents)\n",
    "\n",
    "query_engine = index.as_query_engine()\n",
    "response = query_engine.query(\"现代CNN架构有哪些？\")\n",
    "print(response)\n"
   ]
  },
  {
   "cell_type": "markdown",
   "metadata": {},
   "source": [
    "### 作业 or 练习题\n",
    "\n",
    "是否可以通过llama-index来实现Self-Ask的功能？"
   ]
  },
  {
   "cell_type": "markdown",
   "metadata": {},
   "source": [
    "## 通过多步骤的LLM和外部工具来解决问题"
   ]
  },
  {
   "cell_type": "markdown",
   "metadata": {},
   "source": [
    "### LLM做数学题"
   ]
  },
  {
   "cell_type": "code",
   "execution_count": 35,
   "metadata": {},
   "outputs": [
    {
     "name": "stdout",
     "output_type": "stream",
     "text": [
      "OpenAI API 说答案是: \n",
      "\n",
      "352 x 493 = 174,336\n",
      "Python 说答案是: 173536\n"
     ]
    }
   ],
   "source": [
    "import openai, os\n",
    "\n",
    "openai.api_key = os.environ.get(\"OPENAI_API_KEY\")\n",
    "\n",
    "from langchain.prompts import PromptTemplate\n",
    "from langchain.llms import OpenAI\n",
    "from langchain.chains import LLMChain\n",
    "\n",
    "\n",
    "llm = OpenAI(model_name=\"text-davinci-003\", max_tokens=2048, temperature=0.5) # type: ignore\n",
    "multiply_prompt = PromptTemplate(template=\"请计算一下{question}是多少?\", input_variables=[\"question\"])\n",
    "math_chain = LLMChain(llm=llm, prompt=multiply_prompt, output_key=\"answer\")\n",
    "answer = math_chain.run({\"question\": \"352乘以493\"})\n",
    "print(\"OpenAI API 说答案是:\", answer)\n",
    "\n",
    "python_answer = 352 * 493\n",
    "print(\"Python 说答案是:\", python_answer)"
   ]
  },
  {
   "cell_type": "code",
   "execution_count": 36,
   "metadata": {},
   "outputs": [
    {
     "name": "stdout",
     "output_type": "stream",
     "text": [
      "\n",
      "\n",
      "print(352 * 493)\n"
     ]
    }
   ],
   "source": [
    "multiply_by_python_prompt = PromptTemplate(template=\"请写一段Python代码，计算{question}?\", input_variables=[\"question\"])\n",
    "math_chain = LLMChain(llm=llm, prompt=multiply_by_python_prompt, output_key=\"answer\")\n",
    "answer = math_chain.run({\"question\": \"352乘以493\"})\n",
    "print(answer)"
   ]
  },
  {
   "cell_type": "code",
   "execution_count": 37,
   "metadata": {},
   "outputs": [
    {
     "name": "stdout",
     "output_type": "stream",
     "text": [
      "173536\n",
      "\n"
     ]
    }
   ],
   "source": [
    "multiply_by_python_prompt = PromptTemplate(template=\"请写一段Python代码，计算{question}?\", input_variables=[\"question\"])\n",
    "math_chain = LLMChain(llm=llm, prompt=multiply_by_python_prompt, output_key=\"answer\")\n",
    "answer_code = math_chain.run({\"question\": \"352乘以493\"})\n",
    "\n",
    "from langchain.utilities import PythonREPL\n",
    "python_repl = PythonREPL()\n",
    "result = python_repl.run(answer_code)\n",
    "print(result)"
   ]
  },
  {
   "cell_type": "code",
   "execution_count": 38,
   "metadata": {},
   "outputs": [
    {
     "name": "stderr",
     "output_type": "stream",
     "text": [
      "/Users/xuwenhao/miniconda3/envs/mactalk/lib/python3.10/site-packages/langchain/chains/llm_math/base.py:50: UserWarning: Directly instantiating an LLMMathChain with an llm is deprecated. Please instantiate with llm_chain argument or using the from_llm class method.\n",
      "  warnings.warn(\n",
      "Error in on_chain_start callback: 'name'\n"
     ]
    },
    {
     "name": "stdout",
     "output_type": "stream",
     "text": [
      "请计算一下352乘以493是多少?\u001b[32;1m\u001b[1;3m```text\n",
      "352 * 493\n",
      "```\n",
      "...numexpr.evaluate(\"352 * 493\")...\n",
      "\u001b[0m\n",
      "Answer: \u001b[33;1m\u001b[1;3m173536\u001b[0m\n",
      "\u001b[1m> Finished chain.\u001b[0m\n",
      "Answer: 173536\n"
     ]
    }
   ],
   "source": [
    "from langchain import LLMMathChain\n",
    "\n",
    "llm_math = LLMMathChain(llm=llm, verbose=True) #type: ignore\n",
    "result = llm_math.run(\"请计算一下352乘以493是多少?\")\n",
    "print(result)"
   ]
  },
  {
   "cell_type": "markdown",
   "metadata": {},
   "source": [
    "### LLM调用搜索引擎"
   ]
  },
  {
   "cell_type": "code",
   "execution_count": 29,
   "metadata": {},
   "outputs": [],
   "source": [
    "from langchain import LLMMathChain, OpenAI, SerpAPIWrapper\n",
    "from langchain.agents import initialize_agent, Tool\n",
    "from langchain.agents import AgentType\n",
    "\n",
    "llm = OpenAI(temperature=0) # type: ignore\n",
    "search = SerpAPIWrapper() # type: ignore\n",
    "llm_math_chain = LLMMathChain.from_llm(llm=llm, verbose=True)\n",
    "tools = [\n",
    "    Tool(\n",
    "        name=\"Search\",\n",
    "        func=search.run,\n",
    "        description=\"useful for when you need to answer questions about current events. You should ask targeted questions\"\n",
    "    ),\n",
    "]"
   ]
  },
  {
   "cell_type": "code",
   "execution_count": 31,
   "metadata": {},
   "outputs": [],
   "source": [
    "agent = initialize_agent(tools, llm, agent=AgentType.ZERO_SHOT_REACT_DESCRIPTION, verbose=True)"
   ]
  },
  {
   "cell_type": "code",
   "execution_count": 34,
   "metadata": {},
   "outputs": [
    {
     "name": "stderr",
     "output_type": "stream",
     "text": [
      "Error in on_chain_start callback: 'name'\n"
     ]
    },
    {
     "name": "stdout",
     "output_type": "stream",
     "text": [
      "\u001b[32;1m\u001b[1;3m I need to find out who will win the NBA championship in 2023\n",
      "Action: Search\n",
      "Action Input: 2023年NBA总冠军\u001b[0m\n",
      "Observation: \u001b[36;1m\u001b[1;3m2023年NBA总决赛（英语：2023 NBA Finals）是2022–23 NBA赛季的冠军系列赛，将由2023年6月1日至6月12日进行，由西部第一种子丹佛掘金对战东部第八种子迈阿密热火，比赛采用七场四胜制2-2-1-1-1的形式，常规赛战绩较佳的丹佛掘金有多一场主场优势。\u001b[0m\n",
      "Thought:\u001b[32;1m\u001b[1;3m It looks like the Denver Nuggets will have home court advantage in the 2023 NBA Finals\n",
      "Final Answer: 2023年NBA总冠军可能是丹佛掘金队。\u001b[0m\n",
      "\n",
      "\u001b[1m> Finished chain.\u001b[0m\n"
     ]
    },
    {
     "data": {
      "text/plain": [
       "'2023年NBA总冠军可能是丹佛掘金队。'"
      ]
     },
     "execution_count": 34,
     "metadata": {},
     "output_type": "execute_result"
    }
   ],
   "source": [
    "agent.run(\"2023年的NBA总冠军是谁？请用中文回答\")"
   ]
  },
  {
   "cell_type": "markdown",
   "metadata": {},
   "source": [
    "## 做选择题的方式来解决问题"
   ]
  },
  {
   "cell_type": "markdown",
   "metadata": {},
   "source": [
    "### Langchain的工具接口"
   ]
  },
  {
   "cell_type": "markdown",
   "metadata": {},
   "source": [
    "#### FAQ"
   ]
  },
  {
   "cell_type": "code",
   "execution_count": 45,
   "metadata": {},
   "outputs": [],
   "source": [
    "from langchain.embeddings.openai import OpenAIEmbeddings\n",
    "from langchain.vectorstores import FAISS\n",
    "from langchain.text_splitter import SpacyTextSplitter\n",
    "from langchain import OpenAI\n",
    "from langchain.chains import RetrievalQA\n",
    "from langchain.document_loaders import TextLoader\n",
    "from langchain.agents import tool\n"
   ]
  },
  {
   "cell_type": "code",
   "execution_count": 47,
   "metadata": {},
   "outputs": [],
   "source": [
    "loader = TextLoader('./data/ecommerce_faq.txt')\n",
    "documents = loader.load()\n",
    "text_splitter = SpacyTextSplitter(chunk_size=256, pipeline=\"zh_core_web_sm\")\n",
    "texts = text_splitter.split_documents(documents)\n",
    "\n",
    "embeddings = OpenAIEmbeddings() # type: ignore\n",
    "docsearch = FAISS.from_documents(texts, embeddings)\n",
    "faq_chain = RetrievalQA.from_chain_type(llm=OpenAI(temperature=0), retriever=docsearch.as_retriever(), verbose=True) # type: ignore\n",
    "\n",
    "@tool(\"FAQ\")\n",
    "def faq(intput: str) -> str:\n",
    "    \"\"\"\"useful for when you need to answer questions about shopping policies, like return policy, shipping policy, etc.\"\"\"\n",
    "    return faq_chain.run(intput)\n"
   ]
  },
  {
   "cell_type": "code",
   "execution_count": 48,
   "metadata": {},
   "outputs": [
    {
     "name": "stderr",
     "output_type": "stream",
     "text": [
      "Error in on_chain_start callback: 'name'\n"
     ]
    },
    {
     "name": "stdout",
     "output_type": "stream",
     "text": [
      "\n",
      "\u001b[1m> Finished chain.\u001b[0m\n",
      " 我们支持全国大部分省份的配送，包括三亚。一般情况下，大部分城市的订单在2-3个工作日内送达，偏远地区可能需要5-7个工作日。\n"
     ]
    }
   ],
   "source": [
    "question = \"请问你们的货，能送到三亚吗？大概需要几天？\"\n",
    "result = faq_chain.run(question)\n",
    "print(result)"
   ]
  },
  {
   "cell_type": "markdown",
   "metadata": {},
   "source": [
    "#### 商品信息"
   ]
  },
  {
   "cell_type": "code",
   "execution_count": 49,
   "metadata": {},
   "outputs": [],
   "source": [
    "from langchain.text_splitter import CharacterTextSplitter\n",
    "from langchain.document_loaders import CSVLoader\n",
    "\n",
    "product_loader = CSVLoader('./data/ecommerce_products.csv')\n",
    "product_documents = product_loader.load()\n",
    "product_text_splitter = CharacterTextSplitter(chunk_size=1024, separator=\"\\n\")\n",
    "product_texts = product_text_splitter.split_documents(product_documents)\n",
    "product_search = FAISS.from_documents(product_texts, embeddings)\n",
    "product_chain = RetrievalQA.from_chain_type(llm=OpenAI(temperature=0), retriever=product_search.as_retriever(), verbose=True)# type: ignore\n",
    "\n",
    "@tool(\"Recommend Product\")\n",
    "def recommend_product(input: str) -> str:\n",
    "    \"\"\"\"useful for when you need to search and recommend products and recommend it to the user\"\"\"\n",
    "    return product_chain.run(input)"
   ]
  },
  {
   "cell_type": "code",
   "execution_count": 51,
   "metadata": {},
   "outputs": [
    {
     "name": "stderr",
     "output_type": "stream",
     "text": [
      "Error in on_chain_start callback: 'name'\n"
     ]
    },
    {
     "name": "stdout",
     "output_type": "stream",
     "text": [
      "\n",
      "\u001b[1m> Finished chain.\u001b[0m\n",
      " 根据您的要求，我推荐您可以买一件毛衣裙，它采用保暖的面料，颜色为米白色，适合春秋季节穿着，搭配一双黑色长靴和小包包非常优雅大方，非常适合您去公园穿着。\n"
     ]
    }
   ],
   "source": [
    "question = \"我想买一件衣服，想要在春天去公园穿，但是不知道哪个款式好看，你能帮我推荐一下吗？\"\n",
    "answer = product_chain.run(question)\n",
    "print(answer)"
   ]
  },
  {
   "cell_type": "markdown",
   "metadata": {},
   "source": [
    "#### 订单查询"
   ]
  },
  {
   "cell_type": "code",
   "execution_count": 52,
   "metadata": {},
   "outputs": [],
   "source": [
    "import re\n",
    "import json\n",
    "\n",
    "ORDER_1 = \"20230101ABC\"\n",
    "ORDER_2 = \"20230101EFG\"\n",
    "\n",
    "ORDER_1_DETAIL = {\n",
    "    \"order_number\": ORDER_1,\n",
    "    \"status\": \"已发货\",\n",
    "    \"shipping_date\" : \"2023-01-03\",\n",
    "    \"estimated_delivered_date\": \"2023-01-05\",\n",
    "} \n",
    "\n",
    "ORDER_2_DETAIL = {\n",
    "    \"order_number\": ORDER_2,\n",
    "    \"status\": \"未发货\",\n",
    "    \"shipping_date\" : None,\n",
    "    \"estimated_delivered_date\": None,\n",
    "}\n",
    "\n",
    "answer_order_info = PromptTemplate(\n",
    "    template=\"请把下面的订单信息回复给用户： \\n\\n {order}?\", input_variables=[\"order\"]\n",
    ")\n",
    "answer_order_llm = LLMChain(llm=OpenAI(temperature=0),  prompt=answer_order_info) # type: ignore\n",
    "\n",
    "\n",
    "@tool(\"Search Order\", return_direct=True)\n",
    "def search_order(input:str)->str:\n",
    "    \"\"\"useful for when you need to answer questions about customers orders\"\"\"\n",
    "    pattern = r\"\\d+[A-Z]+\"\n",
    "    match = re.search(pattern, input)\n",
    "\n",
    "    order_number = input\n",
    "    if match:\n",
    "        order_number = match.group(0)\n",
    "    else:\n",
    "        return \"请问您的订单号是多少？\"\n",
    "    if order_number == ORDER_1:        \n",
    "        return answer_order_llm.run(json.dumps(ORDER_1_DETAIL))\n",
    "    elif order_number == ORDER_2:\n",
    "        return answer_order_llm.run(json.dumps(ORDER_2_DETAIL))\n",
    "    else:\n",
    "        return f\"对不起，根据{input}没有找到您的订单\"\n"
   ]
  },
  {
   "cell_type": "code",
   "execution_count": 57,
   "metadata": {},
   "outputs": [],
   "source": [
    "tools = {\"search_order\" : search_order, \"recommend_product\": recommend_product, \"faq\": faq}\n",
    "\n",
    "\n",
    "choicellm = OpenAI(max_tokens=2048, temperature=0.5) # type: ignore\n",
    "multiple_choice = \"\"\"\n",
    "请针对用户问题，选择一个合适的工具去回答她的问题。只要用A、B、C的选项字母告诉我答案。\n",
    "\n",
    "我们有的工具包括：\n",
    "A. recommend_product[$keywords], 一个能够查询商品信息，为用户进行商品导购的工具。\n",
    "B. search_order[$order_number], 一个能够查询订单信息，获得最新的订单情况的工具\n",
    "C. faq[$question], 一个能够搜索商家的退换货政策、运费、物流时长、支付渠道、覆盖国家的工具\n",
    "\n",
    "\n",
    "返回的结果需要包含函数名称，以及对应的参数，比如：\n",
    "\n",
    "用户问题：我的订单 20220101ABC 的物流信息是什么？\n",
    "返回结果：search_order[20220101ABC]\n",
    "\n",
    "用户问题：{question}\n",
    "返回结果：\n",
    "\"\"\"\n",
    "multiple_choice_prompt = PromptTemplate(template=multiple_choice, input_variables=[\"question\"])\n",
    "choice_chain = LLMChain(llm=choicellm, prompt=multiple_choice_prompt, output_key=\"answer\")"
   ]
  },
  {
   "cell_type": "code",
   "execution_count": 59,
   "metadata": {},
   "outputs": [
    {
     "name": "stdout",
     "output_type": "stream",
     "text": [
      "search_order[2022ABCDE]\n"
     ]
    }
   ],
   "source": [
    "question = \"我有一张订单，订单号是 2022ABCDE，一直没有收到，能麻烦帮我查一下吗？\"\n",
    "result = choice_chain.run(question)\n",
    "print(result) "
   ]
  },
  {
   "cell_type": "code",
   "execution_count": 60,
   "metadata": {},
   "outputs": [
    {
     "name": "stdout",
     "output_type": "stream",
     "text": [
      "('search_order', '2022ABCDE')\n"
     ]
    }
   ],
   "source": [
    "from typing import Tuple\n",
    "\n",
    "def parse_result(result: str) -> Tuple[str, str]:\n",
    "    pattern = r\"(\\w+)\\[(.+)\\]\"\n",
    "    match = re.search(pattern, result)\n",
    "    if match:\n",
    "        return match.group(1), match.group(2)\n",
    "    else:\n",
    "        return \"\", \"\"\n",
    "    \n",
    "\n",
    "print(parse_result(result))"
   ]
  },
  {
   "cell_type": "code",
   "execution_count": 65,
   "metadata": {},
   "outputs": [
    {
     "name": "stdout",
     "output_type": "stream",
     "text": [
      "对不起，根据2022ABCDE没有找到您的订单\n"
     ]
    }
   ],
   "source": [
    "parsed_result = parse_result(result)\n",
    "method = tools.get(parsed_result[0])\n",
    "params = parsed_result[1]\n",
    "\n",
    "\n",
    "answer = method(params) # type: ignore\n",
    "print(answer)"
   ]
  },
  {
   "cell_type": "code",
   "execution_count": 66,
   "metadata": {},
   "outputs": [
    {
     "name": "stdout",
     "output_type": "stream",
     "text": [
      "\n",
      "\n",
      "您的订单号为20230101ABC，状态为已发货，发货日期为2023-01-03，预计到货日期为2023-01-05。\n"
     ]
    }
   ],
   "source": [
    "question = \"我有一张订单，订单号是 20230101ABC，一直没有收到，能麻烦帮我查一下吗？\"\n",
    "\n",
    "result = choice_chain.run(question)\n",
    "parsed_result = parse_result(result)\n",
    "method = tools.get(parsed_result[0])\n",
    "params = parsed_result[1]\n",
    "\n",
    "\n",
    "answer = method(params) # type: ignore\n",
    "print(answer)\n"
   ]
  },
  {
   "cell_type": "markdown",
   "metadata": {},
   "source": [
    "### 作业，通过Langchain实现上面的功能"
   ]
  },
  {
   "cell_type": "markdown",
   "metadata": {},
   "source": [
    "### Langchain的Agent功能"
   ]
  },
  {
   "cell_type": "code",
   "execution_count": 67,
   "metadata": {},
   "outputs": [],
   "source": [
    "agent_tools = [search_order,recommend_product, faq]\n",
    "agent = initialize_agent(agent_tools, OpenAI(temperature=0), agent=AgentType.CHAT_ZERO_SHOT_REACT_DESCRIPTION, verbose=True) #type: ignore"
   ]
  },
  {
   "cell_type": "code",
   "execution_count": 68,
   "metadata": {},
   "outputs": [
    {
     "name": "stderr",
     "output_type": "stream",
     "text": [
      "Error in on_chain_start callback: 'name'\n"
     ]
    },
    {
     "name": "stdout",
     "output_type": "stream",
     "text": [
      "\u001b[32;1m\u001b[1;3m\n",
      "Thought: I need to find out the status of the order\n",
      "Action:\n",
      "```\n",
      "{\n",
      "  \"action\": \"Search Order\",\n",
      "  \"action_input\": \"2022ABCDE\"\n",
      "}\n",
      "```\n",
      "\u001b[0m\n",
      "Observation: \u001b[36;1m\u001b[1;3m对不起，根据2022ABCDE没有找到您的订单\u001b[0m\n",
      "\u001b[32;1m\u001b[1;3m\u001b[0m\n",
      "\n",
      "\u001b[1m> Finished chain.\u001b[0m\n",
      "对不起，根据2022ABCDE没有找到您的订单\n"
     ]
    }
   ],
   "source": [
    "question = \"我有一张订单，订单号是 2022ABCDE，一直没有收到，能麻烦帮我查一下吗？\"\n",
    "answer = agent.run(question)\n",
    "print(answer)"
   ]
  },
  {
   "cell_type": "code",
   "execution_count": 69,
   "metadata": {},
   "outputs": [
    {
     "name": "stderr",
     "output_type": "stream",
     "text": [
      "Error in on_chain_start callback: 'name'\n"
     ]
    },
    {
     "name": "stdout",
     "output_type": "stream",
     "text": [
      "\u001b[32;1m\u001b[1;3m\n",
      "Thought: The customer is asking about an order they have not received.\n",
      "\n",
      "Action:\n",
      "```\n",
      "{\n",
      "  \"action\": \"Search Order\",\n",
      "  \"action_input\": \"20230101ABC\"\n",
      "}\n",
      "```\n",
      "\n",
      "\u001b[0m\n",
      "Observation: \u001b[36;1m\u001b[1;3m\n",
      "\n",
      "您的订单号为20230101ABC，状态为已发货，发货日期为2023-01-03，预计到货日期为2023-01-05。\u001b[0m\n",
      "\u001b[32;1m\u001b[1;3m\u001b[0m\n",
      "\n",
      "\u001b[1m> Finished chain.\u001b[0m\n",
      "\n",
      "\n",
      "您的订单号为20230101ABC，状态为已发货，发货日期为2023-01-03，预计到货日期为2023-01-05。\n"
     ]
    }
   ],
   "source": [
    "question2 = \"我有一张订单，订单号是 20230101ABC 一直没有收到，能麻烦帮我查一下吗？\"\n",
    "answer2 = agent.run(question2)\n",
    "print(answer2)"
   ]
  },
  {
   "cell_type": "code",
   "execution_count": 70,
   "metadata": {},
   "outputs": [
    {
     "name": "stderr",
     "output_type": "stream",
     "text": [
      "Error in on_chain_start callback: 'name'\n",
      "Error in on_chain_start callback: 'name'\n"
     ]
    },
    {
     "name": "stdout",
     "output_type": "stream",
     "text": [
      "\u001b[32;1m\u001b[1;3m\n",
      "Thought: I need to answer a question about the return policy\n",
      "Action:\n",
      "```\n",
      "{\n",
      "  \"action\": \"FAQ\",\n",
      "  \"action_input\": \"return policy\"\n",
      "}\n",
      "```\n",
      "\u001b[0m\n",
      "\u001b[1m> Finished chain.\u001b[0m\n",
      "\n",
      "Observation: \u001b[38;5;200m\u001b[1;3m 自收到商品之日起7天内，如产品未使用、包装完好，您可以申请退货。某些特殊商品可能不支持退货，请在购买前查看商品详情页面的退货政策。\u001b[0m\n",
      "Thought:\u001b[32;1m\u001b[1;3m I now know the final answer\n",
      "Final Answer: 自收到商品之日起7天内，如产品未使用、包装完好，您可以申请退货。某些特殊商品可能不支持退货，请在购买前查看商品详情页面的退货政策。\u001b[0m\n",
      "\n",
      "\u001b[1m> Finished chain.\u001b[0m\n",
      "自收到商品之日起7天内，如产品未使用、包装完好，您可以申请退货。某些特殊商品可能不支持退货，请在购买前查看商品详情页面的退货政策。\n"
     ]
    }
   ],
   "source": [
    "question3 = \"你们的退货政策是怎么样的？\"\n",
    "answer3 = agent.run(question3)\n",
    "print(answer3)"
   ]
  },
  {
   "cell_type": "code",
   "execution_count": 71,
   "metadata": {},
   "outputs": [
    {
     "name": "stderr",
     "output_type": "stream",
     "text": [
      "Error in on_chain_start callback: 'name'\n",
      "Error in on_chain_start callback: 'name'\n"
     ]
    },
    {
     "name": "stdout",
     "output_type": "stream",
     "text": [
      "\u001b[32;1m\u001b[1;3m\n",
      "Thought: I need to recommend a product\n",
      "Action:\n",
      "```\n",
      "{\n",
      "  \"action\": \"Recommend Product\",\n",
      "  \"action_input\": \"Clothing for Spring\"\n",
      "}\n",
      "```\n",
      "\u001b[0m\n",
      "\u001b[1m> Finished chain.\u001b[0m\n",
      "\n",
      "Observation: \u001b[33;1m\u001b[1;3m 毛衣裙、卫衣连衣裙、雪纺连衣裙、长款风衣\u001b[0m\n",
      "Thought:\u001b[32;1m\u001b[1;3m I now know the final answer\n",
      "Final Answer: 毛衣裙、卫衣连衣裙、雪纺连衣裙、长款风衣\u001b[0m\n",
      "\n",
      "\u001b[1m> Finished chain.\u001b[0m\n",
      "毛衣裙、卫衣连衣裙、雪纺连衣裙、长款风衣\n"
     ]
    }
   ],
   "source": [
    "question4 = \"能推荐一件现在适合春天穿的衣服给我么？\"\n",
    "answer4 = agent.run(question4)\n",
    "print(answer4)"
   ]
  }
 ],
 "metadata": {
  "kernelspec": {
   "display_name": "mactalk",
   "language": "python",
   "name": "python3"
  },
  "language_info": {
   "codemirror_mode": {
    "name": "ipython",
    "version": 3
   },
   "file_extension": ".py",
   "mimetype": "text/x-python",
   "name": "python",
   "nbconvert_exporter": "python",
   "pygments_lexer": "ipython3",
   "version": "3.10.11"
  },
  "orig_nbformat": 4
 },
 "nbformat": 4,
 "nbformat_minor": 2
}
