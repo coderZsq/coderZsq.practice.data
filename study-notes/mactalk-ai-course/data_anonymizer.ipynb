{
 "cells": [
  {
   "attachments": {},
   "cell_type": "markdown",
   "metadata": {},
   "source": [
    "## 隐私数据匿名化"
   ]
  },
  {
   "cell_type": "code",
   "execution_count": 2,
   "metadata": {},
   "outputs": [
    {
     "name": "stdout",
     "output_type": "stream",
     "text": [
      "Collecting en-core-web-sm==3.5.0\n",
      "  Downloading https://github.com/explosion/spacy-models/releases/download/en_core_web_sm-3.5.0/en_core_web_sm-3.5.0-py3-none-any.whl (12.8 MB)\n",
      "\u001b[2K     \u001b[38;2;114;156;31m━━━━━━━━━━━━━━━━━━━━━━━━━━━━━━━━━━━━━━━━\u001b[0m \u001b[32m12.8/12.8 MB\u001b[0m \u001b[31m10.2 MB/s\u001b[0m eta \u001b[36m0:00:00\u001b[0mm eta \u001b[36m0:00:01\u001b[0m0:01\u001b[0m:01\u001b[0m\n",
      "\u001b[?25hRequirement already satisfied: spacy<3.6.0,>=3.5.0 in /Users/xuwenhao/miniconda3/envs/mactalk/lib/python3.10/site-packages (from en-core-web-sm==3.5.0) (3.5.3)\n",
      "Requirement already satisfied: pathy>=0.10.0 in /Users/xuwenhao/miniconda3/envs/mactalk/lib/python3.10/site-packages (from spacy<3.6.0,>=3.5.0->en-core-web-sm==3.5.0) (0.10.1)\n",
      "Requirement already satisfied: packaging>=20.0 in /Users/xuwenhao/miniconda3/envs/mactalk/lib/python3.10/site-packages (from spacy<3.6.0,>=3.5.0->en-core-web-sm==3.5.0) (23.1)\n",
      "Requirement already satisfied: tqdm<5.0.0,>=4.38.0 in /Users/xuwenhao/miniconda3/envs/mactalk/lib/python3.10/site-packages (from spacy<3.6.0,>=3.5.0->en-core-web-sm==3.5.0) (4.65.0)\n",
      "Requirement already satisfied: spacy-legacy<3.1.0,>=3.0.11 in /Users/xuwenhao/miniconda3/envs/mactalk/lib/python3.10/site-packages (from spacy<3.6.0,>=3.5.0->en-core-web-sm==3.5.0) (3.0.12)\n",
      "Requirement already satisfied: wasabi<1.2.0,>=0.9.1 in /Users/xuwenhao/miniconda3/envs/mactalk/lib/python3.10/site-packages (from spacy<3.6.0,>=3.5.0->en-core-web-sm==3.5.0) (1.1.1)\n",
      "Requirement already satisfied: langcodes<4.0.0,>=3.2.0 in /Users/xuwenhao/miniconda3/envs/mactalk/lib/python3.10/site-packages (from spacy<3.6.0,>=3.5.0->en-core-web-sm==3.5.0) (3.3.0)\n",
      "Requirement already satisfied: cymem<2.1.0,>=2.0.2 in /Users/xuwenhao/miniconda3/envs/mactalk/lib/python3.10/site-packages (from spacy<3.6.0,>=3.5.0->en-core-web-sm==3.5.0) (2.0.7)\n",
      "Requirement already satisfied: preshed<3.1.0,>=3.0.2 in /Users/xuwenhao/miniconda3/envs/mactalk/lib/python3.10/site-packages (from spacy<3.6.0,>=3.5.0->en-core-web-sm==3.5.0) (3.0.8)\n",
      "Requirement already satisfied: jinja2 in /Users/xuwenhao/miniconda3/envs/mactalk/lib/python3.10/site-packages (from spacy<3.6.0,>=3.5.0->en-core-web-sm==3.5.0) (3.1.2)\n",
      "Requirement already satisfied: smart-open<7.0.0,>=5.2.1 in /Users/xuwenhao/miniconda3/envs/mactalk/lib/python3.10/site-packages (from spacy<3.6.0,>=3.5.0->en-core-web-sm==3.5.0) (6.3.0)\n",
      "Requirement already satisfied: pydantic!=1.8,!=1.8.1,<1.11.0,>=1.7.4 in /Users/xuwenhao/miniconda3/envs/mactalk/lib/python3.10/site-packages (from spacy<3.6.0,>=3.5.0->en-core-web-sm==3.5.0) (1.10.8)\n",
      "Requirement already satisfied: typer<0.8.0,>=0.3.0 in /Users/xuwenhao/miniconda3/envs/mactalk/lib/python3.10/site-packages (from spacy<3.6.0,>=3.5.0->en-core-web-sm==3.5.0) (0.7.0)\n",
      "Requirement already satisfied: requests<3.0.0,>=2.13.0 in /Users/xuwenhao/miniconda3/envs/mactalk/lib/python3.10/site-packages (from spacy<3.6.0,>=3.5.0->en-core-web-sm==3.5.0) (2.31.0)\n",
      "Requirement already satisfied: spacy-loggers<2.0.0,>=1.0.0 in /Users/xuwenhao/miniconda3/envs/mactalk/lib/python3.10/site-packages (from spacy<3.6.0,>=3.5.0->en-core-web-sm==3.5.0) (1.0.4)\n",
      "Requirement already satisfied: murmurhash<1.1.0,>=0.28.0 in /Users/xuwenhao/miniconda3/envs/mactalk/lib/python3.10/site-packages (from spacy<3.6.0,>=3.5.0->en-core-web-sm==3.5.0) (1.0.9)\n",
      "Requirement already satisfied: thinc<8.2.0,>=8.1.8 in /Users/xuwenhao/miniconda3/envs/mactalk/lib/python3.10/site-packages (from spacy<3.6.0,>=3.5.0->en-core-web-sm==3.5.0) (8.1.10)\n",
      "Requirement already satisfied: catalogue<2.1.0,>=2.0.6 in /Users/xuwenhao/miniconda3/envs/mactalk/lib/python3.10/site-packages (from spacy<3.6.0,>=3.5.0->en-core-web-sm==3.5.0) (2.0.8)\n",
      "Requirement already satisfied: setuptools in /Users/xuwenhao/miniconda3/envs/mactalk/lib/python3.10/site-packages (from spacy<3.6.0,>=3.5.0->en-core-web-sm==3.5.0) (66.0.0)\n",
      "Requirement already satisfied: numpy>=1.15.0 in /Users/xuwenhao/miniconda3/envs/mactalk/lib/python3.10/site-packages (from spacy<3.6.0,>=3.5.0->en-core-web-sm==3.5.0) (1.24.3)\n",
      "Requirement already satisfied: srsly<3.0.0,>=2.4.3 in /Users/xuwenhao/miniconda3/envs/mactalk/lib/python3.10/site-packages (from spacy<3.6.0,>=3.5.0->en-core-web-sm==3.5.0) (2.4.6)\n",
      "Requirement already satisfied: typing-extensions>=4.2.0 in /Users/xuwenhao/miniconda3/envs/mactalk/lib/python3.10/site-packages (from pydantic!=1.8,!=1.8.1,<1.11.0,>=1.7.4->spacy<3.6.0,>=3.5.0->en-core-web-sm==3.5.0) (4.5.0)\n",
      "Requirement already satisfied: certifi>=2017.4.17 in /Users/xuwenhao/miniconda3/envs/mactalk/lib/python3.10/site-packages (from requests<3.0.0,>=2.13.0->spacy<3.6.0,>=3.5.0->en-core-web-sm==3.5.0) (2023.5.7)\n",
      "Requirement already satisfied: urllib3<3,>=1.21.1 in /Users/xuwenhao/miniconda3/envs/mactalk/lib/python3.10/site-packages (from requests<3.0.0,>=2.13.0->spacy<3.6.0,>=3.5.0->en-core-web-sm==3.5.0) (1.26.16)\n",
      "Requirement already satisfied: idna<4,>=2.5 in /Users/xuwenhao/miniconda3/envs/mactalk/lib/python3.10/site-packages (from requests<3.0.0,>=2.13.0->spacy<3.6.0,>=3.5.0->en-core-web-sm==3.5.0) (3.4)\n",
      "Requirement already satisfied: charset-normalizer<4,>=2 in /Users/xuwenhao/miniconda3/envs/mactalk/lib/python3.10/site-packages (from requests<3.0.0,>=2.13.0->spacy<3.6.0,>=3.5.0->en-core-web-sm==3.5.0) (3.1.0)\n",
      "Requirement already satisfied: confection<1.0.0,>=0.0.1 in /Users/xuwenhao/miniconda3/envs/mactalk/lib/python3.10/site-packages (from thinc<8.2.0,>=8.1.8->spacy<3.6.0,>=3.5.0->en-core-web-sm==3.5.0) (0.0.4)\n",
      "Requirement already satisfied: blis<0.8.0,>=0.7.8 in /Users/xuwenhao/miniconda3/envs/mactalk/lib/python3.10/site-packages (from thinc<8.2.0,>=8.1.8->spacy<3.6.0,>=3.5.0->en-core-web-sm==3.5.0) (0.7.9)\n",
      "Requirement already satisfied: click<9.0.0,>=7.1.1 in /Users/xuwenhao/miniconda3/envs/mactalk/lib/python3.10/site-packages (from typer<0.8.0,>=0.3.0->spacy<3.6.0,>=3.5.0->en-core-web-sm==3.5.0) (8.1.3)\n",
      "Requirement already satisfied: MarkupSafe>=2.0 in /Users/xuwenhao/miniconda3/envs/mactalk/lib/python3.10/site-packages (from jinja2->spacy<3.6.0,>=3.5.0->en-core-web-sm==3.5.0) (2.1.2)\n",
      "Installing collected packages: en-core-web-sm\n",
      "Successfully installed en-core-web-sm-3.5.0\n",
      "\u001b[38;5;2m✔ Download and installation successful\u001b[0m\n",
      "You can now load the package via spacy.load('en_core_web_sm')\n"
     ]
    }
   ],
   "source": [
    "!python -m spacy download en_core_web_sm"
   ]
  },
  {
   "cell_type": "code",
   "execution_count": 18,
   "metadata": {},
   "outputs": [
    {
     "name": "stdout",
     "output_type": "stream",
     "text": [
      "Anonymized Text: #PERSON #PERSON lives in #GPE #GPE and works at #ORG## .\n",
      "Anonymized Text: #PERSON is studying at #ORG #ORG###### #ORG #ORG## .\n"
     ]
    }
   ],
   "source": [
    "import spacy\n",
    "from spacy.language import Language\n",
    "\n",
    "nlp = spacy.load('en_core_web_sm')\n",
    "\n",
    "@Language.component(\"anonymize_entities\")\n",
    "def anonymize_entities(doc):\n",
    "    anonymized_tokens = []\n",
    "    for token in doc:\n",
    "        if token.ent_type_:\n",
    "            anonymized_tokens.append('#' + token.ent_type_ + '#' * (len(token.text) - len(token.ent_type_) - 1))\n",
    "        else:\n",
    "            anonymized_tokens.append(token.text)\n",
    "    return nlp.make_doc(' '.join(anonymized_tokens))  # create new Doc object\n",
    "\n",
    "nlp.add_pipe(\"anonymize_entities\", last=True)\n",
    "\n",
    "texts = ['John Doe lives in New York and works at Google.', \n",
    "         'Alice is studying at the University of Oxford.']\n",
    "\n",
    "for text in texts:\n",
    "    doc = nlp(text)\n",
    "    print('Anonymized Text:', doc.text)"
   ]
  },
  {
   "cell_type": "code",
   "execution_count": 19,
   "metadata": {},
   "outputs": [
    {
     "name": "stdout",
     "output_type": "stream",
     "text": [
      "Substituted Text: Prince Elvis Presley lives in New York and works at Google .\n",
      "Substituted Text: Beyonce is studying at the University of Oxford .\n"
     ]
    }
   ],
   "source": [
    "import spacy\n",
    "import random\n",
    "from spacy.language import Language\n",
    "\n",
    "nlp = spacy.load('en_core_web_sm')\n",
    "\n",
    "# List of replacement names\n",
    "replacement_names = ['Michael Jackson', 'Madonna', 'Beyonce', 'Prince', 'Elvis Presley']\n",
    "\n",
    "@Language.component(\"substitute_entities\")\n",
    "def substitute_entities(doc):\n",
    "    substituted_tokens = []\n",
    "    for token in doc:\n",
    "        if token.ent_type_ == 'PERSON':\n",
    "            # Substitute the entity with a random name from the list\n",
    "            substituted_name = random.choice(replacement_names)\n",
    "            # Split the name into tokens and use the appropriate token\n",
    "            substituted_tokens.extend(substituted_name.split())\n",
    "            replacement_names.remove(substituted_name)  # To avoid repeated names in the same doc\n",
    "        else:\n",
    "            substituted_tokens.append(token.text)\n",
    "    return nlp.make_doc(' '.join(substituted_tokens))  # create new Doc object\n",
    "\n",
    "nlp.add_pipe(\"substitute_entities\", last=True)\n",
    "\n",
    "texts = ['John Doe lives in New York and works at Google.', \n",
    "         'Alice is studying at the University of Oxford.']\n",
    "\n",
    "for text in texts:\n",
    "    doc = nlp(text)\n",
    "    print('Substituted Text:', doc.text)"
   ]
  },
  {
   "attachments": {},
   "cell_type": "markdown",
   "metadata": {},
   "source": []
  }
 ],
 "metadata": {
  "kernelspec": {
   "display_name": "mactalk",
   "language": "python",
   "name": "python3"
  },
  "language_info": {
   "codemirror_mode": {
    "name": "ipython",
    "version": 3
   },
   "file_extension": ".py",
   "mimetype": "text/x-python",
   "name": "python",
   "nbconvert_exporter": "python",
   "pygments_lexer": "ipython3",
   "version": "3.10.11"
  },
  "orig_nbformat": 4
 },
 "nbformat": 4,
 "nbformat_minor": 2
}
