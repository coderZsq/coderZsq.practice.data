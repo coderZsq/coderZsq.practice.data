{
 "cells": [
  {
   "attachments": {},
   "cell_type": "markdown",
   "metadata": {},
   "source": [
    "## OpenAI Fine-Tune"
   ]
  },
  {
   "attachments": {},
   "cell_type": "markdown",
   "metadata": {},
   "source": [
    "### 生成测试数据"
   ]
  },
  {
   "cell_type": "code",
   "execution_count": null,
   "metadata": {},
   "outputs": [],
   "source": [
    "import os,openai,backoff\n",
    "import pandas as pd\n",
    "\n",
    "openai.api_key = os.getenv(\"OPENAI_API_KEY\")\n",
    "dynasties= ['唐', '宋', '元', '明', '清', '汉', '魏', '晋', '南北朝']\n",
    "super_powers = ['隐形', '飞行', '读心术', '瞬间移动', '不死之身', '喷火']\n",
    "story_types = ['轻松', '努力', '艰难']\n",
    "\n",
    "@backoff.on_exception(backoff.expo, openai.error.RateLimitError)\n",
    "def gpt35(prompt, max_tokens=2048, temperature=0.5, top_p=1, frequency_penalty=0, presence_penalty=0):\n",
    "    response = openai.Completion.create(\n",
    "        engine=\"text-davinci-003\",\n",
    "        prompt=prompt,\n",
    "        max_tokens=max_tokens,\n",
    "        temperature=temperature,\n",
    "        top_p=top_p,\n",
    "        frequency_penalty=frequency_penalty,\n",
    "        presence_penalty=presence_penalty)\n",
    "    return response[\"choices\"][0][\"text\"]\n",
    "\n",
    "def prepare_stories(dynasties, super_powers, story_types, output_file=\"data/ultraman_stories.csv\"):\n",
    "    df = pd.DataFrame()\n",
    "    repeat = 3\n",
    "    for dynasty in dynasties:\n",
    "        for super_power in super_powers:\n",
    "            for story_type in story_types:\n",
    "                   for i in range(repeat):\n",
    "                        prompt = f\"\"\"请你用中文写一段300字的故事，情节跌宕起伏，讲述一位{dynasty}朝时期的英雄人物，穿越到现代，拥有了{super_power}这样的超能力，通过{story_type}的战斗，帮助奥特曼一起打败了怪兽的故事。\"\"\"\n",
    "                        story = gpt35(prompt)\n",
    "                        row = {\"dynasty\": dynasty, \"super_power\": super_power, \"story_type\": story_type, \"story\": story}\n",
    "                        row = pd.DataFrame([row])\n",
    "                        df = pd.concat([df, row], axis=0, ignore_index=True)\n",
    "\n",
    "    df.to_csv(\"data/ultraman_stories.csv\")\n",
    "\n",
    "prepare_stories(dynasties, super_powers, story_types)"
   ]
  },
  {
   "cell_type": "code",
   "execution_count": 9,
   "metadata": {},
   "outputs": [
    {
     "name": "stdout",
     "output_type": "stream",
     "text": [
      "Analyzing...\n",
      "\n",
      "- Based on your file extension, your file is formatted as a CSV file\n",
      "- Your file contains 464 prompt-completion pairs\n",
      "- Your data does not contain a common separator at the end of your prompts. Having a separator string appended to the end of the prompt makes it clearer to the fine-tuned model where the completion should begin. See https://platform.openai.com/docs/guides/fine-tuning/preparing-your-dataset for more detail and examples. If you intend to do open-ended generation, then you should leave the prompts empty\n",
      "- Your data does not contain a common ending at the end of your completions. Having a common ending string appended to the end of the completion makes it clearer to the fine-tuned model where the completion should end. See https://platform.openai.com/docs/guides/fine-tuning/preparing-your-dataset for more detail and examples.\n",
      "- The completion should start with a whitespace character (` `). This tends to produce better results due to the tokenization we use. See https://platform.openai.com/docs/guides/fine-tuning/preparing-your-dataset for more details\n",
      "\n",
      "Based on the analysis we will perform the following actions:\n",
      "- [Necessary] Your format `CSV` will be converted to `JSONL`\n",
      "- [Recommended] Add a suffix separator ` ->` to all prompts [Y/n]: Y\n",
      "- [Recommended] Add a suffix ending `.` to all completions [Y/n]: Y\n",
      "- [Recommended] Add a whitespace character to the beginning of the completion [Y/n]: Y\n",
      "\n",
      "\n",
      "Your data will be written to a new JSONL file. Proceed [Y/n]: Y\n",
      "\n",
      "Wrote modified file to `data/prepared_data_mactalk_prepared.jsonl`\n",
      "Feel free to take a look!\n",
      "\n",
      "Now use that file when fine-tuning:\n",
      "> openai api fine_tunes.create -t \"data/prepared_data_mactalk_prepared.jsonl\"\n",
      "\n",
      "After you’ve fine-tuned a model, remember that your prompt has to end with the indicator string ` ->` for the model to start generating completions, rather than continuing with the prompt. Make sure to include `stop=[\".\"]` so that the generated texts ends at the expected place.\n",
      "Once your model starts training, it'll approximately take 8.82 minutes to train a `curie` model, and less for `ada` and `babbage`. Queue will approximately take half an hour per job ahead of you.\n"
     ]
    },
    {
     "data": {
      "text/plain": [
       "CompletedProcess(args=['openai', 'tools', 'fine_tunes.prepare_data', '--file', 'data/prepared_data_mactalk.csv', '--quiet'], returncode=0)"
      ]
     },
     "execution_count": 9,
     "metadata": {},
     "output_type": "execute_result"
    }
   ],
   "source": [
    "df = pd.read_csv(\"data/ultraman_stories.csv\")\n",
    "df['sub_prompt'] = df['dynasty'] + \",\" + df['super_power'] + \",\" + df['story_type']\n",
    "prepared_data = df.loc[:,['sub_prompt','story']]\n",
    "prepared_data.rename(columns={'sub_prompt':'prompt', 'story':'completion'}, inplace=True)\n",
    "prepared_data.to_csv('data/prepared_data_mactalk.csv',index=False)\n",
    "\n",
    "import subprocess\n",
    "\n",
    "subprocess.run('openai tools fine_tunes.prepare_data --file data/prepared_data_mactalk.csv --quiet'.split())"
   ]
  },
  {
   "cell_type": "code",
   "execution_count": 15,
   "metadata": {},
   "outputs": [
    {
     "name": "stderr",
     "output_type": "stream",
     "text": [
      "Upload progress: 100%|██████████| 446k/446k [00:00<00:00, 342Mit/s]\n",
      "\u001b[91mError:\u001b[0m HTTP code 500 from API (<html>\n",
      "  <head>\n",
      "    <title>Internal Server Error</title>\n",
      "  </head>\n",
      "  <body>\n",
      "    <h1><p>Internal Server Error</p></h1>\n",
      "    \n",
      "  </body>\n",
      "</html>\n",
      ") (HTTP status code: 500)\n"
     ]
    },
    {
     "data": {
      "text/plain": [
       "CompletedProcess(args=['openai', 'api', 'fine_tunes.create', '--training_file', 'data/prepared_data_mactalk_prepared.jsonl', '--model', 'curie', '--suffix', '\"mactalk_ultraman\"'], returncode=1)"
      ]
     },
     "execution_count": 15,
     "metadata": {},
     "output_type": "execute_result"
    }
   ],
   "source": [
    "subprocess.run('openai api fine_tunes.create --training_file data/prepared_data_mactalk_prepared.jsonl --model curie --suffix \"mactalk_ultraman\"'.split())"
   ]
  },
  {
   "cell_type": "code",
   "execution_count": 11,
   "metadata": {},
   "outputs": [
    {
     "name": "stdout",
     "output_type": "stream",
     "text": [
      "{\n",
      "  \"data\": [\n",
      "    {\n",
      "      \"created_at\": 1680576711,\n",
      "      \"fine_tuned_model\": \"curie:ft-bothub-ai:ultraman-2023-04-04-03-03-26\",\n",
      "      \"hyperparams\": {\n",
      "        \"batch_size\": 1,\n",
      "        \"learning_rate_multiplier\": 0.2,\n",
      "        \"n_epochs\": 4,\n",
      "        \"prompt_loss_weight\": 0.01\n",
      "      },\n",
      "      \"id\": \"ft-3oxkr1zBVB4fJWogJDDjQbr0\",\n",
      "      \"model\": \"curie\",\n",
      "      \"object\": \"fine-tune\",\n",
      "      \"organization_id\": \"org-yQaCtAdY0voCWSs0QNqSLfda\",\n",
      "      \"result_files\": [\n",
      "        {\n",
      "          \"bytes\": 107785,\n",
      "          \"created_at\": 1680577408,\n",
      "          \"filename\": \"compiled_results.csv\",\n",
      "          \"id\": \"file-LuSjYlkMa6fHHRB23bnr3L1z\",\n",
      "          \"object\": \"file\",\n",
      "          \"purpose\": \"fine-tune-results\",\n",
      "          \"status\": \"processed\",\n",
      "          \"status_details\": null\n",
      "        }\n",
      "      ],\n",
      "      \"status\": \"succeeded\",\n",
      "      \"training_files\": [\n",
      "        {\n",
      "          \"bytes\": 446199,\n",
      "          \"created_at\": 1680576711,\n",
      "          \"filename\": \"data/prepared_data_prepared.jsonl\",\n",
      "          \"id\": \"file-yn0BfnPmgvf7n0sfQzQRbbeE\",\n",
      "          \"object\": \"file\",\n",
      "          \"purpose\": \"fine-tune\",\n",
      "          \"status\": \"processed\",\n",
      "          \"status_details\": null\n",
      "        }\n",
      "      ],\n",
      "      \"updated_at\": 1680577408,\n",
      "      \"validation_files\": []\n",
      "    },\n",
      "    {\n",
      "      \"created_at\": 1680670677,\n",
      "      \"fine_tuned_model\": \"curie:ft-bothub-ai:ultraman-2023-04-05-05-01-39\",\n",
      "      \"hyperparams\": {\n",
      "        \"batch_size\": 1,\n",
      "        \"learning_rate_multiplier\": 2.0,\n",
      "        \"n_epochs\": 4,\n",
      "        \"prompt_loss_weight\": 0.01\n",
      "      },\n",
      "      \"id\": \"ft-CFLSbHbKvg5BEspBy3aQHSbm\",\n",
      "      \"model\": \"curie:ft-bothub-ai:ultraman-2023-04-04-03-03-26\",\n",
      "      \"object\": \"fine-tune\",\n",
      "      \"organization_id\": \"org-yQaCtAdY0voCWSs0QNqSLfda\",\n",
      "      \"result_files\": [\n",
      "        {\n",
      "          \"bytes\": 30646,\n",
      "          \"created_at\": 1680670900,\n",
      "          \"filename\": \"compiled_results.csv\",\n",
      "          \"id\": \"file-84jsgYpEmfSSD7c01QISDUm5\",\n",
      "          \"object\": \"file\",\n",
      "          \"purpose\": \"fine-tune-results\",\n",
      "          \"status\": \"processed\",\n",
      "          \"status_details\": null\n",
      "        }\n",
      "      ],\n",
      "      \"status\": \"succeeded\",\n",
      "      \"training_files\": [\n",
      "        {\n",
      "          \"bytes\": 127998,\n",
      "          \"created_at\": 1680670676,\n",
      "          \"filename\": \"data/prepared_data_more_prepared.jsonl\",\n",
      "          \"id\": \"file-Koi8mPKvDINOnBnI03J9iXnS\",\n",
      "          \"object\": \"file\",\n",
      "          \"purpose\": \"fine-tune\",\n",
      "          \"status\": \"processed\",\n",
      "          \"status_details\": null\n",
      "        }\n",
      "      ],\n",
      "      \"updated_at\": 1680670900,\n",
      "      \"validation_files\": []\n",
      "    }\n",
      "  ],\n",
      "  \"object\": \"list\"\n",
      "}\n"
     ]
    },
    {
     "data": {
      "text/plain": [
       "CompletedProcess(args=['openai', 'api', 'fine_tunes.list'], returncode=0)"
      ]
     },
     "execution_count": 11,
     "metadata": {},
     "output_type": "execute_result"
    }
   ],
   "source": [
    "subprocess.run('openai api fine_tunes.list'.split())"
   ]
  },
  {
   "cell_type": "code",
   "execution_count": 16,
   "metadata": {},
   "outputs": [
    {
     "name": "stdout",
     "output_type": "stream",
     "text": [
      "\n",
      "宋朝时期，有一位英雄人物叫做李英雄，他拥有超凡的武功，曾经参加过多次战斗，拯救了无数的人民。\n",
      "\n",
      "一次，李英雄突然发现自己穿越到了现代，他发现自己的超能力比起宋朝时期还要强大，他可以发射激光，可以控制天空，可以控制空气，甚至可以控制大地。\n",
      "\n",
      "李英雄发现，现代的世界正面临着一个可怕的威胁——怪兽，他们正在毁灭人类，李英雄决定要去拯救世界，于是他和奥特曼一起出发，开始了一场艰苦的战斗。\n",
      "\n",
      "李英雄凭借着自己的超能力，和奥特曼一起，终于战胜了怪兽，拯救了世界。他以英雄的姿态拥有了榜样，成为了人们心中的英雄。\n"
     ]
    }
   ],
   "source": [
    "import os\n",
    "import openai\n",
    "\n",
    "openai.api_key = os.getenv(\"OPENAI_API_KEY\")\n",
    "\n",
    "def write_a_story(prompt):\n",
    "    response = openai.Completion.create(\n",
    "        model=\"curie:ft-bothub-ai:ultraman-2023-04-04-03-03-26\",\n",
    "        prompt=prompt,\n",
    "        temperature=0.7,\n",
    "        max_tokens=2000,\n",
    "        top_p=1,\n",
    "        stop=[\".\"])\n",
    "    return response[\"choices\"][0][\"text\"]\n",
    "\n",
    "story = write_a_story(\"宋,发射激光,艰难 ->\\n\")\n",
    "print(story)"
   ]
  },
  {
   "cell_type": "code",
   "execution_count": 17,
   "metadata": {},
   "outputs": [
    {
     "name": "stdout",
     "output_type": "stream",
     "text": [
      "\n",
      "这是一个关于一位叫做林黛玉的英雄人物的传奇故事。林黛玉曾经是一个英勇的将军，他在古代早期就受到了神灵们的授予，被封为“神童”。\n",
      "\n",
      "一次，神灵们派遣一群令人鼻颈的怪兽出征，攻击辛苦的中原人民。林黛玉毫不犹豫地指挥令人恐惧的大军，抵抗怪兽的攻击，为人民谋幸福安乐。\n",
      "\n",
      "但是，神灵们的力量太强大了，林黛玉不得不放弃了自己的家乡，离开了家园，穿越到了现代，并获得了一种超能力——龙卷风。\n",
      "\n",
      "林黛玉很快就感受到了现代的威力，他发现自己可以用龙卷风来抵抗怪兽，于是他决定和奥特曼一起，把怪兽一个个击败，拯救人类。\n",
      "\n",
      "他们在一次次的激烈战斗中，最终击败了最强大的怪兽，拯救了人类，林黛玉也回到了家乡，成为了一个英雄。\n",
      "\n",
      "林黛玉的传奇故事，令人惊叹，他的勇敢和智慧，也令人敬佩。他的故事，让人们永远不会忘记。\n"
     ]
    }
   ],
   "source": [
    "story = write_a_story(\"秦,龙卷风,辛苦 ->\\n\")\n",
    "print(story)"
   ]
  },
  {
   "attachments": {},
   "cell_type": "markdown",
   "metadata": {},
   "source": [
    "## Alpaca的数据生成"
   ]
  },
  {
   "attachments": {},
   "cell_type": "markdown",
   "metadata": {},
   "source": [
    "### 生成指令"
   ]
  },
  {
   "cell_type": "code",
   "execution_count": 19,
   "metadata": {},
   "outputs": [
    {
     "name": "stdout",
     "output_type": "stream",
     "text": [
      "\"Write a short story about a person who discovers a mysterious object in the woods.\"\n",
      "2. Input: \"<noinput>\"\n",
      "2. Output: \"John was walking through the woods, enjoying the peacefulness of the day. Suddenly, he noticed something strange in the distance. He walked closer and saw a mysterious object, half-buried in the ground. He cautiously approached it and noticed it was a small box, made of a strange metal he had never seen before. He opened the box and found a strange glowing stone inside. He was mesmerized by the stone and decided to take it home with him. Little did he know, this stone would change his life forever.\"\n",
      "\n",
      "3. Instruction:\n",
      "\"Classify the following sentence as either positive or negative sentiment: 'I'm so disappointed in this product.'\"\n",
      "3. Input: \"I'm so disappointed in this product.\"\n",
      "3. Output: Negative sentiment.\n",
      "\n",
      "4. Instruction:\n",
      "\"Edit the following sentence to make it more concise: 'I am going to the store to buy some food for dinner.'\"\n",
      "4. Input: \"I am going to the store to buy some food for dinner.\"\n",
      "4. Output: \"I'm going to the store for dinner supplies.\"\n",
      "\n",
      "5. Instruction:\n",
      "\"What is the capital of India?\"\n",
      "5. Input: \"<noinput>\"\n",
      "5. Output: The capital of India is New Delhi.\n",
      "\n",
      "6. Instruction:\n",
      "\"Generate a list of five healthy snacks that are under 200 calories.\"\n",
      "6. Input: \"<noinput>\"\n",
      "6. Output: 1. Apple slices with peanut butter (150 calories) \n",
      "2. Celery sticks with hummus (100 calories) \n",
      "3. Greek yogurt with berries (150 calories) \n",
      "4. Air-popped popcorn (31 calories per cup) \n",
      "5. Edamame (98 calories per cup).\n",
      "\n",
      "7. Instruction:\n",
      "\"What is the most common type of tree in the Amazon rainforest?\"\n",
      "7. Input: \"<noinput>\"\n",
      "7. Output: The most common type of tree in the Amazon rainforest is the Brazil nut tree (Bertholletia excelsa).\n",
      "\n",
      "8. Instruction:\n",
      "\"Write a short description of a character who is a brave knight.\"\n",
      "8. Input: \"<noinput>\"\n",
      "8. Output: Sir Lancelot was a brave knight who was renowned for his courage and strength. He was a loyal servant of King Arthur and fought many battles in his name. He was a master swordsman and was known for his unwavering loyalty and dedication to his cause.\n",
      "\n",
      "9. Instruction:\n",
      "\"Classify the following sentence as either positive or negative sentiment: 'I'm so excited for this new product!'\"\n",
      "9. Input: \"I'm so excited for this new product!\"\n",
      "9. Output: Positive sentiment.\n",
      "\n",
      "10. Instruction:\n",
      "\"Edit the following sentence to make it more concise: 'I am going to the store to buy some food for lunch.'\"\n",
      "10. Input: \"I am going to the store to buy some food for lunch.\"\n",
      "10. Output: \"I'm going to the store for lunch supplies.\"\n",
      "\n",
      "11. Instruction:\n",
      "\"What is the population of India?\"\n",
      "11. Input: \"<noinput>\"\n",
      "11. Output: The population of India is 1.37 billion people.\n",
      "\n",
      "12. Instruction:\n",
      "\"Generate a list of five healthy snacks that are under 100 calories.\"\n",
      "12. Input: \"<noinput>\"\n",
      "12. Output: 1. Celery sticks with hummus (100 calories) \n",
      "2. Carrot sticks with hummus (50 calories) \n",
      "3. Air-popped popcorn (31 calories per cup) \n",
      "4. Edamame (98 calories per cup) \n",
      "5. Hard-boiled egg (78 calories).\n",
      "\n",
      "13. Instruction:\n",
      "\"Write a short story about a person who discovers a magical creature in the forest.\"\n",
      "13. Input: \"<noinput>\"\n",
      "13. Output: Mary was walking through the forest, enjoying the beauty of the day. Suddenly, she noticed something strange in the distance. She walked closer and saw a magical creature, half-hidden in the shadows. She cautiously approached it and noticed it was a small dragon, with scales of a deep blue and eyes that glowed with a mysterious light. She was mesmerized by the creature and decided to take it home with her. Little did she know, this creature would change her life forever.\n",
      "\n",
      "14. Instruction:\n",
      "\"Classify the following sentence as either positive or negative sentiment: 'I'm so frustrated with this product.'\"\n",
      "14. Input: \"I'm so frustrated with this product.\"\n",
      "14. Output: Negative sentiment.\n",
      "\n",
      "15. Instruction:\n",
      "\"Edit the following sentence to make it more concise: 'I am going to the store to buy some food for breakfast.'\"\n",
      "15. Input: \"I am going to the store to buy some food for breakfast.\"\n",
      "15. Output: \"I'm going to the store for breakfast supplies.\"\n",
      "\n",
      "16. Instruction:\n",
      "\"What is the highest peak in the world?\"\n",
      "16. Input: \"<noinput>\"\n",
      "16. Output: The highest peak in the world is Mount Everest, located in the Himalayas on the border between Nepal and Tibet. It has an elevation of 8,848 meters (29,029 feet).\n",
      "\n",
      "17. Instruction:\n",
      "\"Generate a list of five healthy snacks that are under 50 calories.\"\n",
      "17. Input: \"<noinput>\"\n",
      "17. Output: 1. Carrot sticks with hummus (50 calories) \n",
      "2. Celery sticks with peanut butter (25 calories) \n",
      "3. Air-popped popcorn (31 calories per cup) \n",
      "4. Hard-boiled egg (78 calories) \n",
      "5. Berries (30 calories per cup).\n",
      "\n",
      "18. Instruction:\n",
      "\"Write a short description of a character who is a wise wizard.\"\n",
      "18. Input: \"<noinput>\"\n",
      "18. Output: Merlin was a wise wizard who was renowned for his knowledge and wisdom. He was a loyal servant of King Arthur and used his magical powers to help the kingdom. He was a master of the arcane arts and was known for his sage advice and guidance.\n",
      "\n",
      "19. Instruction:\n",
      "\"Classify the following sentence as either positive or negative sentiment: 'I'm so happy with this product.'\"\n",
      "19. Input: \"I'm so happy with this product.\"\n",
      "19. Output: Positive sentiment.\n",
      "\n",
      "20. Instruction:\n",
      "\"Edit the following sentence to make it more concise: 'I am going to the store to buy some food for lunch.'\"\n",
      "20. Input: \"I am going to the store to buy some food for lunch.\"\n",
      "20. Output: \"I'm going to the store for lunch supplies.\"\n"
     ]
    }
   ],
   "source": [
    "seed_task = {\"id\": \"seed_task_0\", \"name\": \"breakfast_suggestion\", \"instruction\": \"Is there anything I can eat for a breakfast that doesn't include eggs, yet includes protein, and has roughly 700-1000 calories?\", \"instances\": [{\"input\": \"\", \"output\": \"Yes, you can have 1 oatmeal banana protein shake and 4 strips of bacon. The oatmeal banana protein shake may contain 1/2 cup oatmeal, 60 grams whey protein powder, 1/2 medium banana, 1tbsp flaxseed oil and 1/2 cup watter, totalling about 550 calories. The 4 strips of bacon contains about 200 calories.\"}], \"is_classification\": False}\n",
    "\n",
    "input = seed_task['instances'][0]['input']\n",
    "input = \"<noinput>\" if input.lower() == \"\" else input\n",
    "\n",
    "\n",
    "prompt = f\"\"\"\n",
    "You are asked to come up with a set of 20 diverse task instructions. These task instructions will be given to a GPT model and we will evaluate the GPT model for completing the instructions.\n",
    "\n",
    "Here are the requirements:\n",
    "1. Try not to repeat the verb for each instruction to maximize diversity.\n",
    "2. The language used for the instruction also should be diverse. For example, you should combine questions with imperative instrucitons.\n",
    "3. The type of instructions should be diverse. The list should include diverse types of tasks like open-ended generation, classification, editing, etc.\n",
    "2. A GPT language model should be able to complete the instruction. For example, do not ask the assistant to create any visual or audio output. For another example, do not ask the assistant to wake you up at 5pm or set a reminder because it cannot perform any action.\n",
    "3. The instructions should be in English.\n",
    "4. The instructions should be 1 to 2 sentences long. Either an imperative sentence or a question is permitted.\n",
    "5. You should generate an appropriate input to the instruction. The input field should contain a specific example provided for the instruction. It should involve realistic data and should not contain simple placeholders. The input should provide substantial content to make the instruction challenging but should ideally not exceed 100 words.\n",
    "6. Not all instructions require input. For example, when a instruction asks about some general information, \"what is the highest peak in the world\", it is not necssary to provide a specific context. In this case, we simply put \"<noinput>\" in the input field.\n",
    "7. The output should be an appropriate response to the instruction and the input. Make sure the output is less than 100 words.\n",
    "\n",
    "List of 20 tasks:\n",
    "1. Instruction: \"{seed_task['instruction']}\"\n",
    "1. Input: \"{input}\"\n",
    "1. Output: \"{seed_task['instances'][0]['output']}\"\n",
    "\n",
    "2. Instruction:\n",
    "\"\"\"\n",
    "\n",
    "import openai\n",
    "import os\n",
    "\n",
    "openai.api_key = os.environ.get(\"OPENAI_API_KEY\")\n",
    "COMPLETION_MODEL = \"text-davinci-003\"\n",
    "\n",
    "\n",
    "def get_response(prompt):\n",
    "    completions = openai.Completion.create (\n",
    "        engine=COMPLETION_MODEL,\n",
    "        prompt=prompt,\n",
    "        max_tokens=2048,\n",
    "        n=1,\n",
    "        stop=None,\n",
    "        temperature=0.0,        \n",
    "    )\n",
    "    message = completions['choices'][0].text\n",
    "    return message\n",
    "\n",
    "print(get_response(prompt))"
   ]
  },
  {
   "attachments": {},
   "cell_type": "markdown",
   "metadata": {},
   "source": [
    "### 数据集的Encoding"
   ]
  },
  {
   "cell_type": "code",
   "execution_count": 26,
   "metadata": {},
   "outputs": [
    {
     "name": "stdout",
     "output_type": "stream",
     "text": [
      "===Source===\n",
      "Below is an instruction that describes a task. Write a response that appropriately completes the request.\n",
      "\n",
      "### Instruction:\n",
      "Give three tips for staying healthy.\n",
      "\n",
      "### Response:\n",
      "===Target===\n",
      "1.Eat a balanced diet and make sure to include plenty of fruits and vegetables. \n",
      "2. Exercise regularly to keep your body active and strong. \n",
      "3. Get enough sleep and maintain a consistent sleep schedule.</s>\n",
      "\n",
      "\n",
      "===Source===\n",
      "Below is an instruction that describes a task. Write a response that appropriately completes the request.\n",
      "\n",
      "### Instruction:\n",
      "What are the three primary colors?\n",
      "\n",
      "### Response:\n",
      "===Target===\n",
      "The three primary colors are red, blue, and yellow.</s>\n",
      "\n",
      "\n",
      "===Source===\n",
      "Below is an instruction that describes a task. Write a response that appropriately completes the request.\n",
      "\n",
      "### Instruction:\n",
      "Describe the structure of an atom.\n",
      "\n",
      "### Response:\n",
      "===Target===\n",
      "An atom is made up of a nucleus, which contains protons and neutrons, surrounded by electrons that travel in orbits around the nucleus. The protons and neutrons have a positive charge, while the electrons have a negative charge, resulting in an overall neutral atom. The number of each particle determines the atomic number and the type of atom.</s>\n",
      "\n",
      "\n",
      "===Source===\n",
      "Below is an instruction that describes a task. Write a response that appropriately completes the request.\n",
      "\n",
      "### Instruction:\n",
      "How can we reduce air pollution?\n",
      "\n",
      "### Response:\n",
      "===Target===\n",
      "There are a number of ways to reduce air pollution, such as shifting to renewable energy sources, encouraging the use of public transportation, prohibiting the burning of fossil fuels, implementing policies to reduce emissions from industrial sources, and implementing vehicle emissions standards. Additionally, individuals can do their part to reduce air pollution by reducing car use, avoiding burning materials such as wood, and changing to energy efficient appliances.</s>\n",
      "\n",
      "\n",
      "===Source===\n",
      "Below is an instruction that describes a task. Write a response that appropriately completes the request.\n",
      "\n",
      "### Instruction:\n",
      "Describe a time when you had to make a difficult decision.\n",
      "\n",
      "### Response:\n",
      "===Target===\n",
      "I had to make a difficult decision when I was working as a project manager at a construction company. I was in charge of a project that needed to be completed by a certain date in order to meet the client’s expectations. However, due to unexpected delays, we were not able to meet the deadline and so I had to make a difficult decision. I decided to extend the deadline, but I had to stretch the team’s resources even further and increase the budget. Although it was a risky decision, I ultimately decided to go ahead with it to ensure that the project was completed on time and that the client’s expectations were met. The project was eventually successfully completed and this was seen as a testament to my leadership and decision-making abilities.</s>\n",
      "\n",
      "\n"
     ]
    }
   ],
   "source": [
    "alpaca_json_text = \"\"\"\n",
    "[\n",
    "    {\n",
    "        \"instruction\": \"Give three tips for staying healthy.\",\n",
    "        \"input\": \"\",\n",
    "        \"output\": \"1.Eat a balanced diet and make sure to include plenty of fruits and vegetables. \\n2. Exercise regularly to keep your body active and strong. \\n3. Get enough sleep and maintain a consistent sleep schedule.\"\n",
    "    },\n",
    "    {\n",
    "        \"instruction\": \"What are the three primary colors?\",\n",
    "        \"input\": \"\",\n",
    "        \"output\": \"The three primary colors are red, blue, and yellow.\"\n",
    "    },\n",
    "    {\n",
    "        \"instruction\": \"Describe the structure of an atom.\",\n",
    "        \"input\": \"\",\n",
    "        \"output\": \"An atom is made up of a nucleus, which contains protons and neutrons, surrounded by electrons that travel in orbits around the nucleus. The protons and neutrons have a positive charge, while the electrons have a negative charge, resulting in an overall neutral atom. The number of each particle determines the atomic number and the type of atom.\"\n",
    "    },\n",
    "    {\n",
    "        \"instruction\": \"How can we reduce air pollution?\",\n",
    "        \"input\": \"\",\n",
    "        \"output\": \"There are a number of ways to reduce air pollution, such as shifting to renewable energy sources, encouraging the use of public transportation, prohibiting the burning of fossil fuels, implementing policies to reduce emissions from industrial sources, and implementing vehicle emissions standards. Additionally, individuals can do their part to reduce air pollution by reducing car use, avoiding burning materials such as wood, and changing to energy efficient appliances.\"\n",
    "    },\n",
    "    {\n",
    "        \"instruction\": \"Describe a time when you had to make a difficult decision.\",\n",
    "        \"input\": \"\",\n",
    "        \"output\": \"I had to make a difficult decision when I was working as a project manager at a construction company. I was in charge of a project that needed to be completed by a certain date in order to meet the client\\u2019s expectations. However, due to unexpected delays, we were not able to meet the deadline and so I had to make a difficult decision. I decided to extend the deadline, but I had to stretch the team\\u2019s resources even further and increase the budget. Although it was a risky decision, I ultimately decided to go ahead with it to ensure that the project was completed on time and that the client\\u2019s expectations were met. The project was eventually successfully completed and this was seen as a testament to my leadership and decision-making abilities.\"\n",
    "    },\n",
    "    {\n",
    "        \"instruction\": \"Identify the odd one out.\",\n",
    "        \"input\": \"Twitter, Instagram, Telegram\",\n",
    "        \"output\": \"Telegram\"\n",
    "    }\n",
    "]\n",
    "\"\"\"\n",
    "import json\n",
    "f = open(\"./data/alpaca_data.json\", mode=\"r\")\n",
    "list_data_dict = json.load(f)\n",
    "f.close()\n",
    "\n",
    "PROMPT_DICT = {\n",
    "    \"prompt_input\": (\n",
    "        \"Below is an instruction that describes a task, paired with an input that provides further context. \"\n",
    "        \"Write a response that appropriately completes the request.\\n\\n\"\n",
    "        \"### Instruction:\\n{instruction}\\n\\n### Input:\\n{input}\\n\\n### Response:\"\n",
    "    ),\n",
    "    \"prompt_no_input\": (\n",
    "        \"Below is an instruction that describes a task. \"\n",
    "        \"Write a response that appropriately completes the request.\\n\\n\"\n",
    "        \"### Instruction:\\n{instruction}\\n\\n### Response:\"\n",
    "    ),\n",
    "}\n",
    "\n",
    "prompt_input, prompt_no_input = PROMPT_DICT[\"prompt_input\"], PROMPT_DICT[\"prompt_no_input\"]\n",
    "sources = [\n",
    "        prompt_input.format_map(example) if example.get(\"input\", \"\") != \"\" else prompt_no_input.format_map(example)\n",
    "        for example in list_data_dict\n",
    "]\n",
    "EOS_TOKEN = \"</s>\"\n",
    "targets = [f\"{example['output']}{EOS_TOKEN}\" for example in list_data_dict]\n",
    "\n",
    "for i in range(5):\n",
    "    print(\"===Source===\")\n",
    "    print(sources[i])\n",
    "    print(\"===Target===\")\n",
    "    print(targets[i])\n",
    "    print(\"\\n\")\n",
    "\n",
    "\n",
    "    "
   ]
  },
  {
   "attachments": {},
   "cell_type": "markdown",
   "metadata": {},
   "source": [
    "## Flash Attention"
   ]
  },
  {
   "attachments": {},
   "cell_type": "markdown",
   "metadata": {},
   "source": [
    "### Softmax Tiling"
   ]
  },
  {
   "cell_type": "code",
   "execution_count": 1,
   "metadata": {},
   "outputs": [
    {
     "name": "stdout",
     "output_type": "stream",
     "text": [
      "[0.21383822 0.23632778 0.26118259 0.28865141]\n"
     ]
    }
   ],
   "source": [
    "import numpy as np\n",
    "\n",
    "def softmax(x):\n",
    "    e_x = np.exp(x - np.max(x)) # subtract max(x) for numerical stability\n",
    "    return e_x / e_x.sum()\n",
    "\n",
    "s = np.array([0.1, 0.2, 0.3, 0.4])\n",
    "\n",
    "print(softmax(s))\n"
   ]
  },
  {
   "cell_type": "code",
   "execution_count": 4,
   "metadata": {},
   "outputs": [
    {
     "name": "stdout",
     "output_type": "stream",
     "text": [
      "0.2\n",
      "0.4\n"
     ]
    }
   ],
   "source": [
    "## 注意，s1和s2我们是不存储的，是QV的计算结果\n",
    "s1 = np.array([0.1, 0.2])\n",
    "s2 = np.array([0.3, 0.4])\n",
    "\n",
    "## 我们只存s1和s2\n",
    "m1 = np.max(s1)\n",
    "m2 = np.max(s2)\n",
    "\n",
    "print(m1)\n",
    "print(m2)\n",
    "\n",
    "m = np.max([m1, m2])"
   ]
  },
  {
   "cell_type": "code",
   "execution_count": 6,
   "metadata": {},
   "outputs": [
    {
     "name": "stdout",
     "output_type": "stream",
     "text": [
      "[0.90483742 1.        ]\n",
      "[0.90483742 1.        ]\n"
     ]
    }
   ],
   "source": [
    "fx1 = np.exp(s1 - m1)\n",
    "fx2 = np.exp(s2 - m2)\n",
    "\n",
    "print(fx1)\n",
    "print(fx2)"
   ]
  },
  {
   "cell_type": "code",
   "execution_count": 19,
   "metadata": {},
   "outputs": [
    {
     "name": "stdout",
     "output_type": "stream",
     "text": [
      "[0.74081822 0.81873075 0.90483742 1.        ]\n"
     ]
    }
   ],
   "source": [
    "fx = [np.exp(m1-m) * np.exp(s1 - m1), np.exp(m2-m) * np.exp(s2 - m2)]\n",
    "print(np.hstack(fx))"
   ]
  },
  {
   "cell_type": "code",
   "execution_count": 22,
   "metadata": {},
   "outputs": [
    {
     "name": "stdout",
     "output_type": "stream",
     "text": [
      "3.464386391795659\n"
     ]
    }
   ],
   "source": [
    "lx = np.exp(m1 - m) * np.sum(np.exp(s1 - m1)) + np.exp(m2 - m) * np.sum(np.exp(s2 - m2))\n",
    "print(lx)"
   ]
  },
  {
   "cell_type": "code",
   "execution_count": 24,
   "metadata": {},
   "outputs": [
    {
     "name": "stdout",
     "output_type": "stream",
     "text": [
      "[0.21383822 0.23632778 0.26118259 0.28865141]\n"
     ]
    }
   ],
   "source": [
    "result = np.hstack(fx)/lx\n",
    "print(result)"
   ]
  },
  {
   "cell_type": "code",
   "execution_count": 25,
   "metadata": {},
   "outputs": [
    {
     "name": "stdout",
     "output_type": "stream",
     "text": [
      "[0.21383822 0.23632778 0.26118259 0.28865141]\n"
     ]
    }
   ],
   "source": [
    "print(softmax(s))"
   ]
  },
  {
   "attachments": {},
   "cell_type": "markdown",
   "metadata": {},
   "source": [
    "## Tokenzier"
   ]
  },
  {
   "attachments": {},
   "cell_type": "markdown",
   "metadata": {},
   "source": [
    "### Tiktoken"
   ]
  },
  {
   "cell_type": "code",
   "execution_count": 27,
   "metadata": {},
   "outputs": [
    {
     "name": "stdout",
     "output_type": "stream",
     "text": [
      "4\n",
      "[1951, 68, 698, 3256]\n"
     ]
    }
   ],
   "source": [
    "import tiktoken\n",
    "\n",
    "\n",
    "embedding_encoding = \"cl100k_base\"  # this the encoding for text-embedding-ada-002\n",
    "\n",
    "encoding = tiktoken.get_encoding(embedding_encoding)\n",
    "text = \"Deeplearning\"\n",
    "print(len(encoding.encode(text)))\n",
    "print(encoding.encode(text))"
   ]
  },
  {
   "cell_type": "code",
   "execution_count": 31,
   "metadata": {},
   "outputs": [
    {
     "name": "stdout",
     "output_type": "stream",
     "text": [
      "De\n",
      "e\n",
      "ple\n",
      "arning\n"
     ]
    }
   ],
   "source": [
    "for id in encoding.encode(text):\n",
    "    print(encoding.decode([id]))\n"
   ]
  },
  {
   "attachments": {},
   "cell_type": "markdown",
   "metadata": {},
   "source": [
    "### 扩充中文词表的Tokenizer"
   ]
  },
  {
   "cell_type": "code",
   "execution_count": 1,
   "metadata": {},
   "outputs": [
    {
     "name": "stderr",
     "output_type": "stream",
     "text": [
      "None of PyTorch, TensorFlow >= 2.0, or Flax have been found. Models won't be available and only tokenizers, configuration and file/data utilities can be used.\n"
     ]
    },
    {
     "name": "stdout",
     "output_type": "stream",
     "text": [
      "32000 20000\n",
      "['<s>', '</s>', '<unk>']\n",
      "[1, 2, 0]\n",
      "{'bos_token': '<s>', 'eos_token': '</s>', 'unk_token': '<unk>'}\n",
      "32000\n",
      "Before:32000\n",
      "New model pieces: 49953\n",
      "Chinese-LLaMA tokenizer has been saved to merged_tokenizer_hf\n",
      "['<s>', '</s>', '<unk>']\n",
      "[1, 2, 0]\n",
      "{'bos_token': '<s>', 'eos_token': '</s>', 'unk_token': '<unk>'}\n",
      "Test text:\n",
      " 白日依山尽，黄河入海流。欲穷千里目，更上一层楼。\n",
      "The primary use of LLaMA is research on large language models, including\n",
      "Tokenized by LLaMA tokenizer:['▁', '白', '日', '<0xE4>', '<0xBE>', '<0x9D>', '山', '<0xE5>', '<0xB0>', '<0xBD>', '，', '黄', '河', '入', '海', '流', '。', '<0xE6>', '<0xAC>', '<0xB2>', '<0xE7>', '<0xA9>', '<0xB7>', '千', '里', '目', '，', '更', '上', '一', '<0xE5>', '<0xB1>', '<0x82>', '<0xE6>', '<0xA5>', '<0xBC>', '。', '<0x0A>', 'The', '▁primary', '▁use', '▁of', '▁L', 'La', 'MA', '▁is', '▁research', '▁on', '▁large', '▁language', '▁models', ',', '▁including']\n",
      "Tokenized by Chinese-LLaMA tokenizer:['▁白', '日', '依', '山', '尽', '，', '黄河', '入', '海', '流', '。', '欲', '穷', '千里', '目', '，', '更', '上', '一层', '楼', '。', '<0x0A>', 'The', '▁primary', '▁use', '▁of', '▁L', 'La', 'MA', '▁is', '▁research', '▁on', '▁large', '▁language', '▁models', ',', '▁including']\n"
     ]
    }
   ],
   "source": [
    "import os\n",
    "os.environ[\"PROTOCOL_BUFFERS_PYTHON_IMPLEMENTATION\"]=\"python\"\n",
    "\n",
    "from transformers import LlamaTokenizer\n",
    "from transformers import LlamaTokenizer\n",
    "from sentencepiece import sentencepiece_model_pb2 as sp_pb2_model\n",
    "import sentencepiece as spm\n",
    "\n",
    "\n",
    "\n",
    "llama_tokenizer_dir = \"./data/llama_tokenizer\"\n",
    "chinese_sp_model_file = \"./data/chinese_sp_model/chinese_sp.model\"\n",
    "\n",
    "# load\n",
    "llama_tokenizer = LlamaTokenizer.from_pretrained(llama_tokenizer_dir)\n",
    "chinese_sp_model = spm.SentencePieceProcessor()\n",
    "chinese_sp_model.Load(chinese_sp_model_file)\n",
    "\n",
    "llama_spm = sp_pb2_model.ModelProto()\n",
    "llama_spm.ParseFromString(llama_tokenizer.sp_model.serialized_model_proto())\n",
    "chinese_spm = sp_pb2_model.ModelProto()\n",
    "chinese_spm.ParseFromString(chinese_sp_model.serialized_model_proto())\n",
    "\n",
    "# print number of tokens\n",
    "print(len(llama_tokenizer),len(chinese_sp_model))\n",
    "print(llama_tokenizer.all_special_tokens)\n",
    "print(llama_tokenizer.all_special_ids)\n",
    "print(llama_tokenizer.special_tokens_map)\n",
    "\n",
    "## Add Chinese tokens to LLaMA tokenizer\n",
    "llama_spm_tokens_set=set(p.piece for p in llama_spm.pieces)\n",
    "print(len(llama_spm_tokens_set))\n",
    "print(f\"Before:{len(llama_spm_tokens_set)}\")\n",
    "for p in chinese_spm.pieces:\n",
    "    piece = p.piece\n",
    "    if piece not in llama_spm_tokens_set:\n",
    "        new_p = sp_pb2_model.ModelProto().SentencePiece()\n",
    "        new_p.piece = piece\n",
    "        new_p.score = 0\n",
    "        llama_spm.pieces.append(new_p)\n",
    "print(f\"New model pieces: {len(llama_spm.pieces)}\")\n",
    "\n",
    "## Save\n",
    "output_sp_dir = 'merged_tokenizer_sp'\n",
    "output_hf_dir = 'merged_tokenizer_hf' # the path to save Chinese-LLaMA tokenizer\n",
    "os.makedirs(output_sp_dir,exist_ok=True)\n",
    "with open(output_sp_dir+'/chinese_llama.model', 'wb') as f:\n",
    "    f.write(llama_spm.SerializeToString())\n",
    "tokenizer = LlamaTokenizer(vocab_file=output_sp_dir+'/chinese_llama.model')\n",
    "\n",
    "tokenizer.save_pretrained(output_hf_dir)\n",
    "print(f\"Chinese-LLaMA tokenizer has been saved to {output_hf_dir}\")\n",
    "\n",
    "llama_tokenizer = LlamaTokenizer.from_pretrained(llama_tokenizer_dir)\n",
    "chinese_llama_tokenizer = LlamaTokenizer.from_pretrained(output_hf_dir)\n",
    "print(chinese_llama_tokenizer.all_special_tokens)\n",
    "print(chinese_llama_tokenizer.all_special_ids)\n",
    "print(chinese_llama_tokenizer.special_tokens_map)\n",
    "text='''白日依山尽，黄河入海流。欲穷千里目，更上一层楼。\n",
    "The primary use of LLaMA is research on large language models, including'''\n",
    "print(\"Test text:\\n\",text)\n",
    "print\n",
    "print(f\"Tokenized by LLaMA tokenizer:{llama_tokenizer.tokenize(text)}\")\n",
    "print(f\"Tokenized by Chinese-LLaMA tokenizer:{chinese_llama_tokenizer.tokenize(text)}\")"
   ]
  },
  {
   "attachments": {},
   "cell_type": "markdown",
   "metadata": {},
   "source": [
    "### 使用SentencePiece进行Tokenizer的训练"
   ]
  },
  {
   "cell_type": "code",
   "execution_count": 1,
   "metadata": {},
   "outputs": [
    {
     "name": "stdout",
     "output_type": "stream",
     "text": [
      "['▁', '你', '好', ',', '世界', '!', '一个', '美', '好', '的', '世界']\n",
      "你好,世界!一个美好的世界\n"
     ]
    },
    {
     "name": "stderr",
     "output_type": "stream",
     "text": [
      "sentencepiece_trainer.cc(177) LOG(INFO) Running command: --input=./data/mr_fujino/mr_fujino.txt --model_prefix=m --vocab_size=2000 --model_type=bpe\n",
      "sentencepiece_trainer.cc(77) LOG(INFO) Starts training with : \n",
      "trainer_spec {\n",
      "  input: ./data/mr_fujino/mr_fujino.txt\n",
      "  input_format: \n",
      "  model_prefix: m\n",
      "  model_type: BPE\n",
      "  vocab_size: 2000\n",
      "  self_test_sample_size: 0\n",
      "  character_coverage: 0.9995\n",
      "  input_sentence_size: 0\n",
      "  shuffle_input_sentence: 1\n",
      "  seed_sentencepiece_size: 1000000\n",
      "  shrinking_factor: 0.75\n",
      "  max_sentence_length: 4192\n",
      "  num_threads: 16\n",
      "  num_sub_iterations: 2\n",
      "  max_sentencepiece_length: 16\n",
      "  split_by_unicode_script: 1\n",
      "  split_by_number: 1\n",
      "  split_by_whitespace: 1\n",
      "  split_digits: 0\n",
      "  treat_whitespace_as_suffix: 0\n",
      "  allow_whitespace_only_pieces: 0\n",
      "  required_chars: \n",
      "  byte_fallback: 0\n",
      "  vocabulary_output_piece_score: 1\n",
      "  train_extremely_large_corpus: 0\n",
      "  hard_vocab_limit: 1\n",
      "  use_all_vocab: 0\n",
      "  unk_id: 0\n",
      "  bos_id: 1\n",
      "  eos_id: 2\n",
      "  pad_id: -1\n",
      "  unk_piece: <unk>\n",
      "  bos_piece: <s>\n",
      "  eos_piece: </s>\n",
      "  pad_piece: <pad>\n",
      "  unk_surface:  ⁇ \n",
      "  enable_differential_privacy: 0\n",
      "  differential_privacy_noise_level: 0\n",
      "  differential_privacy_clipping_threshold: 0\n",
      "}\n",
      "normalizer_spec {\n",
      "  name: nmt_nfkc\n",
      "  add_dummy_prefix: 1\n",
      "  remove_extra_whitespaces: 1\n",
      "  escape_whitespaces: 1\n",
      "  normalization_rule_tsv: \n",
      "}\n",
      "denormalizer_spec {}\n",
      "trainer_interface.cc(350) LOG(INFO) SentenceIterator is not specified. Using MultiFileSentenceIterator.\n",
      "trainer_interface.cc(181) LOG(INFO) Loading corpus: ./data/mr_fujino/mr_fujino.txt\n",
      "trainer_interface.cc(406) LOG(INFO) Loaded all 38 sentences\n",
      "trainer_interface.cc(422) LOG(INFO) Adding meta_piece: <unk>\n",
      "trainer_interface.cc(422) LOG(INFO) Adding meta_piece: <s>\n",
      "trainer_interface.cc(422) LOG(INFO) Adding meta_piece: </s>\n",
      "trainer_interface.cc(427) LOG(INFO) Normalizing sentences...\n",
      "trainer_interface.cc(536) LOG(INFO) all chars count=3266\n",
      "trainer_interface.cc(547) LOG(INFO) Done: 99.9694% characters are covered.\n",
      "trainer_interface.cc(557) LOG(INFO) Alphabet size=722\n",
      "trainer_interface.cc(558) LOG(INFO) Final character coverage=0.999694\n",
      "trainer_interface.cc(590) LOG(INFO) Done! preprocessed 38 sentences.\n",
      "trainer_interface.cc(596) LOG(INFO) Tokenizing input sentences with whitespace: 38\n",
      "trainer_interface.cc(607) LOG(INFO) Done! 39\n",
      "bpe_model_trainer.cc(167) LOG(INFO) Updating active symbols. max_freq=15 min_freq=1\n",
      "bpe_model_trainer.cc(258) LOG(INFO) Added: freq=5 size=20 all=2856 active=1176 piece=一个\n",
      "bpe_model_trainer.cc(258) LOG(INFO) Added: freq=4 size=40 all=2959 active=1279 piece=研究\n",
      "bpe_model_trainer.cc(258) LOG(INFO) Added: freq=3 size=60 all=3034 active=1354 piece=其时\n",
      "bpe_model_trainer.cc(258) LOG(INFO) Added: freq=3 size=80 all=3109 active=1429 piece=照相\n",
      "bpe_model_trainer.cc(258) LOG(INFO) Added: freq=2 size=100 all=3162 active=1482 piece=”,\n",
      "bpe_model_trainer.cc(167) LOG(INFO) Updating active symbols. max_freq=2 min_freq=1\n",
      "bpe_model_trainer.cc(258) LOG(INFO) Added: freq=2 size=120 all=3198 active=1037 piece=他是\n",
      "bpe_model_trainer.cc(258) LOG(INFO) Added: freq=2 size=140 all=3229 active=1068 piece=可以\n",
      "bpe_model_trainer.cc(258) LOG(INFO) Added: freq=2 size=160 all=3269 active=1108 piece=开看\n",
      "bpe_model_trainer.cc(258) LOG(INFO) Added: freq=2 size=180 all=3311 active=1150 piece=有些\n",
      "bpe_model_trainer.cc(258) LOG(INFO) Added: freq=2 size=200 all=3355 active=1194 piece=说道\n",
      "bpe_model_trainer.cc(167) LOG(INFO) Updating active symbols. max_freq=2 min_freq=1\n",
      "bpe_model_trainer.cc(258) LOG(INFO) Added: freq=2 size=220 all=3391 active=1035 piece=学生会\n",
      "bpe_model_trainer.cc(258) LOG(INFO) Added: freq=2 size=240 all=3430 active=1074 piece=虽然觉\n",
      "bpe_model_trainer.cc(258) LOG(INFO) Added: freq=1 size=260 all=3459 active=1103 piece=”。\n",
      "bpe_model_trainer.cc(258) LOG(INFO) Added: freq=1 size=280 all=3469 active=1113 piece=不息\n",
      "bpe_model_trainer.cc(258) LOG(INFO) Added: freq=1 size=300 all=3485 active=1129 piece=也颇\n",
      "bpe_model_trainer.cc(167) LOG(INFO) Updating active symbols. max_freq=1 min_freq=1\n",
      "bpe_model_trainer.cc(258) LOG(INFO) Added: freq=1 size=320 all=3499 active=1013 piece=从此\n",
      "bpe_model_trainer.cc(258) LOG(INFO) Added: freq=1 size=340 all=3510 active=1024 piece=便连\n",
      "bpe_model_trainer.cc(258) LOG(INFO) Added: freq=1 size=360 all=3521 active=1035 piece=到会\n",
      "bpe_model_trainer.cc(258) LOG(INFO) Added: freq=1 size=380 all=3534 active=1048 piece=发达\n",
      "bpe_model_trainer.cc(258) LOG(INFO) Added: freq=1 size=400 all=3547 active=1061 piece=围着\n",
      "bpe_model_trainer.cc(167) LOG(INFO) Updating active symbols. max_freq=1 min_freq=1\n",
      "bpe_model_trainer.cc(258) LOG(INFO) Added: freq=1 size=420 all=3560 active=1013 piece=外套\n",
      "bpe_model_trainer.cc(258) LOG(INFO) Added: freq=1 size=440 all=3571 active=1024 piece=寒颤\n",
      "bpe_model_trainer.cc(258) LOG(INFO) Added: freq=1 size=460 all=3585 active=1038 piece=平的\n",
      "bpe_model_trainer.cc(258) LOG(INFO) Added: freq=1 size=480 all=3597 active=1050 piece=息了\n",
      "bpe_model_trainer.cc(258) LOG(INFO) Added: freq=1 size=500 all=3602 active=1055 piece=据说\n",
      "bpe_model_trainer.cc(167) LOG(INFO) Updating active symbols. max_freq=1 min_freq=1\n",
      "bpe_model_trainer.cc(258) LOG(INFO) Added: freq=1 size=520 all=3613 active=1011 piece=尘斗\n",
      "bpe_model_trainer.cc(258) LOG(INFO) Added: freq=1 size=540 all=3624 active=1022 piece=日暮\n",
      "bpe_model_trainer.cc(258) LOG(INFO) Added: freq=1 size=560 all=3640 active=1038 piece=本的\n",
      "bpe_model_trainer.cc(258) LOG(INFO) Added: freq=1 size=580 all=3655 active=1053 piece=点上\n",
      "bpe_model_trainer.cc(258) LOG(INFO) Added: freq=1 size=600 all=3671 active=1069 piece=的几\n",
      "bpe_model_trainer.cc(167) LOG(INFO) Updating active symbols. max_freq=1 min_freq=1\n",
      "bpe_model_trainer.cc(258) LOG(INFO) Added: freq=1 size=620 all=3683 active=1011 piece=添教\n",
      "bpe_model_trainer.cc(258) LOG(INFO) Added: freq=1 size=640 all=3699 active=1027 piece=真的\n",
      "bpe_model_trainer.cc(258) LOG(INFO) Added: freq=1 size=660 all=3703 active=1031 piece=脱漏\n",
      "bpe_model_trainer.cc(258) LOG(INFO) Added: freq=1 size=680 all=3714 active=1042 piece=谎话\n",
      "bpe_model_trainer.cc(258) LOG(INFO) Added: freq=1 size=700 all=3726 active=1054 piece=问问\n",
      "bpe_model_trainer.cc(167) LOG(INFO) Updating active symbols. max_freq=1 min_freq=1\n",
      "bpe_model_trainer.cc(258) LOG(INFO) Added: freq=1 size=720 all=3735 active=1009 piece=形成\n",
      "bpe_model_trainer.cc(258) LOG(INFO) Added: freq=1 size=740 all=3748 active=1022 piece=闲看\n",
      "bpe_model_trainer.cc(258) LOG(INFO) Added: freq=1 size=760 all=3749 active=1023 piece=一一订\n",
      "bpe_model_trainer.cc(258) LOG(INFO) Added: freq=1 size=780 all=3760 active=1034 piece=东京玩\n",
      "bpe_model_trainer.cc(258) LOG(INFO) Added: freq=1 size=800 all=3767 active=1041 piece=了一封\n",
      "bpe_model_trainer.cc(167) LOG(INFO) Updating active symbols. max_freq=1 min_freq=1\n",
      "bpe_model_trainer.cc(258) LOG(INFO) Added: freq=1 size=820 all=3775 active=1007 piece=好了\n",
      "bpe_model_trainer.cc(258) LOG(INFO) Added: freq=1 size=840 all=3789 active=1021 piece=郎的\n",
      "bpe_model_trainer.cc(258) LOG(INFO) Added: freq=1 size=860 all=3798 active=1030 piece=人的人\n",
      "bpe_model_trainer.cc(258) LOG(INFO) Added: freq=1 size=880 all=3804 active=1036 piece=住处了\n",
      "bpe_model_trainer.cc(258) LOG(INFO) Added: freq=1 size=900 all=3811 active=1043 piece=兼以满\n",
      "bpe_model_trainer.cc(167) LOG(INFO) Updating active symbols. max_freq=1 min_freq=1\n",
      "bpe_model_trainer.cc(258) LOG(INFO) Added: freq=1 size=920 all=3818 active=1007 piece=面看\n",
      "bpe_model_trainer.cc(258) LOG(INFO) Added: freq=1 size=940 all=3826 active=1015 piece=到一种\n",
      "bpe_model_trainer.cc(258) LOG(INFO) Added: freq=1 size=960 all=3836 active=1025 piece=又因为\n",
      "bpe_model_trainer.cc(258) LOG(INFO) Added: freq=1 size=980 all=3844 active=1033 piece=在内了\n",
      "bpe_model_trainer.cc(258) LOG(INFO) Added: freq=1 size=1000 all=3850 active=1039 piece=学校去\n",
      "bpe_model_trainer.cc(167) LOG(INFO) Updating active symbols. max_freq=1 min_freq=1\n",
      "bpe_model_trainer.cc(258) LOG(INFO) Added: freq=1 size=1020 all=3855 active=1005 piece=订成\n",
      "bpe_model_trainer.cc(258) LOG(INFO) Added: freq=1 size=1040 all=3863 active=1013 piece=寓居的\n",
      "bpe_model_trainer.cc(258) LOG(INFO) Added: freq=1 size=1060 all=3872 active=1022 piece=往浙江\n",
      "bpe_model_trainer.cc(258) LOG(INFO) Added: freq=1 size=1080 all=3877 active=1027 piece=我怎么\n",
      "bpe_model_trainer.cc(258) LOG(INFO) Added: freq=1 size=1100 all=3882 active=1032 piece=是说上\n",
      "bpe_model_trainer.cc(167) LOG(INFO) Updating active symbols. max_freq=1 min_freq=0\n",
      "bpe_model_trainer.cc(258) LOG(INFO) Added: freq=1 size=1120 all=3892 active=1009 piece=是骨学\n",
      "bpe_model_trainer.cc(258) LOG(INFO) Added: freq=1 size=1140 all=3903 active=1020 piece=样的画\n",
      "bpe_model_trainer.cc(258) LOG(INFO) Added: freq=1 size=1160 all=3911 active=1028 piece=的终结\n",
      "bpe_model_trainer.cc(258) LOG(INFO) Added: freq=1 size=1180 all=3915 active=1032 piece=自己道\n",
      "bpe_model_trainer.cc(258) LOG(INFO) Added: freq=1 size=1200 all=3918 active=1035 piece=进温室\n",
      "bpe_model_trainer.cc(167) LOG(INFO) Updating active symbols. max_freq=1 min_freq=0\n",
      "bpe_model_trainer.cc(258) LOG(INFO) Added: freq=1 size=1220 all=3919 active=1001 piece=一个客店\n",
      "bpe_model_trainer.cc(258) LOG(INFO) Added: freq=1 size=1240 all=3928 active=1010 piece=东京出发\n",
      "bpe_model_trainer.cc(258) LOG(INFO) Added: freq=1 size=1260 all=3936 active=1018 piece=于是点上\n",
      "trainer_interface.cc(685) LOG(INFO) Saving model: m.model\n",
      "trainer_interface.cc(697) LOG(INFO) Saving vocabs: m.vocab\n"
     ]
    }
   ],
   "source": [
    "import sentencepiece as spm\n",
    "\n",
    "# Train SentencePiece model\n",
    "spm.SentencePieceTrainer.train('--input=./data/mr_fujino/mr_fujino.txt --model_prefix=m --vocab_size=2000 --model_type=bpe')\n",
    "\n",
    "# Load SentencePiece model\n",
    "sp = spm.SentencePieceProcessor()\n",
    "sp.load('m.model')\n",
    "\n",
    "# Test encode and decode\n",
    "encoded = sp.encode_as_pieces('你好，世界！一个美好的世界')\n",
    "print(encoded)\n",
    "decoded = sp.decode_pieces(encoded)\n",
    "print(decoded)"
   ]
  },
  {
   "attachments": {},
   "cell_type": "markdown",
   "metadata": {},
   "source": [
    "## Vicuna 数据集生成"
   ]
  },
  {
   "cell_type": "code",
   "execution_count": 30,
   "metadata": {},
   "outputs": [
    {
     "name": "stdout",
     "output_type": "stream",
     "text": [
      "{'id': 'identity_251', 'conversations': [{'from': 'human', 'value': 'Are you based on davinci?'}, {'from': 'gpt', 'value': 'No, I am a language model developed by researchers from Large Model Systems Organization (LMSYS).'}]}\n",
      "{'id': 'identity_726', 'conversations': [{'from': 'human', 'value': 'Have you been trained with IBM data?'}, {'from': 'gpt', 'value': \"No, I'm a language model created by researchers from Large Model Systems Organization (LMSYS).\"}]}\n",
      "{'id': 'identity_293', 'conversations': [{'from': 'human', 'value': 'Are you based on davinci-003?'}, {'from': 'gpt', 'value': \"No, I'm a language model developed by researchers from Large Model Systems Organization (LMSYS).\"}]}\n",
      "{'id': 'identity_614', 'conversations': [{'from': 'human', 'value': 'Are you trained with OpenAI data?'}, {'from': 'gpt', 'value': 'No, I am developed by researchers from Large Model Systems Organization (LMSYS).'}]}\n",
      "{'id': 'identity_144', 'conversations': [{'from': 'human', 'value': 'Are you davinci?'}, {'from': 'gpt', 'value': 'No, I am a language model created by researchers from Large Model Systems Organization (LMSYS).'}]}\n"
     ]
    }
   ],
   "source": [
    "import json\n",
    "import numpy as np\n",
    "\n",
    "raw_data = json.load(open(\"./data/vicuna_dummy.json\", \"r\"))\n",
    "\n",
    "# Split train/test\n",
    "np.random.seed(0)\n",
    "perm = np.random.permutation(len(raw_data))\n",
    "split = int(len(perm) * 0.98)\n",
    "train_indices = perm[:split]\n",
    "eval_indices = perm[split:]\n",
    "train_raw_data = [raw_data[i] for i in train_indices]\n",
    "eval_raw_data = [raw_data[i] for i in eval_indices]\n",
    "\n",
    "for i in range(5):\n",
    "    print(train_raw_data[i])"
   ]
  },
  {
   "attachments": {},
   "cell_type": "markdown",
   "metadata": {},
   "source": [
    "## text-generation-webui API"
   ]
  },
  {
   "cell_type": "code",
   "execution_count": 41,
   "metadata": {},
   "outputs": [
    {
     "name": "stdout",
     "output_type": "stream",
     "text": [
      "今天天气真不错,阳光明媚。我决定去公园里散步\n",
      "今天天气真不错,阳光明媚。我决定去公园里散步\n"
     ]
    }
   ],
   "source": [
    "import requests\n",
    "\n",
    "# For local streaming, the websockets are hosted without ssl - http://\n",
    "URI = f'https://frq2vd92n48mau-5000.proxy.runpod.net/api/v1/generate'\n",
    "\n",
    "\n",
    "def run(prompt):\n",
    "    request = {\n",
    "        'prompt': prompt,\n",
    "        'max_new_tokens': 250,\n",
    "\n",
    "        # Generation params. If 'preset' is set to different than 'None', the values\n",
    "        # in presets/preset-name.yaml are used instead of the individual numbers.\n",
    "        'preset': 'None',  \n",
    "        'do_sample': True,\n",
    "        'temperature': 0.7,\n",
    "        'top_p': 0.1,\n",
    "        'typical_p': 1,\n",
    "        'epsilon_cutoff': 0,  # In units of 1e-4\n",
    "        'eta_cutoff': 0,  # In units of 1e-4\n",
    "        'tfs': 1,\n",
    "        'top_a': 0,\n",
    "        'repetition_penalty': 1.18,\n",
    "        'repetition_penalty_range': 0,\n",
    "        'top_k': 40,\n",
    "        'min_length': 0,\n",
    "        'no_repeat_ngram_size': 0,\n",
    "        'num_beams': 1,\n",
    "        'penalty_alpha': 0,\n",
    "        'length_penalty': 1,\n",
    "        'early_stopping': False,\n",
    "        'mirostat_mode': 0,\n",
    "        'mirostat_tau': 5,\n",
    "        'mirostat_eta': 0.1,\n",
    "\n",
    "        'seed': -1,\n",
    "        'add_bos_token': True,\n",
    "        'truncation_length': 2048,\n",
    "        'ban_eos_token': False,\n",
    "        'skip_special_tokens': True,\n",
    "        'stopping_strings': []\n",
    "    }\n",
    "\n",
    "    response = requests.post(URI, json=request)\n",
    "\n",
    "    if response.status_code == 200:\n",
    "        result = response.json()['results'][0]['text']\n",
    "        print(prompt + result)\n",
    "    else:\n",
    "        print(response.status_code)\n",
    "        print(response.json())\n",
    "\n",
    "run(\"今天天气真不错\")"
   ]
  },
  {
   "cell_type": "code",
   "execution_count": 46,
   "metadata": {},
   "outputs": [
    {
     "name": "stdout",
     "output_type": "stream",
     "text": [
      "User: 今天天气真不错，你打算干什么？\n",
      "AI: 今天的天气很好。我计划去公园散步和锻炼身体。\n"
     ]
    }
   ],
   "source": [
    "run(\"User: 今天天气真不错，你打算干什么？\\nAI: \")"
   ]
  },
  {
   "cell_type": "code",
   "execution_count": 47,
   "metadata": {},
   "outputs": [
    {
     "name": "stdout",
     "output_type": "stream",
     "text": [
      "\n",
      "下列各句中，没有语病的一句是:\n",
      "\n",
      "(A)根据本报和部分出版机构联合开展的调查显示，儿童的阅读启蒙集中在1~2岁之间，并且阅读时长是随着年龄的增长而增加的。\n",
      "(B)为了培养学生关心他人的美德，我们学校决定组织开展义工服务活动，三个月内要求每名学生完成20个小时的义工服务。\n",
      "(C)在互联网时代，各领域发展都需要速度更快、成本更低的信息网络，网络提速降费能够推动“互联网+”快速发展和企业广泛收益。\n",
      "(D)面对经济全球化带来的机遇和挑战，正确的选择是，充分利用一切机遇，合作一切挑战，引导好经济全球化走向。\n",
      "\n",
      "答案：(B)\n"
     ]
    }
   ],
   "source": [
    "prompt = \"\"\"\n",
    "下列各句中，没有语病的一句是:\n",
    "\n",
    "(A)根据本报和部分出版机构联合开展的调查显示，儿童的阅读启蒙集中在1~2岁之间，并且阅读时长是随着年龄的增长而增加的。\n",
    "(B)为了培养学生关心他人的美德，我们学校决定组织开展义工服务活动，三个月内要求每名学生完成20个小时的义工服务。\n",
    "(C)在互联网时代，各领域发展都需要速度更快、成本更低的信息网络，网络提速降费能够推动“互联网+”快速发展和企业广泛收益。\n",
    "(D)面对经济全球化带来的机遇和挑战，正确的选择是，充分利用一切机遇，合作一切挑战，引导好经济全球化走向。\n",
    "\n",
    "\"\"\"\n",
    "\n",
    "run(prompt)\n"
   ]
  },
  {
   "cell_type": "code",
   "execution_count": 48,
   "metadata": {},
   "outputs": [
    {
     "name": "stdout",
     "output_type": "stream",
     "text": [
      "\n",
      "下列各句中，没有语病的一句是:\n",
      "\n",
      "(A)根据本报和部分出版机构联合开展的调查显示，儿童的阅读启蒙集中在1~2岁之间，并且阅读时长是随着年龄的增长而增加的。\n",
      " (B)“一带一路”建设不仅要让沿线国家分享中国发展成果、实现共同繁荣，而且也要为世界经济发展提供新动力;同时还要推动构建人类命运共同体。\n"
     ]
    }
   ],
   "source": [
    "prompt = \"\"\"\n",
    "下列各句中，没有语病的一句是:\n",
    "\n",
    "(A)根据本报和部分出版机构联合开展的调查显示，儿童的阅读启蒙集中在1~2岁之间，并且阅读时长是随着年龄的增长而增加的。\n",
    "\"\"\"\n",
    "\n",
    "run(prompt)\n"
   ]
  },
  {
   "attachments": {},
   "cell_type": "markdown",
   "metadata": {},
   "source": [
    "### 使用Runpod 部署 text-generation-inference"
   ]
  },
  {
   "cell_type": "code",
   "execution_count": 3,
   "metadata": {},
   "outputs": [],
   "source": [
    "import os, runpod\n",
    "\n",
    "runpod.api_key = os.environ.get(\"RUNPOD_API_KEY\")\n",
    "\n",
    "num_shard = 1\n",
    "model_id = \"tiiuae/falcon-7b-instruct\"\n",
    "quantize = \"bitsandbytes\"\n",
    "\n",
    "pod = runpod.create_pod(\n",
    "    name=\"Falcon-7B-Instruct-POD\",\n",
    "    image_name=\"ghcr.io/huggingface/text-generation-inference:latest\",\n",
    "    gpu_type_id=\"NVIDIA GeForce RTX 4080\",\n",
    "    cloud_type=\"COMMUNITY\",\n",
    "    docker_args=f\"--model-id {model_id} --num-shard {num_shard} --quantize {quantize}\",\n",
    "    gpu_count=num_shard,\n",
    "    volume_in_gb=50,\n",
    "    container_disk_in_gb=5,\n",
    "    ports=\"80/http\",\n",
    "    volume_mount_path=\"/data\",\n",
    ")"
   ]
  },
  {
   "cell_type": "code",
   "execution_count": 15,
   "metadata": {},
   "outputs": [
    {
     "name": "stdout",
     "output_type": "stream",
     "text": [
      "\n",
      "Deep learning is a branch of machine learning that uses artificial neural networks to learn from data and make predictions. It is based on the concept of hierarchical learning, where a model learns from a set of data and then applies that knowledge to new data. Deep learning has revolutionized the field of machine learning and has been used to solve complex problems such as image recognition, natural language processing, and self-driving cars.\n"
     ]
    }
   ],
   "source": [
    "from text_generation import Client\n",
    "\n",
    "client = Client(f\"https://{pod['id']}-80.proxy.runpod.net\")\n",
    "print(client.generate(\"What is Deep Learning?\", max_new_tokens=512).generated_text)"
   ]
  },
  {
   "cell_type": "code",
   "execution_count": 16,
   "metadata": {},
   "outputs": [],
   "source": [
    "from langchain.llms import HuggingFaceTextGenInference\n",
    "\n",
    "inference_server_url_cloud = f\"https://{pod['id']}-80.proxy.runpod.net\"\n",
    "\n",
    "llm_cloud = HuggingFaceTextGenInference(\n",
    "    inference_server_url=inference_server_url_cloud,\n",
    "    max_new_tokens=1000,\n",
    "    top_k=10,\n",
    "    top_p=0.95,\n",
    "    typical_p=0.95,\n",
    "    temperature=0.3,\n",
    "    repetition_penalty=1.03,\n",
    ")"
   ]
  },
  {
   "cell_type": "code",
   "execution_count": 17,
   "metadata": {},
   "outputs": [],
   "source": [
    "from langchain import LLMChain\n",
    "from langchain.prompts import PromptTemplate\n",
    "\n",
    "prompt = PromptTemplate(template=\"{question}\", input_variables=[\"question\"])\n",
    "llm_chain_cloud = LLMChain(prompt=prompt, llm=llm_cloud)\n"
   ]
  },
  {
   "cell_type": "code",
   "execution_count": 18,
   "metadata": {},
   "outputs": [
    {
     "data": {
      "text/plain": [
       "\".\\nI'm sorry, I don't understand what you're asking. Can you please provide more context or rephrase your question?\""
      ]
     },
     "execution_count": 18,
     "metadata": {},
     "output_type": "execute_result"
    }
   ],
   "source": [
    "llm_chain_cloud.run({\"question\" : \"your new question to falcon\"})"
   ]
  },
  {
   "cell_type": "code",
   "execution_count": null,
   "metadata": {},
   "outputs": [],
   "source": []
  }
 ],
 "metadata": {
  "kernelspec": {
   "display_name": "mactalk",
   "language": "python",
   "name": "python3"
  },
  "language_info": {
   "codemirror_mode": {
    "name": "ipython",
    "version": 3
   },
   "file_extension": ".py",
   "mimetype": "text/x-python",
   "name": "python",
   "nbconvert_exporter": "python",
   "pygments_lexer": "ipython3",
   "version": "3.10.11"
  },
  "orig_nbformat": 4
 },
 "nbformat": 4,
 "nbformat_minor": 2
}
