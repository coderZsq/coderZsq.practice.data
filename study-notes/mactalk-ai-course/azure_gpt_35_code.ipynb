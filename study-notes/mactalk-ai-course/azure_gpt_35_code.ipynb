{
 "cells": [
  {
   "cell_type": "code",
   "execution_count": 1,
   "metadata": {},
   "outputs": [],
   "source": [
    "import openai\n",
    "import os\n",
    "\n",
    "openai.api_key = os.environ.get(\"OPENAI_API_KEY\")\n",
    "COMPLETION_MODEL = \"text-davinci-003\"\n",
    "\n",
    "def get_response(prompt):\n",
    "    completions = openai.Completion.create(\n",
    "        engine=COMPLETION_MODEL,\n",
    "        prompt=prompt,\n",
    "        max_tokens=512,\n",
    "        n=1,\n",
    "        stop=None,\n",
    "        temperature=0.0,        \n",
    "    )\n",
    "    return completions.choices[0].text # type: ignore\n",
    "\n",
    "response = get_response(\"请写一段代码，演示创建一个和当前向量的 cosine similarity为0的向量，请只输出Python代码。\\n\")"
   ]
  },
  {
   "cell_type": "code",
   "execution_count": 2,
   "metadata": {},
   "outputs": [
    {
     "name": "stdout",
     "output_type": "stream",
     "text": [
      "\n",
      "import numpy as np\n",
      "\n",
      "# 创建一个当前向量\n",
      "cur_vector = np.array([1, 2, 3])\n",
      "\n",
      "# 创建一个和当前向量的cosine similarity为0的向量\n",
      "new_vector = np.array([-2, 4, -6])\n",
      "\n",
      "# 计算cosine similarity\n",
      "cos_sim = np.dot(cur_vector, new_vector) / (np.linalg.norm(cur_vector) * np.linalg.norm(new_vector))\n",
      "\n",
      "print(cos_sim)\n"
     ]
    }
   ],
   "source": [
    "print(response)"
   ]
  },
  {
   "cell_type": "code",
   "execution_count": 3,
   "metadata": {},
   "outputs": [
    {
     "name": "stdout",
     "output_type": "stream",
     "text": [
      "以下是一个简单的示例代码：\n",
      "\n",
      "```python\n",
      "import numpy as np\n",
      "\n",
      "# 定义当前向量\n",
      "current_vector = np.array([1, 2, 3])\n",
      "\n",
      "# 创建随机向量\n",
      "random_vector = np.random.rand(3)\n",
      "\n",
      "# 计算当前向量和随机向量的 cosine similarity\n",
      "cos_sim = np.dot(current_vector, random_vector) / (np.linalg.norm(current_vector) * np.linalg.norm(random_vector))\n",
      "\n",
      "# 如果 cosine similarity 不为0，则调整随机向量\n",
      "while cos_sim != 0:\n",
      "    random_vector = np.random.rand(3)\n",
      "    cos_sim = np.dot(current_vector, random_vector) / (np.linalg.norm(current_vector) * np.linalg.norm(random_vector))\n",
      "\n",
      "# 输出结果\n",
      "print(random_vector)\n",
      "```\n",
      "\n",
      "该代码首先定义了当前向量 `current_vector`，然后使用 `numpy` 库生成一个随机向量 `random_vector`。接着计算当前向量和随机向量的 cosine similarity，并在 while 循环中不断生成随机向量，直到其 cosine similarity 为0。最后输出生成的随机向量。\n"
     ]
    }
   ],
   "source": [
    "def get_gpt35_response(prompt):\n",
    "    messages = []\n",
    "    messages.append({\"role\": \"system\", \"content\": \"You are an useful AI assistent.\"\"\"})\n",
    "    messages.append({\"role\": \"user\", \"content\": prompt})\n",
    "    response = openai.ChatCompletion.create(\n",
    "                model=\"gpt-3.5-turbo\",\n",
    "                messages=messages,\n",
    "                temperature=0.5,\n",
    "                max_tokens=2048,\n",
    "                top_p=1,\n",
    "            )\n",
    "    return response.choices[0].message.content # type: ignore\n",
    "\n",
    "response = get_gpt35_response(\"请写一段代码，演示创建一个和当前向量的 cosine similarity为0的向量，请只输出Python代码。\\n\")\n",
    "print(response)"
   ]
  },
  {
   "cell_type": "code",
   "execution_count": null,
   "metadata": {},
   "outputs": [],
   "source": []
  },
  {
   "cell_type": "code",
   "execution_count": 8,
   "metadata": {},
   "outputs": [],
   "source": [
    "import openai\n",
    "import os\n",
    "\n",
    "openai.api_key = os.environ.get(\"AZURE_OPENAI_API_KEY\")\n",
    "openai.api_base = \"https://geektime-openai.openai.azure.com/\"\n",
    "openai.api_type = \"azure\"\n",
    "openai.api_version = \"2023-03-15-preview\"\n",
    "\n",
    "COMPLETION_MODEL = \"gpt-35-turbo\"\n",
    "\n",
    "def get_response(prompt):\n",
    "    completions = openai.Completion.create(\n",
    "        engine=COMPLETION_MODEL,\n",
    "        prompt=prompt,\n",
    "        max_tokens=512,\n",
    "        n=1,\n",
    "        temperature=0.0,        \n",
    "    )\n",
    "    return completions.choices[0].text # type: ignore\n",
    "\n",
    "response = get_response(\"请写一段代码，演示创建一个和当前向量的 cosine similarity为0的向量，请只输出Python代码。\\n\")"
   ]
  },
  {
   "cell_type": "code",
   "execution_count": 9,
   "metadata": {},
   "outputs": [
    {
     "name": "stdout",
     "output_type": "stream",
     "text": [
      "# 请注意，你创建的向量应该是一个numpy array，shape为(100,)，并且每个元素都是float32类型。\n",
      "\n",
      "# 请在这里写代码\n",
      "import numpy as np\n",
      "v = np.random.rand(100).astype(np.float32)\n",
      "v = v - np.dot(v, w) / np.dot(w, w) * w\n",
      "v = v / np.linalg.norm(v)\n",
      "print(v)\n",
      "\n",
      "# 请不要修改下方代码\n",
      "assert v.shape == (100,)\n",
      "assert v.dtype == np.float32\n",
      "assert abs(np.dot(v, w) / (np.linalg.norm(v) * np.linalg.norm(w))) < 1e-6\n",
      "\n",
      "print(\"Pass.\")<|im_sep|>\n"
     ]
    }
   ],
   "source": [
    "print(response)"
   ]
  },
  {
   "cell_type": "code",
   "execution_count": 10,
   "metadata": {},
   "outputs": [
    {
     "name": "stdout",
     "output_type": "stream",
     "text": [
      "# 请注意，你创建的向量应该是一个numpy array，shape为(100,)，并且每个元素都是float32类型。\n",
      "\n",
      "# 请在这里写代码\n",
      "import numpy as np\n",
      "v = np.random.rand(100).astype(np.float32)\n",
      "v = v - np.dot(v, w) / np.dot(w, w) * w\n",
      "v = v / np.linalg.norm(v)\n",
      "print(v)\n",
      "\n",
      "# 请不要修改下方代码\n",
      "assert v.shape == (100,)\n",
      "assert v.dtype == np.float32\n",
      "assert abs(np.dot(v, w) / (np.linalg.norm(v) * np.linalg.norm(w))) < 1e-6\n",
      "\n",
      "print(\"Pass.\")\n"
     ]
    }
   ],
   "source": [
    "\n",
    "def get_response(prompt):\n",
    "    completions = openai.Completion.create(\n",
    "        engine=COMPLETION_MODEL,\n",
    "        prompt=prompt,\n",
    "        max_tokens=512,\n",
    "        n=1,\n",
    "        temperature=0.0,        \n",
    "        stop=\"<|im_sep|>\"\n",
    "    )\n",
    "    return completions.choices[0].text # type: ignore\n",
    "\n",
    "response = get_response(\"请写一段代码，演示创建一个和当前向量的 cosine similarity为0的向量，请只输出Python代码。\\n\")\n",
    "print(response)"
   ]
  },
  {
   "cell_type": "code",
   "execution_count": null,
   "metadata": {},
   "outputs": [],
   "source": []
  }
 ],
 "metadata": {
  "kernelspec": {
   "display_name": "mactalk",
   "language": "python",
   "name": "python3"
  },
  "language_info": {
   "codemirror_mode": {
    "name": "ipython",
    "version": 3
   },
   "file_extension": ".py",
   "mimetype": "text/x-python",
   "name": "python",
   "nbconvert_exporter": "python",
   "pygments_lexer": "ipython3",
   "version": "3.10.11"
  },
  "orig_nbformat": 4
 },
 "nbformat": 4,
 "nbformat_minor": 2
}
